{
 "cells": [
  {
   "cell_type": "markdown",
   "metadata": {},
   "source": [
    "This notebook analyzes trading diversity (number of partner countries and types of commodities) , and build models to forecast crop export values by countries or globally"
   ]
  },
  {
   "cell_type": "code",
   "execution_count": 1,
   "metadata": {},
   "outputs": [],
   "source": [
    "import pandas as pd\n",
    "import numpy as np\n",
    "import matplotlib.pyplot as plt\n",
    "import seaborn as sns\n",
    "import operator \n",
    "from sklearn.metrics import mean_squared_error"
   ]
  },
  {
   "cell_type": "code",
   "execution_count": 2,
   "metadata": {},
   "outputs": [
    {
     "name": "stdout",
     "output_type": "stream",
     "text": [
      "(223049, 38)\n",
      "(57838, 36)\n"
     ]
    }
   ],
   "source": [
    "# Read in processed data\n",
    "items_by_country = pd.read_csv('../data/processed/items_by_country.csv',index_col=0)\n",
    "partners_by_country = pd.read_csv('../data/processed/partners_by_country.csv',index_col=0)\n",
    "print(items_by_country.shape)\n",
    "print(partners_by_country.shape)"
   ]
  },
  {
   "cell_type": "code",
   "execution_count": 7,
   "metadata": {},
   "outputs": [
    {
     "data": {
      "text/html": [
       "<div>\n",
       "<style scoped>\n",
       "    .dataframe tbody tr th:only-of-type {\n",
       "        vertical-align: middle;\n",
       "    }\n",
       "\n",
       "    .dataframe tbody tr th {\n",
       "        vertical-align: top;\n",
       "    }\n",
       "\n",
       "    .dataframe thead th {\n",
       "        text-align: right;\n",
       "    }\n",
       "</style>\n",
       "<table border=\"1\" class=\"dataframe\">\n",
       "  <thead>\n",
       "    <tr style=\"text-align: right;\">\n",
       "      <th></th>\n",
       "      <th>Reporter Countries</th>\n",
       "      <th>Item</th>\n",
       "      <th>Element</th>\n",
       "      <th>Unit</th>\n",
       "      <th>Item Code</th>\n",
       "      <th>Y1986</th>\n",
       "      <th>Y1987</th>\n",
       "      <th>Y1988</th>\n",
       "      <th>Y1989</th>\n",
       "      <th>Y1990</th>\n",
       "      <th>...</th>\n",
       "      <th>Y2009</th>\n",
       "      <th>Y2010</th>\n",
       "      <th>Y2011</th>\n",
       "      <th>Y2012</th>\n",
       "      <th>Y2013</th>\n",
       "      <th>Y2014</th>\n",
       "      <th>Y2015</th>\n",
       "      <th>Y2016</th>\n",
       "      <th>Y2017</th>\n",
       "      <th>NoneZero</th>\n",
       "    </tr>\n",
       "  </thead>\n",
       "  <tbody>\n",
       "    <tr>\n",
       "      <th>22991</th>\n",
       "      <td>Benin</td>\n",
       "      <td>Juice, lemon, single strength</td>\n",
       "      <td>Export Quantity</td>\n",
       "      <td>tonnes</td>\n",
       "      <td>996</td>\n",
       "      <td>0</td>\n",
       "      <td>0</td>\n",
       "      <td>0</td>\n",
       "      <td>0</td>\n",
       "      <td>0</td>\n",
       "      <td>...</td>\n",
       "      <td>0</td>\n",
       "      <td>0</td>\n",
       "      <td>0</td>\n",
       "      <td>0</td>\n",
       "      <td>0</td>\n",
       "      <td>0</td>\n",
       "      <td>0</td>\n",
       "      <td>0</td>\n",
       "      <td>0</td>\n",
       "      <td>1</td>\n",
       "    </tr>\n",
       "    <tr>\n",
       "      <th>191305</th>\n",
       "      <td>Sri Lanka</td>\n",
       "      <td>Pineapples</td>\n",
       "      <td>Import Quantity</td>\n",
       "      <td>tonnes</td>\n",
       "      <td>5166</td>\n",
       "      <td>0</td>\n",
       "      <td>0</td>\n",
       "      <td>0</td>\n",
       "      <td>0</td>\n",
       "      <td>0</td>\n",
       "      <td>...</td>\n",
       "      <td>0</td>\n",
       "      <td>9</td>\n",
       "      <td>5</td>\n",
       "      <td>0</td>\n",
       "      <td>1</td>\n",
       "      <td>0</td>\n",
       "      <td>0</td>\n",
       "      <td>3</td>\n",
       "      <td>2</td>\n",
       "      <td>8</td>\n",
       "    </tr>\n",
       "    <tr>\n",
       "      <th>75110</th>\n",
       "      <td>Finland</td>\n",
       "      <td>Milk, whole condensed</td>\n",
       "      <td>Export Quantity</td>\n",
       "      <td>tonnes</td>\n",
       "      <td>11557</td>\n",
       "      <td>0</td>\n",
       "      <td>30</td>\n",
       "      <td>0</td>\n",
       "      <td>0</td>\n",
       "      <td>0</td>\n",
       "      <td>...</td>\n",
       "      <td>0</td>\n",
       "      <td>0</td>\n",
       "      <td>0</td>\n",
       "      <td>0</td>\n",
       "      <td>0</td>\n",
       "      <td>0</td>\n",
       "      <td>0</td>\n",
       "      <td>0</td>\n",
       "      <td>0</td>\n",
       "      <td>2</td>\n",
       "    </tr>\n",
       "    <tr>\n",
       "      <th>116605</th>\n",
       "      <td>Lebanon</td>\n",
       "      <td>Cinnamon (cannella)</td>\n",
       "      <td>Export Quantity</td>\n",
       "      <td>tonnes</td>\n",
       "      <td>40887</td>\n",
       "      <td>0</td>\n",
       "      <td>0</td>\n",
       "      <td>0</td>\n",
       "      <td>0</td>\n",
       "      <td>0</td>\n",
       "      <td>...</td>\n",
       "      <td>4</td>\n",
       "      <td>0</td>\n",
       "      <td>20</td>\n",
       "      <td>5</td>\n",
       "      <td>0</td>\n",
       "      <td>0</td>\n",
       "      <td>5</td>\n",
       "      <td>5</td>\n",
       "      <td>1</td>\n",
       "      <td>12</td>\n",
       "    </tr>\n",
       "    <tr>\n",
       "      <th>156293</th>\n",
       "      <td>Paraguay</td>\n",
       "      <td>Pigs</td>\n",
       "      <td>Import Quantity</td>\n",
       "      <td>tonnes</td>\n",
       "      <td>1034</td>\n",
       "      <td>0</td>\n",
       "      <td>0</td>\n",
       "      <td>0</td>\n",
       "      <td>0</td>\n",
       "      <td>0</td>\n",
       "      <td>...</td>\n",
       "      <td>0</td>\n",
       "      <td>0</td>\n",
       "      <td>0</td>\n",
       "      <td>0</td>\n",
       "      <td>0</td>\n",
       "      <td>88</td>\n",
       "      <td>259</td>\n",
       "      <td>72</td>\n",
       "      <td>177</td>\n",
       "      <td>4</td>\n",
       "    </tr>\n",
       "  </tbody>\n",
       "</table>\n",
       "<p>5 rows × 38 columns</p>\n",
       "</div>"
      ],
      "text/plain": [
       "       Reporter Countries                           Item          Element  \\\n",
       "22991               Benin  Juice, lemon, single strength  Export Quantity   \n",
       "191305          Sri Lanka                     Pineapples  Import Quantity   \n",
       "75110             Finland          Milk, whole condensed  Export Quantity   \n",
       "116605            Lebanon            Cinnamon (cannella)  Export Quantity   \n",
       "156293           Paraguay                           Pigs  Import Quantity   \n",
       "\n",
       "          Unit  Item Code  Y1986  Y1987  Y1988  Y1989  Y1990  ...  Y2009  \\\n",
       "22991   tonnes        996      0      0      0      0      0  ...      0   \n",
       "191305  tonnes       5166      0      0      0      0      0  ...      0   \n",
       "75110   tonnes      11557      0     30      0      0      0  ...      0   \n",
       "116605  tonnes      40887      0      0      0      0      0  ...      4   \n",
       "156293  tonnes       1034      0      0      0      0      0  ...      0   \n",
       "\n",
       "        Y2010  Y2011  Y2012  Y2013  Y2014  Y2015  Y2016  Y2017  NoneZero  \n",
       "22991       0      0      0      0      0      0      0      0         1  \n",
       "191305      9      5      0      1      0      0      3      2         8  \n",
       "75110       0      0      0      0      0      0      0      0         2  \n",
       "116605      0     20      5      0      0      5      5      1        12  \n",
       "156293      0      0      0      0     88    259     72    177         4  \n",
       "\n",
       "[5 rows x 38 columns]"
      ]
     },
     "execution_count": 7,
     "metadata": {},
     "output_type": "execute_result"
    }
   ],
   "source": [
    "items_by_country.sample(5)"
   ]
  },
  {
   "cell_type": "code",
   "execution_count": 4,
   "metadata": {},
   "outputs": [
    {
     "data": {
      "text/html": [
       "<div>\n",
       "<style scoped>\n",
       "    .dataframe tbody tr th:only-of-type {\n",
       "        vertical-align: middle;\n",
       "    }\n",
       "\n",
       "    .dataframe tbody tr th {\n",
       "        vertical-align: top;\n",
       "    }\n",
       "\n",
       "    .dataframe thead th {\n",
       "        text-align: right;\n",
       "    }\n",
       "</style>\n",
       "<table border=\"1\" class=\"dataframe\">\n",
       "  <thead>\n",
       "    <tr style=\"text-align: right;\">\n",
       "      <th></th>\n",
       "      <th>Reporter Countries</th>\n",
       "      <th>Partner Countries</th>\n",
       "      <th>Element</th>\n",
       "      <th>Unit</th>\n",
       "      <th>Y1986</th>\n",
       "      <th>Y1987</th>\n",
       "      <th>Y1988</th>\n",
       "      <th>Y1989</th>\n",
       "      <th>Y1990</th>\n",
       "      <th>Y1991</th>\n",
       "      <th>...</th>\n",
       "      <th>Y2008</th>\n",
       "      <th>Y2009</th>\n",
       "      <th>Y2010</th>\n",
       "      <th>Y2011</th>\n",
       "      <th>Y2012</th>\n",
       "      <th>Y2013</th>\n",
       "      <th>Y2014</th>\n",
       "      <th>Y2015</th>\n",
       "      <th>Y2016</th>\n",
       "      <th>Y2017</th>\n",
       "    </tr>\n",
       "  </thead>\n",
       "  <tbody>\n",
       "    <tr>\n",
       "      <th>1</th>\n",
       "      <td>Afghanistan</td>\n",
       "      <td>Algeria</td>\n",
       "      <td>Export Value</td>\n",
       "      <td>1000 US$</td>\n",
       "      <td>0.0</td>\n",
       "      <td>0.0</td>\n",
       "      <td>0.0</td>\n",
       "      <td>0.0</td>\n",
       "      <td>0.0</td>\n",
       "      <td>0.0</td>\n",
       "      <td>...</td>\n",
       "      <td>0.0</td>\n",
       "      <td>0.0</td>\n",
       "      <td>0.0</td>\n",
       "      <td>0.0</td>\n",
       "      <td>0.0</td>\n",
       "      <td>0.0</td>\n",
       "      <td>27.0</td>\n",
       "      <td>1.0</td>\n",
       "      <td>24.0</td>\n",
       "      <td>5.0</td>\n",
       "    </tr>\n",
       "    <tr>\n",
       "      <th>3</th>\n",
       "      <td>Afghanistan</td>\n",
       "      <td>Angola</td>\n",
       "      <td>Export Value</td>\n",
       "      <td>1000 US$</td>\n",
       "      <td>0.0</td>\n",
       "      <td>0.0</td>\n",
       "      <td>0.0</td>\n",
       "      <td>0.0</td>\n",
       "      <td>0.0</td>\n",
       "      <td>0.0</td>\n",
       "      <td>...</td>\n",
       "      <td>0.0</td>\n",
       "      <td>0.0</td>\n",
       "      <td>0.0</td>\n",
       "      <td>0.0</td>\n",
       "      <td>0.0</td>\n",
       "      <td>0.0</td>\n",
       "      <td>0.0</td>\n",
       "      <td>1.0</td>\n",
       "      <td>0.0</td>\n",
       "      <td>0.0</td>\n",
       "    </tr>\n",
       "    <tr>\n",
       "      <th>5</th>\n",
       "      <td>Afghanistan</td>\n",
       "      <td>Argentina</td>\n",
       "      <td>Import Value</td>\n",
       "      <td>1000 US$</td>\n",
       "      <td>0.0</td>\n",
       "      <td>0.0</td>\n",
       "      <td>0.0</td>\n",
       "      <td>0.0</td>\n",
       "      <td>0.0</td>\n",
       "      <td>0.0</td>\n",
       "      <td>...</td>\n",
       "      <td>0.0</td>\n",
       "      <td>0.0</td>\n",
       "      <td>0.0</td>\n",
       "      <td>415.0</td>\n",
       "      <td>0.0</td>\n",
       "      <td>0.0</td>\n",
       "      <td>1163.0</td>\n",
       "      <td>159.0</td>\n",
       "      <td>1844.0</td>\n",
       "      <td>1829.0</td>\n",
       "    </tr>\n",
       "    <tr>\n",
       "      <th>7</th>\n",
       "      <td>Afghanistan</td>\n",
       "      <td>Armenia</td>\n",
       "      <td>Export Value</td>\n",
       "      <td>1000 US$</td>\n",
       "      <td>0.0</td>\n",
       "      <td>0.0</td>\n",
       "      <td>0.0</td>\n",
       "      <td>0.0</td>\n",
       "      <td>0.0</td>\n",
       "      <td>0.0</td>\n",
       "      <td>...</td>\n",
       "      <td>0.0</td>\n",
       "      <td>0.0</td>\n",
       "      <td>0.0</td>\n",
       "      <td>0.0</td>\n",
       "      <td>0.0</td>\n",
       "      <td>0.0</td>\n",
       "      <td>0.0</td>\n",
       "      <td>0.0</td>\n",
       "      <td>0.0</td>\n",
       "      <td>1.0</td>\n",
       "    </tr>\n",
       "    <tr>\n",
       "      <th>9</th>\n",
       "      <td>Afghanistan</td>\n",
       "      <td>Armenia</td>\n",
       "      <td>Import Value</td>\n",
       "      <td>1000 US$</td>\n",
       "      <td>0.0</td>\n",
       "      <td>0.0</td>\n",
       "      <td>0.0</td>\n",
       "      <td>0.0</td>\n",
       "      <td>0.0</td>\n",
       "      <td>0.0</td>\n",
       "      <td>...</td>\n",
       "      <td>0.0</td>\n",
       "      <td>0.0</td>\n",
       "      <td>0.0</td>\n",
       "      <td>48.0</td>\n",
       "      <td>0.0</td>\n",
       "      <td>0.0</td>\n",
       "      <td>282.0</td>\n",
       "      <td>246.0</td>\n",
       "      <td>0.0</td>\n",
       "      <td>67.0</td>\n",
       "    </tr>\n",
       "  </tbody>\n",
       "</table>\n",
       "<p>5 rows × 36 columns</p>\n",
       "</div>"
      ],
      "text/plain": [
       "  Reporter Countries Partner Countries       Element      Unit  Y1986  Y1987  \\\n",
       "1        Afghanistan           Algeria  Export Value  1000 US$    0.0    0.0   \n",
       "3        Afghanistan            Angola  Export Value  1000 US$    0.0    0.0   \n",
       "5        Afghanistan         Argentina  Import Value  1000 US$    0.0    0.0   \n",
       "7        Afghanistan           Armenia  Export Value  1000 US$    0.0    0.0   \n",
       "9        Afghanistan           Armenia  Import Value  1000 US$    0.0    0.0   \n",
       "\n",
       "   Y1988  Y1989  Y1990  Y1991  ...  Y2008  Y2009  Y2010  Y2011  Y2012  Y2013  \\\n",
       "1    0.0    0.0    0.0    0.0  ...    0.0    0.0    0.0    0.0    0.0    0.0   \n",
       "3    0.0    0.0    0.0    0.0  ...    0.0    0.0    0.0    0.0    0.0    0.0   \n",
       "5    0.0    0.0    0.0    0.0  ...    0.0    0.0    0.0  415.0    0.0    0.0   \n",
       "7    0.0    0.0    0.0    0.0  ...    0.0    0.0    0.0    0.0    0.0    0.0   \n",
       "9    0.0    0.0    0.0    0.0  ...    0.0    0.0    0.0   48.0    0.0    0.0   \n",
       "\n",
       "    Y2014  Y2015   Y2016   Y2017  \n",
       "1    27.0    1.0    24.0     5.0  \n",
       "3     0.0    1.0     0.0     0.0  \n",
       "5  1163.0  159.0  1844.0  1829.0  \n",
       "7     0.0    0.0     0.0     1.0  \n",
       "9   282.0  246.0     0.0    67.0  \n",
       "\n",
       "[5 rows x 36 columns]"
      ]
     },
     "execution_count": 4,
     "metadata": {},
     "output_type": "execute_result"
    }
   ],
   "source": [
    "partners_by_country.head()"
   ]
  },
  {
   "cell_type": "markdown",
   "metadata": {},
   "source": [
    "## 1. Inspecting aggregated data and look for potential problems"
   ]
  },
  {
   "cell_type": "markdown",
   "metadata": {},
   "source": [
    "### 1.1 Find countries with high trading diversity\n",
    "In terms of number of (1)items and (2)partner countries, respectively"
   ]
  },
  {
   "cell_type": "code",
   "execution_count": 8,
   "metadata": {},
   "outputs": [],
   "source": [
    "def count_unique(df, col_name, variable):\n",
    "    '''count unique entries of the variable for col_name (e.g., list of reporter countries).\n",
    "    Export and Import groups are counted separately'''\n",
    "    counts = []\n",
    "    for country in df[col_name].unique():\n",
    "        count_export = len(df.loc[(df[col_name]== country) & (df['Element'].str.startswith('Export')), variable].unique())\n",
    "        count_import = len(df.loc[(df[col_name]== country) & (df['Element'].str.startswith('Import')), variable].unique())\n",
    "        counts.append([country,count_export,count_import])\n",
    "\n",
    "    count_df = pd.DataFrame(counts, columns=['Countries','Export','Import'])\n",
    "    \n",
    "    return count_df"
   ]
  },
  {
   "cell_type": "code",
   "execution_count": 9,
   "metadata": {},
   "outputs": [],
   "source": [
    "# Count unique Items exported/imported by a country\n",
    "itemscount_by_country = count_unique(items_by_country,'Reporter Countries','Item')"
   ]
  },
  {
   "cell_type": "code",
   "execution_count": 10,
   "metadata": {},
   "outputs": [],
   "source": [
    "# Count unique Partners exported/imported with a country\n",
    "partnerscount_by_country = count_unique(partners_by_country,'Reporter Countries','Partner Countries')"
   ]
  },
  {
   "cell_type": "code",
   "execution_count": 11,
   "metadata": {},
   "outputs": [
    {
     "data": {
      "text/html": [
       "<div>\n",
       "<style scoped>\n",
       "    .dataframe tbody tr th:only-of-type {\n",
       "        vertical-align: middle;\n",
       "    }\n",
       "\n",
       "    .dataframe tbody tr th {\n",
       "        vertical-align: top;\n",
       "    }\n",
       "\n",
       "    .dataframe thead th {\n",
       "        text-align: right;\n",
       "    }\n",
       "</style>\n",
       "<table border=\"1\" class=\"dataframe\">\n",
       "  <thead>\n",
       "    <tr style=\"text-align: right;\">\n",
       "      <th></th>\n",
       "      <th>Countries</th>\n",
       "      <th>Export</th>\n",
       "      <th>Import</th>\n",
       "    </tr>\n",
       "  </thead>\n",
       "  <tbody>\n",
       "    <tr>\n",
       "      <th>132</th>\n",
       "      <td>Poland</td>\n",
       "      <td>370</td>\n",
       "      <td>375</td>\n",
       "    </tr>\n",
       "    <tr>\n",
       "      <th>8</th>\n",
       "      <td>Austria</td>\n",
       "      <td>370</td>\n",
       "      <td>370</td>\n",
       "    </tr>\n",
       "    <tr>\n",
       "      <th>116</th>\n",
       "      <td>Netherlands</td>\n",
       "      <td>369</td>\n",
       "      <td>369</td>\n",
       "    </tr>\n",
       "    <tr>\n",
       "      <th>174</th>\n",
       "      <td>United Kingdom</td>\n",
       "      <td>366</td>\n",
       "      <td>365</td>\n",
       "    </tr>\n",
       "    <tr>\n",
       "      <th>63</th>\n",
       "      <td>France</td>\n",
       "      <td>366</td>\n",
       "      <td>365</td>\n",
       "    </tr>\n",
       "    <tr>\n",
       "      <th>69</th>\n",
       "      <td>Germany</td>\n",
       "      <td>365</td>\n",
       "      <td>366</td>\n",
       "    </tr>\n",
       "    <tr>\n",
       "      <th>173</th>\n",
       "      <td>United Arab Emirates</td>\n",
       "      <td>365</td>\n",
       "      <td>372</td>\n",
       "    </tr>\n",
       "    <tr>\n",
       "      <th>86</th>\n",
       "      <td>Italy</td>\n",
       "      <td>364</td>\n",
       "      <td>364</td>\n",
       "    </tr>\n",
       "    <tr>\n",
       "      <th>50</th>\n",
       "      <td>Denmark</td>\n",
       "      <td>364</td>\n",
       "      <td>363</td>\n",
       "    </tr>\n",
       "    <tr>\n",
       "      <th>15</th>\n",
       "      <td>Belgium</td>\n",
       "      <td>363</td>\n",
       "      <td>362</td>\n",
       "    </tr>\n",
       "  </tbody>\n",
       "</table>\n",
       "</div>"
      ],
      "text/plain": [
       "                Countries  Export  Import\n",
       "132                Poland     370     375\n",
       "8                 Austria     370     370\n",
       "116           Netherlands     369     369\n",
       "174        United Kingdom     366     365\n",
       "63                 France     366     365\n",
       "69                Germany     365     366\n",
       "173  United Arab Emirates     365     372\n",
       "86                  Italy     364     364\n",
       "50                Denmark     364     363\n",
       "15                Belgium     363     362"
      ]
     },
     "execution_count": 11,
     "metadata": {},
     "output_type": "execute_result"
    }
   ],
   "source": [
    "# Show top 10 countries with most numbers of exporting items\n",
    "itemscount_by_country = itemscount_by_country.sort_values(by='Export',ascending=False)\n",
    "itemscount_by_country.head(10)"
   ]
  },
  {
   "cell_type": "code",
   "execution_count": 12,
   "metadata": {},
   "outputs": [
    {
     "data": {
      "text/html": [
       "<div>\n",
       "<style scoped>\n",
       "    .dataframe tbody tr th:only-of-type {\n",
       "        vertical-align: middle;\n",
       "    }\n",
       "\n",
       "    .dataframe tbody tr th {\n",
       "        vertical-align: top;\n",
       "    }\n",
       "\n",
       "    .dataframe thead th {\n",
       "        text-align: right;\n",
       "    }\n",
       "</style>\n",
       "<table border=\"1\" class=\"dataframe\">\n",
       "  <thead>\n",
       "    <tr style=\"text-align: right;\">\n",
       "      <th></th>\n",
       "      <th>Export</th>\n",
       "      <th>Import</th>\n",
       "    </tr>\n",
       "  </thead>\n",
       "  <tbody>\n",
       "    <tr>\n",
       "      <th>count</th>\n",
       "      <td>184.000000</td>\n",
       "      <td>184.000000</td>\n",
       "    </tr>\n",
       "    <tr>\n",
       "      <th>mean</th>\n",
       "      <td>267.788043</td>\n",
       "      <td>332.668478</td>\n",
       "    </tr>\n",
       "    <tr>\n",
       "      <th>std</th>\n",
       "      <td>93.621104</td>\n",
       "      <td>36.760841</td>\n",
       "    </tr>\n",
       "    <tr>\n",
       "      <th>min</th>\n",
       "      <td>11.000000</td>\n",
       "      <td>112.000000</td>\n",
       "    </tr>\n",
       "    <tr>\n",
       "      <th>25%</th>\n",
       "      <td>199.500000</td>\n",
       "      <td>323.000000</td>\n",
       "    </tr>\n",
       "    <tr>\n",
       "      <th>50%</th>\n",
       "      <td>306.500000</td>\n",
       "      <td>339.500000</td>\n",
       "    </tr>\n",
       "    <tr>\n",
       "      <th>75%</th>\n",
       "      <td>341.000000</td>\n",
       "      <td>356.000000</td>\n",
       "    </tr>\n",
       "    <tr>\n",
       "      <th>max</th>\n",
       "      <td>370.000000</td>\n",
       "      <td>376.000000</td>\n",
       "    </tr>\n",
       "  </tbody>\n",
       "</table>\n",
       "</div>"
      ],
      "text/plain": [
       "           Export      Import\n",
       "count  184.000000  184.000000\n",
       "mean   267.788043  332.668478\n",
       "std     93.621104   36.760841\n",
       "min     11.000000  112.000000\n",
       "25%    199.500000  323.000000\n",
       "50%    306.500000  339.500000\n",
       "75%    341.000000  356.000000\n",
       "max    370.000000  376.000000"
      ]
     },
     "execution_count": 12,
     "metadata": {},
     "output_type": "execute_result"
    }
   ],
   "source": [
    "itemscount_by_country.describe()"
   ]
  },
  {
   "cell_type": "code",
   "execution_count": 13,
   "metadata": {
    "scrolled": true
   },
   "outputs": [
    {
     "data": {
      "text/html": [
       "<div>\n",
       "<style scoped>\n",
       "    .dataframe tbody tr th:only-of-type {\n",
       "        vertical-align: middle;\n",
       "    }\n",
       "\n",
       "    .dataframe tbody tr th {\n",
       "        vertical-align: top;\n",
       "    }\n",
       "\n",
       "    .dataframe thead th {\n",
       "        text-align: right;\n",
       "    }\n",
       "</style>\n",
       "<table border=\"1\" class=\"dataframe\">\n",
       "  <thead>\n",
       "    <tr style=\"text-align: right;\">\n",
       "      <th></th>\n",
       "      <th>Countries</th>\n",
       "      <th>Export</th>\n",
       "      <th>Import</th>\n",
       "    </tr>\n",
       "  </thead>\n",
       "  <tbody>\n",
       "    <tr>\n",
       "      <th>163</th>\n",
       "      <td>Thailand</td>\n",
       "      <td>244</td>\n",
       "      <td>227</td>\n",
       "    </tr>\n",
       "    <tr>\n",
       "      <th>155</th>\n",
       "      <td>South Africa</td>\n",
       "      <td>240</td>\n",
       "      <td>227</td>\n",
       "    </tr>\n",
       "    <tr>\n",
       "      <th>176</th>\n",
       "      <td>United States of America</td>\n",
       "      <td>238</td>\n",
       "      <td>234</td>\n",
       "    </tr>\n",
       "    <tr>\n",
       "      <th>7</th>\n",
       "      <td>Australia</td>\n",
       "      <td>238</td>\n",
       "      <td>218</td>\n",
       "    </tr>\n",
       "    <tr>\n",
       "      <th>119</th>\n",
       "      <td>New Zealand</td>\n",
       "      <td>237</td>\n",
       "      <td>225</td>\n",
       "    </tr>\n",
       "    <tr>\n",
       "      <th>102</th>\n",
       "      <td>Malaysia</td>\n",
       "      <td>236</td>\n",
       "      <td>217</td>\n",
       "    </tr>\n",
       "    <tr>\n",
       "      <th>24</th>\n",
       "      <td>Brazil</td>\n",
       "      <td>234</td>\n",
       "      <td>201</td>\n",
       "    </tr>\n",
       "    <tr>\n",
       "      <th>81</th>\n",
       "      <td>India</td>\n",
       "      <td>234</td>\n",
       "      <td>214</td>\n",
       "    </tr>\n",
       "    <tr>\n",
       "      <th>82</th>\n",
       "      <td>Indonesia</td>\n",
       "      <td>233</td>\n",
       "      <td>226</td>\n",
       "    </tr>\n",
       "    <tr>\n",
       "      <th>32</th>\n",
       "      <td>Canada</td>\n",
       "      <td>232</td>\n",
       "      <td>232</td>\n",
       "    </tr>\n",
       "  </tbody>\n",
       "</table>\n",
       "</div>"
      ],
      "text/plain": [
       "                    Countries  Export  Import\n",
       "163                  Thailand     244     227\n",
       "155              South Africa     240     227\n",
       "176  United States of America     238     234\n",
       "7                   Australia     238     218\n",
       "119               New Zealand     237     225\n",
       "102                  Malaysia     236     217\n",
       "24                     Brazil     234     201\n",
       "81                      India     234     214\n",
       "82                  Indonesia     233     226\n",
       "32                     Canada     232     232"
      ]
     },
     "execution_count": 13,
     "metadata": {},
     "output_type": "execute_result"
    }
   ],
   "source": [
    "# Show top 10 countries with most numbers of exporting partners\n",
    "partnerscount_by_country = partnerscount_by_country.sort_values(by='Export',ascending=False)\n",
    "partnerscount_by_country.head(10)"
   ]
  },
  {
   "cell_type": "code",
   "execution_count": 14,
   "metadata": {},
   "outputs": [
    {
     "data": {
      "text/html": [
       "<div>\n",
       "<style scoped>\n",
       "    .dataframe tbody tr th:only-of-type {\n",
       "        vertical-align: middle;\n",
       "    }\n",
       "\n",
       "    .dataframe tbody tr th {\n",
       "        vertical-align: top;\n",
       "    }\n",
       "\n",
       "    .dataframe thead th {\n",
       "        text-align: right;\n",
       "    }\n",
       "</style>\n",
       "<table border=\"1\" class=\"dataframe\">\n",
       "  <thead>\n",
       "    <tr style=\"text-align: right;\">\n",
       "      <th></th>\n",
       "      <th>Export</th>\n",
       "      <th>Import</th>\n",
       "    </tr>\n",
       "  </thead>\n",
       "  <tbody>\n",
       "    <tr>\n",
       "      <th>count</th>\n",
       "      <td>184.000000</td>\n",
       "      <td>184.000000</td>\n",
       "    </tr>\n",
       "    <tr>\n",
       "      <th>mean</th>\n",
       "      <td>147.663043</td>\n",
       "      <td>166.673913</td>\n",
       "    </tr>\n",
       "    <tr>\n",
       "      <th>std</th>\n",
       "      <td>65.005049</td>\n",
       "      <td>44.632956</td>\n",
       "    </tr>\n",
       "    <tr>\n",
       "      <th>min</th>\n",
       "      <td>6.000000</td>\n",
       "      <td>34.000000</td>\n",
       "    </tr>\n",
       "    <tr>\n",
       "      <th>25%</th>\n",
       "      <td>100.000000</td>\n",
       "      <td>138.500000</td>\n",
       "    </tr>\n",
       "    <tr>\n",
       "      <th>50%</th>\n",
       "      <td>158.000000</td>\n",
       "      <td>173.500000</td>\n",
       "    </tr>\n",
       "    <tr>\n",
       "      <th>75%</th>\n",
       "      <td>202.000000</td>\n",
       "      <td>200.250000</td>\n",
       "    </tr>\n",
       "    <tr>\n",
       "      <th>max</th>\n",
       "      <td>244.000000</td>\n",
       "      <td>234.000000</td>\n",
       "    </tr>\n",
       "  </tbody>\n",
       "</table>\n",
       "</div>"
      ],
      "text/plain": [
       "           Export      Import\n",
       "count  184.000000  184.000000\n",
       "mean   147.663043  166.673913\n",
       "std     65.005049   44.632956\n",
       "min      6.000000   34.000000\n",
       "25%    100.000000  138.500000\n",
       "50%    158.000000  173.500000\n",
       "75%    202.000000  200.250000\n",
       "max    244.000000  234.000000"
      ]
     },
     "execution_count": 14,
     "metadata": {},
     "output_type": "execute_result"
    }
   ],
   "source": [
    "partnerscount_by_country.describe()"
   ]
  },
  {
   "cell_type": "markdown",
   "metadata": {},
   "source": [
    " **Summary:** There is a big difference in items diversity among countries, as well as in number of trading partner countries"
   ]
  },
  {
   "cell_type": "markdown",
   "metadata": {},
   "source": [
    "### Visualization "
   ]
  },
  {
   "cell_type": "code",
   "execution_count": 15,
   "metadata": {},
   "outputs": [
    {
     "data": {
      "image/png": "[encoded data removed]",
      "text/plain": [
       "<Figure size 432x288 with 1 Axes>"
      ]
     },
     "metadata": {
      "needs_background": "light"
     },
     "output_type": "display_data"
    }
   ],
   "source": [
    "plt.hist(partnerscount_by_country['Export'],bins=15)\n",
    "plt.title('Distribution of number of export partners among countries')\n",
    "plt.ylabel('number of report countries')\n",
    "plt.xlabel('number of export partners')\n",
    "plt.show()"
   ]
  },
  {
   "cell_type": "code",
   "execution_count": 42,
   "metadata": {},
   "outputs": [
    {
     "name": "stdout",
     "output_type": "stream",
     "text": [
      "Number of countries with fewer than 180 export partners: 110\n"
     ]
    }
   ],
   "source": [
    "print('Number of countries with fewer than 180 export partners:',partnerscount_by_country.loc[partnerscount_by_country['Export']< 180].count()[0])"
   ]
  },
  {
   "cell_type": "code",
   "execution_count": 43,
   "metadata": {},
   "outputs": [
    {
     "name": "stdout",
     "output_type": "stream",
     "text": [
      "Number of countries with fewer than 180 import partners: 106\n"
     ]
    }
   ],
   "source": [
    "print('Number of countries with fewer than 180 import partners:',partnerscount_by_country.loc[partnerscount_by_country['Import']< 180].count()[0])"
   ]
  },
  {
   "cell_type": "code",
   "execution_count": 16,
   "metadata": {},
   "outputs": [
    {
     "data": {
      "image/png": "[encoded data removed]",
      "text/plain": [
       "<Figure size 432x288 with 1 Axes>"
      ]
     },
     "metadata": {
      "needs_background": "light"
     },
     "output_type": "display_data"
    }
   ],
   "source": [
    "plt.hist(partnerscount_by_country['Import'],bins=15)\n",
    "plt.title('Distribution of number of import partners among countries')\n",
    "plt.ylabel('number of report countries')\n",
    "plt.xlabel('number of import partners')\n",
    "plt.show()"
   ]
  },
  {
   "cell_type": "code",
   "execution_count": 17,
   "metadata": {},
   "outputs": [
    {
     "data": {
      "image/png": "[encoded data removed]",
      "text/plain": [
       "<Figure size 432x288 with 1 Axes>"
      ]
     },
     "metadata": {
      "needs_background": "light"
     },
     "output_type": "display_data"
    }
   ],
   "source": [
    "plt.hist(itemscount_by_country['Export'],bins=15)\n",
    "plt.title('Distribution of number of exported agricultural commodities among countries')\n",
    "plt.ylabel('number of report countries')\n",
    "plt.xlabel('number of types of exported agricultural commodities')\n",
    "plt.show()"
   ]
  },
  {
   "cell_type": "code",
   "execution_count": 18,
   "metadata": {},
   "outputs": [
    {
     "data": {
      "image/png": "[encoded data removed]",
      "text/plain": [
       "<Figure size 432x288 with 1 Axes>"
      ]
     },
     "metadata": {
      "needs_background": "light"
     },
     "output_type": "display_data"
    }
   ],
   "source": [
    "plt.hist(itemscount_by_country['Import'],bins=15)\n",
    "plt.title('Distribution of number of imported agricultural commodities among countries')\n",
    "plt.ylabel('number of report countries')\n",
    "plt.xlabel('number of types of imported agricultural commodities')\n",
    "plt.xlim(0,400)\n",
    "plt.show()"
   ]
  },
  {
   "cell_type": "code",
   "execution_count": 288,
   "metadata": {},
   "outputs": [],
   "source": [
    "# partnerscount_by_country.plot(x='Countries',kind='barh',fontsize= 8, figsize=(10,25))\n",
    "# plt.xlabel('Number of trading partner countries')\n",
    "# plt.show()"
   ]
  },
  {
   "cell_type": "code",
   "execution_count": 289,
   "metadata": {},
   "outputs": [],
   "source": [
    "# itemscount_by_country.plot(x='Countries',kind='barh',fontsize= 8, figsize=(10,25))\n",
    "# plt.xlabel('Number of types of agricultural commodities traded')\n",
    "# plt.show()"
   ]
  },
  {
   "cell_type": "markdown",
   "metadata": {},
   "source": [
    "### 1.2 Rank items and countries by total values traded\n",
    "\n",
    "#### 1. Find the top five crops in exporting values summed between 1986 and 2017"
   ]
  },
  {
   "cell_type": "code",
   "execution_count": 53,
   "metadata": {},
   "outputs": [],
   "source": [
    "items_total = items_by_country.drop('Item Code',axis=1).groupby(['Item','Element']).sum().reset_index()"
   ]
  },
  {
   "cell_type": "code",
   "execution_count": 54,
   "metadata": {},
   "outputs": [
    {
     "data": {
      "text/plain": [
       "(1670, 35)"
      ]
     },
     "execution_count": 54,
     "metadata": {},
     "output_type": "execute_result"
    }
   ],
   "source": [
    "items_total.shape"
   ]
  },
  {
   "cell_type": "code",
   "execution_count": 55,
   "metadata": {},
   "outputs": [
    {
     "data": {
      "text/html": [
       "<div>\n",
       "<style scoped>\n",
       "    .dataframe tbody tr th:only-of-type {\n",
       "        vertical-align: middle;\n",
       "    }\n",
       "\n",
       "    .dataframe tbody tr th {\n",
       "        vertical-align: top;\n",
       "    }\n",
       "\n",
       "    .dataframe thead th {\n",
       "        text-align: right;\n",
       "    }\n",
       "</style>\n",
       "<table border=\"1\" class=\"dataframe\">\n",
       "  <thead>\n",
       "    <tr style=\"text-align: right;\">\n",
       "      <th></th>\n",
       "      <th>Item</th>\n",
       "      <th>Element</th>\n",
       "      <th>Y1986</th>\n",
       "      <th>Y1987</th>\n",
       "      <th>Y1988</th>\n",
       "      <th>Y1989</th>\n",
       "      <th>Y1990</th>\n",
       "      <th>Y1991</th>\n",
       "      <th>Y1992</th>\n",
       "      <th>Y1993</th>\n",
       "      <th>...</th>\n",
       "      <th>Y2009</th>\n",
       "      <th>Y2010</th>\n",
       "      <th>Y2011</th>\n",
       "      <th>Y2012</th>\n",
       "      <th>Y2013</th>\n",
       "      <th>Y2014</th>\n",
       "      <th>Y2015</th>\n",
       "      <th>Y2016</th>\n",
       "      <th>Y2017</th>\n",
       "      <th>NoneZero</th>\n",
       "    </tr>\n",
       "  </thead>\n",
       "  <tbody>\n",
       "    <tr>\n",
       "      <th>0</th>\n",
       "      <td>Alfalfa meal and pellets</td>\n",
       "      <td>Export Quantity</td>\n",
       "      <td>780721</td>\n",
       "      <td>674729</td>\n",
       "      <td>1281274</td>\n",
       "      <td>945720</td>\n",
       "      <td>898612</td>\n",
       "      <td>1115589</td>\n",
       "      <td>1320243</td>\n",
       "      <td>1505566</td>\n",
       "      <td>...</td>\n",
       "      <td>917478</td>\n",
       "      <td>1301256</td>\n",
       "      <td>1352509</td>\n",
       "      <td>1629006</td>\n",
       "      <td>1230975</td>\n",
       "      <td>1230904</td>\n",
       "      <td>1257591</td>\n",
       "      <td>1250588</td>\n",
       "      <td>1185340</td>\n",
       "      <td>1184</td>\n",
       "    </tr>\n",
       "    <tr>\n",
       "      <th>1</th>\n",
       "      <td>Alfalfa meal and pellets</td>\n",
       "      <td>Export Value</td>\n",
       "      <td>85939</td>\n",
       "      <td>76271</td>\n",
       "      <td>162381</td>\n",
       "      <td>124439</td>\n",
       "      <td>124086</td>\n",
       "      <td>137893</td>\n",
       "      <td>158757</td>\n",
       "      <td>170117</td>\n",
       "      <td>...</td>\n",
       "      <td>199680</td>\n",
       "      <td>325348</td>\n",
       "      <td>338355</td>\n",
       "      <td>454384</td>\n",
       "      <td>344310</td>\n",
       "      <td>335681</td>\n",
       "      <td>303085</td>\n",
       "      <td>308622</td>\n",
       "      <td>316512</td>\n",
       "      <td>1175</td>\n",
       "    </tr>\n",
       "    <tr>\n",
       "      <th>2</th>\n",
       "      <td>Alfalfa meal and pellets</td>\n",
       "      <td>Import Quantity</td>\n",
       "      <td>747809</td>\n",
       "      <td>625348</td>\n",
       "      <td>922591</td>\n",
       "      <td>878304</td>\n",
       "      <td>861054</td>\n",
       "      <td>1026067</td>\n",
       "      <td>1129702</td>\n",
       "      <td>1316800</td>\n",
       "      <td>...</td>\n",
       "      <td>722642</td>\n",
       "      <td>814707</td>\n",
       "      <td>807915</td>\n",
       "      <td>862389</td>\n",
       "      <td>762030</td>\n",
       "      <td>1840831</td>\n",
       "      <td>1999653</td>\n",
       "      <td>1979886</td>\n",
       "      <td>928731</td>\n",
       "      <td>2115</td>\n",
       "    </tr>\n",
       "    <tr>\n",
       "      <th>3</th>\n",
       "      <td>Alfalfa meal and pellets</td>\n",
       "      <td>Import Value</td>\n",
       "      <td>91413</td>\n",
       "      <td>77803</td>\n",
       "      <td>119357</td>\n",
       "      <td>120259</td>\n",
       "      <td>126511</td>\n",
       "      <td>134983</td>\n",
       "      <td>153154</td>\n",
       "      <td>159708</td>\n",
       "      <td>...</td>\n",
       "      <td>186694</td>\n",
       "      <td>192576</td>\n",
       "      <td>230616</td>\n",
       "      <td>261140</td>\n",
       "      <td>256209</td>\n",
       "      <td>651632</td>\n",
       "      <td>590255</td>\n",
       "      <td>522431</td>\n",
       "      <td>265593</td>\n",
       "      <td>2121</td>\n",
       "    </tr>\n",
       "    <tr>\n",
       "      <th>4</th>\n",
       "      <td>Almonds shelled</td>\n",
       "      <td>Export Quantity</td>\n",
       "      <td>100123</td>\n",
       "      <td>89685</td>\n",
       "      <td>117115</td>\n",
       "      <td>125555</td>\n",
       "      <td>136050</td>\n",
       "      <td>114860</td>\n",
       "      <td>152612</td>\n",
       "      <td>164122</td>\n",
       "      <td>...</td>\n",
       "      <td>545526</td>\n",
       "      <td>558735</td>\n",
       "      <td>624217</td>\n",
       "      <td>651907</td>\n",
       "      <td>680869</td>\n",
       "      <td>691473</td>\n",
       "      <td>661657</td>\n",
       "      <td>755735</td>\n",
       "      <td>777981</td>\n",
       "      <td>1826</td>\n",
       "    </tr>\n",
       "  </tbody>\n",
       "</table>\n",
       "<p>5 rows × 35 columns</p>\n",
       "</div>"
      ],
      "text/plain": [
       "                       Item          Element   Y1986   Y1987    Y1988   Y1989  \\\n",
       "0  Alfalfa meal and pellets  Export Quantity  780721  674729  1281274  945720   \n",
       "1  Alfalfa meal and pellets     Export Value   85939   76271   162381  124439   \n",
       "2  Alfalfa meal and pellets  Import Quantity  747809  625348   922591  878304   \n",
       "3  Alfalfa meal and pellets     Import Value   91413   77803   119357  120259   \n",
       "4           Almonds shelled  Export Quantity  100123   89685   117115  125555   \n",
       "\n",
       "    Y1990    Y1991    Y1992    Y1993  ...   Y2009    Y2010    Y2011    Y2012  \\\n",
       "0  898612  1115589  1320243  1505566  ...  917478  1301256  1352509  1629006   \n",
       "1  124086   137893   158757   170117  ...  199680   325348   338355   454384   \n",
       "2  861054  1026067  1129702  1316800  ...  722642   814707   807915   862389   \n",
       "3  126511   134983   153154   159708  ...  186694   192576   230616   261140   \n",
       "4  136050   114860   152612   164122  ...  545526   558735   624217   651907   \n",
       "\n",
       "     Y2013    Y2014    Y2015    Y2016    Y2017  NoneZero  \n",
       "0  1230975  1230904  1257591  1250588  1185340      1184  \n",
       "1   344310   335681   303085   308622   316512      1175  \n",
       "2   762030  1840831  1999653  1979886   928731      2115  \n",
       "3   256209   651632   590255   522431   265593      2121  \n",
       "4   680869   691473   661657   755735   777981      1826  \n",
       "\n",
       "[5 rows x 35 columns]"
      ]
     },
     "execution_count": 55,
     "metadata": {},
     "output_type": "execute_result"
    }
   ],
   "source": [
    "items_total.head()"
   ]
  },
  {
   "cell_type": "code",
   "execution_count": 61,
   "metadata": {},
   "outputs": [],
   "source": [
    "years = items_total.columns[2:-1]"
   ]
  },
  {
   "cell_type": "code",
   "execution_count": 62,
   "metadata": {},
   "outputs": [
    {
     "data": {
      "text/plain": [
       "Index(['Y1986', 'Y1987', 'Y1988', 'Y1989', 'Y1990', 'Y1991', 'Y1992', 'Y1993',\n",
       "       'Y1994', 'Y1995', 'Y1996', 'Y1997', 'Y1998', 'Y1999', 'Y2000', 'Y2001',\n",
       "       'Y2002', 'Y2003', 'Y2004', 'Y2005', 'Y2006', 'Y2007', 'Y2008', 'Y2009',\n",
       "       'Y2010', 'Y2011', 'Y2012', 'Y2013', 'Y2014', 'Y2015', 'Y2016', 'Y2017'],\n",
       "      dtype='object')"
      ]
     },
     "execution_count": 62,
     "metadata": {},
     "output_type": "execute_result"
    }
   ],
   "source": [
    "years"
   ]
  },
  {
   "cell_type": "code",
   "execution_count": 24,
   "metadata": {},
   "outputs": [],
   "source": [
    "items_total['Sum'] = items_total[years].sum(axis=1)"
   ]
  },
  {
   "cell_type": "markdown",
   "metadata": {},
   "source": [
    "We shall focus on export quantity and value of crops."
   ]
  },
  {
   "cell_type": "code",
   "execution_count": 25,
   "metadata": {},
   "outputs": [],
   "source": [
    "items_total_exportQ = items_total.loc[items_total['Element']=='Export Quantity',:]\n",
    "items_total_exportV = items_total.loc[items_total['Element']=='Export Value',:]"
   ]
  },
  {
   "cell_type": "code",
   "execution_count": 26,
   "metadata": {},
   "outputs": [
    {
     "name": "stdout",
     "output_type": "stream",
     "text": [
      "595                              Food prep nes\n",
      "1635                                     Wheat\n",
      "1431                                  Soybeans\n",
      "431                            Crude materials\n",
      "1647                                      Wine\n",
      "873                                      Maize\n",
      "99              Beverages, distilled alcoholic\n",
      "931       Meat, cattle, boneless (beef & veal)\n",
      "291                     Cheese, whole cow milk\n",
      "331                                 Cigarettes\n",
      "1155                                 Oil, palm\n",
      "223                             Cake, soybeans\n",
      "323                     Chocolate products nes\n",
      "1227                                    Pastry\n",
      "935                              Meat, chicken\n",
      "379                              Coffee, green\n",
      "1347    Rice - total  (Rice milled equivalent)\n",
      "979                                 Meat, pork\n",
      "403                                Cotton lint\n",
      "1371                        Rubber natural dry\n",
      "Name: Item, dtype: object\n",
      "(417, 35)\n"
     ]
    }
   ],
   "source": [
    "# Check the top items in export value and select crops\n",
    "items_total_exportV = items_total_exportV.sort_values(by='Sum',ascending=False)\n",
    "print(items_total_exportV['Item'][:20])\n",
    "print(items_total_exportV.shape)"
   ]
  },
  {
   "cell_type": "markdown",
   "metadata": {},
   "source": [
    "The top five exported crops between 1986 and 2017 (in 1000 US$, not counting processed products) are:   \n",
    "Wheat, Soybeans, Maize, Coffee, and Cotton"
   ]
  },
  {
   "cell_type": "code",
   "execution_count": 305,
   "metadata": {},
   "outputs": [
    {
     "name": "stdout",
     "output_type": "stream",
     "text": [
      "430                            Crude materials\n",
      "1634                                     Wheat\n",
      "12                            Animals live nes\n",
      "872                                      Maize\n",
      "1430                                  Soybeans\n",
      "222                             Cake, soybeans\n",
      "66                                      Barley\n",
      "1270                                      Pigs\n",
      "1346    Rice - total  (Rice milled equivalent)\n",
      "1154                                 Oil, palm\n",
      "1454                     Sugar Raw Centrifugal\n",
      "1626                            Waters,ice etc\n",
      "1358                              Rice, milled\n",
      "1480                             Sugar refined\n",
      "62                                     Bananas\n",
      "1386                                     Sheep\n",
      "1342                                  Rapeseed\n",
      "106                   Beverages, non alcoholic\n",
      "586                               Flour, wheat\n",
      "266                                     Cattle\n",
      "Name: Item, dtype: object\n",
      "(416, 35)\n"
     ]
    }
   ],
   "source": [
    "# Check the top items in export quantity and select crops\n",
    "items_total_exportQ = items_total_exportQ.sort_values(by='Sum',ascending=False)\n",
    "print(items_total_exportQ['Item'][:20])\n",
    "print(items_total_exportQ.shape)"
   ]
  },
  {
   "cell_type": "markdown",
   "metadata": {},
   "source": [
    "Top top five exported crops between 1986 and 2017 (tonnes) are:   \n",
    "Wheat, Maize, Soybeans, Barley and Rice - total  (Rice milled equivalent)"
   ]
  },
  {
   "cell_type": "markdown",
   "metadata": {},
   "source": [
    "#### 2. Find the top five countries in terms of total exporting values during the past three years"
   ]
  },
  {
   "cell_type": "code",
   "execution_count": 27,
   "metadata": {},
   "outputs": [],
   "source": [
    "country_total = partners_by_country.groupby(['Reporter Countries','Element']).sum().reset_index()"
   ]
  },
  {
   "cell_type": "code",
   "execution_count": 28,
   "metadata": {},
   "outputs": [],
   "source": [
    "country_total['3y_mean'] = country_total[['Y2015','Y2016','Y2017']].mean(axis=1)"
   ]
  },
  {
   "cell_type": "code",
   "execution_count": 29,
   "metadata": {},
   "outputs": [],
   "source": [
    "country_total = country_total.sort_values(by='3y_mean', ascending=False)\n",
    "country_total_exportV = country_total.loc[country_total['Element']=='Export Value',:]"
   ]
  },
  {
   "cell_type": "code",
   "execution_count": 30,
   "metadata": {},
   "outputs": [
    {
     "name": "stdout",
     "output_type": "stream",
     "text": [
      "352    United States of America\n",
      "232                 Netherlands\n",
      "138                     Germany\n",
      "48                       Brazil\n",
      "126                      France\n",
      "76              China, mainland\n",
      "312                       Spain\n",
      "64                       Canada\n",
      "172                       Italy\n",
      "30                      Belgium\n",
      "326                    Thailand\n",
      "164                   Indonesia\n",
      "8                     Argentina\n",
      "14                    Australia\n",
      "162                       India\n",
      "218                      Mexico\n",
      "348              United Kingdom\n",
      "264                      Poland\n",
      "204                    Malaysia\n",
      "238                 New Zealand\n",
      "Name: Reporter Countries, dtype: object\n"
     ]
    }
   ],
   "source": [
    "# Find top countries in exporting values of agricultural goods\n",
    "print(country_total_exportV['Reporter Countries'][:20])"
   ]
  },
  {
   "cell_type": "markdown",
   "metadata": {},
   "source": [
    "The top 5 countries in 3-year average (2015-2017) exporting values of agricultural commodities are:  \n",
    "USA, Netherlands, Germany, Brazil and France"
   ]
  },
  {
   "cell_type": "code",
   "execution_count": 31,
   "metadata": {},
   "outputs": [
    {
     "data": {
      "text/plain": [
       "(184, 35)"
      ]
     },
     "execution_count": 31,
     "metadata": {},
     "output_type": "execute_result"
    }
   ],
   "source": [
    "country_total_exportV.shape"
   ]
  },
  {
   "cell_type": "markdown",
   "metadata": {},
   "source": [
    "## 2. Build simple linear regression models on time series data for the top crops and countries\n",
    "\n",
    "### 2.1 Models for wheat export \n",
    "\n",
    "#### 1) Find countries that have more complete data set >50% (16 years) non-zero trading data for wheat"
   ]
  },
  {
   "cell_type": "code",
   "execution_count": 32,
   "metadata": {},
   "outputs": [
    {
     "data": {
      "text/html": [
       "<div>\n",
       "<style scoped>\n",
       "    .dataframe tbody tr th:only-of-type {\n",
       "        vertical-align: middle;\n",
       "    }\n",
       "\n",
       "    .dataframe tbody tr th {\n",
       "        vertical-align: top;\n",
       "    }\n",
       "\n",
       "    .dataframe thead th {\n",
       "        text-align: right;\n",
       "    }\n",
       "</style>\n",
       "<table border=\"1\" class=\"dataframe\">\n",
       "  <thead>\n",
       "    <tr style=\"text-align: right;\">\n",
       "      <th></th>\n",
       "      <th>Reporter Countries</th>\n",
       "      <th>Item</th>\n",
       "      <th>Element</th>\n",
       "      <th>Unit</th>\n",
       "      <th>Item Code</th>\n",
       "      <th>Y1986</th>\n",
       "      <th>Y1987</th>\n",
       "      <th>Y1988</th>\n",
       "      <th>Y1989</th>\n",
       "      <th>Y1990</th>\n",
       "      <th>...</th>\n",
       "      <th>Y2008</th>\n",
       "      <th>Y2009</th>\n",
       "      <th>Y2010</th>\n",
       "      <th>Y2011</th>\n",
       "      <th>Y2012</th>\n",
       "      <th>Y2013</th>\n",
       "      <th>Y2014</th>\n",
       "      <th>Y2015</th>\n",
       "      <th>Y2016</th>\n",
       "      <th>Y2017</th>\n",
       "    </tr>\n",
       "  </thead>\n",
       "  <tbody>\n",
       "    <tr>\n",
       "      <th>0</th>\n",
       "      <td>Afghanistan</td>\n",
       "      <td>Almonds shelled</td>\n",
       "      <td>Export Quantity</td>\n",
       "      <td>tonnes</td>\n",
       "      <td>5313</td>\n",
       "      <td>0.0</td>\n",
       "      <td>0.0</td>\n",
       "      <td>0.0</td>\n",
       "      <td>0.0</td>\n",
       "      <td>0.0</td>\n",
       "      <td>...</td>\n",
       "      <td>0.0</td>\n",
       "      <td>4763.0</td>\n",
       "      <td>1308.0</td>\n",
       "      <td>2261.0</td>\n",
       "      <td>0.0</td>\n",
       "      <td>0.0</td>\n",
       "      <td>2714.0</td>\n",
       "      <td>2086.0</td>\n",
       "      <td>1778.0</td>\n",
       "      <td>2756.0</td>\n",
       "    </tr>\n",
       "    <tr>\n",
       "      <th>1</th>\n",
       "      <td>Afghanistan</td>\n",
       "      <td>Almonds shelled</td>\n",
       "      <td>Export Value</td>\n",
       "      <td>1000 US$</td>\n",
       "      <td>5313</td>\n",
       "      <td>0.0</td>\n",
       "      <td>0.0</td>\n",
       "      <td>0.0</td>\n",
       "      <td>0.0</td>\n",
       "      <td>0.0</td>\n",
       "      <td>...</td>\n",
       "      <td>0.0</td>\n",
       "      <td>35476.0</td>\n",
       "      <td>15894.0</td>\n",
       "      <td>20270.0</td>\n",
       "      <td>0.0</td>\n",
       "      <td>0.0</td>\n",
       "      <td>16454.0</td>\n",
       "      <td>12793.0</td>\n",
       "      <td>10934.0</td>\n",
       "      <td>19677.0</td>\n",
       "    </tr>\n",
       "    <tr>\n",
       "      <th>2</th>\n",
       "      <td>Afghanistan</td>\n",
       "      <td>Almonds shelled</td>\n",
       "      <td>Import Quantity</td>\n",
       "      <td>tonnes</td>\n",
       "      <td>1617</td>\n",
       "      <td>0.0</td>\n",
       "      <td>0.0</td>\n",
       "      <td>0.0</td>\n",
       "      <td>0.0</td>\n",
       "      <td>0.0</td>\n",
       "      <td>...</td>\n",
       "      <td>0.0</td>\n",
       "      <td>0.0</td>\n",
       "      <td>0.0</td>\n",
       "      <td>0.0</td>\n",
       "      <td>0.0</td>\n",
       "      <td>0.0</td>\n",
       "      <td>168.0</td>\n",
       "      <td>181.0</td>\n",
       "      <td>846.0</td>\n",
       "      <td>103.0</td>\n",
       "    </tr>\n",
       "    <tr>\n",
       "      <th>3</th>\n",
       "      <td>Afghanistan</td>\n",
       "      <td>Almonds shelled</td>\n",
       "      <td>Import Value</td>\n",
       "      <td>1000 US$</td>\n",
       "      <td>1617</td>\n",
       "      <td>0.0</td>\n",
       "      <td>0.0</td>\n",
       "      <td>0.0</td>\n",
       "      <td>0.0</td>\n",
       "      <td>0.0</td>\n",
       "      <td>...</td>\n",
       "      <td>0.0</td>\n",
       "      <td>0.0</td>\n",
       "      <td>0.0</td>\n",
       "      <td>0.0</td>\n",
       "      <td>0.0</td>\n",
       "      <td>0.0</td>\n",
       "      <td>1117.0</td>\n",
       "      <td>1377.0</td>\n",
       "      <td>4988.0</td>\n",
       "      <td>759.0</td>\n",
       "    </tr>\n",
       "    <tr>\n",
       "      <th>4</th>\n",
       "      <td>Afghanistan</td>\n",
       "      <td>Almonds, with shell</td>\n",
       "      <td>Export Quantity</td>\n",
       "      <td>tonnes</td>\n",
       "      <td>3315</td>\n",
       "      <td>0.0</td>\n",
       "      <td>0.0</td>\n",
       "      <td>0.0</td>\n",
       "      <td>0.0</td>\n",
       "      <td>0.0</td>\n",
       "      <td>...</td>\n",
       "      <td>0.0</td>\n",
       "      <td>11066.0</td>\n",
       "      <td>779.0</td>\n",
       "      <td>1016.0</td>\n",
       "      <td>0.0</td>\n",
       "      <td>0.0</td>\n",
       "      <td>1856.0</td>\n",
       "      <td>1660.0</td>\n",
       "      <td>1545.0</td>\n",
       "      <td>875.0</td>\n",
       "    </tr>\n",
       "  </tbody>\n",
       "</table>\n",
       "<p>5 rows × 37 columns</p>\n",
       "</div>"
      ],
      "text/plain": [
       "  Reporter Countries                 Item          Element      Unit  \\\n",
       "0        Afghanistan      Almonds shelled  Export Quantity    tonnes   \n",
       "1        Afghanistan      Almonds shelled     Export Value  1000 US$   \n",
       "2        Afghanistan      Almonds shelled  Import Quantity    tonnes   \n",
       "3        Afghanistan      Almonds shelled     Import Value  1000 US$   \n",
       "4        Afghanistan  Almonds, with shell  Export Quantity    tonnes   \n",
       "\n",
       "   Item Code  Y1986  Y1987  Y1988  Y1989  Y1990  ...  Y2008    Y2009    Y2010  \\\n",
       "0       5313    0.0    0.0    0.0    0.0    0.0  ...    0.0   4763.0   1308.0   \n",
       "1       5313    0.0    0.0    0.0    0.0    0.0  ...    0.0  35476.0  15894.0   \n",
       "2       1617    0.0    0.0    0.0    0.0    0.0  ...    0.0      0.0      0.0   \n",
       "3       1617    0.0    0.0    0.0    0.0    0.0  ...    0.0      0.0      0.0   \n",
       "4       3315    0.0    0.0    0.0    0.0    0.0  ...    0.0  11066.0    779.0   \n",
       "\n",
       "     Y2011  Y2012  Y2013    Y2014    Y2015    Y2016    Y2017  \n",
       "0   2261.0    0.0    0.0   2714.0   2086.0   1778.0   2756.0  \n",
       "1  20270.0    0.0    0.0  16454.0  12793.0  10934.0  19677.0  \n",
       "2      0.0    0.0    0.0    168.0    181.0    846.0    103.0  \n",
       "3      0.0    0.0    0.0   1117.0   1377.0   4988.0    759.0  \n",
       "4   1016.0    0.0    0.0   1856.0   1660.0   1545.0    875.0  \n",
       "\n",
       "[5 rows x 37 columns]"
      ]
     },
     "execution_count": 32,
     "metadata": {},
     "output_type": "execute_result"
    }
   ],
   "source": [
    "items_by_country.head()"
   ]
  },
  {
   "cell_type": "code",
   "execution_count": 33,
   "metadata": {},
   "outputs": [],
   "source": [
    "# Calculate number of years with non-zero trading data\n",
    "items_by_country['NoneZero'] = 32 - (items_by_country[years] == 0).sum(axis=1)"
   ]
  },
  {
   "cell_type": "code",
   "execution_count": 303,
   "metadata": {},
   "outputs": [
    {
     "data": {
      "text/html": [
       "<div>\n",
       "<style scoped>\n",
       "    .dataframe tbody tr th:only-of-type {\n",
       "        vertical-align: middle;\n",
       "    }\n",
       "\n",
       "    .dataframe tbody tr th {\n",
       "        vertical-align: top;\n",
       "    }\n",
       "\n",
       "    .dataframe thead th {\n",
       "        text-align: right;\n",
       "    }\n",
       "</style>\n",
       "<table border=\"1\" class=\"dataframe\">\n",
       "  <thead>\n",
       "    <tr style=\"text-align: right;\">\n",
       "      <th></th>\n",
       "      <th>Reporter Countries</th>\n",
       "      <th>Item</th>\n",
       "      <th>Element</th>\n",
       "      <th>Unit</th>\n",
       "      <th>Item Code</th>\n",
       "      <th>Y1986</th>\n",
       "      <th>Y1987</th>\n",
       "      <th>Y1988</th>\n",
       "      <th>Y1989</th>\n",
       "      <th>Y1990</th>\n",
       "      <th>...</th>\n",
       "      <th>Y2009</th>\n",
       "      <th>Y2010</th>\n",
       "      <th>Y2011</th>\n",
       "      <th>Y2012</th>\n",
       "      <th>Y2013</th>\n",
       "      <th>Y2014</th>\n",
       "      <th>Y2015</th>\n",
       "      <th>Y2016</th>\n",
       "      <th>Y2017</th>\n",
       "      <th>NoneZero</th>\n",
       "    </tr>\n",
       "  </thead>\n",
       "  <tbody>\n",
       "    <tr>\n",
       "      <th>0</th>\n",
       "      <td>Afghanistan</td>\n",
       "      <td>Almonds shelled</td>\n",
       "      <td>Export Quantity</td>\n",
       "      <td>tonnes</td>\n",
       "      <td>5313</td>\n",
       "      <td>0.0</td>\n",
       "      <td>0.0</td>\n",
       "      <td>0.0</td>\n",
       "      <td>0.0</td>\n",
       "      <td>0.0</td>\n",
       "      <td>...</td>\n",
       "      <td>4763.0</td>\n",
       "      <td>1308.0</td>\n",
       "      <td>2261.0</td>\n",
       "      <td>0.0</td>\n",
       "      <td>0.0</td>\n",
       "      <td>2714.0</td>\n",
       "      <td>2086.0</td>\n",
       "      <td>1778.0</td>\n",
       "      <td>2756.0</td>\n",
       "      <td>7</td>\n",
       "    </tr>\n",
       "    <tr>\n",
       "      <th>1</th>\n",
       "      <td>Afghanistan</td>\n",
       "      <td>Almonds shelled</td>\n",
       "      <td>Export Value</td>\n",
       "      <td>1000 US$</td>\n",
       "      <td>5313</td>\n",
       "      <td>0.0</td>\n",
       "      <td>0.0</td>\n",
       "      <td>0.0</td>\n",
       "      <td>0.0</td>\n",
       "      <td>0.0</td>\n",
       "      <td>...</td>\n",
       "      <td>35476.0</td>\n",
       "      <td>15894.0</td>\n",
       "      <td>20270.0</td>\n",
       "      <td>0.0</td>\n",
       "      <td>0.0</td>\n",
       "      <td>16454.0</td>\n",
       "      <td>12793.0</td>\n",
       "      <td>10934.0</td>\n",
       "      <td>19677.0</td>\n",
       "      <td>7</td>\n",
       "    </tr>\n",
       "    <tr>\n",
       "      <th>2</th>\n",
       "      <td>Afghanistan</td>\n",
       "      <td>Almonds shelled</td>\n",
       "      <td>Import Quantity</td>\n",
       "      <td>tonnes</td>\n",
       "      <td>1617</td>\n",
       "      <td>0.0</td>\n",
       "      <td>0.0</td>\n",
       "      <td>0.0</td>\n",
       "      <td>0.0</td>\n",
       "      <td>0.0</td>\n",
       "      <td>...</td>\n",
       "      <td>0.0</td>\n",
       "      <td>0.0</td>\n",
       "      <td>0.0</td>\n",
       "      <td>0.0</td>\n",
       "      <td>0.0</td>\n",
       "      <td>168.0</td>\n",
       "      <td>181.0</td>\n",
       "      <td>846.0</td>\n",
       "      <td>103.0</td>\n",
       "      <td>4</td>\n",
       "    </tr>\n",
       "    <tr>\n",
       "      <th>3</th>\n",
       "      <td>Afghanistan</td>\n",
       "      <td>Almonds shelled</td>\n",
       "      <td>Import Value</td>\n",
       "      <td>1000 US$</td>\n",
       "      <td>1617</td>\n",
       "      <td>0.0</td>\n",
       "      <td>0.0</td>\n",
       "      <td>0.0</td>\n",
       "      <td>0.0</td>\n",
       "      <td>0.0</td>\n",
       "      <td>...</td>\n",
       "      <td>0.0</td>\n",
       "      <td>0.0</td>\n",
       "      <td>0.0</td>\n",
       "      <td>0.0</td>\n",
       "      <td>0.0</td>\n",
       "      <td>1117.0</td>\n",
       "      <td>1377.0</td>\n",
       "      <td>4988.0</td>\n",
       "      <td>759.0</td>\n",
       "      <td>4</td>\n",
       "    </tr>\n",
       "    <tr>\n",
       "      <th>4</th>\n",
       "      <td>Afghanistan</td>\n",
       "      <td>Almonds, with shell</td>\n",
       "      <td>Export Quantity</td>\n",
       "      <td>tonnes</td>\n",
       "      <td>3315</td>\n",
       "      <td>0.0</td>\n",
       "      <td>0.0</td>\n",
       "      <td>0.0</td>\n",
       "      <td>0.0</td>\n",
       "      <td>0.0</td>\n",
       "      <td>...</td>\n",
       "      <td>11066.0</td>\n",
       "      <td>779.0</td>\n",
       "      <td>1016.0</td>\n",
       "      <td>0.0</td>\n",
       "      <td>0.0</td>\n",
       "      <td>1856.0</td>\n",
       "      <td>1660.0</td>\n",
       "      <td>1545.0</td>\n",
       "      <td>875.0</td>\n",
       "      <td>7</td>\n",
       "    </tr>\n",
       "  </tbody>\n",
       "</table>\n",
       "<p>5 rows × 38 columns</p>\n",
       "</div>"
      ],
      "text/plain": [
       "  Reporter Countries                 Item          Element      Unit  \\\n",
       "0        Afghanistan      Almonds shelled  Export Quantity    tonnes   \n",
       "1        Afghanistan      Almonds shelled     Export Value  1000 US$   \n",
       "2        Afghanistan      Almonds shelled  Import Quantity    tonnes   \n",
       "3        Afghanistan      Almonds shelled     Import Value  1000 US$   \n",
       "4        Afghanistan  Almonds, with shell  Export Quantity    tonnes   \n",
       "\n",
       "   Item Code  Y1986  Y1987  Y1988  Y1989  Y1990  ...    Y2009    Y2010  \\\n",
       "0       5313    0.0    0.0    0.0    0.0    0.0  ...   4763.0   1308.0   \n",
       "1       5313    0.0    0.0    0.0    0.0    0.0  ...  35476.0  15894.0   \n",
       "2       1617    0.0    0.0    0.0    0.0    0.0  ...      0.0      0.0   \n",
       "3       1617    0.0    0.0    0.0    0.0    0.0  ...      0.0      0.0   \n",
       "4       3315    0.0    0.0    0.0    0.0    0.0  ...  11066.0    779.0   \n",
       "\n",
       "     Y2011  Y2012  Y2013    Y2014    Y2015    Y2016    Y2017  NoneZero  \n",
       "0   2261.0    0.0    0.0   2714.0   2086.0   1778.0   2756.0         7  \n",
       "1  20270.0    0.0    0.0  16454.0  12793.0  10934.0  19677.0         7  \n",
       "2      0.0    0.0    0.0    168.0    181.0    846.0    103.0         4  \n",
       "3      0.0    0.0    0.0   1117.0   1377.0   4988.0    759.0         4  \n",
       "4   1016.0    0.0    0.0   1856.0   1660.0   1545.0    875.0         7  \n",
       "\n",
       "[5 rows x 38 columns]"
      ]
     },
     "execution_count": 303,
     "metadata": {},
     "output_type": "execute_result"
    }
   ],
   "source": [
    "items_by_country.head()"
   ]
  },
  {
   "cell_type": "code",
   "execution_count": 304,
   "metadata": {},
   "outputs": [],
   "source": [
    "items_by_country.to_csv('../data/processed/items_by_country.csv')"
   ]
  },
  {
   "cell_type": "markdown",
   "metadata": {},
   "source": [
    "#### 2) data preprocessing "
   ]
  },
  {
   "cell_type": "code",
   "execution_count": 70,
   "metadata": {},
   "outputs": [
    {
     "name": "stdout",
     "output_type": "stream",
     "text": [
      "(75, 38)\n"
     ]
    },
    {
     "data": {
      "text/html": [
       "<div>\n",
       "<style scoped>\n",
       "    .dataframe tbody tr th:only-of-type {\n",
       "        vertical-align: middle;\n",
       "    }\n",
       "\n",
       "    .dataframe tbody tr th {\n",
       "        vertical-align: top;\n",
       "    }\n",
       "\n",
       "    .dataframe thead th {\n",
       "        text-align: right;\n",
       "    }\n",
       "</style>\n",
       "<table border=\"1\" class=\"dataframe\">\n",
       "  <thead>\n",
       "    <tr style=\"text-align: right;\">\n",
       "      <th></th>\n",
       "      <th>Reporter Countries</th>\n",
       "      <th>Item</th>\n",
       "      <th>Element</th>\n",
       "      <th>Unit</th>\n",
       "      <th>Item Code</th>\n",
       "      <th>Y1986</th>\n",
       "      <th>Y1987</th>\n",
       "      <th>Y1988</th>\n",
       "      <th>Y1989</th>\n",
       "      <th>Y1990</th>\n",
       "      <th>...</th>\n",
       "      <th>Y2009</th>\n",
       "      <th>Y2010</th>\n",
       "      <th>Y2011</th>\n",
       "      <th>Y2012</th>\n",
       "      <th>Y2013</th>\n",
       "      <th>Y2014</th>\n",
       "      <th>Y2015</th>\n",
       "      <th>Y2016</th>\n",
       "      <th>Y2017</th>\n",
       "      <th>NoneZero</th>\n",
       "    </tr>\n",
       "  </thead>\n",
       "  <tbody>\n",
       "    <tr>\n",
       "      <th>5830</th>\n",
       "      <td>Argentina</td>\n",
       "      <td>Wheat</td>\n",
       "      <td>Export Value</td>\n",
       "      <td>1000 US$</td>\n",
       "      <td>1830</td>\n",
       "      <td>374614</td>\n",
       "      <td>351003</td>\n",
       "      <td>355226</td>\n",
       "      <td>657540</td>\n",
       "      <td>870936</td>\n",
       "      <td>...</td>\n",
       "      <td>1001973</td>\n",
       "      <td>901824</td>\n",
       "      <td>2508660</td>\n",
       "      <td>2937806</td>\n",
       "      <td>725395</td>\n",
       "      <td>603675</td>\n",
       "      <td>1032847</td>\n",
       "      <td>1867747</td>\n",
       "      <td>2361856</td>\n",
       "      <td>32</td>\n",
       "    </tr>\n",
       "    <tr>\n",
       "      <th>9409</th>\n",
       "      <td>Australia</td>\n",
       "      <td>Wheat</td>\n",
       "      <td>Export Value</td>\n",
       "      <td>1000 US$</td>\n",
       "      <td>1770</td>\n",
       "      <td>1837595</td>\n",
       "      <td>1369375</td>\n",
       "      <td>1066732</td>\n",
       "      <td>1382707</td>\n",
       "      <td>1664054</td>\n",
       "      <td>...</td>\n",
       "      <td>3254699</td>\n",
       "      <td>3845506</td>\n",
       "      <td>5709040</td>\n",
       "      <td>6765445</td>\n",
       "      <td>5895653</td>\n",
       "      <td>5343407</td>\n",
       "      <td>4371505</td>\n",
       "      <td>3621345</td>\n",
       "      <td>4650327</td>\n",
       "      <td>32</td>\n",
       "    </tr>\n",
       "    <tr>\n",
       "      <th>10905</th>\n",
       "      <td>Austria</td>\n",
       "      <td>Wheat</td>\n",
       "      <td>Export Value</td>\n",
       "      <td>1000 US$</td>\n",
       "      <td>1185</td>\n",
       "      <td>32330</td>\n",
       "      <td>40372</td>\n",
       "      <td>78313</td>\n",
       "      <td>79656</td>\n",
       "      <td>53462</td>\n",
       "      <td>...</td>\n",
       "      <td>144764</td>\n",
       "      <td>202892</td>\n",
       "      <td>248774</td>\n",
       "      <td>205418</td>\n",
       "      <td>205738</td>\n",
       "      <td>290428</td>\n",
       "      <td>236625</td>\n",
       "      <td>192220</td>\n",
       "      <td>195575</td>\n",
       "      <td>32</td>\n",
       "    </tr>\n",
       "    <tr>\n",
       "      <th>17128</th>\n",
       "      <td>Barbados</td>\n",
       "      <td>Wheat</td>\n",
       "      <td>Export Value</td>\n",
       "      <td>1000 US$</td>\n",
       "      <td>135</td>\n",
       "      <td>1</td>\n",
       "      <td>0</td>\n",
       "      <td>0</td>\n",
       "      <td>0</td>\n",
       "      <td>291</td>\n",
       "      <td>...</td>\n",
       "      <td>1</td>\n",
       "      <td>1</td>\n",
       "      <td>18</td>\n",
       "      <td>15</td>\n",
       "      <td>76</td>\n",
       "      <td>37</td>\n",
       "      <td>0</td>\n",
       "      <td>0</td>\n",
       "      <td>1</td>\n",
       "      <td>19</td>\n",
       "    </tr>\n",
       "    <tr>\n",
       "      <th>18465</th>\n",
       "      <td>Belarus</td>\n",
       "      <td>Wheat</td>\n",
       "      <td>Export Value</td>\n",
       "      <td>1000 US$</td>\n",
       "      <td>135</td>\n",
       "      <td>0</td>\n",
       "      <td>0</td>\n",
       "      <td>0</td>\n",
       "      <td>0</td>\n",
       "      <td>0</td>\n",
       "      <td>...</td>\n",
       "      <td>24</td>\n",
       "      <td>746</td>\n",
       "      <td>211</td>\n",
       "      <td>194</td>\n",
       "      <td>240</td>\n",
       "      <td>280</td>\n",
       "      <td>4934</td>\n",
       "      <td>11986</td>\n",
       "      <td>180</td>\n",
       "      <td>19</td>\n",
       "    </tr>\n",
       "  </tbody>\n",
       "</table>\n",
       "<p>5 rows × 38 columns</p>\n",
       "</div>"
      ],
      "text/plain": [
       "      Reporter Countries   Item       Element      Unit  Item Code    Y1986  \\\n",
       "5830           Argentina  Wheat  Export Value  1000 US$       1830   374614   \n",
       "9409           Australia  Wheat  Export Value  1000 US$       1770  1837595   \n",
       "10905            Austria  Wheat  Export Value  1000 US$       1185    32330   \n",
       "17128           Barbados  Wheat  Export Value  1000 US$        135        1   \n",
       "18465            Belarus  Wheat  Export Value  1000 US$        135        0   \n",
       "\n",
       "         Y1987    Y1988    Y1989    Y1990  ...    Y2009    Y2010    Y2011  \\\n",
       "5830    351003   355226   657540   870936  ...  1001973   901824  2508660   \n",
       "9409   1369375  1066732  1382707  1664054  ...  3254699  3845506  5709040   \n",
       "10905    40372    78313    79656    53462  ...   144764   202892   248774   \n",
       "17128        0        0        0      291  ...        1        1       18   \n",
       "18465        0        0        0        0  ...       24      746      211   \n",
       "\n",
       "         Y2012    Y2013    Y2014    Y2015    Y2016    Y2017  NoneZero  \n",
       "5830   2937806   725395   603675  1032847  1867747  2361856        32  \n",
       "9409   6765445  5895653  5343407  4371505  3621345  4650327        32  \n",
       "10905   205418   205738   290428   236625   192220   195575        32  \n",
       "17128       15       76       37        0        0        1        19  \n",
       "18465      194      240      280     4934    11986      180        19  \n",
       "\n",
       "[5 rows x 38 columns]"
      ]
     },
     "execution_count": 70,
     "metadata": {},
     "output_type": "execute_result"
    }
   ],
   "source": [
    "# Select wheat export quantity\n",
    "# Select countries with >= 16 years of wheat export quantity data\n",
    "wheat_export_q = items_by_country.loc[(items_by_country['Item']=='Wheat')&(items_by_country['Element']=='Export Value'),:]\n",
    "wheat_export_q_50 = wheat_export_q.loc[wheat_export_q['NoneZero']>=16,:]\n",
    "print(wheat_export_q_50.shape)\n",
    "wheat_export_q_50.head()\n",
    "\n",
    "# 76 countries selected"
   ]
  },
  {
   "cell_type": "code",
   "execution_count": 86,
   "metadata": {},
   "outputs": [
    {
     "name": "stdout",
     "output_type": "stream",
     "text": [
      "(76, 38)\n"
     ]
    },
    {
     "data": {
      "text/html": [
       "<div>\n",
       "<style scoped>\n",
       "    .dataframe tbody tr th:only-of-type {\n",
       "        vertical-align: middle;\n",
       "    }\n",
       "\n",
       "    .dataframe tbody tr th {\n",
       "        vertical-align: top;\n",
       "    }\n",
       "\n",
       "    .dataframe thead th {\n",
       "        text-align: right;\n",
       "    }\n",
       "</style>\n",
       "<table border=\"1\" class=\"dataframe\">\n",
       "  <thead>\n",
       "    <tr style=\"text-align: right;\">\n",
       "      <th></th>\n",
       "      <th>Reporter Countries</th>\n",
       "      <th>Item</th>\n",
       "      <th>Element</th>\n",
       "      <th>Unit</th>\n",
       "      <th>Item Code</th>\n",
       "      <th>Y1986</th>\n",
       "      <th>Y1987</th>\n",
       "      <th>Y1988</th>\n",
       "      <th>Y1989</th>\n",
       "      <th>Y1990</th>\n",
       "      <th>...</th>\n",
       "      <th>Y2009</th>\n",
       "      <th>Y2010</th>\n",
       "      <th>Y2011</th>\n",
       "      <th>Y2012</th>\n",
       "      <th>Y2013</th>\n",
       "      <th>Y2014</th>\n",
       "      <th>Y2015</th>\n",
       "      <th>Y2016</th>\n",
       "      <th>Y2017</th>\n",
       "      <th>NoneZero</th>\n",
       "    </tr>\n",
       "  </thead>\n",
       "  <tbody>\n",
       "    <tr>\n",
       "      <th>5829</th>\n",
       "      <td>Argentina</td>\n",
       "      <td>Wheat</td>\n",
       "      <td>Export Quantity</td>\n",
       "      <td>tonnes</td>\n",
       "      <td>1830</td>\n",
       "      <td>3797839</td>\n",
       "      <td>4192092</td>\n",
       "      <td>3642579</td>\n",
       "      <td>4322854</td>\n",
       "      <td>5836659</td>\n",
       "      <td>...</td>\n",
       "      <td>5118007</td>\n",
       "      <td>4038997</td>\n",
       "      <td>8411139</td>\n",
       "      <td>11461361</td>\n",
       "      <td>2388933</td>\n",
       "      <td>1852412</td>\n",
       "      <td>4311207</td>\n",
       "      <td>10266237</td>\n",
       "      <td>13099133</td>\n",
       "      <td>32</td>\n",
       "    </tr>\n",
       "    <tr>\n",
       "      <th>9408</th>\n",
       "      <td>Australia</td>\n",
       "      <td>Wheat</td>\n",
       "      <td>Export Quantity</td>\n",
       "      <td>tonnes</td>\n",
       "      <td>1770</td>\n",
       "      <td>15833410</td>\n",
       "      <td>14718837</td>\n",
       "      <td>8087692</td>\n",
       "      <td>8508106</td>\n",
       "      <td>11520813</td>\n",
       "      <td>...</td>\n",
       "      <td>14996065</td>\n",
       "      <td>15888041</td>\n",
       "      <td>17657181</td>\n",
       "      <td>23535864</td>\n",
       "      <td>18001620</td>\n",
       "      <td>18282774</td>\n",
       "      <td>17053209</td>\n",
       "      <td>16148015</td>\n",
       "      <td>22357824</td>\n",
       "      <td>32</td>\n",
       "    </tr>\n",
       "    <tr>\n",
       "      <th>10904</th>\n",
       "      <td>Austria</td>\n",
       "      <td>Wheat</td>\n",
       "      <td>Export Quantity</td>\n",
       "      <td>tonnes</td>\n",
       "      <td>1185</td>\n",
       "      <td>280176</td>\n",
       "      <td>476207</td>\n",
       "      <td>799823</td>\n",
       "      <td>425824</td>\n",
       "      <td>423985</td>\n",
       "      <td>...</td>\n",
       "      <td>544203</td>\n",
       "      <td>710046</td>\n",
       "      <td>619754</td>\n",
       "      <td>587835</td>\n",
       "      <td>543329</td>\n",
       "      <td>880505</td>\n",
       "      <td>825290</td>\n",
       "      <td>741324</td>\n",
       "      <td>730976</td>\n",
       "      <td>32</td>\n",
       "    </tr>\n",
       "    <tr>\n",
       "      <th>17127</th>\n",
       "      <td>Barbados</td>\n",
       "      <td>Wheat</td>\n",
       "      <td>Export Quantity</td>\n",
       "      <td>tonnes</td>\n",
       "      <td>135</td>\n",
       "      <td>3</td>\n",
       "      <td>1</td>\n",
       "      <td>0</td>\n",
       "      <td>0</td>\n",
       "      <td>1500</td>\n",
       "      <td>...</td>\n",
       "      <td>1</td>\n",
       "      <td>1</td>\n",
       "      <td>21</td>\n",
       "      <td>39</td>\n",
       "      <td>199</td>\n",
       "      <td>110</td>\n",
       "      <td>0</td>\n",
       "      <td>0</td>\n",
       "      <td>0</td>\n",
       "      <td>22</td>\n",
       "    </tr>\n",
       "    <tr>\n",
       "      <th>18464</th>\n",
       "      <td>Belarus</td>\n",
       "      <td>Wheat</td>\n",
       "      <td>Export Quantity</td>\n",
       "      <td>tonnes</td>\n",
       "      <td>135</td>\n",
       "      <td>0</td>\n",
       "      <td>0</td>\n",
       "      <td>0</td>\n",
       "      <td>0</td>\n",
       "      <td>0</td>\n",
       "      <td>...</td>\n",
       "      <td>45</td>\n",
       "      <td>4836</td>\n",
       "      <td>377</td>\n",
       "      <td>208</td>\n",
       "      <td>303</td>\n",
       "      <td>388</td>\n",
       "      <td>35144</td>\n",
       "      <td>91658</td>\n",
       "      <td>378</td>\n",
       "      <td>19</td>\n",
       "    </tr>\n",
       "  </tbody>\n",
       "</table>\n",
       "<p>5 rows × 38 columns</p>\n",
       "</div>"
      ],
      "text/plain": [
       "      Reporter Countries   Item          Element    Unit  Item Code     Y1986  \\\n",
       "5829           Argentina  Wheat  Export Quantity  tonnes       1830   3797839   \n",
       "9408           Australia  Wheat  Export Quantity  tonnes       1770  15833410   \n",
       "10904            Austria  Wheat  Export Quantity  tonnes       1185    280176   \n",
       "17127           Barbados  Wheat  Export Quantity  tonnes        135         3   \n",
       "18464            Belarus  Wheat  Export Quantity  tonnes        135         0   \n",
       "\n",
       "          Y1987    Y1988    Y1989     Y1990  ...     Y2009     Y2010  \\\n",
       "5829    4192092  3642579  4322854   5836659  ...   5118007   4038997   \n",
       "9408   14718837  8087692  8508106  11520813  ...  14996065  15888041   \n",
       "10904    476207   799823   425824    423985  ...    544203    710046   \n",
       "17127         1        0        0      1500  ...         1         1   \n",
       "18464         0        0        0         0  ...        45      4836   \n",
       "\n",
       "          Y2011     Y2012     Y2013     Y2014     Y2015     Y2016     Y2017  \\\n",
       "5829    8411139  11461361   2388933   1852412   4311207  10266237  13099133   \n",
       "9408   17657181  23535864  18001620  18282774  17053209  16148015  22357824   \n",
       "10904    619754    587835    543329    880505    825290    741324    730976   \n",
       "17127        21        39       199       110         0         0         0   \n",
       "18464       377       208       303       388     35144     91658       378   \n",
       "\n",
       "       NoneZero  \n",
       "5829         32  \n",
       "9408         32  \n",
       "10904        32  \n",
       "17127        22  \n",
       "18464        19  \n",
       "\n",
       "[5 rows x 38 columns]"
      ]
     },
     "execution_count": 86,
     "metadata": {},
     "output_type": "execute_result"
    }
   ],
   "source": [
    "# Select countries with >= 16 years of wheat export value data\n",
    "wheat_export_value = items_by_country.loc[(items_by_country['Item']=='Wheat')&(items_by_country['Element']=='Export Quantity'),:]\n",
    "wheat_export_value_50 = wheat_export_value.loc[wheat_export_value['NoneZero']>=16,:]\n",
    "print(wheat_export_value_50.shape)\n",
    "wheat_export_value_50.head()\n",
    "\n",
    "# 75 countries were selected"
   ]
  },
  {
   "cell_type": "code",
   "execution_count": 72,
   "metadata": {},
   "outputs": [
    {
     "name": "stdout",
     "output_type": "stream",
     "text": [
      "214508    United States of America\n",
      "169076          Russian Federation\n",
      "40138                       Canada\n",
      "9409                     Australia\n",
      "77138                       France\n",
      "208674                     Ukraine\n",
      "5830                     Argentina\n",
      "83516                      Germany\n",
      "167644                     Romania\n",
      "33153                     Bulgaria\n",
      "Name: Reporter Countries, dtype: object\n"
     ]
    }
   ],
   "source": [
    "print(wheat_export_value_50.sort_values(by='Y2017',ascending=False)['Reporter Countries'][:10])"
   ]
  },
  {
   "cell_type": "code",
   "execution_count": 87,
   "metadata": {},
   "outputs": [],
   "source": [
    "# Reshape data from wide to long by years \n",
    "wheat_long = wheat_export_value_50.melt(['Reporter Countries'],years,'year','value')"
   ]
  },
  {
   "cell_type": "code",
   "execution_count": 88,
   "metadata": {},
   "outputs": [
    {
     "data": {
      "text/html": [
       "<div>\n",
       "<style scoped>\n",
       "    .dataframe tbody tr th:only-of-type {\n",
       "        vertical-align: middle;\n",
       "    }\n",
       "\n",
       "    .dataframe tbody tr th {\n",
       "        vertical-align: top;\n",
       "    }\n",
       "\n",
       "    .dataframe thead th {\n",
       "        text-align: right;\n",
       "    }\n",
       "</style>\n",
       "<table border=\"1\" class=\"dataframe\">\n",
       "  <thead>\n",
       "    <tr style=\"text-align: right;\">\n",
       "      <th></th>\n",
       "      <th>Reporter Countries</th>\n",
       "      <th>year</th>\n",
       "      <th>value</th>\n",
       "    </tr>\n",
       "  </thead>\n",
       "  <tbody>\n",
       "    <tr>\n",
       "      <th>0</th>\n",
       "      <td>Argentina</td>\n",
       "      <td>Y1986</td>\n",
       "      <td>3797839</td>\n",
       "    </tr>\n",
       "    <tr>\n",
       "      <th>1</th>\n",
       "      <td>Australia</td>\n",
       "      <td>Y1986</td>\n",
       "      <td>15833410</td>\n",
       "    </tr>\n",
       "    <tr>\n",
       "      <th>2</th>\n",
       "      <td>Austria</td>\n",
       "      <td>Y1986</td>\n",
       "      <td>280176</td>\n",
       "    </tr>\n",
       "    <tr>\n",
       "      <th>3</th>\n",
       "      <td>Barbados</td>\n",
       "      <td>Y1986</td>\n",
       "      <td>3</td>\n",
       "    </tr>\n",
       "    <tr>\n",
       "      <th>4</th>\n",
       "      <td>Belarus</td>\n",
       "      <td>Y1986</td>\n",
       "      <td>0</td>\n",
       "    </tr>\n",
       "  </tbody>\n",
       "</table>\n",
       "</div>"
      ],
      "text/plain": [
       "  Reporter Countries   year     value\n",
       "0          Argentina  Y1986   3797839\n",
       "1          Australia  Y1986  15833410\n",
       "2            Austria  Y1986    280176\n",
       "3           Barbados  Y1986         3\n",
       "4            Belarus  Y1986         0"
      ]
     },
     "execution_count": 88,
     "metadata": {},
     "output_type": "execute_result"
    }
   ],
   "source": [
    "wheat_long.head()"
   ]
  },
  {
   "cell_type": "code",
   "execution_count": 89,
   "metadata": {},
   "outputs": [],
   "source": [
    "# Convert df to time series\n",
    "wheat_long['year'] = wheat_long['year'].map(lambda x: x.lstrip('Y')) # strip Y from year names for easy converting to ts\n",
    "wheat_long.year = pd.to_datetime(wheat_long.year)"
   ]
  },
  {
   "cell_type": "code",
   "execution_count": 90,
   "metadata": {},
   "outputs": [
    {
     "data": {
      "text/html": [
       "<div>\n",
       "<style scoped>\n",
       "    .dataframe tbody tr th:only-of-type {\n",
       "        vertical-align: middle;\n",
       "    }\n",
       "\n",
       "    .dataframe tbody tr th {\n",
       "        vertical-align: top;\n",
       "    }\n",
       "\n",
       "    .dataframe thead th {\n",
       "        text-align: right;\n",
       "    }\n",
       "</style>\n",
       "<table border=\"1\" class=\"dataframe\">\n",
       "  <thead>\n",
       "    <tr style=\"text-align: right;\">\n",
       "      <th></th>\n",
       "      <th>Reporter Countries</th>\n",
       "      <th>year</th>\n",
       "      <th>value</th>\n",
       "    </tr>\n",
       "  </thead>\n",
       "  <tbody>\n",
       "    <tr>\n",
       "      <th>0</th>\n",
       "      <td>Argentina</td>\n",
       "      <td>1986-01-01</td>\n",
       "      <td>3797839</td>\n",
       "    </tr>\n",
       "    <tr>\n",
       "      <th>1</th>\n",
       "      <td>Australia</td>\n",
       "      <td>1986-01-01</td>\n",
       "      <td>15833410</td>\n",
       "    </tr>\n",
       "    <tr>\n",
       "      <th>2</th>\n",
       "      <td>Austria</td>\n",
       "      <td>1986-01-01</td>\n",
       "      <td>280176</td>\n",
       "    </tr>\n",
       "    <tr>\n",
       "      <th>3</th>\n",
       "      <td>Barbados</td>\n",
       "      <td>1986-01-01</td>\n",
       "      <td>3</td>\n",
       "    </tr>\n",
       "    <tr>\n",
       "      <th>4</th>\n",
       "      <td>Belarus</td>\n",
       "      <td>1986-01-01</td>\n",
       "      <td>0</td>\n",
       "    </tr>\n",
       "  </tbody>\n",
       "</table>\n",
       "</div>"
      ],
      "text/plain": [
       "  Reporter Countries       year     value\n",
       "0          Argentina 1986-01-01   3797839\n",
       "1          Australia 1986-01-01  15833410\n",
       "2            Austria 1986-01-01    280176\n",
       "3           Barbados 1986-01-01         3\n",
       "4            Belarus 1986-01-01         0"
      ]
     },
     "execution_count": 90,
     "metadata": {},
     "output_type": "execute_result"
    }
   ],
   "source": [
    "wheat_long.head()"
   ]
  },
  {
   "cell_type": "code",
   "execution_count": 91,
   "metadata": {},
   "outputs": [],
   "source": [
    "# Reshape data from long to wide, by countries\n",
    "wheat_wide = wheat_long.pivot(index='year',columns='Reporter Countries',values='value')"
   ]
  },
  {
   "cell_type": "code",
   "execution_count": 92,
   "metadata": {
    "scrolled": false
   },
   "outputs": [
    {
     "data": {
      "text/html": [
       "<div>\n",
       "<style scoped>\n",
       "    .dataframe tbody tr th:only-of-type {\n",
       "        vertical-align: middle;\n",
       "    }\n",
       "\n",
       "    .dataframe tbody tr th {\n",
       "        vertical-align: top;\n",
       "    }\n",
       "\n",
       "    .dataframe thead th {\n",
       "        text-align: right;\n",
       "    }\n",
       "</style>\n",
       "<table border=\"1\" class=\"dataframe\">\n",
       "  <thead>\n",
       "    <tr style=\"text-align: right;\">\n",
       "      <th>Reporter Countries</th>\n",
       "      <th>Argentina</th>\n",
       "      <th>Australia</th>\n",
       "      <th>Austria</th>\n",
       "      <th>Barbados</th>\n",
       "      <th>Belarus</th>\n",
       "      <th>Belgium</th>\n",
       "      <th>Brazil</th>\n",
       "      <th>Bulgaria</th>\n",
       "      <th>Canada</th>\n",
       "      <th>Chile</th>\n",
       "      <th>...</th>\n",
       "      <th>Turkey</th>\n",
       "      <th>Uganda</th>\n",
       "      <th>Ukraine</th>\n",
       "      <th>United Kingdom</th>\n",
       "      <th>United Republic of Tanzania</th>\n",
       "      <th>United States of America</th>\n",
       "      <th>Uruguay</th>\n",
       "      <th>Yemen</th>\n",
       "      <th>Zambia</th>\n",
       "      <th>Zimbabwe</th>\n",
       "    </tr>\n",
       "    <tr>\n",
       "      <th>year</th>\n",
       "      <th></th>\n",
       "      <th></th>\n",
       "      <th></th>\n",
       "      <th></th>\n",
       "      <th></th>\n",
       "      <th></th>\n",
       "      <th></th>\n",
       "      <th></th>\n",
       "      <th></th>\n",
       "      <th></th>\n",
       "      <th></th>\n",
       "      <th></th>\n",
       "      <th></th>\n",
       "      <th></th>\n",
       "      <th></th>\n",
       "      <th></th>\n",
       "      <th></th>\n",
       "      <th></th>\n",
       "      <th></th>\n",
       "      <th></th>\n",
       "      <th></th>\n",
       "    </tr>\n",
       "  </thead>\n",
       "  <tbody>\n",
       "    <tr>\n",
       "      <th>1986-01-01</th>\n",
       "      <td>3797839</td>\n",
       "      <td>15833410</td>\n",
       "      <td>280176</td>\n",
       "      <td>3</td>\n",
       "      <td>0</td>\n",
       "      <td>0</td>\n",
       "      <td>0</td>\n",
       "      <td>299820</td>\n",
       "      <td>15878633</td>\n",
       "      <td>21</td>\n",
       "      <td>...</td>\n",
       "      <td>16214</td>\n",
       "      <td>0</td>\n",
       "      <td>0</td>\n",
       "      <td>3249642</td>\n",
       "      <td>0</td>\n",
       "      <td>24437978</td>\n",
       "      <td>0</td>\n",
       "      <td>0</td>\n",
       "      <td>0</td>\n",
       "      <td>1</td>\n",
       "    </tr>\n",
       "    <tr>\n",
       "      <th>1987-01-01</th>\n",
       "      <td>4192092</td>\n",
       "      <td>14718837</td>\n",
       "      <td>476207</td>\n",
       "      <td>1</td>\n",
       "      <td>0</td>\n",
       "      <td>0</td>\n",
       "      <td>0</td>\n",
       "      <td>271812</td>\n",
       "      <td>21920644</td>\n",
       "      <td>23749</td>\n",
       "      <td>...</td>\n",
       "      <td>296556</td>\n",
       "      <td>0</td>\n",
       "      <td>0</td>\n",
       "      <td>3637242</td>\n",
       "      <td>0</td>\n",
       "      <td>30435797</td>\n",
       "      <td>0</td>\n",
       "      <td>0</td>\n",
       "      <td>0</td>\n",
       "      <td>0</td>\n",
       "    </tr>\n",
       "    <tr>\n",
       "      <th>1988-01-01</th>\n",
       "      <td>3642579</td>\n",
       "      <td>8087692</td>\n",
       "      <td>799823</td>\n",
       "      <td>0</td>\n",
       "      <td>0</td>\n",
       "      <td>0</td>\n",
       "      <td>0</td>\n",
       "      <td>390769</td>\n",
       "      <td>19986518</td>\n",
       "      <td>83</td>\n",
       "      <td>...</td>\n",
       "      <td>1739493</td>\n",
       "      <td>0</td>\n",
       "      <td>0</td>\n",
       "      <td>1694316</td>\n",
       "      <td>0</td>\n",
       "      <td>40275216</td>\n",
       "      <td>0</td>\n",
       "      <td>0</td>\n",
       "      <td>0</td>\n",
       "      <td>0</td>\n",
       "    </tr>\n",
       "    <tr>\n",
       "      <th>1989-01-01</th>\n",
       "      <td>4322854</td>\n",
       "      <td>8508106</td>\n",
       "      <td>425824</td>\n",
       "      <td>0</td>\n",
       "      <td>0</td>\n",
       "      <td>0</td>\n",
       "      <td>0</td>\n",
       "      <td>0</td>\n",
       "      <td>11202955</td>\n",
       "      <td>98</td>\n",
       "      <td>...</td>\n",
       "      <td>539525</td>\n",
       "      <td>0</td>\n",
       "      <td>0</td>\n",
       "      <td>2907822</td>\n",
       "      <td>0</td>\n",
       "      <td>36519094</td>\n",
       "      <td>165126</td>\n",
       "      <td>0</td>\n",
       "      <td>0</td>\n",
       "      <td>0</td>\n",
       "    </tr>\n",
       "    <tr>\n",
       "      <th>1990-01-01</th>\n",
       "      <td>5836659</td>\n",
       "      <td>11520813</td>\n",
       "      <td>423985</td>\n",
       "      <td>1500</td>\n",
       "      <td>0</td>\n",
       "      <td>0</td>\n",
       "      <td>0</td>\n",
       "      <td>0</td>\n",
       "      <td>17849160</td>\n",
       "      <td>1027</td>\n",
       "      <td>...</td>\n",
       "      <td>24972</td>\n",
       "      <td>0</td>\n",
       "      <td>0</td>\n",
       "      <td>4400675</td>\n",
       "      <td>0</td>\n",
       "      <td>27389380</td>\n",
       "      <td>163867</td>\n",
       "      <td>0</td>\n",
       "      <td>0</td>\n",
       "      <td>0</td>\n",
       "    </tr>\n",
       "  </tbody>\n",
       "</table>\n",
       "<p>5 rows × 76 columns</p>\n",
       "</div>"
      ],
      "text/plain": [
       "Reporter Countries  Argentina  Australia  Austria  Barbados  Belarus  Belgium  \\\n",
       "year                                                                            \n",
       "1986-01-01            3797839   15833410   280176         3        0        0   \n",
       "1987-01-01            4192092   14718837   476207         1        0        0   \n",
       "1988-01-01            3642579    8087692   799823         0        0        0   \n",
       "1989-01-01            4322854    8508106   425824         0        0        0   \n",
       "1990-01-01            5836659   11520813   423985      1500        0        0   \n",
       "\n",
       "Reporter Countries  Brazil  Bulgaria    Canada  Chile  ...   Turkey  Uganda  \\\n",
       "year                                                   ...                    \n",
       "1986-01-01               0    299820  15878633     21  ...    16214       0   \n",
       "1987-01-01               0    271812  21920644  23749  ...   296556       0   \n",
       "1988-01-01               0    390769  19986518     83  ...  1739493       0   \n",
       "1989-01-01               0         0  11202955     98  ...   539525       0   \n",
       "1990-01-01               0         0  17849160   1027  ...    24972       0   \n",
       "\n",
       "Reporter Countries  Ukraine  United Kingdom  United Republic of Tanzania  \\\n",
       "year                                                                       \n",
       "1986-01-01                0         3249642                            0   \n",
       "1987-01-01                0         3637242                            0   \n",
       "1988-01-01                0         1694316                            0   \n",
       "1989-01-01                0         2907822                            0   \n",
       "1990-01-01                0         4400675                            0   \n",
       "\n",
       "Reporter Countries  United States of America  Uruguay  Yemen  Zambia  Zimbabwe  \n",
       "year                                                                            \n",
       "1986-01-01                          24437978        0      0       0         1  \n",
       "1987-01-01                          30435797        0      0       0         0  \n",
       "1988-01-01                          40275216        0      0       0         0  \n",
       "1989-01-01                          36519094   165126      0       0         0  \n",
       "1990-01-01                          27389380   163867      0       0         0  \n",
       "\n",
       "[5 rows x 76 columns]"
      ]
     },
     "execution_count": 92,
     "metadata": {},
     "output_type": "execute_result"
    }
   ],
   "source": [
    "wheat_wide.head()"
   ]
  },
  {
   "cell_type": "code",
   "execution_count": 301,
   "metadata": {},
   "outputs": [],
   "source": [
    "wheat_wide.to_csv('../data/processed/wheat_export_quantity_50.csv')"
   ]
  },
  {
   "cell_type": "code",
   "execution_count": 93,
   "metadata": {},
   "outputs": [
    {
     "data": {
      "image/png": "[encoded data removed]",
      "text/plain": [
       "<Figure size 432x288 with 1 Axes>"
      ]
     },
     "metadata": {
      "needs_background": "light"
     },
     "output_type": "display_data"
    }
   ],
   "source": [
    "# Visualize data by countries \n",
    "# This data now contains zeros (potential missing values)\n",
    "wheat_wide.plot(legend=False)\n",
    "#plt.title('Annual wheat export value by countries (1986 - 2017)')\n",
    "plt.ylabel('Annual wheat export quantity (tonnes)')\n",
    "plt.show()"
   ]
  },
  {
   "cell_type": "code",
   "execution_count": 81,
   "metadata": {},
   "outputs": [
    {
     "data": {
      "text/html": [
       "<div>\n",
       "<style scoped>\n",
       "    .dataframe tbody tr th:only-of-type {\n",
       "        vertical-align: middle;\n",
       "    }\n",
       "\n",
       "    .dataframe tbody tr th {\n",
       "        vertical-align: top;\n",
       "    }\n",
       "\n",
       "    .dataframe thead th {\n",
       "        text-align: right;\n",
       "    }\n",
       "</style>\n",
       "<table border=\"1\" class=\"dataframe\">\n",
       "  <thead>\n",
       "    <tr style=\"text-align: right;\">\n",
       "      <th>Reporter Countries</th>\n",
       "      <th>Argentina</th>\n",
       "      <th>Australia</th>\n",
       "      <th>Austria</th>\n",
       "      <th>Barbados</th>\n",
       "      <th>Belarus</th>\n",
       "      <th>Belgium</th>\n",
       "      <th>Brazil</th>\n",
       "      <th>Bulgaria</th>\n",
       "      <th>Canada</th>\n",
       "      <th>Chile</th>\n",
       "      <th>...</th>\n",
       "      <th>Turkey</th>\n",
       "      <th>Uganda</th>\n",
       "      <th>Ukraine</th>\n",
       "      <th>United Kingdom</th>\n",
       "      <th>United Republic of Tanzania</th>\n",
       "      <th>United States of America</th>\n",
       "      <th>Uruguay</th>\n",
       "      <th>Yemen</th>\n",
       "      <th>Zambia</th>\n",
       "      <th>Zimbabwe</th>\n",
       "    </tr>\n",
       "    <tr>\n",
       "      <th>year</th>\n",
       "      <th></th>\n",
       "      <th></th>\n",
       "      <th></th>\n",
       "      <th></th>\n",
       "      <th></th>\n",
       "      <th></th>\n",
       "      <th></th>\n",
       "      <th></th>\n",
       "      <th></th>\n",
       "      <th></th>\n",
       "      <th></th>\n",
       "      <th></th>\n",
       "      <th></th>\n",
       "      <th></th>\n",
       "      <th></th>\n",
       "      <th></th>\n",
       "      <th></th>\n",
       "      <th></th>\n",
       "      <th></th>\n",
       "      <th></th>\n",
       "      <th></th>\n",
       "    </tr>\n",
       "  </thead>\n",
       "  <tbody>\n",
       "    <tr>\n",
       "      <th>1986-01-01</th>\n",
       "      <td>374614</td>\n",
       "      <td>1837595</td>\n",
       "      <td>32330</td>\n",
       "      <td>1.0</td>\n",
       "      <td>NaN</td>\n",
       "      <td>NaN</td>\n",
       "      <td>NaN</td>\n",
       "      <td>41970.000000</td>\n",
       "      <td>2030112</td>\n",
       "      <td>10.0</td>\n",
       "      <td>...</td>\n",
       "      <td>1836</td>\n",
       "      <td>NaN</td>\n",
       "      <td>NaN</td>\n",
       "      <td>539790</td>\n",
       "      <td>NaN</td>\n",
       "      <td>2996911</td>\n",
       "      <td>NaN</td>\n",
       "      <td>NaN</td>\n",
       "      <td>NaN</td>\n",
       "      <td>NaN</td>\n",
       "    </tr>\n",
       "    <tr>\n",
       "      <th>1987-01-01</th>\n",
       "      <td>351003</td>\n",
       "      <td>1369375</td>\n",
       "      <td>40372</td>\n",
       "      <td>73.5</td>\n",
       "      <td>NaN</td>\n",
       "      <td>NaN</td>\n",
       "      <td>NaN</td>\n",
       "      <td>52535.500000</td>\n",
       "      <td>2409105</td>\n",
       "      <td>2421.0</td>\n",
       "      <td>...</td>\n",
       "      <td>28298</td>\n",
       "      <td>NaN</td>\n",
       "      <td>NaN</td>\n",
       "      <td>436869</td>\n",
       "      <td>NaN</td>\n",
       "      <td>3024544</td>\n",
       "      <td>NaN</td>\n",
       "      <td>NaN</td>\n",
       "      <td>NaN</td>\n",
       "      <td>8.0</td>\n",
       "    </tr>\n",
       "    <tr>\n",
       "      <th>1988-01-01</th>\n",
       "      <td>355226</td>\n",
       "      <td>1066732</td>\n",
       "      <td>78313</td>\n",
       "      <td>146.0</td>\n",
       "      <td>NaN</td>\n",
       "      <td>NaN</td>\n",
       "      <td>NaN</td>\n",
       "      <td>63101.000000</td>\n",
       "      <td>3596008</td>\n",
       "      <td>18.0</td>\n",
       "      <td>...</td>\n",
       "      <td>173522</td>\n",
       "      <td>NaN</td>\n",
       "      <td>NaN</td>\n",
       "      <td>246768</td>\n",
       "      <td>NaN</td>\n",
       "      <td>4858495</td>\n",
       "      <td>NaN</td>\n",
       "      <td>NaN</td>\n",
       "      <td>NaN</td>\n",
       "      <td>65.0</td>\n",
       "    </tr>\n",
       "    <tr>\n",
       "      <th>1989-01-01</th>\n",
       "      <td>657540</td>\n",
       "      <td>1382707</td>\n",
       "      <td>79656</td>\n",
       "      <td>218.5</td>\n",
       "      <td>NaN</td>\n",
       "      <td>NaN</td>\n",
       "      <td>NaN</td>\n",
       "      <td>61489.923077</td>\n",
       "      <td>2173767</td>\n",
       "      <td>25.0</td>\n",
       "      <td>...</td>\n",
       "      <td>67682</td>\n",
       "      <td>NaN</td>\n",
       "      <td>NaN</td>\n",
       "      <td>462332</td>\n",
       "      <td>NaN</td>\n",
       "      <td>5905543</td>\n",
       "      <td>24194.0</td>\n",
       "      <td>NaN</td>\n",
       "      <td>NaN</td>\n",
       "      <td>122.0</td>\n",
       "    </tr>\n",
       "    <tr>\n",
       "      <th>1990-01-01</th>\n",
       "      <td>870936</td>\n",
       "      <td>1664054</td>\n",
       "      <td>53462</td>\n",
       "      <td>291.0</td>\n",
       "      <td>NaN</td>\n",
       "      <td>NaN</td>\n",
       "      <td>NaN</td>\n",
       "      <td>59878.846154</td>\n",
       "      <td>2847737</td>\n",
       "      <td>356.0</td>\n",
       "      <td>...</td>\n",
       "      <td>4382</td>\n",
       "      <td>NaN</td>\n",
       "      <td>NaN</td>\n",
       "      <td>746334</td>\n",
       "      <td>NaN</td>\n",
       "      <td>3866314</td>\n",
       "      <td>22861.0</td>\n",
       "      <td>NaN</td>\n",
       "      <td>NaN</td>\n",
       "      <td>179.0</td>\n",
       "    </tr>\n",
       "  </tbody>\n",
       "</table>\n",
       "<p>5 rows × 75 columns</p>\n",
       "</div>"
      ],
      "text/plain": [
       "Reporter Countries  Argentina  Australia  Austria  Barbados  Belarus  Belgium  \\\n",
       "year                                                                            \n",
       "1986-01-01             374614    1837595    32330       1.0      NaN      NaN   \n",
       "1987-01-01             351003    1369375    40372      73.5      NaN      NaN   \n",
       "1988-01-01             355226    1066732    78313     146.0      NaN      NaN   \n",
       "1989-01-01             657540    1382707    79656     218.5      NaN      NaN   \n",
       "1990-01-01             870936    1664054    53462     291.0      NaN      NaN   \n",
       "\n",
       "Reporter Countries  Brazil      Bulgaria   Canada   Chile  ...  Turkey  \\\n",
       "year                                                       ...           \n",
       "1986-01-01             NaN  41970.000000  2030112    10.0  ...    1836   \n",
       "1987-01-01             NaN  52535.500000  2409105  2421.0  ...   28298   \n",
       "1988-01-01             NaN  63101.000000  3596008    18.0  ...  173522   \n",
       "1989-01-01             NaN  61489.923077  2173767    25.0  ...   67682   \n",
       "1990-01-01             NaN  59878.846154  2847737   356.0  ...    4382   \n",
       "\n",
       "Reporter Countries  Uganda  Ukraine  United Kingdom  \\\n",
       "year                                                  \n",
       "1986-01-01             NaN      NaN          539790   \n",
       "1987-01-01             NaN      NaN          436869   \n",
       "1988-01-01             NaN      NaN          246768   \n",
       "1989-01-01             NaN      NaN          462332   \n",
       "1990-01-01             NaN      NaN          746334   \n",
       "\n",
       "Reporter Countries  United Republic of Tanzania  United States of America  \\\n",
       "year                                                                        \n",
       "1986-01-01                                  NaN                   2996911   \n",
       "1987-01-01                                  NaN                   3024544   \n",
       "1988-01-01                                  NaN                   4858495   \n",
       "1989-01-01                                  NaN                   5905543   \n",
       "1990-01-01                                  NaN                   3866314   \n",
       "\n",
       "Reporter Countries  Uruguay  Yemen  Zambia  Zimbabwe  \n",
       "year                                                  \n",
       "1986-01-01              NaN    NaN     NaN       NaN  \n",
       "1987-01-01              NaN    NaN     NaN       8.0  \n",
       "1988-01-01              NaN    NaN     NaN      65.0  \n",
       "1989-01-01          24194.0    NaN     NaN     122.0  \n",
       "1990-01-01          22861.0    NaN     NaN     179.0  \n",
       "\n",
       "[5 rows x 75 columns]"
      ]
     },
     "execution_count": 81,
     "metadata": {},
     "output_type": "execute_result"
    }
   ],
   "source": [
    "# # Interpolate outliers\n",
    "wheat_wide = wheat_wide.replace(0,np.nan) # Replace zeros with nans\n",
    "\n",
    "# # Interpolate use linear method\n",
    "wheat_wide_interp = wheat_wide.interpolate('linear')\n",
    "wheat_wide_interp.head()"
   ]
  },
  {
   "cell_type": "markdown",
   "metadata": {},
   "source": [
    "After linear interpolation, there are still many Nans because for some countries the first year's data are zeros."
   ]
  },
  {
   "cell_type": "markdown",
   "metadata": {},
   "source": [
    "#### 3) Linear regression model with raw time series data (baseline model)"
   ]
  },
  {
   "cell_type": "code",
   "execution_count": 46,
   "metadata": {},
   "outputs": [],
   "source": [
    "from sklearn.linear_model import Ridge\n",
    "from sklearn.model_selection import train_test_split, cross_val_score, TimeSeriesSplit\n",
    "from sklearn.metrics import r2_score"
   ]
  },
  {
   "cell_type": "markdown",
   "metadata": {},
   "source": [
    "#### Below is a test approach which we did not end up pursue further. Here countries were used as samples"
   ]
  },
  {
   "cell_type": "code",
   "execution_count": 47,
   "metadata": {},
   "outputs": [
    {
     "data": {
      "text/html": [
       "<div>\n",
       "<style scoped>\n",
       "    .dataframe tbody tr th:only-of-type {\n",
       "        vertical-align: middle;\n",
       "    }\n",
       "\n",
       "    .dataframe tbody tr th {\n",
       "        vertical-align: top;\n",
       "    }\n",
       "\n",
       "    .dataframe thead th {\n",
       "        text-align: right;\n",
       "    }\n",
       "</style>\n",
       "<table border=\"1\" class=\"dataframe\">\n",
       "  <thead>\n",
       "    <tr style=\"text-align: right;\">\n",
       "      <th>Reporter Countries</th>\n",
       "      <th>Finland</th>\n",
       "    </tr>\n",
       "    <tr>\n",
       "      <th>year</th>\n",
       "      <th></th>\n",
       "    </tr>\n",
       "  </thead>\n",
       "  <tbody>\n",
       "    <tr>\n",
       "      <th>1986-01-01</th>\n",
       "      <td>5019.0</td>\n",
       "    </tr>\n",
       "    <tr>\n",
       "      <th>1987-01-01</th>\n",
       "      <td>10491.0</td>\n",
       "    </tr>\n",
       "    <tr>\n",
       "      <th>1988-01-01</th>\n",
       "      <td>438.0</td>\n",
       "    </tr>\n",
       "    <tr>\n",
       "      <th>1989-01-01</th>\n",
       "      <td>8460.0</td>\n",
       "    </tr>\n",
       "    <tr>\n",
       "      <th>1990-01-01</th>\n",
       "      <td>3401.0</td>\n",
       "    </tr>\n",
       "  </tbody>\n",
       "</table>\n",
       "</div>"
      ],
      "text/plain": [
       "Reporter Countries  Finland\n",
       "year                       \n",
       "1986-01-01           5019.0\n",
       "1987-01-01          10491.0\n",
       "1988-01-01            438.0\n",
       "1989-01-01           8460.0\n",
       "1990-01-01           3401.0"
      ]
     },
     "execution_count": 47,
     "metadata": {},
     "output_type": "execute_result"
    }
   ],
   "source": [
    "# Randomly select a country as y, the rest countries as X \n",
    "# Use countries in X to predict the wheat export of country in y at a timestamp\n",
    "country = wheat_wide.sample(1,axis=1, random_state=1)\n",
    "country.head()"
   ]
  },
  {
   "cell_type": "code",
   "execution_count": 279,
   "metadata": {},
   "outputs": [
    {
     "name": "stdout",
     "output_type": "stream",
     "text": [
      "(32, 74)\n",
      "(32, 1)\n"
     ]
    }
   ],
   "source": [
    "X = wheat_wide.drop(country, axis=1).values\n",
    "y = country.values\n",
    "print(X.shape)\n",
    "print(y.shape)"
   ]
  },
  {
   "cell_type": "code",
   "execution_count": 49,
   "metadata": {},
   "outputs": [
    {
     "name": "stdout",
     "output_type": "stream",
     "text": [
      "[  -82.41073431 -1475.51969324   -13.17808944    -4.20519267\n",
      "    -2.61037821]\n"
     ]
    }
   ],
   "source": [
    "# Cross validation\n",
    "cv = TimeSeriesSplit(n_splits=5)\n",
    "scores = cross_val_score(Ridge(), X, y, cv=cv)\n",
    "print(scores)"
   ]
  },
  {
   "cell_type": "markdown",
   "metadata": {},
   "source": [
    "### Problem: too few data points per sample (country)"
   ]
  },
  {
   "cell_type": "code",
   "execution_count": 280,
   "metadata": {},
   "outputs": [
    {
     "name": "stdout",
     "output_type": "stream",
     "text": [
      "-4.159187817069363\n"
     ]
    }
   ],
   "source": [
    "# Split data into training and test sets\n",
    "X_train, X_test, y_train, y_test = train_test_split(X,y, \n",
    "                                                    train_size=.6, shuffle=False, random_state=1)\n",
    "\n",
    "model = Ridge()\n",
    "model.fit(X_train,y_train)\n",
    "predictions = model.predict(X_test)\n",
    "score = r2_score(y_test,predictions)\n",
    "print(score)"
   ]
  },
  {
   "cell_type": "code",
   "execution_count": 283,
   "metadata": {
    "scrolled": true
   },
   "outputs": [
    {
     "data": {
      "image/png": "[encoded data removed]",
      "text/plain": [
       "<Figure size 720x360 with 1 Axes>"
      ]
     },
     "metadata": {
      "needs_background": "light"
     },
     "output_type": "display_data"
    }
   ],
   "source": [
    "# Visualize prediction results\n",
    "fig, ax = plt.subplots(figsize=(10, 5))\n",
    "ax.plot(y_test, color='k', lw=3)\n",
    "ax.plot(predictions, color='r', lw=2)\n",
    "plt.title('MSE: %.2E'% mean_squared_error(predictions, y_test))\n",
    "plt.show()"
   ]
  },
  {
   "cell_type": "markdown",
   "metadata": {},
   "source": [
    "Summary: Not surprisingly, using raw data the baseline model performance is not satisfying.  \n",
    "Next we consider using ARIMA model for forecasting export of a single item for a specific country."
   ]
  },
  {
   "cell_type": "markdown",
   "metadata": {},
   "source": [
    "### ARIMA model"
   ]
  },
  {
   "cell_type": "code",
   "execution_count": 92,
   "metadata": {},
   "outputs": [],
   "source": [
    "from statsmodels.tsa.stattools import adfuller\n",
    "from statsmodels.tsa.arima_model import ARIMA\n",
    "from statsmodels.tsa.stattools import acf, pacf\n",
    "from statsmodels.graphics.tsaplots import plot_acf,plot_pacf"
   ]
  },
  {
   "cell_type": "code",
   "execution_count": 54,
   "metadata": {},
   "outputs": [
    {
     "data": {
      "text/plain": [
       "<matplotlib.axes._subplots.AxesSubplot at 0x11db94dd8>"
      ]
     },
     "execution_count": 54,
     "metadata": {},
     "output_type": "execute_result"
    },
    {
     "data": {
      "image/png": "[encoded data removed]",
      "text/plain": [
       "<Figure size 432x288 with 1 Axes>"
      ]
     },
     "metadata": {
      "needs_background": "light"
     },
     "output_type": "display_data"
    }
   ],
   "source": [
    "country.plot()"
   ]
  },
  {
   "cell_type": "code",
   "execution_count": 127,
   "metadata": {
    "scrolled": true
   },
   "outputs": [
    {
     "name": "stdout",
     "output_type": "stream",
     "text": [
      "0.7183493610964914\n"
     ]
    }
   ],
   "source": [
    "results = adfuller(country['Finland'].dropna())\n",
    "print(results[1])\n",
    "# Passed Dickey-Fuller test and the series is actually stationary"
   ]
  },
  {
   "cell_type": "code",
   "execution_count": 186,
   "metadata": {},
   "outputs": [
    {
     "data": {
      "text/plain": [
       "<matplotlib.axes._subplots.AxesSubplot at 0x1290f5e10>"
      ]
     },
     "execution_count": 186,
     "metadata": {},
     "output_type": "execute_result"
    },
    {
     "data": {
      "image/png": "[encoded data removed]",
      "text/plain": [
       "<Figure size 432x288 with 1 Axes>"
      ]
     },
     "metadata": {
      "needs_background": "light"
     },
     "output_type": "display_data"
    }
   ],
   "source": [
    "from pandas.plotting import autocorrelation_plot\n",
    "autocorrelation_plot(country['Finland'])"
   ]
  },
  {
   "cell_type": "code",
   "execution_count": 113,
   "metadata": {
    "scrolled": true
   },
   "outputs": [
    {
     "data": {
      "image/png": "[encoded data removed]",
      "text/plain": [
       "<Figure size 720x360 with 2 Axes>"
      ]
     },
     "metadata": {
      "needs_background": "light"
     },
     "output_type": "display_data"
    }
   ],
   "source": [
    "# Check ACF and PACF \n",
    "n = len(country['Finland'])\n",
    "fig, axs = plt.subplots(1,2, figsize=(10,5))\n",
    "\n",
    "plot_pacf(country['Finland'], ax= axs[0])\n",
    "plt.axhline(y=-1.96/np.sqrt(n),linestyle='--')\n",
    "plt.axhline(y=1.96/np.sqrt(n),linestyle='--')\n",
    "\n",
    "plot_acf(country['Finland'], ax= axs[1])\n",
    "plt.show()\n"
   ]
  },
  {
   "cell_type": "markdown",
   "metadata": {},
   "source": [
    "According to the partial autocorrelation function(PACF), data seems to be a AR1 process"
   ]
  },
  {
   "cell_type": "code",
   "execution_count": 290,
   "metadata": {},
   "outputs": [
    {
     "name": "stderr",
     "output_type": "stream",
     "text": [
      "/Users/Sabrina/anaconda3/lib/python3.6/site-packages/statsmodels/tsa/base/tsa_model.py:165: ValueWarning: No frequency information was provided, so inferred frequency AS-JAN will be used.\n",
      "  % freq, ValueWarning)\n"
     ]
    },
    {
     "data": {
      "text/plain": [
       "Text(0.5, 1.0, 'MSE: 9.25E+07')"
      ]
     },
     "execution_count": 290,
     "metadata": {},
     "output_type": "execute_result"
    },
    {
     "data": {
      "image/png": "[encoded data removed]",
      "text/plain": [
       "<Figure size 432x288 with 1 Axes>"
      ]
     },
     "metadata": {
      "needs_background": "light"
     },
     "output_type": "display_data"
    }
   ],
   "source": [
    "# Build a AR model\n",
    "data = country['Finland']\n",
    "model = ARIMA(data, order = (6,0,0))\n",
    "ar_1 = model.fit()\n",
    "plt.plot(data)\n",
    "plt.plot(ar_1.fittedvalues, color='red')\n",
    "plt.title('MSE: %.2E'% mean_squared_error(ar_1.fittedvalues,data))"
   ]
  },
  {
   "cell_type": "code",
   "execution_count": 285,
   "metadata": {},
   "outputs": [
    {
     "name": "stderr",
     "output_type": "stream",
     "text": [
      "/Users/Sabrina/anaconda3/lib/python3.6/site-packages/statsmodels/tsa/base/tsa_model.py:165: ValueWarning: No frequency information was provided, so inferred frequency AS-JAN will be used.\n",
      "  % freq, ValueWarning)\n"
     ]
    },
    {
     "data": {
      "text/plain": [
       "Text(0.5, 1.0, 'MSE: 1.41E+08')"
      ]
     },
     "execution_count": 285,
     "metadata": {},
     "output_type": "execute_result"
    },
    {
     "data": {
      "image/png": "[encoded data removed]",
      "text/plain": [
       "<Figure size 432x288 with 1 Axes>"
      ]
     },
     "metadata": {
      "needs_background": "light"
     },
     "output_type": "display_data"
    }
   ],
   "source": [
    "# Build a MA model\n",
    "data = country['Finland']\n",
    "model = ARIMA(data, order = (0,0,2))\n",
    "ma_1 = model.fit()\n",
    "plt.plot(data)\n",
    "plt.plot(ma_1.fittedvalues, color='red')\n",
    "plt.title('MSE: %.2E'% mean_squared_error(ma_1.fittedvalues,data))"
   ]
  },
  {
   "cell_type": "markdown",
   "metadata": {},
   "source": [
    "AR model performed better and MA model in this case, after trying out a few parameters for each model.  \n",
    "Let's try forecast a few years with AR model."
   ]
  },
  {
   "cell_type": "code",
   "execution_count": 205,
   "metadata": {},
   "outputs": [
    {
     "data": {
      "image/png": "[encoded data removed]",
      "text/plain": [
       "<Figure size 432x288 with 1 Axes>"
      ]
     },
     "metadata": {
      "needs_background": "light"
     },
     "output_type": "display_data"
    }
   ],
   "source": [
    "ar_1.plot_predict(start='1988', end = '2025')\n",
    "plt.show()"
   ]
  },
  {
   "cell_type": "markdown",
   "metadata": {},
   "source": [
    "The prediction looks reasonable. However, this model may be improved with more parameter tuning.  \n",
    "Next: we can create an analysis pipeline which can conduct a gridsearch to estimate best combinations of ARIMA parameters (p,d,q) for a specific item and country."
   ]
  },
  {
   "cell_type": "markdown",
   "metadata": {},
   "source": [
    "#### 4) Feature engineering          \n",
    "\n",
    "We shall first calculate basic features with rolling windows, such as mean, max, min, std.  \n",
    "Then we will use package tsfresh to automatically generate and screen hundreds of features."
   ]
  },
  {
   "cell_type": "code",
   "execution_count": 309,
   "metadata": {},
   "outputs": [
    {
     "data": {
      "text/html": [
       "<div>\n",
       "<style scoped>\n",
       "    .dataframe tbody tr th:only-of-type {\n",
       "        vertical-align: middle;\n",
       "    }\n",
       "\n",
       "    .dataframe tbody tr th {\n",
       "        vertical-align: top;\n",
       "    }\n",
       "\n",
       "    .dataframe thead th {\n",
       "        text-align: right;\n",
       "    }\n",
       "</style>\n",
       "<table border=\"1\" class=\"dataframe\">\n",
       "  <thead>\n",
       "    <tr style=\"text-align: right;\">\n",
       "      <th>Reporter Countries</th>\n",
       "      <th>Argentina</th>\n",
       "      <th>Australia</th>\n",
       "      <th>Austria</th>\n",
       "      <th>Barbados</th>\n",
       "      <th>Belarus</th>\n",
       "      <th>Belgium</th>\n",
       "      <th>Brazil</th>\n",
       "      <th>Bulgaria</th>\n",
       "      <th>Canada</th>\n",
       "      <th>Chile</th>\n",
       "      <th>...</th>\n",
       "      <th>Turkey</th>\n",
       "      <th>Uganda</th>\n",
       "      <th>Ukraine</th>\n",
       "      <th>United Kingdom</th>\n",
       "      <th>United Republic of Tanzania</th>\n",
       "      <th>United States of America</th>\n",
       "      <th>Uruguay</th>\n",
       "      <th>Yemen</th>\n",
       "      <th>Zambia</th>\n",
       "      <th>Zimbabwe</th>\n",
       "    </tr>\n",
       "    <tr>\n",
       "      <th>year</th>\n",
       "      <th></th>\n",
       "      <th></th>\n",
       "      <th></th>\n",
       "      <th></th>\n",
       "      <th></th>\n",
       "      <th></th>\n",
       "      <th></th>\n",
       "      <th></th>\n",
       "      <th></th>\n",
       "      <th></th>\n",
       "      <th></th>\n",
       "      <th></th>\n",
       "      <th></th>\n",
       "      <th></th>\n",
       "      <th></th>\n",
       "      <th></th>\n",
       "      <th></th>\n",
       "      <th></th>\n",
       "      <th></th>\n",
       "      <th></th>\n",
       "      <th></th>\n",
       "    </tr>\n",
       "  </thead>\n",
       "  <tbody>\n",
       "    <tr>\n",
       "      <th>1986-01-01</th>\n",
       "      <td>374614.0</td>\n",
       "      <td>1837595.0</td>\n",
       "      <td>32330.0</td>\n",
       "      <td>1.0</td>\n",
       "      <td>0.0</td>\n",
       "      <td>0.0</td>\n",
       "      <td>0.0</td>\n",
       "      <td>41970.0</td>\n",
       "      <td>2030112.0</td>\n",
       "      <td>10.0</td>\n",
       "      <td>...</td>\n",
       "      <td>1836.0</td>\n",
       "      <td>0.0</td>\n",
       "      <td>0.0</td>\n",
       "      <td>539790.0</td>\n",
       "      <td>0.0</td>\n",
       "      <td>2996911.0</td>\n",
       "      <td>0.0</td>\n",
       "      <td>0.0</td>\n",
       "      <td>0.0</td>\n",
       "      <td>0.0</td>\n",
       "    </tr>\n",
       "    <tr>\n",
       "      <th>1987-01-01</th>\n",
       "      <td>351003.0</td>\n",
       "      <td>1369375.0</td>\n",
       "      <td>40372.0</td>\n",
       "      <td>0.0</td>\n",
       "      <td>0.0</td>\n",
       "      <td>0.0</td>\n",
       "      <td>0.0</td>\n",
       "      <td>0.0</td>\n",
       "      <td>2409105.0</td>\n",
       "      <td>2421.0</td>\n",
       "      <td>...</td>\n",
       "      <td>28298.0</td>\n",
       "      <td>0.0</td>\n",
       "      <td>0.0</td>\n",
       "      <td>436869.0</td>\n",
       "      <td>0.0</td>\n",
       "      <td>3024544.0</td>\n",
       "      <td>0.0</td>\n",
       "      <td>0.0</td>\n",
       "      <td>0.0</td>\n",
       "      <td>8.0</td>\n",
       "    </tr>\n",
       "    <tr>\n",
       "      <th>1988-01-01</th>\n",
       "      <td>355226.0</td>\n",
       "      <td>1066732.0</td>\n",
       "      <td>78313.0</td>\n",
       "      <td>0.0</td>\n",
       "      <td>0.0</td>\n",
       "      <td>0.0</td>\n",
       "      <td>0.0</td>\n",
       "      <td>63101.0</td>\n",
       "      <td>3596008.0</td>\n",
       "      <td>18.0</td>\n",
       "      <td>...</td>\n",
       "      <td>173522.0</td>\n",
       "      <td>0.0</td>\n",
       "      <td>0.0</td>\n",
       "      <td>246768.0</td>\n",
       "      <td>0.0</td>\n",
       "      <td>4858495.0</td>\n",
       "      <td>0.0</td>\n",
       "      <td>0.0</td>\n",
       "      <td>0.0</td>\n",
       "      <td>0.0</td>\n",
       "    </tr>\n",
       "    <tr>\n",
       "      <th>1989-01-01</th>\n",
       "      <td>657540.0</td>\n",
       "      <td>1382707.0</td>\n",
       "      <td>79656.0</td>\n",
       "      <td>0.0</td>\n",
       "      <td>0.0</td>\n",
       "      <td>0.0</td>\n",
       "      <td>0.0</td>\n",
       "      <td>0.0</td>\n",
       "      <td>2173767.0</td>\n",
       "      <td>25.0</td>\n",
       "      <td>...</td>\n",
       "      <td>67682.0</td>\n",
       "      <td>0.0</td>\n",
       "      <td>0.0</td>\n",
       "      <td>462332.0</td>\n",
       "      <td>0.0</td>\n",
       "      <td>5905543.0</td>\n",
       "      <td>24194.0</td>\n",
       "      <td>0.0</td>\n",
       "      <td>0.0</td>\n",
       "      <td>0.0</td>\n",
       "    </tr>\n",
       "    <tr>\n",
       "      <th>1990-01-01</th>\n",
       "      <td>870936.0</td>\n",
       "      <td>1664054.0</td>\n",
       "      <td>53462.0</td>\n",
       "      <td>291.0</td>\n",
       "      <td>0.0</td>\n",
       "      <td>0.0</td>\n",
       "      <td>0.0</td>\n",
       "      <td>0.0</td>\n",
       "      <td>2847737.0</td>\n",
       "      <td>356.0</td>\n",
       "      <td>...</td>\n",
       "      <td>4382.0</td>\n",
       "      <td>0.0</td>\n",
       "      <td>0.0</td>\n",
       "      <td>746334.0</td>\n",
       "      <td>0.0</td>\n",
       "      <td>3866314.0</td>\n",
       "      <td>22861.0</td>\n",
       "      <td>0.0</td>\n",
       "      <td>0.0</td>\n",
       "      <td>0.0</td>\n",
       "    </tr>\n",
       "  </tbody>\n",
       "</table>\n",
       "<p>5 rows × 74 columns</p>\n",
       "</div>"
      ],
      "text/plain": [
       "Reporter Countries  Argentina  Australia  Austria  Barbados  Belarus  Belgium  \\\n",
       "year                                                                            \n",
       "1986-01-01           374614.0  1837595.0  32330.0       1.0      0.0      0.0   \n",
       "1987-01-01           351003.0  1369375.0  40372.0       0.0      0.0      0.0   \n",
       "1988-01-01           355226.0  1066732.0  78313.0       0.0      0.0      0.0   \n",
       "1989-01-01           657540.0  1382707.0  79656.0       0.0      0.0      0.0   \n",
       "1990-01-01           870936.0  1664054.0  53462.0     291.0      0.0      0.0   \n",
       "\n",
       "Reporter Countries  Brazil  Bulgaria     Canada   Chile  ...    Turkey  \\\n",
       "year                                                     ...             \n",
       "1986-01-01             0.0   41970.0  2030112.0    10.0  ...    1836.0   \n",
       "1987-01-01             0.0       0.0  2409105.0  2421.0  ...   28298.0   \n",
       "1988-01-01             0.0   63101.0  3596008.0    18.0  ...  173522.0   \n",
       "1989-01-01             0.0       0.0  2173767.0    25.0  ...   67682.0   \n",
       "1990-01-01             0.0       0.0  2847737.0   356.0  ...    4382.0   \n",
       "\n",
       "Reporter Countries  Uganda  Ukraine  United Kingdom  \\\n",
       "year                                                  \n",
       "1986-01-01             0.0      0.0        539790.0   \n",
       "1987-01-01             0.0      0.0        436869.0   \n",
       "1988-01-01             0.0      0.0        246768.0   \n",
       "1989-01-01             0.0      0.0        462332.0   \n",
       "1990-01-01             0.0      0.0        746334.0   \n",
       "\n",
       "Reporter Countries  United Republic of Tanzania  United States of America  \\\n",
       "year                                                                        \n",
       "1986-01-01                                  0.0                 2996911.0   \n",
       "1987-01-01                                  0.0                 3024544.0   \n",
       "1988-01-01                                  0.0                 4858495.0   \n",
       "1989-01-01                                  0.0                 5905543.0   \n",
       "1990-01-01                                  0.0                 3866314.0   \n",
       "\n",
       "Reporter Countries  Uruguay  Yemen  Zambia  Zimbabwe  \n",
       "year                                                  \n",
       "1986-01-01              0.0    0.0     0.0       0.0  \n",
       "1987-01-01              0.0    0.0     0.0       8.0  \n",
       "1988-01-01              0.0    0.0     0.0       0.0  \n",
       "1989-01-01          24194.0    0.0     0.0       0.0  \n",
       "1990-01-01          22861.0    0.0     0.0       0.0  \n",
       "\n",
       "[5 rows x 74 columns]"
      ]
     },
     "execution_count": 309,
     "metadata": {},
     "output_type": "execute_result"
    }
   ],
   "source": [
    "countries.head()"
   ]
  },
  {
   "cell_type": "code",
   "execution_count": 316,
   "metadata": {},
   "outputs": [],
   "source": [
    "# Take Argentina as an example\n",
    "features = countries['Argentina'].rolling(5).aggregate([np.mean,np.max,np.min,np.std])\n",
    "argentina = countries['Argentina']"
   ]
  },
  {
   "cell_type": "code",
   "execution_count": 318,
   "metadata": {},
   "outputs": [
    {
     "data": {
      "image/png": "[encoded data removed]",
      "text/plain": [
       "<Figure size 432x288 with 1 Axes>"
      ]
     },
     "metadata": {
      "needs_background": "light"
     },
     "output_type": "display_data"
    }
   ],
   "source": [
    "ax = features.plot()\n",
    "argentina.plot(ax=ax, color='k',alpha=.2, lw=3)\n",
    "ax.legend(loc=(1.01, .6))\n",
    "plt.show()"
   ]
  },
  {
   "cell_type": "code",
   "execution_count": 346,
   "metadata": {},
   "outputs": [],
   "source": [
    "# Calculate for all countries, store in separate dataframes\n",
    "means = pd.DataFrame()\n",
    "maxs = pd.DataFrame()\n",
    "mins = pd.DataFrame()\n",
    "stds = pd.DataFrame()\n",
    "\n",
    "for country in wheat_wide.columns:\n",
    "    \n",
    "    means[country] = wheat_wide[country].rolling(5).mean()\n",
    "    maxs[country] = wheat_wide[country].rolling(5).max()\n",
    "    mins[country] = wheat_wide[country].rolling(5).min()\n",
    "    stds[country] = wheat_wide[country].rolling(5).std()\n"
   ]
  },
  {
   "cell_type": "code",
   "execution_count": 370,
   "metadata": {},
   "outputs": [
    {
     "data": {
      "image/png": "[encoded data removed]",
      "text/plain": [
       "<Figure size 432x288 with 1 Axes>"
      ]
     },
     "metadata": {
      "needs_background": "light"
     },
     "output_type": "display_data"
    }
   ],
   "source": [
    "#fig,axs = plt.subplots(1,2,figsize=(15,5))\n",
    "means.plot(legend=False)\n",
    "#maxs.plot(ax=axs[1],legend=False)\n",
    "#mins.plot(ax=axs[0])\n",
    "#stds.plot(ax=axs[1],legend=False)\n",
    "plt.title('Rolling means of wheat export among countries')\n",
    "plt.show()\n"
   ]
  },
  {
   "cell_type": "markdown",
   "metadata": {},
   "source": [
    "Summary: from comparing plots of different features, rolling means smooth out the data best and reduced noise. we shall use rolling means instead of raw data for further analysis"
   ]
  },
  {
   "cell_type": "markdown",
   "metadata": {},
   "source": [
    "### 2.2 Models for top five crops, treating crops as features \n",
    "Note: this is another approach we tried but did not pursue further\n",
    "#### 1) Data preprocessing"
   ]
  },
  {
   "cell_type": "code",
   "execution_count": 444,
   "metadata": {},
   "outputs": [],
   "source": [
    "# extract crops and \n",
    "# rank countries by non-zero years, slicing the top half countries with less non-zero data\n",
    "# Reshape dataframe to treat crops as features and countries as samples\n",
    "crops = ['Wheat', 'Soybeans', 'Maize', 'Coffee, green', 'Cotton lint']\n",
    "        \n",
    "crop_export_value = items_by_country.loc[(items_by_country['Item'].isin(crops))&(items_by_country['Element']=='Export Value'),:]\n",
    "\n",
    "crop_long = crop_export_value.melt(['Reporter Countries','Item'], years, 'year', 'value')\n",
    "crop_long['year'] = crop_long['year'].map(lambda x: x.lstrip('Y'))"
   ]
  },
  {
   "cell_type": "code",
   "execution_count": 445,
   "metadata": {
    "scrolled": true
   },
   "outputs": [
    {
     "data": {
      "text/html": [
       "<div>\n",
       "<style scoped>\n",
       "    .dataframe tbody tr th:only-of-type {\n",
       "        vertical-align: middle;\n",
       "    }\n",
       "\n",
       "    .dataframe tbody tr th {\n",
       "        vertical-align: top;\n",
       "    }\n",
       "\n",
       "    .dataframe thead th {\n",
       "        text-align: right;\n",
       "    }\n",
       "</style>\n",
       "<table border=\"1\" class=\"dataframe\">\n",
       "  <thead>\n",
       "    <tr style=\"text-align: right;\">\n",
       "      <th></th>\n",
       "      <th>Reporter Countries</th>\n",
       "      <th>Item</th>\n",
       "      <th>year</th>\n",
       "      <th>value</th>\n",
       "    </tr>\n",
       "  </thead>\n",
       "  <tbody>\n",
       "    <tr>\n",
       "      <th>0</th>\n",
       "      <td>Afghanistan</td>\n",
       "      <td>Cotton lint</td>\n",
       "      <td>1986</td>\n",
       "      <td>0.0</td>\n",
       "    </tr>\n",
       "    <tr>\n",
       "      <th>1</th>\n",
       "      <td>Afghanistan</td>\n",
       "      <td>Maize</td>\n",
       "      <td>1986</td>\n",
       "      <td>0.0</td>\n",
       "    </tr>\n",
       "    <tr>\n",
       "      <th>2</th>\n",
       "      <td>Afghanistan</td>\n",
       "      <td>Soybeans</td>\n",
       "      <td>1986</td>\n",
       "      <td>0.0</td>\n",
       "    </tr>\n",
       "    <tr>\n",
       "      <th>3</th>\n",
       "      <td>Afghanistan</td>\n",
       "      <td>Wheat</td>\n",
       "      <td>1986</td>\n",
       "      <td>0.0</td>\n",
       "    </tr>\n",
       "    <tr>\n",
       "      <th>4</th>\n",
       "      <td>Albania</td>\n",
       "      <td>Coffee, green</td>\n",
       "      <td>1986</td>\n",
       "      <td>0.0</td>\n",
       "    </tr>\n",
       "  </tbody>\n",
       "</table>\n",
       "</div>"
      ],
      "text/plain": [
       "  Reporter Countries           Item  year  value\n",
       "0        Afghanistan    Cotton lint  1986    0.0\n",
       "1        Afghanistan          Maize  1986    0.0\n",
       "2        Afghanistan       Soybeans  1986    0.0\n",
       "3        Afghanistan          Wheat  1986    0.0\n",
       "4            Albania  Coffee, green  1986    0.0"
      ]
     },
     "execution_count": 445,
     "metadata": {},
     "output_type": "execute_result"
    }
   ],
   "source": [
    "crop_long.head()"
   ]
  },
  {
   "cell_type": "code",
   "execution_count": 459,
   "metadata": {},
   "outputs": [],
   "source": [
    "# Reshape df so that crops are the columns\n",
    "crop_wide = crop_long.groupby(['Reporter Countries', 'year', 'Item'])['value'].sum().unstack('Item')\n",
    "crop_wide = crop_wide.reset_index()\n",
    "crop_wide.year = pd.to_datetime(crop_wide.year)"
   ]
  },
  {
   "cell_type": "code",
   "execution_count": 505,
   "metadata": {},
   "outputs": [],
   "source": [
    "# Count Nans of all crops for each country,select countries without NaNs\n",
    "# A lot of the time when a country has NaNs, the crop is not exported so the whole time series is NaN,\n",
    "# thus not ideal to use imputations to deal with NaN.\n",
    "# We will just use data of countries that exports all five crops\n",
    "crop_wide['Nans'] = crop_wide.isna().sum(axis=1)\n",
    "crop_wide.head()\n",
    "sums = crop_wide.groupby([\"Reporter Countries\"]).sum().sort_values(by='Nans',ascending=True).reset_index()\n",
    "selected_countries = sums.loc[sums['Nans'] == 0,'Reporter Countries'].tolist()"
   ]
  },
  {
   "cell_type": "code",
   "execution_count": 516,
   "metadata": {
    "scrolled": true
   },
   "outputs": [
    {
     "data": {
      "text/html": [
       "<div>\n",
       "<style scoped>\n",
       "    .dataframe tbody tr th:only-of-type {\n",
       "        vertical-align: middle;\n",
       "    }\n",
       "\n",
       "    .dataframe tbody tr th {\n",
       "        vertical-align: top;\n",
       "    }\n",
       "\n",
       "    .dataframe thead th {\n",
       "        text-align: right;\n",
       "    }\n",
       "</style>\n",
       "<table border=\"1\" class=\"dataframe\">\n",
       "  <thead>\n",
       "    <tr style=\"text-align: right;\">\n",
       "      <th>Item</th>\n",
       "      <th>Reporter Countries</th>\n",
       "      <th>year</th>\n",
       "      <th>Coffee, green</th>\n",
       "      <th>Cotton lint</th>\n",
       "      <th>Maize</th>\n",
       "      <th>Soybeans</th>\n",
       "      <th>Wheat</th>\n",
       "      <th>Nans</th>\n",
       "    </tr>\n",
       "  </thead>\n",
       "  <tbody>\n",
       "    <tr>\n",
       "      <th>32</th>\n",
       "      <td>Albania</td>\n",
       "      <td>1986-01-01</td>\n",
       "      <td>0.0</td>\n",
       "      <td>0.0</td>\n",
       "      <td>0.0</td>\n",
       "      <td>0.0</td>\n",
       "      <td>0.0</td>\n",
       "      <td>0</td>\n",
       "    </tr>\n",
       "    <tr>\n",
       "      <th>33</th>\n",
       "      <td>Albania</td>\n",
       "      <td>1987-01-01</td>\n",
       "      <td>0.0</td>\n",
       "      <td>0.0</td>\n",
       "      <td>0.0</td>\n",
       "      <td>0.0</td>\n",
       "      <td>0.0</td>\n",
       "      <td>0</td>\n",
       "    </tr>\n",
       "    <tr>\n",
       "      <th>34</th>\n",
       "      <td>Albania</td>\n",
       "      <td>1988-01-01</td>\n",
       "      <td>0.0</td>\n",
       "      <td>0.0</td>\n",
       "      <td>0.0</td>\n",
       "      <td>0.0</td>\n",
       "      <td>0.0</td>\n",
       "      <td>0</td>\n",
       "    </tr>\n",
       "    <tr>\n",
       "      <th>35</th>\n",
       "      <td>Albania</td>\n",
       "      <td>1989-01-01</td>\n",
       "      <td>0.0</td>\n",
       "      <td>0.0</td>\n",
       "      <td>0.0</td>\n",
       "      <td>0.0</td>\n",
       "      <td>0.0</td>\n",
       "      <td>0</td>\n",
       "    </tr>\n",
       "    <tr>\n",
       "      <th>36</th>\n",
       "      <td>Albania</td>\n",
       "      <td>1990-01-01</td>\n",
       "      <td>0.0</td>\n",
       "      <td>0.0</td>\n",
       "      <td>0.0</td>\n",
       "      <td>0.0</td>\n",
       "      <td>0.0</td>\n",
       "      <td>0</td>\n",
       "    </tr>\n",
       "  </tbody>\n",
       "</table>\n",
       "</div>"
      ],
      "text/plain": [
       "Item Reporter Countries       year  Coffee, green  Cotton lint  Maize  \\\n",
       "32              Albania 1986-01-01            0.0          0.0    0.0   \n",
       "33              Albania 1987-01-01            0.0          0.0    0.0   \n",
       "34              Albania 1988-01-01            0.0          0.0    0.0   \n",
       "35              Albania 1989-01-01            0.0          0.0    0.0   \n",
       "36              Albania 1990-01-01            0.0          0.0    0.0   \n",
       "\n",
       "Item  Soybeans  Wheat  Nans  \n",
       "32         0.0    0.0     0  \n",
       "33         0.0    0.0     0  \n",
       "34         0.0    0.0     0  \n",
       "35         0.0    0.0     0  \n",
       "36         0.0    0.0     0  "
      ]
     },
     "execution_count": 516,
     "metadata": {},
     "output_type": "execute_result"
    }
   ],
   "source": [
    "crop_selected_countries = crop_wide.loc[crop_wide[\"Reporter Countries\"].isin(selected_countries),:]\n",
    "crop_selected_countries.head()"
   ]
  },
  {
   "cell_type": "code",
   "execution_count": 529,
   "metadata": {},
   "outputs": [
    {
     "data": {
      "image/png": "[encoded data removed]",
      "text/plain": [
       "<Figure size 432x288 with 1 Axes>"
      ]
     },
     "metadata": {
      "needs_background": "light"
     },
     "output_type": "display_data"
    }
   ],
   "source": [
    "# Visualize Maize export \n",
    "fig, ax = plt.subplots()\n",
    "\n",
    "for key, grp in crop_selected_countries.groupby(['Reporter Countries']):\n",
    "    ax = grp.plot(ax=ax, kind='line', x='year', y='Maize',label=key, legend=False)\n",
    "plt.title('Annual export of Maize by countries ')\n",
    "plt.ylabel('1000 US$')\n",
    "plt.show()"
   ]
  },
  {
   "cell_type": "markdown",
   "metadata": {},
   "source": [
    "#### 2) linear models using 4 crop export as features and countries as samples, to predict wheat export"
   ]
  },
  {
   "cell_type": "code",
   "execution_count": 534,
   "metadata": {},
   "outputs": [
    {
     "data": {
      "text/html": [
       "<div>\n",
       "<style scoped>\n",
       "    .dataframe tbody tr th:only-of-type {\n",
       "        vertical-align: middle;\n",
       "    }\n",
       "\n",
       "    .dataframe tbody tr th {\n",
       "        vertical-align: top;\n",
       "    }\n",
       "\n",
       "    .dataframe thead th {\n",
       "        text-align: right;\n",
       "    }\n",
       "</style>\n",
       "<table border=\"1\" class=\"dataframe\">\n",
       "  <thead>\n",
       "    <tr style=\"text-align: right;\">\n",
       "      <th>Item</th>\n",
       "      <th>Wheat</th>\n",
       "      <th>Soybeans</th>\n",
       "      <th>Maize</th>\n",
       "      <th>Coffee, green</th>\n",
       "      <th>Cotton lint</th>\n",
       "    </tr>\n",
       "  </thead>\n",
       "  <tbody>\n",
       "    <tr>\n",
       "      <th>32</th>\n",
       "      <td>0.0</td>\n",
       "      <td>0.0</td>\n",
       "      <td>0.0</td>\n",
       "      <td>0.0</td>\n",
       "      <td>0.0</td>\n",
       "    </tr>\n",
       "    <tr>\n",
       "      <th>33</th>\n",
       "      <td>0.0</td>\n",
       "      <td>0.0</td>\n",
       "      <td>0.0</td>\n",
       "      <td>0.0</td>\n",
       "      <td>0.0</td>\n",
       "    </tr>\n",
       "    <tr>\n",
       "      <th>34</th>\n",
       "      <td>0.0</td>\n",
       "      <td>0.0</td>\n",
       "      <td>0.0</td>\n",
       "      <td>0.0</td>\n",
       "      <td>0.0</td>\n",
       "    </tr>\n",
       "    <tr>\n",
       "      <th>35</th>\n",
       "      <td>0.0</td>\n",
       "      <td>0.0</td>\n",
       "      <td>0.0</td>\n",
       "      <td>0.0</td>\n",
       "      <td>0.0</td>\n",
       "    </tr>\n",
       "    <tr>\n",
       "      <th>36</th>\n",
       "      <td>0.0</td>\n",
       "      <td>0.0</td>\n",
       "      <td>0.0</td>\n",
       "      <td>0.0</td>\n",
       "      <td>0.0</td>\n",
       "    </tr>\n",
       "  </tbody>\n",
       "</table>\n",
       "</div>"
      ],
      "text/plain": [
       "Item  Wheat  Soybeans  Maize  Coffee, green  Cotton lint\n",
       "32      0.0       0.0    0.0            0.0          0.0\n",
       "33      0.0       0.0    0.0            0.0          0.0\n",
       "34      0.0       0.0    0.0            0.0          0.0\n",
       "35      0.0       0.0    0.0            0.0          0.0\n",
       "36      0.0       0.0    0.0            0.0          0.0"
      ]
     },
     "execution_count": 534,
     "metadata": {},
     "output_type": "execute_result"
    }
   ],
   "source": [
    "crop_selected_countries[crops].head()"
   ]
  },
  {
   "cell_type": "code",
   "execution_count": 535,
   "metadata": {},
   "outputs": [
    {
     "name": "stdout",
     "output_type": "stream",
     "text": [
      "(4288, 4) (4288,)\n"
     ]
    }
   ],
   "source": [
    "X = crop_selected_countries[crops].drop(['Wheat'],axis=1).values\n",
    "y = crop_selected_countries['Wheat'].values\n",
    "print(X.shape, y.shape)"
   ]
  },
  {
   "cell_type": "code",
   "execution_count": 536,
   "metadata": {},
   "outputs": [
    {
     "name": "stdout",
     "output_type": "stream",
     "text": [
      "[-0.15144885 -0.45351119 -1.48027963  0.19133732  0.81098473]\n"
     ]
    }
   ],
   "source": [
    "# Cross validation\n",
    "cv = TimeSeriesSplit(n_splits=5)\n",
    "scores = cross_val_score(Ridge(), X, y, cv=cv)\n",
    "print(scores)"
   ]
  },
  {
   "cell_type": "code",
   "execution_count": 537,
   "metadata": {},
   "outputs": [
    {
     "name": "stdout",
     "output_type": "stream",
     "text": [
      "0.800916580865393\n"
     ]
    }
   ],
   "source": [
    "# Split data into training and test sets\n",
    "X_train, X_test, y_train, y_test = train_test_split(X,y, \n",
    "                                                    train_size=.8, shuffle=False, random_state=1)\n",
    "\n",
    "model = Ridge()\n",
    "model.fit(X_train,y_train)\n",
    "predictions = model.predict(X_test)\n",
    "score = r2_score(y_test,predictions)\n",
    "print(score)"
   ]
  },
  {
   "cell_type": "code",
   "execution_count": 538,
   "metadata": {},
   "outputs": [
    {
     "data": {
      "image/png": "[encoded data removed]",
      "text/plain": [
       "<Figure size 720x360 with 1 Axes>"
      ]
     },
     "metadata": {
      "needs_background": "light"
     },
     "output_type": "display_data"
    }
   ],
   "source": [
    "# Visualize prediction results\n",
    "fig, ax = plt.subplots(figsize=(10, 5))\n",
    "ax.plot(y_test, color='k', lw=3)\n",
    "ax.plot(predictions, color='r', lw=2)\n",
    "plt.show()"
   ]
  },
  {
   "cell_type": "markdown",
   "metadata": {},
   "source": [
    "#### Summary: use four crops' export time series data, the prediction of wheat export is relatively accurate (R^2 = 0.8)\n",
    "\n",
    "It is an interesting approach, but the result is less straightforward and less interpretable, as the prediction is based on a combination of four other crops. Given the small datasize (annual data), it is hard to select the most predictable items among all commodities for modeling.\n",
    "\n",
    "Therefore, in next notebooks, we shall focus of ARIMA modeling for single item and country."
   ]
  }
 ],
 "metadata": {
  "kernelspec": {
   "display_name": "Python 3",
   "language": "python",
   "name": "python3"
  },
  "language_info": {
   "codemirror_mode": {
    "name": "ipython",
    "version": 3
   },
   "file_extension": ".py",
   "mimetype": "text/x-python",
   "name": "python",
   "nbconvert_exporter": "python",
   "pygments_lexer": "ipython3",
   "version": "3.6.7"
  }
 },
 "nbformat": 4,
 "nbformat_minor": 2
}

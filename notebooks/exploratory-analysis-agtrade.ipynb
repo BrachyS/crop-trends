{
 "cells": [
  {
   "cell_type": "markdown",
   "metadata": {},
   "source": [
    "This notebook analyzes trading diversity (number of partner countries and types of commodities) , and build models to forecast crop export values by countries or globally"
   ]
  },
  {
   "cell_type": "code",
   "execution_count": 2,
   "metadata": {},
   "outputs": [],
   "source": [
    "import pandas as pd\n",
    "import numpy as np\n",
    "import matplotlib.pyplot as plt\n",
    "import seaborn as sns\n",
    "import operator "
   ]
  },
  {
   "cell_type": "code",
   "execution_count": 48,
   "metadata": {},
   "outputs": [
    {
     "name": "stdout",
     "output_type": "stream",
     "text": [
      "(223049, 37)\n",
      "(57838, 36)\n"
     ]
    }
   ],
   "source": [
    "# Read in processed data\n",
    "items_by_country = pd.read_csv('../data/processed/items_by_country.csv',index_col=0)\n",
    "partners_by_country = pd.read_csv('../data/processed/partners_by_country.csv',index_col=0)\n",
    "print(items_by_country.shape)\n",
    "print(partners_by_country.shape)"
   ]
  },
  {
   "cell_type": "code",
   "execution_count": 50,
   "metadata": {},
   "outputs": [
    {
     "data": {
      "text/html": [
       "<div>\n",
       "<style scoped>\n",
       "    .dataframe tbody tr th:only-of-type {\n",
       "        vertical-align: middle;\n",
       "    }\n",
       "\n",
       "    .dataframe tbody tr th {\n",
       "        vertical-align: top;\n",
       "    }\n",
       "\n",
       "    .dataframe thead th {\n",
       "        text-align: right;\n",
       "    }\n",
       "</style>\n",
       "<table border=\"1\" class=\"dataframe\">\n",
       "  <thead>\n",
       "    <tr style=\"text-align: right;\">\n",
       "      <th></th>\n",
       "      <th>Reporter Countries</th>\n",
       "      <th>Item</th>\n",
       "      <th>Element</th>\n",
       "      <th>Unit</th>\n",
       "      <th>Item Code</th>\n",
       "      <th>Y1986</th>\n",
       "      <th>Y1987</th>\n",
       "      <th>Y1988</th>\n",
       "      <th>Y1989</th>\n",
       "      <th>Y1990</th>\n",
       "      <th>...</th>\n",
       "      <th>Y2008</th>\n",
       "      <th>Y2009</th>\n",
       "      <th>Y2010</th>\n",
       "      <th>Y2011</th>\n",
       "      <th>Y2012</th>\n",
       "      <th>Y2013</th>\n",
       "      <th>Y2014</th>\n",
       "      <th>Y2015</th>\n",
       "      <th>Y2016</th>\n",
       "      <th>Y2017</th>\n",
       "    </tr>\n",
       "  </thead>\n",
       "  <tbody>\n",
       "    <tr>\n",
       "      <th>0</th>\n",
       "      <td>Afghanistan</td>\n",
       "      <td>Almonds shelled</td>\n",
       "      <td>Export Quantity</td>\n",
       "      <td>tonnes</td>\n",
       "      <td>5313</td>\n",
       "      <td>0.0</td>\n",
       "      <td>0.0</td>\n",
       "      <td>0.0</td>\n",
       "      <td>0.0</td>\n",
       "      <td>0.0</td>\n",
       "      <td>...</td>\n",
       "      <td>0.0</td>\n",
       "      <td>4763.0</td>\n",
       "      <td>1308.0</td>\n",
       "      <td>2261.0</td>\n",
       "      <td>0.0</td>\n",
       "      <td>0.0</td>\n",
       "      <td>2714.0</td>\n",
       "      <td>2086.0</td>\n",
       "      <td>1778.0</td>\n",
       "      <td>2756.0</td>\n",
       "    </tr>\n",
       "    <tr>\n",
       "      <th>1</th>\n",
       "      <td>Afghanistan</td>\n",
       "      <td>Almonds shelled</td>\n",
       "      <td>Export Value</td>\n",
       "      <td>1000 US$</td>\n",
       "      <td>5313</td>\n",
       "      <td>0.0</td>\n",
       "      <td>0.0</td>\n",
       "      <td>0.0</td>\n",
       "      <td>0.0</td>\n",
       "      <td>0.0</td>\n",
       "      <td>...</td>\n",
       "      <td>0.0</td>\n",
       "      <td>35476.0</td>\n",
       "      <td>15894.0</td>\n",
       "      <td>20270.0</td>\n",
       "      <td>0.0</td>\n",
       "      <td>0.0</td>\n",
       "      <td>16454.0</td>\n",
       "      <td>12793.0</td>\n",
       "      <td>10934.0</td>\n",
       "      <td>19677.0</td>\n",
       "    </tr>\n",
       "    <tr>\n",
       "      <th>2</th>\n",
       "      <td>Afghanistan</td>\n",
       "      <td>Almonds shelled</td>\n",
       "      <td>Import Quantity</td>\n",
       "      <td>tonnes</td>\n",
       "      <td>1617</td>\n",
       "      <td>0.0</td>\n",
       "      <td>0.0</td>\n",
       "      <td>0.0</td>\n",
       "      <td>0.0</td>\n",
       "      <td>0.0</td>\n",
       "      <td>...</td>\n",
       "      <td>0.0</td>\n",
       "      <td>0.0</td>\n",
       "      <td>0.0</td>\n",
       "      <td>0.0</td>\n",
       "      <td>0.0</td>\n",
       "      <td>0.0</td>\n",
       "      <td>168.0</td>\n",
       "      <td>181.0</td>\n",
       "      <td>846.0</td>\n",
       "      <td>103.0</td>\n",
       "    </tr>\n",
       "    <tr>\n",
       "      <th>3</th>\n",
       "      <td>Afghanistan</td>\n",
       "      <td>Almonds shelled</td>\n",
       "      <td>Import Value</td>\n",
       "      <td>1000 US$</td>\n",
       "      <td>1617</td>\n",
       "      <td>0.0</td>\n",
       "      <td>0.0</td>\n",
       "      <td>0.0</td>\n",
       "      <td>0.0</td>\n",
       "      <td>0.0</td>\n",
       "      <td>...</td>\n",
       "      <td>0.0</td>\n",
       "      <td>0.0</td>\n",
       "      <td>0.0</td>\n",
       "      <td>0.0</td>\n",
       "      <td>0.0</td>\n",
       "      <td>0.0</td>\n",
       "      <td>1117.0</td>\n",
       "      <td>1377.0</td>\n",
       "      <td>4988.0</td>\n",
       "      <td>759.0</td>\n",
       "    </tr>\n",
       "    <tr>\n",
       "      <th>4</th>\n",
       "      <td>Afghanistan</td>\n",
       "      <td>Almonds, with shell</td>\n",
       "      <td>Export Quantity</td>\n",
       "      <td>tonnes</td>\n",
       "      <td>3315</td>\n",
       "      <td>0.0</td>\n",
       "      <td>0.0</td>\n",
       "      <td>0.0</td>\n",
       "      <td>0.0</td>\n",
       "      <td>0.0</td>\n",
       "      <td>...</td>\n",
       "      <td>0.0</td>\n",
       "      <td>11066.0</td>\n",
       "      <td>779.0</td>\n",
       "      <td>1016.0</td>\n",
       "      <td>0.0</td>\n",
       "      <td>0.0</td>\n",
       "      <td>1856.0</td>\n",
       "      <td>1660.0</td>\n",
       "      <td>1545.0</td>\n",
       "      <td>875.0</td>\n",
       "    </tr>\n",
       "  </tbody>\n",
       "</table>\n",
       "<p>5 rows × 37 columns</p>\n",
       "</div>"
      ],
      "text/plain": [
       "  Reporter Countries                 Item          Element      Unit  \\\n",
       "0        Afghanistan      Almonds shelled  Export Quantity    tonnes   \n",
       "1        Afghanistan      Almonds shelled     Export Value  1000 US$   \n",
       "2        Afghanistan      Almonds shelled  Import Quantity    tonnes   \n",
       "3        Afghanistan      Almonds shelled     Import Value  1000 US$   \n",
       "4        Afghanistan  Almonds, with shell  Export Quantity    tonnes   \n",
       "\n",
       "   Item Code  Y1986  Y1987  Y1988  Y1989  Y1990  ...  Y2008    Y2009    Y2010  \\\n",
       "0       5313    0.0    0.0    0.0    0.0    0.0  ...    0.0   4763.0   1308.0   \n",
       "1       5313    0.0    0.0    0.0    0.0    0.0  ...    0.0  35476.0  15894.0   \n",
       "2       1617    0.0    0.0    0.0    0.0    0.0  ...    0.0      0.0      0.0   \n",
       "3       1617    0.0    0.0    0.0    0.0    0.0  ...    0.0      0.0      0.0   \n",
       "4       3315    0.0    0.0    0.0    0.0    0.0  ...    0.0  11066.0    779.0   \n",
       "\n",
       "     Y2011  Y2012  Y2013    Y2014    Y2015    Y2016    Y2017  \n",
       "0   2261.0    0.0    0.0   2714.0   2086.0   1778.0   2756.0  \n",
       "1  20270.0    0.0    0.0  16454.0  12793.0  10934.0  19677.0  \n",
       "2      0.0    0.0    0.0    168.0    181.0    846.0    103.0  \n",
       "3      0.0    0.0    0.0   1117.0   1377.0   4988.0    759.0  \n",
       "4   1016.0    0.0    0.0   1856.0   1660.0   1545.0    875.0  \n",
       "\n",
       "[5 rows x 37 columns]"
      ]
     },
     "execution_count": 50,
     "metadata": {},
     "output_type": "execute_result"
    }
   ],
   "source": [
    "items_by_country.head()"
   ]
  },
  {
   "cell_type": "code",
   "execution_count": 51,
   "metadata": {},
   "outputs": [
    {
     "data": {
      "text/html": [
       "<div>\n",
       "<style scoped>\n",
       "    .dataframe tbody tr th:only-of-type {\n",
       "        vertical-align: middle;\n",
       "    }\n",
       "\n",
       "    .dataframe tbody tr th {\n",
       "        vertical-align: top;\n",
       "    }\n",
       "\n",
       "    .dataframe thead th {\n",
       "        text-align: right;\n",
       "    }\n",
       "</style>\n",
       "<table border=\"1\" class=\"dataframe\">\n",
       "  <thead>\n",
       "    <tr style=\"text-align: right;\">\n",
       "      <th></th>\n",
       "      <th>Reporter Countries</th>\n",
       "      <th>Partner Countries</th>\n",
       "      <th>Element</th>\n",
       "      <th>Unit</th>\n",
       "      <th>Y1986</th>\n",
       "      <th>Y1987</th>\n",
       "      <th>Y1988</th>\n",
       "      <th>Y1989</th>\n",
       "      <th>Y1990</th>\n",
       "      <th>Y1991</th>\n",
       "      <th>...</th>\n",
       "      <th>Y2008</th>\n",
       "      <th>Y2009</th>\n",
       "      <th>Y2010</th>\n",
       "      <th>Y2011</th>\n",
       "      <th>Y2012</th>\n",
       "      <th>Y2013</th>\n",
       "      <th>Y2014</th>\n",
       "      <th>Y2015</th>\n",
       "      <th>Y2016</th>\n",
       "      <th>Y2017</th>\n",
       "    </tr>\n",
       "  </thead>\n",
       "  <tbody>\n",
       "    <tr>\n",
       "      <th>1</th>\n",
       "      <td>Afghanistan</td>\n",
       "      <td>Algeria</td>\n",
       "      <td>Export Value</td>\n",
       "      <td>1000 US$</td>\n",
       "      <td>0.0</td>\n",
       "      <td>0.0</td>\n",
       "      <td>0.0</td>\n",
       "      <td>0.0</td>\n",
       "      <td>0.0</td>\n",
       "      <td>0.0</td>\n",
       "      <td>...</td>\n",
       "      <td>0.0</td>\n",
       "      <td>0.0</td>\n",
       "      <td>0.0</td>\n",
       "      <td>0.0</td>\n",
       "      <td>0.0</td>\n",
       "      <td>0.0</td>\n",
       "      <td>27.0</td>\n",
       "      <td>1.0</td>\n",
       "      <td>24.0</td>\n",
       "      <td>5.0</td>\n",
       "    </tr>\n",
       "    <tr>\n",
       "      <th>3</th>\n",
       "      <td>Afghanistan</td>\n",
       "      <td>Angola</td>\n",
       "      <td>Export Value</td>\n",
       "      <td>1000 US$</td>\n",
       "      <td>0.0</td>\n",
       "      <td>0.0</td>\n",
       "      <td>0.0</td>\n",
       "      <td>0.0</td>\n",
       "      <td>0.0</td>\n",
       "      <td>0.0</td>\n",
       "      <td>...</td>\n",
       "      <td>0.0</td>\n",
       "      <td>0.0</td>\n",
       "      <td>0.0</td>\n",
       "      <td>0.0</td>\n",
       "      <td>0.0</td>\n",
       "      <td>0.0</td>\n",
       "      <td>0.0</td>\n",
       "      <td>1.0</td>\n",
       "      <td>0.0</td>\n",
       "      <td>0.0</td>\n",
       "    </tr>\n",
       "    <tr>\n",
       "      <th>5</th>\n",
       "      <td>Afghanistan</td>\n",
       "      <td>Argentina</td>\n",
       "      <td>Import Value</td>\n",
       "      <td>1000 US$</td>\n",
       "      <td>0.0</td>\n",
       "      <td>0.0</td>\n",
       "      <td>0.0</td>\n",
       "      <td>0.0</td>\n",
       "      <td>0.0</td>\n",
       "      <td>0.0</td>\n",
       "      <td>...</td>\n",
       "      <td>0.0</td>\n",
       "      <td>0.0</td>\n",
       "      <td>0.0</td>\n",
       "      <td>415.0</td>\n",
       "      <td>0.0</td>\n",
       "      <td>0.0</td>\n",
       "      <td>1163.0</td>\n",
       "      <td>159.0</td>\n",
       "      <td>1844.0</td>\n",
       "      <td>1829.0</td>\n",
       "    </tr>\n",
       "    <tr>\n",
       "      <th>7</th>\n",
       "      <td>Afghanistan</td>\n",
       "      <td>Armenia</td>\n",
       "      <td>Export Value</td>\n",
       "      <td>1000 US$</td>\n",
       "      <td>0.0</td>\n",
       "      <td>0.0</td>\n",
       "      <td>0.0</td>\n",
       "      <td>0.0</td>\n",
       "      <td>0.0</td>\n",
       "      <td>0.0</td>\n",
       "      <td>...</td>\n",
       "      <td>0.0</td>\n",
       "      <td>0.0</td>\n",
       "      <td>0.0</td>\n",
       "      <td>0.0</td>\n",
       "      <td>0.0</td>\n",
       "      <td>0.0</td>\n",
       "      <td>0.0</td>\n",
       "      <td>0.0</td>\n",
       "      <td>0.0</td>\n",
       "      <td>1.0</td>\n",
       "    </tr>\n",
       "    <tr>\n",
       "      <th>9</th>\n",
       "      <td>Afghanistan</td>\n",
       "      <td>Armenia</td>\n",
       "      <td>Import Value</td>\n",
       "      <td>1000 US$</td>\n",
       "      <td>0.0</td>\n",
       "      <td>0.0</td>\n",
       "      <td>0.0</td>\n",
       "      <td>0.0</td>\n",
       "      <td>0.0</td>\n",
       "      <td>0.0</td>\n",
       "      <td>...</td>\n",
       "      <td>0.0</td>\n",
       "      <td>0.0</td>\n",
       "      <td>0.0</td>\n",
       "      <td>48.0</td>\n",
       "      <td>0.0</td>\n",
       "      <td>0.0</td>\n",
       "      <td>282.0</td>\n",
       "      <td>246.0</td>\n",
       "      <td>0.0</td>\n",
       "      <td>67.0</td>\n",
       "    </tr>\n",
       "  </tbody>\n",
       "</table>\n",
       "<p>5 rows × 36 columns</p>\n",
       "</div>"
      ],
      "text/plain": [
       "  Reporter Countries Partner Countries       Element      Unit  Y1986  Y1987  \\\n",
       "1        Afghanistan           Algeria  Export Value  1000 US$    0.0    0.0   \n",
       "3        Afghanistan            Angola  Export Value  1000 US$    0.0    0.0   \n",
       "5        Afghanistan         Argentina  Import Value  1000 US$    0.0    0.0   \n",
       "7        Afghanistan           Armenia  Export Value  1000 US$    0.0    0.0   \n",
       "9        Afghanistan           Armenia  Import Value  1000 US$    0.0    0.0   \n",
       "\n",
       "   Y1988  Y1989  Y1990  Y1991  ...  Y2008  Y2009  Y2010  Y2011  Y2012  Y2013  \\\n",
       "1    0.0    0.0    0.0    0.0  ...    0.0    0.0    0.0    0.0    0.0    0.0   \n",
       "3    0.0    0.0    0.0    0.0  ...    0.0    0.0    0.0    0.0    0.0    0.0   \n",
       "5    0.0    0.0    0.0    0.0  ...    0.0    0.0    0.0  415.0    0.0    0.0   \n",
       "7    0.0    0.0    0.0    0.0  ...    0.0    0.0    0.0    0.0    0.0    0.0   \n",
       "9    0.0    0.0    0.0    0.0  ...    0.0    0.0    0.0   48.0    0.0    0.0   \n",
       "\n",
       "    Y2014  Y2015   Y2016   Y2017  \n",
       "1    27.0    1.0    24.0     5.0  \n",
       "3     0.0    1.0     0.0     0.0  \n",
       "5  1163.0  159.0  1844.0  1829.0  \n",
       "7     0.0    0.0     0.0     1.0  \n",
       "9   282.0  246.0     0.0    67.0  \n",
       "\n",
       "[5 rows x 36 columns]"
      ]
     },
     "execution_count": 51,
     "metadata": {},
     "output_type": "execute_result"
    }
   ],
   "source": [
    "partners_by_country.head()"
   ]
  },
  {
   "cell_type": "markdown",
   "metadata": {},
   "source": [
    "## 1. Inspecting aggregated data and look for potential problems"
   ]
  },
  {
   "cell_type": "markdown",
   "metadata": {},
   "source": [
    "### 1.1 Find countries with high trading diversity\n",
    "In terms of number of (1)items and (2)partner countries, respectively"
   ]
  },
  {
   "cell_type": "code",
   "execution_count": 3,
   "metadata": {},
   "outputs": [],
   "source": [
    "def count_unique(df, col_name, variable):\n",
    "    '''count unique entries of the variable for col_name (e.g., list of reporter countries).\n",
    "    Export and Import groups are counted separately'''\n",
    "    counts = []\n",
    "    for country in df[col_name].unique():\n",
    "        count_export = len(df.loc[(df[col_name]== country) & (df['Element'].str.startswith('Export')), variable].unique())\n",
    "        count_import = len(df.loc[(df[col_name]== country) & (df['Element'].str.startswith('Import')), variable].unique())\n",
    "        counts.append([country,count_export,count_import])\n",
    "\n",
    "    count_df = pd.DataFrame(counts, columns=['Countries','Export','Import'])\n",
    "    \n",
    "    return count_df"
   ]
  },
  {
   "cell_type": "code",
   "execution_count": 4,
   "metadata": {},
   "outputs": [],
   "source": [
    "# Count unique Items exported/imported by a country\n",
    "itemscount_by_country = count_unique(items_by_country,'Reporter Countries','Item')"
   ]
  },
  {
   "cell_type": "code",
   "execution_count": 32,
   "metadata": {},
   "outputs": [],
   "source": [
    "# Count unique Partners exported/imported with a country\n",
    "partnerscount_by_country = count_unique(partners_by_country,'Reporter Countries','Partner Countries')"
   ]
  },
  {
   "cell_type": "code",
   "execution_count": 69,
   "metadata": {},
   "outputs": [
    {
     "data": {
      "text/html": [
       "<div>\n",
       "<style scoped>\n",
       "    .dataframe tbody tr th:only-of-type {\n",
       "        vertical-align: middle;\n",
       "    }\n",
       "\n",
       "    .dataframe tbody tr th {\n",
       "        vertical-align: top;\n",
       "    }\n",
       "\n",
       "    .dataframe thead th {\n",
       "        text-align: right;\n",
       "    }\n",
       "</style>\n",
       "<table border=\"1\" class=\"dataframe\">\n",
       "  <thead>\n",
       "    <tr style=\"text-align: right;\">\n",
       "      <th></th>\n",
       "      <th>Countries</th>\n",
       "      <th>Export</th>\n",
       "      <th>Import</th>\n",
       "    </tr>\n",
       "  </thead>\n",
       "  <tbody>\n",
       "    <tr>\n",
       "      <th>132</th>\n",
       "      <td>Poland</td>\n",
       "      <td>370</td>\n",
       "      <td>375</td>\n",
       "    </tr>\n",
       "    <tr>\n",
       "      <th>8</th>\n",
       "      <td>Austria</td>\n",
       "      <td>370</td>\n",
       "      <td>370</td>\n",
       "    </tr>\n",
       "    <tr>\n",
       "      <th>116</th>\n",
       "      <td>Netherlands</td>\n",
       "      <td>369</td>\n",
       "      <td>369</td>\n",
       "    </tr>\n",
       "    <tr>\n",
       "      <th>174</th>\n",
       "      <td>United Kingdom</td>\n",
       "      <td>366</td>\n",
       "      <td>365</td>\n",
       "    </tr>\n",
       "    <tr>\n",
       "      <th>63</th>\n",
       "      <td>France</td>\n",
       "      <td>366</td>\n",
       "      <td>365</td>\n",
       "    </tr>\n",
       "    <tr>\n",
       "      <th>69</th>\n",
       "      <td>Germany</td>\n",
       "      <td>365</td>\n",
       "      <td>366</td>\n",
       "    </tr>\n",
       "    <tr>\n",
       "      <th>173</th>\n",
       "      <td>United Arab Emirates</td>\n",
       "      <td>365</td>\n",
       "      <td>372</td>\n",
       "    </tr>\n",
       "    <tr>\n",
       "      <th>86</th>\n",
       "      <td>Italy</td>\n",
       "      <td>364</td>\n",
       "      <td>364</td>\n",
       "    </tr>\n",
       "    <tr>\n",
       "      <th>50</th>\n",
       "      <td>Denmark</td>\n",
       "      <td>364</td>\n",
       "      <td>363</td>\n",
       "    </tr>\n",
       "    <tr>\n",
       "      <th>15</th>\n",
       "      <td>Belgium</td>\n",
       "      <td>363</td>\n",
       "      <td>362</td>\n",
       "    </tr>\n",
       "  </tbody>\n",
       "</table>\n",
       "</div>"
      ],
      "text/plain": [
       "                Countries  Export  Import\n",
       "132                Poland     370     375\n",
       "8                 Austria     370     370\n",
       "116           Netherlands     369     369\n",
       "174        United Kingdom     366     365\n",
       "63                 France     366     365\n",
       "69                Germany     365     366\n",
       "173  United Arab Emirates     365     372\n",
       "86                  Italy     364     364\n",
       "50                Denmark     364     363\n",
       "15                Belgium     363     362"
      ]
     },
     "execution_count": 69,
     "metadata": {},
     "output_type": "execute_result"
    }
   ],
   "source": [
    "# Show top 10 countries with most numbers of exporting items\n",
    "itemscount_by_country = itemscount_by_country.sort_values(by='Export',ascending=False)\n",
    "itemscount_by_country.head(10)"
   ]
  },
  {
   "cell_type": "code",
   "execution_count": 28,
   "metadata": {},
   "outputs": [
    {
     "data": {
      "text/html": [
       "<div>\n",
       "<style scoped>\n",
       "    .dataframe tbody tr th:only-of-type {\n",
       "        vertical-align: middle;\n",
       "    }\n",
       "\n",
       "    .dataframe tbody tr th {\n",
       "        vertical-align: top;\n",
       "    }\n",
       "\n",
       "    .dataframe thead th {\n",
       "        text-align: right;\n",
       "    }\n",
       "</style>\n",
       "<table border=\"1\" class=\"dataframe\">\n",
       "  <thead>\n",
       "    <tr style=\"text-align: right;\">\n",
       "      <th></th>\n",
       "      <th>Export</th>\n",
       "      <th>Import</th>\n",
       "    </tr>\n",
       "  </thead>\n",
       "  <tbody>\n",
       "    <tr>\n",
       "      <th>count</th>\n",
       "      <td>184.000000</td>\n",
       "      <td>184.000000</td>\n",
       "    </tr>\n",
       "    <tr>\n",
       "      <th>mean</th>\n",
       "      <td>267.788043</td>\n",
       "      <td>332.668478</td>\n",
       "    </tr>\n",
       "    <tr>\n",
       "      <th>std</th>\n",
       "      <td>93.621104</td>\n",
       "      <td>36.760841</td>\n",
       "    </tr>\n",
       "    <tr>\n",
       "      <th>min</th>\n",
       "      <td>11.000000</td>\n",
       "      <td>112.000000</td>\n",
       "    </tr>\n",
       "    <tr>\n",
       "      <th>25%</th>\n",
       "      <td>199.500000</td>\n",
       "      <td>323.000000</td>\n",
       "    </tr>\n",
       "    <tr>\n",
       "      <th>50%</th>\n",
       "      <td>306.500000</td>\n",
       "      <td>339.500000</td>\n",
       "    </tr>\n",
       "    <tr>\n",
       "      <th>75%</th>\n",
       "      <td>341.000000</td>\n",
       "      <td>356.000000</td>\n",
       "    </tr>\n",
       "    <tr>\n",
       "      <th>max</th>\n",
       "      <td>370.000000</td>\n",
       "      <td>376.000000</td>\n",
       "    </tr>\n",
       "  </tbody>\n",
       "</table>\n",
       "</div>"
      ],
      "text/plain": [
       "           Export      Import\n",
       "count  184.000000  184.000000\n",
       "mean   267.788043  332.668478\n",
       "std     93.621104   36.760841\n",
       "min     11.000000  112.000000\n",
       "25%    199.500000  323.000000\n",
       "50%    306.500000  339.500000\n",
       "75%    341.000000  356.000000\n",
       "max    370.000000  376.000000"
      ]
     },
     "execution_count": 28,
     "metadata": {},
     "output_type": "execute_result"
    }
   ],
   "source": [
    "itemscount_by_country.describe()"
   ]
  },
  {
   "cell_type": "code",
   "execution_count": 67,
   "metadata": {
    "scrolled": true
   },
   "outputs": [
    {
     "data": {
      "text/html": [
       "<div>\n",
       "<style scoped>\n",
       "    .dataframe tbody tr th:only-of-type {\n",
       "        vertical-align: middle;\n",
       "    }\n",
       "\n",
       "    .dataframe tbody tr th {\n",
       "        vertical-align: top;\n",
       "    }\n",
       "\n",
       "    .dataframe thead th {\n",
       "        text-align: right;\n",
       "    }\n",
       "</style>\n",
       "<table border=\"1\" class=\"dataframe\">\n",
       "  <thead>\n",
       "    <tr style=\"text-align: right;\">\n",
       "      <th></th>\n",
       "      <th>Countries</th>\n",
       "      <th>Export</th>\n",
       "      <th>Import</th>\n",
       "    </tr>\n",
       "  </thead>\n",
       "  <tbody>\n",
       "    <tr>\n",
       "      <th>176</th>\n",
       "      <td>United States of America</td>\n",
       "      <td>238</td>\n",
       "      <td>234</td>\n",
       "    </tr>\n",
       "    <tr>\n",
       "      <th>135</th>\n",
       "      <td>Republic of Korea</td>\n",
       "      <td>224</td>\n",
       "      <td>233</td>\n",
       "    </tr>\n",
       "    <tr>\n",
       "      <th>161</th>\n",
       "      <td>Switzerland</td>\n",
       "      <td>227</td>\n",
       "      <td>232</td>\n",
       "    </tr>\n",
       "    <tr>\n",
       "      <th>32</th>\n",
       "      <td>Canada</td>\n",
       "      <td>232</td>\n",
       "      <td>232</td>\n",
       "    </tr>\n",
       "    <tr>\n",
       "      <th>86</th>\n",
       "      <td>Italy</td>\n",
       "      <td>231</td>\n",
       "      <td>229</td>\n",
       "    </tr>\n",
       "    <tr>\n",
       "      <th>132</th>\n",
       "      <td>Poland</td>\n",
       "      <td>225</td>\n",
       "      <td>229</td>\n",
       "    </tr>\n",
       "    <tr>\n",
       "      <th>155</th>\n",
       "      <td>South Africa</td>\n",
       "      <td>240</td>\n",
       "      <td>227</td>\n",
       "    </tr>\n",
       "    <tr>\n",
       "      <th>63</th>\n",
       "      <td>France</td>\n",
       "      <td>230</td>\n",
       "      <td>227</td>\n",
       "    </tr>\n",
       "    <tr>\n",
       "      <th>163</th>\n",
       "      <td>Thailand</td>\n",
       "      <td>244</td>\n",
       "      <td>227</td>\n",
       "    </tr>\n",
       "    <tr>\n",
       "      <th>88</th>\n",
       "      <td>Japan</td>\n",
       "      <td>210</td>\n",
       "      <td>227</td>\n",
       "    </tr>\n",
       "  </tbody>\n",
       "</table>\n",
       "</div>"
      ],
      "text/plain": [
       "                    Countries  Export  Import\n",
       "176  United States of America     238     234\n",
       "135         Republic of Korea     224     233\n",
       "161               Switzerland     227     232\n",
       "32                     Canada     232     232\n",
       "86                      Italy     231     229\n",
       "132                    Poland     225     229\n",
       "155              South Africa     240     227\n",
       "63                     France     230     227\n",
       "163                  Thailand     244     227\n",
       "88                      Japan     210     227"
      ]
     },
     "execution_count": 67,
     "metadata": {},
     "output_type": "execute_result"
    }
   ],
   "source": [
    "# Show top 10 countries with most numbers of exporting partners\n",
    "partnerscount_by_country = partnerscount_by_country.sort_values(by='Export',ascending=False)\n",
    "partnerscount_by_country.head(10)"
   ]
  },
  {
   "cell_type": "code",
   "execution_count": 35,
   "metadata": {},
   "outputs": [
    {
     "data": {
      "text/html": [
       "<div>\n",
       "<style scoped>\n",
       "    .dataframe tbody tr th:only-of-type {\n",
       "        vertical-align: middle;\n",
       "    }\n",
       "\n",
       "    .dataframe tbody tr th {\n",
       "        vertical-align: top;\n",
       "    }\n",
       "\n",
       "    .dataframe thead th {\n",
       "        text-align: right;\n",
       "    }\n",
       "</style>\n",
       "<table border=\"1\" class=\"dataframe\">\n",
       "  <thead>\n",
       "    <tr style=\"text-align: right;\">\n",
       "      <th></th>\n",
       "      <th>Export</th>\n",
       "      <th>Import</th>\n",
       "    </tr>\n",
       "  </thead>\n",
       "  <tbody>\n",
       "    <tr>\n",
       "      <th>count</th>\n",
       "      <td>184.000000</td>\n",
       "      <td>184.000000</td>\n",
       "    </tr>\n",
       "    <tr>\n",
       "      <th>mean</th>\n",
       "      <td>147.663043</td>\n",
       "      <td>166.673913</td>\n",
       "    </tr>\n",
       "    <tr>\n",
       "      <th>std</th>\n",
       "      <td>65.005049</td>\n",
       "      <td>44.632956</td>\n",
       "    </tr>\n",
       "    <tr>\n",
       "      <th>min</th>\n",
       "      <td>6.000000</td>\n",
       "      <td>34.000000</td>\n",
       "    </tr>\n",
       "    <tr>\n",
       "      <th>25%</th>\n",
       "      <td>100.000000</td>\n",
       "      <td>138.500000</td>\n",
       "    </tr>\n",
       "    <tr>\n",
       "      <th>50%</th>\n",
       "      <td>158.000000</td>\n",
       "      <td>173.500000</td>\n",
       "    </tr>\n",
       "    <tr>\n",
       "      <th>75%</th>\n",
       "      <td>202.000000</td>\n",
       "      <td>200.250000</td>\n",
       "    </tr>\n",
       "    <tr>\n",
       "      <th>max</th>\n",
       "      <td>244.000000</td>\n",
       "      <td>234.000000</td>\n",
       "    </tr>\n",
       "  </tbody>\n",
       "</table>\n",
       "</div>"
      ],
      "text/plain": [
       "           Export      Import\n",
       "count  184.000000  184.000000\n",
       "mean   147.663043  166.673913\n",
       "std     65.005049   44.632956\n",
       "min      6.000000   34.000000\n",
       "25%    100.000000  138.500000\n",
       "50%    158.000000  173.500000\n",
       "75%    202.000000  200.250000\n",
       "max    244.000000  234.000000"
      ]
     },
     "execution_count": 35,
     "metadata": {},
     "output_type": "execute_result"
    }
   ],
   "source": [
    "partnerscount_by_country.describe()"
   ]
  },
  {
   "cell_type": "markdown",
   "metadata": {},
   "source": [
    " **Summary:** There is a big difference in items diversity among countries, as well as in number of trading partner countries"
   ]
  },
  {
   "cell_type": "markdown",
   "metadata": {},
   "source": [
    "### Visualization "
   ]
  },
  {
   "cell_type": "code",
   "execution_count": 110,
   "metadata": {},
   "outputs": [
    {
     "data": {
      "image/png": "[encoded data removed]",
      "text/plain": [
       "<Figure size 432x288 with 1 Axes>"
      ]
     },
     "metadata": {
      "needs_background": "light"
     },
     "output_type": "display_data"
    }
   ],
   "source": [
    "plt.hist(partnerscount_by_country['Export'],bins=15)\n",
    "plt.title('Distribution of number of export partners among countries')\n",
    "plt.ylabel('number of report countries')\n",
    "plt.xlabel('number of export partners')\n",
    "plt.show()"
   ]
  },
  {
   "cell_type": "code",
   "execution_count": 111,
   "metadata": {},
   "outputs": [
    {
     "data": {
      "image/png": "[encoded data removed]",
      "text/plain": [
       "<Figure size 432x288 with 1 Axes>"
      ]
     },
     "metadata": {
      "needs_background": "light"
     },
     "output_type": "display_data"
    }
   ],
   "source": [
    "plt.hist(partnerscount_by_country['Import'],bins=15)\n",
    "plt.title('Distribution of number of import partners among countries')\n",
    "plt.ylabel('number of report countries')\n",
    "plt.xlabel('number of import partners')\n",
    "plt.show()"
   ]
  },
  {
   "cell_type": "code",
   "execution_count": 112,
   "metadata": {},
   "outputs": [
    {
     "data": {
      "image/png": "[encoded data removed]",
      "text/plain": [
       "<Figure size 432x288 with 1 Axes>"
      ]
     },
     "metadata": {
      "needs_background": "light"
     },
     "output_type": "display_data"
    }
   ],
   "source": [
    "plt.hist(itemscount_by_country['Export'],bins=15)\n",
    "plt.title('Distribution of number of exported agricultural commodities among countries')\n",
    "plt.ylabel('number of report countries')\n",
    "plt.xlabel('number of types of exported agricultural commodities')\n",
    "plt.show()"
   ]
  },
  {
   "cell_type": "code",
   "execution_count": 115,
   "metadata": {},
   "outputs": [
    {
     "data": {
      "image/png": "[encoded data removed]",
      "text/plain": [
       "<Figure size 432x288 with 1 Axes>"
      ]
     },
     "metadata": {
      "needs_background": "light"
     },
     "output_type": "display_data"
    }
   ],
   "source": [
    "plt.hist(itemscount_by_country['Import'],bins=15)\n",
    "plt.title('Distribution of number of imported agricultural commodities among countries')\n",
    "plt.ylabel('number of report countries')\n",
    "plt.xlabel('number of types of imported agricultural commodities')\n",
    "plt.xlim(0,400)\n",
    "plt.show()"
   ]
  },
  {
   "cell_type": "code",
   "execution_count": 288,
   "metadata": {},
   "outputs": [],
   "source": [
    "# partnerscount_by_country.plot(x='Countries',kind='barh',fontsize= 8, figsize=(10,25))\n",
    "# plt.xlabel('Number of trading partner countries')\n",
    "# plt.show()"
   ]
  },
  {
   "cell_type": "code",
   "execution_count": 289,
   "metadata": {},
   "outputs": [],
   "source": [
    "# itemscount_by_country.plot(x='Countries',kind='barh',fontsize= 8, figsize=(10,25))\n",
    "# plt.xlabel('Number of types of agricultural commodities traded')\n",
    "# plt.show()"
   ]
  },
  {
   "attachments": {},
   "cell_type": "markdown",
   "metadata": {},
   "source": [
    "### 1.2 Rank items and countries by total values traded\n",
    "\n",
    "#### 1. Find the top five crops in exporting values summed between 1986 and 2017"
   ]
  },
  {
   "cell_type": "code",
   "execution_count": 75,
   "metadata": {},
   "outputs": [],
   "source": [
    "items_total = items_by_country.drop('Item Code',axis=1).groupby(['Item','Element']).sum().reset_index()"
   ]
  },
  {
   "cell_type": "code",
   "execution_count": 76,
   "metadata": {},
   "outputs": [
    {
     "data": {
      "text/plain": [
       "(1670, 34)"
      ]
     },
     "execution_count": 76,
     "metadata": {},
     "output_type": "execute_result"
    }
   ],
   "source": [
    "items_total.shape"
   ]
  },
  {
   "cell_type": "code",
   "execution_count": 77,
   "metadata": {},
   "outputs": [
    {
     "data": {
      "text/html": [
       "<div>\n",
       "<style scoped>\n",
       "    .dataframe tbody tr th:only-of-type {\n",
       "        vertical-align: middle;\n",
       "    }\n",
       "\n",
       "    .dataframe tbody tr th {\n",
       "        vertical-align: top;\n",
       "    }\n",
       "\n",
       "    .dataframe thead th {\n",
       "        text-align: right;\n",
       "    }\n",
       "</style>\n",
       "<table border=\"1\" class=\"dataframe\">\n",
       "  <thead>\n",
       "    <tr style=\"text-align: right;\">\n",
       "      <th></th>\n",
       "      <th>Item</th>\n",
       "      <th>Element</th>\n",
       "      <th>Y1986</th>\n",
       "      <th>Y1987</th>\n",
       "      <th>Y1988</th>\n",
       "      <th>Y1989</th>\n",
       "      <th>Y1990</th>\n",
       "      <th>Y1991</th>\n",
       "      <th>Y1992</th>\n",
       "      <th>Y1993</th>\n",
       "      <th>...</th>\n",
       "      <th>Y2008</th>\n",
       "      <th>Y2009</th>\n",
       "      <th>Y2010</th>\n",
       "      <th>Y2011</th>\n",
       "      <th>Y2012</th>\n",
       "      <th>Y2013</th>\n",
       "      <th>Y2014</th>\n",
       "      <th>Y2015</th>\n",
       "      <th>Y2016</th>\n",
       "      <th>Y2017</th>\n",
       "    </tr>\n",
       "  </thead>\n",
       "  <tbody>\n",
       "    <tr>\n",
       "      <th>0</th>\n",
       "      <td>Alfalfa meal and pellets</td>\n",
       "      <td>Export Quantity</td>\n",
       "      <td>780721.0</td>\n",
       "      <td>674729.0</td>\n",
       "      <td>1281274.0</td>\n",
       "      <td>945720.0</td>\n",
       "      <td>898612.0</td>\n",
       "      <td>1115589.0</td>\n",
       "      <td>1320243.0</td>\n",
       "      <td>1505566.0</td>\n",
       "      <td>...</td>\n",
       "      <td>1141409.0</td>\n",
       "      <td>917478.0</td>\n",
       "      <td>1301256.0</td>\n",
       "      <td>1352509.0</td>\n",
       "      <td>1629006.0</td>\n",
       "      <td>1230975.0</td>\n",
       "      <td>1230904.0</td>\n",
       "      <td>1257591.0</td>\n",
       "      <td>1250588.0</td>\n",
       "      <td>1185340.0</td>\n",
       "    </tr>\n",
       "    <tr>\n",
       "      <th>1</th>\n",
       "      <td>Alfalfa meal and pellets</td>\n",
       "      <td>Export Value</td>\n",
       "      <td>85939.0</td>\n",
       "      <td>76271.0</td>\n",
       "      <td>162381.0</td>\n",
       "      <td>124439.0</td>\n",
       "      <td>124086.0</td>\n",
       "      <td>137893.0</td>\n",
       "      <td>158757.0</td>\n",
       "      <td>170117.0</td>\n",
       "      <td>...</td>\n",
       "      <td>283189.0</td>\n",
       "      <td>199680.0</td>\n",
       "      <td>325348.0</td>\n",
       "      <td>338355.0</td>\n",
       "      <td>454384.0</td>\n",
       "      <td>344310.0</td>\n",
       "      <td>335681.0</td>\n",
       "      <td>303085.0</td>\n",
       "      <td>308622.0</td>\n",
       "      <td>316512.0</td>\n",
       "    </tr>\n",
       "    <tr>\n",
       "      <th>2</th>\n",
       "      <td>Alfalfa meal and pellets</td>\n",
       "      <td>Import Quantity</td>\n",
       "      <td>747809.0</td>\n",
       "      <td>625348.0</td>\n",
       "      <td>922591.0</td>\n",
       "      <td>878304.0</td>\n",
       "      <td>861054.0</td>\n",
       "      <td>1026067.0</td>\n",
       "      <td>1129702.0</td>\n",
       "      <td>1316800.0</td>\n",
       "      <td>...</td>\n",
       "      <td>1045324.0</td>\n",
       "      <td>722642.0</td>\n",
       "      <td>814707.0</td>\n",
       "      <td>807915.0</td>\n",
       "      <td>862389.0</td>\n",
       "      <td>762030.0</td>\n",
       "      <td>1840831.0</td>\n",
       "      <td>1999653.0</td>\n",
       "      <td>1979886.0</td>\n",
       "      <td>928731.0</td>\n",
       "    </tr>\n",
       "    <tr>\n",
       "      <th>3</th>\n",
       "      <td>Alfalfa meal and pellets</td>\n",
       "      <td>Import Value</td>\n",
       "      <td>91413.0</td>\n",
       "      <td>77803.0</td>\n",
       "      <td>119357.0</td>\n",
       "      <td>120259.0</td>\n",
       "      <td>126511.0</td>\n",
       "      <td>134983.0</td>\n",
       "      <td>153154.0</td>\n",
       "      <td>159708.0</td>\n",
       "      <td>...</td>\n",
       "      <td>325525.0</td>\n",
       "      <td>186694.0</td>\n",
       "      <td>192576.0</td>\n",
       "      <td>230616.0</td>\n",
       "      <td>261140.0</td>\n",
       "      <td>256209.0</td>\n",
       "      <td>651632.0</td>\n",
       "      <td>590255.0</td>\n",
       "      <td>522431.0</td>\n",
       "      <td>265593.0</td>\n",
       "    </tr>\n",
       "    <tr>\n",
       "      <th>4</th>\n",
       "      <td>Almonds shelled</td>\n",
       "      <td>Export Quantity</td>\n",
       "      <td>100123.0</td>\n",
       "      <td>89685.0</td>\n",
       "      <td>117115.0</td>\n",
       "      <td>125555.0</td>\n",
       "      <td>136050.0</td>\n",
       "      <td>114860.0</td>\n",
       "      <td>152612.0</td>\n",
       "      <td>164122.0</td>\n",
       "      <td>...</td>\n",
       "      <td>469820.0</td>\n",
       "      <td>545526.0</td>\n",
       "      <td>558735.0</td>\n",
       "      <td>624217.0</td>\n",
       "      <td>651907.0</td>\n",
       "      <td>680869.0</td>\n",
       "      <td>691473.0</td>\n",
       "      <td>661657.0</td>\n",
       "      <td>755735.0</td>\n",
       "      <td>777981.0</td>\n",
       "    </tr>\n",
       "  </tbody>\n",
       "</table>\n",
       "<p>5 rows × 34 columns</p>\n",
       "</div>"
      ],
      "text/plain": [
       "                       Item          Element     Y1986     Y1987      Y1988  \\\n",
       "0  Alfalfa meal and pellets  Export Quantity  780721.0  674729.0  1281274.0   \n",
       "1  Alfalfa meal and pellets     Export Value   85939.0   76271.0   162381.0   \n",
       "2  Alfalfa meal and pellets  Import Quantity  747809.0  625348.0   922591.0   \n",
       "3  Alfalfa meal and pellets     Import Value   91413.0   77803.0   119357.0   \n",
       "4           Almonds shelled  Export Quantity  100123.0   89685.0   117115.0   \n",
       "\n",
       "      Y1989     Y1990      Y1991      Y1992      Y1993  ...      Y2008  \\\n",
       "0  945720.0  898612.0  1115589.0  1320243.0  1505566.0  ...  1141409.0   \n",
       "1  124439.0  124086.0   137893.0   158757.0   170117.0  ...   283189.0   \n",
       "2  878304.0  861054.0  1026067.0  1129702.0  1316800.0  ...  1045324.0   \n",
       "3  120259.0  126511.0   134983.0   153154.0   159708.0  ...   325525.0   \n",
       "4  125555.0  136050.0   114860.0   152612.0   164122.0  ...   469820.0   \n",
       "\n",
       "      Y2009      Y2010      Y2011      Y2012      Y2013      Y2014      Y2015  \\\n",
       "0  917478.0  1301256.0  1352509.0  1629006.0  1230975.0  1230904.0  1257591.0   \n",
       "1  199680.0   325348.0   338355.0   454384.0   344310.0   335681.0   303085.0   \n",
       "2  722642.0   814707.0   807915.0   862389.0   762030.0  1840831.0  1999653.0   \n",
       "3  186694.0   192576.0   230616.0   261140.0   256209.0   651632.0   590255.0   \n",
       "4  545526.0   558735.0   624217.0   651907.0   680869.0   691473.0   661657.0   \n",
       "\n",
       "       Y2016      Y2017  \n",
       "0  1250588.0  1185340.0  \n",
       "1   308622.0   316512.0  \n",
       "2  1979886.0   928731.0  \n",
       "3   522431.0   265593.0  \n",
       "4   755735.0   777981.0  \n",
       "\n",
       "[5 rows x 34 columns]"
      ]
     },
     "execution_count": 77,
     "metadata": {},
     "output_type": "execute_result"
    }
   ],
   "source": [
    "items_total.head()"
   ]
  },
  {
   "cell_type": "code",
   "execution_count": 78,
   "metadata": {},
   "outputs": [],
   "source": [
    "years = items_total.columns[2:]"
   ]
  },
  {
   "cell_type": "code",
   "execution_count": 79,
   "metadata": {},
   "outputs": [
    {
     "data": {
      "text/plain": [
       "Index(['Y1986', 'Y1987', 'Y1988', 'Y1989', 'Y1990', 'Y1991', 'Y1992', 'Y1993',\n",
       "       'Y1994', 'Y1995', 'Y1996', 'Y1997', 'Y1998', 'Y1999', 'Y2000', 'Y2001',\n",
       "       'Y2002', 'Y2003', 'Y2004', 'Y2005', 'Y2006', 'Y2007', 'Y2008', 'Y2009',\n",
       "       'Y2010', 'Y2011', 'Y2012', 'Y2013', 'Y2014', 'Y2015', 'Y2016', 'Y2017'],\n",
       "      dtype='object')"
      ]
     },
     "execution_count": 79,
     "metadata": {},
     "output_type": "execute_result"
    }
   ],
   "source": [
    "years"
   ]
  },
  {
   "cell_type": "code",
   "execution_count": 80,
   "metadata": {},
   "outputs": [],
   "source": [
    "items_total['Sum'] = items_total[years].sum(axis=1)"
   ]
  },
  {
   "cell_type": "markdown",
   "metadata": {},
   "source": [
    "We shall focus on export quantity and value of crops."
   ]
  },
  {
   "cell_type": "code",
   "execution_count": 89,
   "metadata": {},
   "outputs": [],
   "source": [
    "items_total_exportQ = items_total.loc[items_total['Element']=='Export Quantity',:]\n",
    "items_total_exportV = items_total.loc[items_total['Element']=='Export Value',:]"
   ]
  },
  {
   "cell_type": "code",
   "execution_count": 290,
   "metadata": {},
   "outputs": [
    {
     "name": "stdout",
     "output_type": "stream",
     "text": [
      "595                              Food prep nes\n",
      "1635                                     Wheat\n",
      "1431                                  Soybeans\n",
      "431                            Crude materials\n",
      "1647                                      Wine\n",
      "873                                      Maize\n",
      "99              Beverages, distilled alcoholic\n",
      "931       Meat, cattle, boneless (beef & veal)\n",
      "291                     Cheese, whole cow milk\n",
      "331                                 Cigarettes\n",
      "1155                                 Oil, palm\n",
      "223                             Cake, soybeans\n",
      "323                     Chocolate products nes\n",
      "1227                                    Pastry\n",
      "935                              Meat, chicken\n",
      "379                              Coffee, green\n",
      "1347    Rice - total  (Rice milled equivalent)\n",
      "979                                 Meat, pork\n",
      "403                                Cotton lint\n",
      "1371                        Rubber natural dry\n",
      "Name: Item, dtype: object\n",
      "(417, 35)\n"
     ]
    }
   ],
   "source": [
    "# Check the top items in export value and select crops\n",
    "items_total_exportV = items_total_exportV.sort_values(by='Sum',ascending=False)\n",
    "print(items_total_exportV['Item'][:20])\n",
    "print(items_total_exportV.shape)"
   ]
  },
  {
   "cell_type": "markdown",
   "metadata": {},
   "source": [
    "The top five exported crops between 1986 and 2017 (in 1000 US$, not counting processed products) are:   \n",
    "Wheat, Soybeans, Maize, Coffee, and Cotton"
   ]
  },
  {
   "cell_type": "markdown",
   "metadata": {},
   "source": [
    "#### 2. Find the top five countries in terms of total exporting values during the past three years"
   ]
  },
  {
   "cell_type": "code",
   "execution_count": 106,
   "metadata": {},
   "outputs": [],
   "source": [
    "country_total = partners_by_country.groupby(['Reporter Countries','Element']).sum().reset_index()"
   ]
  },
  {
   "cell_type": "code",
   "execution_count": 107,
   "metadata": {},
   "outputs": [],
   "source": [
    "country_total['3y_mean'] = country_total[['Y2015','Y2016','Y2017']].mean(axis=1)"
   ]
  },
  {
   "cell_type": "code",
   "execution_count": 110,
   "metadata": {},
   "outputs": [],
   "source": [
    "country_total = country_total.sort_values(by='3y_mean', ascending=False)\n",
    "country_total_exportV = country_total.loc[country_total['Element']=='Export Value',:]"
   ]
  },
  {
   "cell_type": "code",
   "execution_count": 291,
   "metadata": {},
   "outputs": [
    {
     "name": "stdout",
     "output_type": "stream",
     "text": [
      "352    United States of America\n",
      "232                 Netherlands\n",
      "138                     Germany\n",
      "48                       Brazil\n",
      "126                      France\n",
      "76              China, mainland\n",
      "312                       Spain\n",
      "64                       Canada\n",
      "172                       Italy\n",
      "30                      Belgium\n",
      "326                    Thailand\n",
      "164                   Indonesia\n",
      "8                     Argentina\n",
      "14                    Australia\n",
      "162                       India\n",
      "218                      Mexico\n",
      "348              United Kingdom\n",
      "264                      Poland\n",
      "204                    Malaysia\n",
      "238                 New Zealand\n",
      "Name: Reporter Countries, dtype: object\n"
     ]
    }
   ],
   "source": [
    "# Find top countries in exporting values of agricultural goods\n",
    "print(country_total_exportV['Reporter Countries'][:20])"
   ]
  },
  {
   "cell_type": "markdown",
   "metadata": {},
   "source": [
    "The top 5 countries in 3-year average (2015-2017) exporting values of agricultural commodities are:  \n",
    "USA, Netherlands, Germany, Brazil and France"
   ]
  },
  {
   "cell_type": "code",
   "execution_count": 112,
   "metadata": {},
   "outputs": [
    {
     "data": {
      "text/plain": [
       "(184, 35)"
      ]
     },
     "execution_count": 112,
     "metadata": {},
     "output_type": "execute_result"
    }
   ],
   "source": [
    "country_total_exportV.shape"
   ]
  },
  {
   "cell_type": "markdown",
   "metadata": {},
   "source": [
    "## 2. Build simple linear regression models on time series data for the top crops and countries\n",
    "\n",
    "### 2.1 Models for wheat export \n",
    "\n",
    "#### 1) Find countries that have more complete data set >50% (16 years) non-zero trading data for wheat"
   ]
  },
  {
   "cell_type": "code",
   "execution_count": 114,
   "metadata": {},
   "outputs": [
    {
     "data": {
      "text/html": [
       "<div>\n",
       "<style scoped>\n",
       "    .dataframe tbody tr th:only-of-type {\n",
       "        vertical-align: middle;\n",
       "    }\n",
       "\n",
       "    .dataframe tbody tr th {\n",
       "        vertical-align: top;\n",
       "    }\n",
       "\n",
       "    .dataframe thead th {\n",
       "        text-align: right;\n",
       "    }\n",
       "</style>\n",
       "<table border=\"1\" class=\"dataframe\">\n",
       "  <thead>\n",
       "    <tr style=\"text-align: right;\">\n",
       "      <th></th>\n",
       "      <th>Reporter Countries</th>\n",
       "      <th>Item</th>\n",
       "      <th>Element</th>\n",
       "      <th>Unit</th>\n",
       "      <th>Item Code</th>\n",
       "      <th>Y1986</th>\n",
       "      <th>Y1987</th>\n",
       "      <th>Y1988</th>\n",
       "      <th>Y1989</th>\n",
       "      <th>Y1990</th>\n",
       "      <th>...</th>\n",
       "      <th>Y2008</th>\n",
       "      <th>Y2009</th>\n",
       "      <th>Y2010</th>\n",
       "      <th>Y2011</th>\n",
       "      <th>Y2012</th>\n",
       "      <th>Y2013</th>\n",
       "      <th>Y2014</th>\n",
       "      <th>Y2015</th>\n",
       "      <th>Y2016</th>\n",
       "      <th>Y2017</th>\n",
       "    </tr>\n",
       "  </thead>\n",
       "  <tbody>\n",
       "    <tr>\n",
       "      <th>0</th>\n",
       "      <td>Afghanistan</td>\n",
       "      <td>Almonds shelled</td>\n",
       "      <td>Export Quantity</td>\n",
       "      <td>tonnes</td>\n",
       "      <td>5313</td>\n",
       "      <td>0.0</td>\n",
       "      <td>0.0</td>\n",
       "      <td>0.0</td>\n",
       "      <td>0.0</td>\n",
       "      <td>0.0</td>\n",
       "      <td>...</td>\n",
       "      <td>0.0</td>\n",
       "      <td>4763.0</td>\n",
       "      <td>1308.0</td>\n",
       "      <td>2261.0</td>\n",
       "      <td>0.0</td>\n",
       "      <td>0.0</td>\n",
       "      <td>2714.0</td>\n",
       "      <td>2086.0</td>\n",
       "      <td>1778.0</td>\n",
       "      <td>2756.0</td>\n",
       "    </tr>\n",
       "    <tr>\n",
       "      <th>1</th>\n",
       "      <td>Afghanistan</td>\n",
       "      <td>Almonds shelled</td>\n",
       "      <td>Export Value</td>\n",
       "      <td>1000 US$</td>\n",
       "      <td>5313</td>\n",
       "      <td>0.0</td>\n",
       "      <td>0.0</td>\n",
       "      <td>0.0</td>\n",
       "      <td>0.0</td>\n",
       "      <td>0.0</td>\n",
       "      <td>...</td>\n",
       "      <td>0.0</td>\n",
       "      <td>35476.0</td>\n",
       "      <td>15894.0</td>\n",
       "      <td>20270.0</td>\n",
       "      <td>0.0</td>\n",
       "      <td>0.0</td>\n",
       "      <td>16454.0</td>\n",
       "      <td>12793.0</td>\n",
       "      <td>10934.0</td>\n",
       "      <td>19677.0</td>\n",
       "    </tr>\n",
       "    <tr>\n",
       "      <th>2</th>\n",
       "      <td>Afghanistan</td>\n",
       "      <td>Almonds shelled</td>\n",
       "      <td>Import Quantity</td>\n",
       "      <td>tonnes</td>\n",
       "      <td>1617</td>\n",
       "      <td>0.0</td>\n",
       "      <td>0.0</td>\n",
       "      <td>0.0</td>\n",
       "      <td>0.0</td>\n",
       "      <td>0.0</td>\n",
       "      <td>...</td>\n",
       "      <td>0.0</td>\n",
       "      <td>0.0</td>\n",
       "      <td>0.0</td>\n",
       "      <td>0.0</td>\n",
       "      <td>0.0</td>\n",
       "      <td>0.0</td>\n",
       "      <td>168.0</td>\n",
       "      <td>181.0</td>\n",
       "      <td>846.0</td>\n",
       "      <td>103.0</td>\n",
       "    </tr>\n",
       "    <tr>\n",
       "      <th>3</th>\n",
       "      <td>Afghanistan</td>\n",
       "      <td>Almonds shelled</td>\n",
       "      <td>Import Value</td>\n",
       "      <td>1000 US$</td>\n",
       "      <td>1617</td>\n",
       "      <td>0.0</td>\n",
       "      <td>0.0</td>\n",
       "      <td>0.0</td>\n",
       "      <td>0.0</td>\n",
       "      <td>0.0</td>\n",
       "      <td>...</td>\n",
       "      <td>0.0</td>\n",
       "      <td>0.0</td>\n",
       "      <td>0.0</td>\n",
       "      <td>0.0</td>\n",
       "      <td>0.0</td>\n",
       "      <td>0.0</td>\n",
       "      <td>1117.0</td>\n",
       "      <td>1377.0</td>\n",
       "      <td>4988.0</td>\n",
       "      <td>759.0</td>\n",
       "    </tr>\n",
       "    <tr>\n",
       "      <th>4</th>\n",
       "      <td>Afghanistan</td>\n",
       "      <td>Almonds, with shell</td>\n",
       "      <td>Export Quantity</td>\n",
       "      <td>tonnes</td>\n",
       "      <td>3315</td>\n",
       "      <td>0.0</td>\n",
       "      <td>0.0</td>\n",
       "      <td>0.0</td>\n",
       "      <td>0.0</td>\n",
       "      <td>0.0</td>\n",
       "      <td>...</td>\n",
       "      <td>0.0</td>\n",
       "      <td>11066.0</td>\n",
       "      <td>779.0</td>\n",
       "      <td>1016.0</td>\n",
       "      <td>0.0</td>\n",
       "      <td>0.0</td>\n",
       "      <td>1856.0</td>\n",
       "      <td>1660.0</td>\n",
       "      <td>1545.0</td>\n",
       "      <td>875.0</td>\n",
       "    </tr>\n",
       "  </tbody>\n",
       "</table>\n",
       "<p>5 rows × 37 columns</p>\n",
       "</div>"
      ],
      "text/plain": [
       "  Reporter Countries                 Item          Element      Unit  \\\n",
       "0        Afghanistan      Almonds shelled  Export Quantity    tonnes   \n",
       "1        Afghanistan      Almonds shelled     Export Value  1000 US$   \n",
       "2        Afghanistan      Almonds shelled  Import Quantity    tonnes   \n",
       "3        Afghanistan      Almonds shelled     Import Value  1000 US$   \n",
       "4        Afghanistan  Almonds, with shell  Export Quantity    tonnes   \n",
       "\n",
       "   Item Code  Y1986  Y1987  Y1988  Y1989  Y1990  ...  Y2008    Y2009    Y2010  \\\n",
       "0       5313    0.0    0.0    0.0    0.0    0.0  ...    0.0   4763.0   1308.0   \n",
       "1       5313    0.0    0.0    0.0    0.0    0.0  ...    0.0  35476.0  15894.0   \n",
       "2       1617    0.0    0.0    0.0    0.0    0.0  ...    0.0      0.0      0.0   \n",
       "3       1617    0.0    0.0    0.0    0.0    0.0  ...    0.0      0.0      0.0   \n",
       "4       3315    0.0    0.0    0.0    0.0    0.0  ...    0.0  11066.0    779.0   \n",
       "\n",
       "     Y2011  Y2012  Y2013    Y2014    Y2015    Y2016    Y2017  \n",
       "0   2261.0    0.0    0.0   2714.0   2086.0   1778.0   2756.0  \n",
       "1  20270.0    0.0    0.0  16454.0  12793.0  10934.0  19677.0  \n",
       "2      0.0    0.0    0.0    168.0    181.0    846.0    103.0  \n",
       "3      0.0    0.0    0.0   1117.0   1377.0   4988.0    759.0  \n",
       "4   1016.0    0.0    0.0   1856.0   1660.0   1545.0    875.0  \n",
       "\n",
       "[5 rows x 37 columns]"
      ]
     },
     "execution_count": 114,
     "metadata": {},
     "output_type": "execute_result"
    }
   ],
   "source": [
    "items_by_country.head()"
   ]
  },
  {
   "cell_type": "code",
   "execution_count": 118,
   "metadata": {},
   "outputs": [],
   "source": [
    "# Calculate number of years with non-zero trading data\n",
    "items_by_country['NoneZero'] = 32 - (items_by_country[years] == 0).sum(axis=1)"
   ]
  },
  {
   "cell_type": "markdown",
   "metadata": {},
   "source": [
    "#### 2) data preprocessing "
   ]
  },
  {
   "cell_type": "code",
   "execution_count": 131,
   "metadata": {},
   "outputs": [
    {
     "name": "stdout",
     "output_type": "stream",
     "text": [
      "(75, 38)\n"
     ]
    },
    {
     "data": {
      "text/html": [
       "<div>\n",
       "<style scoped>\n",
       "    .dataframe tbody tr th:only-of-type {\n",
       "        vertical-align: middle;\n",
       "    }\n",
       "\n",
       "    .dataframe tbody tr th {\n",
       "        vertical-align: top;\n",
       "    }\n",
       "\n",
       "    .dataframe thead th {\n",
       "        text-align: right;\n",
       "    }\n",
       "</style>\n",
       "<table border=\"1\" class=\"dataframe\">\n",
       "  <thead>\n",
       "    <tr style=\"text-align: right;\">\n",
       "      <th></th>\n",
       "      <th>Reporter Countries</th>\n",
       "      <th>Item</th>\n",
       "      <th>Element</th>\n",
       "      <th>Unit</th>\n",
       "      <th>Item Code</th>\n",
       "      <th>Y1986</th>\n",
       "      <th>Y1987</th>\n",
       "      <th>Y1988</th>\n",
       "      <th>Y1989</th>\n",
       "      <th>Y1990</th>\n",
       "      <th>...</th>\n",
       "      <th>Y2009</th>\n",
       "      <th>Y2010</th>\n",
       "      <th>Y2011</th>\n",
       "      <th>Y2012</th>\n",
       "      <th>Y2013</th>\n",
       "      <th>Y2014</th>\n",
       "      <th>Y2015</th>\n",
       "      <th>Y2016</th>\n",
       "      <th>Y2017</th>\n",
       "      <th>NoneZero</th>\n",
       "    </tr>\n",
       "  </thead>\n",
       "  <tbody>\n",
       "    <tr>\n",
       "      <th>5830</th>\n",
       "      <td>Argentina</td>\n",
       "      <td>Wheat</td>\n",
       "      <td>Export Value</td>\n",
       "      <td>1000 US$</td>\n",
       "      <td>1830</td>\n",
       "      <td>374614.0</td>\n",
       "      <td>351003.0</td>\n",
       "      <td>355226.0</td>\n",
       "      <td>657540.0</td>\n",
       "      <td>870936.0</td>\n",
       "      <td>...</td>\n",
       "      <td>1001973.0</td>\n",
       "      <td>901824.0</td>\n",
       "      <td>2508660.0</td>\n",
       "      <td>2937806.0</td>\n",
       "      <td>725395.0</td>\n",
       "      <td>603675.0</td>\n",
       "      <td>1032847.0</td>\n",
       "      <td>1867747.0</td>\n",
       "      <td>2361856.0</td>\n",
       "      <td>32</td>\n",
       "    </tr>\n",
       "    <tr>\n",
       "      <th>9409</th>\n",
       "      <td>Australia</td>\n",
       "      <td>Wheat</td>\n",
       "      <td>Export Value</td>\n",
       "      <td>1000 US$</td>\n",
       "      <td>1770</td>\n",
       "      <td>1837595.0</td>\n",
       "      <td>1369375.0</td>\n",
       "      <td>1066732.0</td>\n",
       "      <td>1382707.0</td>\n",
       "      <td>1664054.0</td>\n",
       "      <td>...</td>\n",
       "      <td>3254699.0</td>\n",
       "      <td>3845506.0</td>\n",
       "      <td>5709040.0</td>\n",
       "      <td>6765445.0</td>\n",
       "      <td>5895653.0</td>\n",
       "      <td>5343407.0</td>\n",
       "      <td>4371505.0</td>\n",
       "      <td>3621345.0</td>\n",
       "      <td>4650327.0</td>\n",
       "      <td>32</td>\n",
       "    </tr>\n",
       "    <tr>\n",
       "      <th>10905</th>\n",
       "      <td>Austria</td>\n",
       "      <td>Wheat</td>\n",
       "      <td>Export Value</td>\n",
       "      <td>1000 US$</td>\n",
       "      <td>1185</td>\n",
       "      <td>32330.0</td>\n",
       "      <td>40372.0</td>\n",
       "      <td>78313.0</td>\n",
       "      <td>79656.0</td>\n",
       "      <td>53462.0</td>\n",
       "      <td>...</td>\n",
       "      <td>144764.0</td>\n",
       "      <td>202892.0</td>\n",
       "      <td>248774.0</td>\n",
       "      <td>205418.0</td>\n",
       "      <td>205738.0</td>\n",
       "      <td>290428.0</td>\n",
       "      <td>236625.0</td>\n",
       "      <td>192220.0</td>\n",
       "      <td>195575.0</td>\n",
       "      <td>32</td>\n",
       "    </tr>\n",
       "    <tr>\n",
       "      <th>17128</th>\n",
       "      <td>Barbados</td>\n",
       "      <td>Wheat</td>\n",
       "      <td>Export Value</td>\n",
       "      <td>1000 US$</td>\n",
       "      <td>135</td>\n",
       "      <td>1.0</td>\n",
       "      <td>0.0</td>\n",
       "      <td>0.0</td>\n",
       "      <td>0.0</td>\n",
       "      <td>291.0</td>\n",
       "      <td>...</td>\n",
       "      <td>1.0</td>\n",
       "      <td>1.0</td>\n",
       "      <td>18.0</td>\n",
       "      <td>15.0</td>\n",
       "      <td>76.0</td>\n",
       "      <td>37.0</td>\n",
       "      <td>0.0</td>\n",
       "      <td>0.0</td>\n",
       "      <td>1.0</td>\n",
       "      <td>19</td>\n",
       "    </tr>\n",
       "    <tr>\n",
       "      <th>18465</th>\n",
       "      <td>Belarus</td>\n",
       "      <td>Wheat</td>\n",
       "      <td>Export Value</td>\n",
       "      <td>1000 US$</td>\n",
       "      <td>135</td>\n",
       "      <td>0.0</td>\n",
       "      <td>0.0</td>\n",
       "      <td>0.0</td>\n",
       "      <td>0.0</td>\n",
       "      <td>0.0</td>\n",
       "      <td>...</td>\n",
       "      <td>24.0</td>\n",
       "      <td>746.0</td>\n",
       "      <td>211.0</td>\n",
       "      <td>194.0</td>\n",
       "      <td>240.0</td>\n",
       "      <td>280.0</td>\n",
       "      <td>4934.0</td>\n",
       "      <td>11986.0</td>\n",
       "      <td>180.0</td>\n",
       "      <td>19</td>\n",
       "    </tr>\n",
       "  </tbody>\n",
       "</table>\n",
       "<p>5 rows × 38 columns</p>\n",
       "</div>"
      ],
      "text/plain": [
       "      Reporter Countries   Item       Element      Unit  Item Code      Y1986  \\\n",
       "5830           Argentina  Wheat  Export Value  1000 US$       1830   374614.0   \n",
       "9409           Australia  Wheat  Export Value  1000 US$       1770  1837595.0   \n",
       "10905            Austria  Wheat  Export Value  1000 US$       1185    32330.0   \n",
       "17128           Barbados  Wheat  Export Value  1000 US$        135        1.0   \n",
       "18465            Belarus  Wheat  Export Value  1000 US$        135        0.0   \n",
       "\n",
       "           Y1987      Y1988      Y1989      Y1990  ...      Y2009      Y2010  \\\n",
       "5830    351003.0   355226.0   657540.0   870936.0  ...  1001973.0   901824.0   \n",
       "9409   1369375.0  1066732.0  1382707.0  1664054.0  ...  3254699.0  3845506.0   \n",
       "10905    40372.0    78313.0    79656.0    53462.0  ...   144764.0   202892.0   \n",
       "17128        0.0        0.0        0.0      291.0  ...        1.0        1.0   \n",
       "18465        0.0        0.0        0.0        0.0  ...       24.0      746.0   \n",
       "\n",
       "           Y2011      Y2012      Y2013      Y2014      Y2015      Y2016  \\\n",
       "5830   2508660.0  2937806.0   725395.0   603675.0  1032847.0  1867747.0   \n",
       "9409   5709040.0  6765445.0  5895653.0  5343407.0  4371505.0  3621345.0   \n",
       "10905   248774.0   205418.0   205738.0   290428.0   236625.0   192220.0   \n",
       "17128       18.0       15.0       76.0       37.0        0.0        0.0   \n",
       "18465      211.0      194.0      240.0      280.0     4934.0    11986.0   \n",
       "\n",
       "           Y2017  NoneZero  \n",
       "5830   2361856.0        32  \n",
       "9409   4650327.0        32  \n",
       "10905   195575.0        32  \n",
       "17128        1.0        19  \n",
       "18465      180.0        19  \n",
       "\n",
       "[5 rows x 38 columns]"
      ]
     },
     "execution_count": 131,
     "metadata": {},
     "output_type": "execute_result"
    }
   ],
   "source": [
    "# Select countries with >= 16 years of wheat export data\n",
    "wheat_export_value = items_by_country.loc[(items_by_country['Item']=='Wheat')&(items_by_country['Element']=='Export Value'),:]\n",
    "wheat_export_value_50 = wheat_export_value.loc[wheat_export_value['NoneZero']>=16,:]\n",
    "print(wheat_export_value_50.shape)\n",
    "wheat_export_value_50.head()\n",
    "\n",
    "# 75 countries were selected"
   ]
  },
  {
   "cell_type": "code",
   "execution_count": 129,
   "metadata": {},
   "outputs": [
    {
     "name": "stdout",
     "output_type": "stream",
     "text": [
      "214508    United States of America\n",
      "169076          Russian Federation\n",
      "40138                       Canada\n",
      "9409                     Australia\n",
      "77138                       France\n",
      "208674                     Ukraine\n",
      "5830                     Argentina\n",
      "83516                      Germany\n",
      "167644                     Romania\n",
      "33153                     Bulgaria\n",
      "Name: Reporter Countries, dtype: object\n"
     ]
    }
   ],
   "source": [
    "print(wheat_export_value_50.sort_values(by='Y2017',ascending=False)['Reporter Countries'][:10])"
   ]
  },
  {
   "cell_type": "code",
   "execution_count": 293,
   "metadata": {},
   "outputs": [],
   "source": [
    "# Reshape data from wide to long by years \n",
    "wheat_long = wheat_export_value_50.melt(['Reporter Countries'],years,'year','value')"
   ]
  },
  {
   "cell_type": "code",
   "execution_count": 294,
   "metadata": {},
   "outputs": [
    {
     "data": {
      "text/html": [
       "<div>\n",
       "<style scoped>\n",
       "    .dataframe tbody tr th:only-of-type {\n",
       "        vertical-align: middle;\n",
       "    }\n",
       "\n",
       "    .dataframe tbody tr th {\n",
       "        vertical-align: top;\n",
       "    }\n",
       "\n",
       "    .dataframe thead th {\n",
       "        text-align: right;\n",
       "    }\n",
       "</style>\n",
       "<table border=\"1\" class=\"dataframe\">\n",
       "  <thead>\n",
       "    <tr style=\"text-align: right;\">\n",
       "      <th></th>\n",
       "      <th>Reporter Countries</th>\n",
       "      <th>year</th>\n",
       "      <th>value</th>\n",
       "    </tr>\n",
       "  </thead>\n",
       "  <tbody>\n",
       "    <tr>\n",
       "      <th>0</th>\n",
       "      <td>Argentina</td>\n",
       "      <td>Y1986</td>\n",
       "      <td>374614.0</td>\n",
       "    </tr>\n",
       "    <tr>\n",
       "      <th>1</th>\n",
       "      <td>Australia</td>\n",
       "      <td>Y1986</td>\n",
       "      <td>1837595.0</td>\n",
       "    </tr>\n",
       "    <tr>\n",
       "      <th>2</th>\n",
       "      <td>Austria</td>\n",
       "      <td>Y1986</td>\n",
       "      <td>32330.0</td>\n",
       "    </tr>\n",
       "    <tr>\n",
       "      <th>3</th>\n",
       "      <td>Barbados</td>\n",
       "      <td>Y1986</td>\n",
       "      <td>1.0</td>\n",
       "    </tr>\n",
       "    <tr>\n",
       "      <th>4</th>\n",
       "      <td>Belarus</td>\n",
       "      <td>Y1986</td>\n",
       "      <td>0.0</td>\n",
       "    </tr>\n",
       "  </tbody>\n",
       "</table>\n",
       "</div>"
      ],
      "text/plain": [
       "  Reporter Countries   year      value\n",
       "0          Argentina  Y1986   374614.0\n",
       "1          Australia  Y1986  1837595.0\n",
       "2            Austria  Y1986    32330.0\n",
       "3           Barbados  Y1986        1.0\n",
       "4            Belarus  Y1986        0.0"
      ]
     },
     "execution_count": 294,
     "metadata": {},
     "output_type": "execute_result"
    }
   ],
   "source": [
    "wheat_long.head()"
   ]
  },
  {
   "cell_type": "code",
   "execution_count": 164,
   "metadata": {},
   "outputs": [],
   "source": [
    "# Convert df to time series\n",
    "wheat_long['year'] = wheat_long['year'].map(lambda x: x.lstrip('Y')) # strip Y from year names for easy converting to ts\n",
    "wheat_long.year = pd.to_datetime(wheat_long.year, unit='Y')"
   ]
  },
  {
   "cell_type": "code",
   "execution_count": 165,
   "metadata": {},
   "outputs": [
    {
     "data": {
      "text/html": [
       "<div>\n",
       "<style scoped>\n",
       "    .dataframe tbody tr th:only-of-type {\n",
       "        vertical-align: middle;\n",
       "    }\n",
       "\n",
       "    .dataframe tbody tr th {\n",
       "        vertical-align: top;\n",
       "    }\n",
       "\n",
       "    .dataframe thead th {\n",
       "        text-align: right;\n",
       "    }\n",
       "</style>\n",
       "<table border=\"1\" class=\"dataframe\">\n",
       "  <thead>\n",
       "    <tr style=\"text-align: right;\">\n",
       "      <th></th>\n",
       "      <th>Reporter Countries</th>\n",
       "      <th>year</th>\n",
       "      <th>value</th>\n",
       "    </tr>\n",
       "  </thead>\n",
       "  <tbody>\n",
       "    <tr>\n",
       "      <th>0</th>\n",
       "      <td>Argentina</td>\n",
       "      <td>1986-01-01</td>\n",
       "      <td>374614.0</td>\n",
       "    </tr>\n",
       "    <tr>\n",
       "      <th>1</th>\n",
       "      <td>Australia</td>\n",
       "      <td>1986-01-01</td>\n",
       "      <td>1837595.0</td>\n",
       "    </tr>\n",
       "    <tr>\n",
       "      <th>2</th>\n",
       "      <td>Austria</td>\n",
       "      <td>1986-01-01</td>\n",
       "      <td>32330.0</td>\n",
       "    </tr>\n",
       "    <tr>\n",
       "      <th>3</th>\n",
       "      <td>Barbados</td>\n",
       "      <td>1986-01-01</td>\n",
       "      <td>1.0</td>\n",
       "    </tr>\n",
       "    <tr>\n",
       "      <th>4</th>\n",
       "      <td>Belarus</td>\n",
       "      <td>1986-01-01</td>\n",
       "      <td>0.0</td>\n",
       "    </tr>\n",
       "  </tbody>\n",
       "</table>\n",
       "</div>"
      ],
      "text/plain": [
       "  Reporter Countries       year      value\n",
       "0          Argentina 1986-01-01   374614.0\n",
       "1          Australia 1986-01-01  1837595.0\n",
       "2            Austria 1986-01-01    32330.0\n",
       "3           Barbados 1986-01-01        1.0\n",
       "4            Belarus 1986-01-01        0.0"
      ]
     },
     "execution_count": 165,
     "metadata": {},
     "output_type": "execute_result"
    }
   ],
   "source": [
    "wheat_long.head()"
   ]
  },
  {
   "cell_type": "code",
   "execution_count": 208,
   "metadata": {},
   "outputs": [],
   "source": [
    "# Reshape data from long to wide, by countries\n",
    "wheat_wide = wheat_long.pivot(index='year',columns='Reporter Countries',values='value')"
   ]
  },
  {
   "cell_type": "code",
   "execution_count": 209,
   "metadata": {
    "scrolled": false
   },
   "outputs": [
    {
     "data": {
      "text/html": [
       "<div>\n",
       "<style scoped>\n",
       "    .dataframe tbody tr th:only-of-type {\n",
       "        vertical-align: middle;\n",
       "    }\n",
       "\n",
       "    .dataframe tbody tr th {\n",
       "        vertical-align: top;\n",
       "    }\n",
       "\n",
       "    .dataframe thead th {\n",
       "        text-align: right;\n",
       "    }\n",
       "</style>\n",
       "<table border=\"1\" class=\"dataframe\">\n",
       "  <thead>\n",
       "    <tr style=\"text-align: right;\">\n",
       "      <th>Reporter Countries</th>\n",
       "      <th>Argentina</th>\n",
       "      <th>Australia</th>\n",
       "      <th>Austria</th>\n",
       "      <th>Barbados</th>\n",
       "      <th>Belarus</th>\n",
       "      <th>Belgium</th>\n",
       "      <th>Brazil</th>\n",
       "      <th>Bulgaria</th>\n",
       "      <th>Canada</th>\n",
       "      <th>Chile</th>\n",
       "      <th>...</th>\n",
       "      <th>Turkey</th>\n",
       "      <th>Uganda</th>\n",
       "      <th>Ukraine</th>\n",
       "      <th>United Kingdom</th>\n",
       "      <th>United Republic of Tanzania</th>\n",
       "      <th>United States of America</th>\n",
       "      <th>Uruguay</th>\n",
       "      <th>Yemen</th>\n",
       "      <th>Zambia</th>\n",
       "      <th>Zimbabwe</th>\n",
       "    </tr>\n",
       "    <tr>\n",
       "      <th>year</th>\n",
       "      <th></th>\n",
       "      <th></th>\n",
       "      <th></th>\n",
       "      <th></th>\n",
       "      <th></th>\n",
       "      <th></th>\n",
       "      <th></th>\n",
       "      <th></th>\n",
       "      <th></th>\n",
       "      <th></th>\n",
       "      <th></th>\n",
       "      <th></th>\n",
       "      <th></th>\n",
       "      <th></th>\n",
       "      <th></th>\n",
       "      <th></th>\n",
       "      <th></th>\n",
       "      <th></th>\n",
       "      <th></th>\n",
       "      <th></th>\n",
       "      <th></th>\n",
       "    </tr>\n",
       "  </thead>\n",
       "  <tbody>\n",
       "    <tr>\n",
       "      <th>1986-01-01</th>\n",
       "      <td>374614.0</td>\n",
       "      <td>1837595.0</td>\n",
       "      <td>32330.0</td>\n",
       "      <td>1.0</td>\n",
       "      <td>0.0</td>\n",
       "      <td>0.0</td>\n",
       "      <td>0.0</td>\n",
       "      <td>41970.0</td>\n",
       "      <td>2030112.0</td>\n",
       "      <td>10.0</td>\n",
       "      <td>...</td>\n",
       "      <td>1836.0</td>\n",
       "      <td>0.0</td>\n",
       "      <td>0.0</td>\n",
       "      <td>539790.0</td>\n",
       "      <td>0.0</td>\n",
       "      <td>2996911.0</td>\n",
       "      <td>0.0</td>\n",
       "      <td>0.0</td>\n",
       "      <td>0.0</td>\n",
       "      <td>0.0</td>\n",
       "    </tr>\n",
       "    <tr>\n",
       "      <th>1987-01-01</th>\n",
       "      <td>351003.0</td>\n",
       "      <td>1369375.0</td>\n",
       "      <td>40372.0</td>\n",
       "      <td>0.0</td>\n",
       "      <td>0.0</td>\n",
       "      <td>0.0</td>\n",
       "      <td>0.0</td>\n",
       "      <td>0.0</td>\n",
       "      <td>2409105.0</td>\n",
       "      <td>2421.0</td>\n",
       "      <td>...</td>\n",
       "      <td>28298.0</td>\n",
       "      <td>0.0</td>\n",
       "      <td>0.0</td>\n",
       "      <td>436869.0</td>\n",
       "      <td>0.0</td>\n",
       "      <td>3024544.0</td>\n",
       "      <td>0.0</td>\n",
       "      <td>0.0</td>\n",
       "      <td>0.0</td>\n",
       "      <td>8.0</td>\n",
       "    </tr>\n",
       "    <tr>\n",
       "      <th>1988-01-01</th>\n",
       "      <td>355226.0</td>\n",
       "      <td>1066732.0</td>\n",
       "      <td>78313.0</td>\n",
       "      <td>0.0</td>\n",
       "      <td>0.0</td>\n",
       "      <td>0.0</td>\n",
       "      <td>0.0</td>\n",
       "      <td>63101.0</td>\n",
       "      <td>3596008.0</td>\n",
       "      <td>18.0</td>\n",
       "      <td>...</td>\n",
       "      <td>173522.0</td>\n",
       "      <td>0.0</td>\n",
       "      <td>0.0</td>\n",
       "      <td>246768.0</td>\n",
       "      <td>0.0</td>\n",
       "      <td>4858495.0</td>\n",
       "      <td>0.0</td>\n",
       "      <td>0.0</td>\n",
       "      <td>0.0</td>\n",
       "      <td>0.0</td>\n",
       "    </tr>\n",
       "    <tr>\n",
       "      <th>1989-01-01</th>\n",
       "      <td>657540.0</td>\n",
       "      <td>1382707.0</td>\n",
       "      <td>79656.0</td>\n",
       "      <td>0.0</td>\n",
       "      <td>0.0</td>\n",
       "      <td>0.0</td>\n",
       "      <td>0.0</td>\n",
       "      <td>0.0</td>\n",
       "      <td>2173767.0</td>\n",
       "      <td>25.0</td>\n",
       "      <td>...</td>\n",
       "      <td>67682.0</td>\n",
       "      <td>0.0</td>\n",
       "      <td>0.0</td>\n",
       "      <td>462332.0</td>\n",
       "      <td>0.0</td>\n",
       "      <td>5905543.0</td>\n",
       "      <td>24194.0</td>\n",
       "      <td>0.0</td>\n",
       "      <td>0.0</td>\n",
       "      <td>0.0</td>\n",
       "    </tr>\n",
       "    <tr>\n",
       "      <th>1990-01-01</th>\n",
       "      <td>870936.0</td>\n",
       "      <td>1664054.0</td>\n",
       "      <td>53462.0</td>\n",
       "      <td>291.0</td>\n",
       "      <td>0.0</td>\n",
       "      <td>0.0</td>\n",
       "      <td>0.0</td>\n",
       "      <td>0.0</td>\n",
       "      <td>2847737.0</td>\n",
       "      <td>356.0</td>\n",
       "      <td>...</td>\n",
       "      <td>4382.0</td>\n",
       "      <td>0.0</td>\n",
       "      <td>0.0</td>\n",
       "      <td>746334.0</td>\n",
       "      <td>0.0</td>\n",
       "      <td>3866314.0</td>\n",
       "      <td>22861.0</td>\n",
       "      <td>0.0</td>\n",
       "      <td>0.0</td>\n",
       "      <td>0.0</td>\n",
       "    </tr>\n",
       "  </tbody>\n",
       "</table>\n",
       "<p>5 rows × 75 columns</p>\n",
       "</div>"
      ],
      "text/plain": [
       "Reporter Countries  Argentina  Australia  Austria  Barbados  Belarus  Belgium  \\\n",
       "year                                                                            \n",
       "1986-01-01           374614.0  1837595.0  32330.0       1.0      0.0      0.0   \n",
       "1987-01-01           351003.0  1369375.0  40372.0       0.0      0.0      0.0   \n",
       "1988-01-01           355226.0  1066732.0  78313.0       0.0      0.0      0.0   \n",
       "1989-01-01           657540.0  1382707.0  79656.0       0.0      0.0      0.0   \n",
       "1990-01-01           870936.0  1664054.0  53462.0     291.0      0.0      0.0   \n",
       "\n",
       "Reporter Countries  Brazil  Bulgaria     Canada   Chile  ...    Turkey  \\\n",
       "year                                                     ...             \n",
       "1986-01-01             0.0   41970.0  2030112.0    10.0  ...    1836.0   \n",
       "1987-01-01             0.0       0.0  2409105.0  2421.0  ...   28298.0   \n",
       "1988-01-01             0.0   63101.0  3596008.0    18.0  ...  173522.0   \n",
       "1989-01-01             0.0       0.0  2173767.0    25.0  ...   67682.0   \n",
       "1990-01-01             0.0       0.0  2847737.0   356.0  ...    4382.0   \n",
       "\n",
       "Reporter Countries  Uganda  Ukraine  United Kingdom  \\\n",
       "year                                                  \n",
       "1986-01-01             0.0      0.0        539790.0   \n",
       "1987-01-01             0.0      0.0        436869.0   \n",
       "1988-01-01             0.0      0.0        246768.0   \n",
       "1989-01-01             0.0      0.0        462332.0   \n",
       "1990-01-01             0.0      0.0        746334.0   \n",
       "\n",
       "Reporter Countries  United Republic of Tanzania  United States of America  \\\n",
       "year                                                                        \n",
       "1986-01-01                                  0.0                 2996911.0   \n",
       "1987-01-01                                  0.0                 3024544.0   \n",
       "1988-01-01                                  0.0                 4858495.0   \n",
       "1989-01-01                                  0.0                 5905543.0   \n",
       "1990-01-01                                  0.0                 3866314.0   \n",
       "\n",
       "Reporter Countries  Uruguay  Yemen  Zambia  Zimbabwe  \n",
       "year                                                  \n",
       "1986-01-01              0.0    0.0     0.0       0.0  \n",
       "1987-01-01              0.0    0.0     0.0       8.0  \n",
       "1988-01-01              0.0    0.0     0.0       0.0  \n",
       "1989-01-01          24194.0    0.0     0.0       0.0  \n",
       "1990-01-01          22861.0    0.0     0.0       0.0  \n",
       "\n",
       "[5 rows x 75 columns]"
      ]
     },
     "execution_count": 209,
     "metadata": {},
     "output_type": "execute_result"
    }
   ],
   "source": [
    "wheat_wide.head()"
   ]
  },
  {
   "cell_type": "code",
   "execution_count": 300,
   "metadata": {},
   "outputs": [
    {
     "data": {
      "image/png": "[encoded data removed]",
      "text/plain": [
       "<Figure size 432x288 with 1 Axes>"
      ]
     },
     "metadata": {
      "needs_background": "light"
     },
     "output_type": "display_data"
    }
   ],
   "source": [
    "# Visualize data by countries \n",
    "# This data now contains zeros (potential missing values)\n",
    "wheat_wide.plot(legend=False)\n",
    "#plt.title('Annual wheat export value by countries (1986 - 2017)')\n",
    "plt.ylabel('Annual wheat export value (1000 US$)')\n",
    "plt.show()"
   ]
  },
  {
   "cell_type": "markdown",
   "metadata": {},
   "source": [
    "### Q: interpolate zeors or not? \n",
    "zeros are not necessary missing values\n"
   ]
  },
  {
   "cell_type": "code",
   "execution_count": 211,
   "metadata": {},
   "outputs": [],
   "source": [
    "# # Interpolate outliers\n",
    "# wheat_wide = wheat_wide.replace(0,np.nan) # Replace zeros with nans\n",
    "\n",
    "# # Interpolate use linear method\n",
    "# wheat_wide_interp = wheat_wide.interpolate('linear')\n",
    "# wheat_wide_interp.head()"
   ]
  },
  {
   "cell_type": "markdown",
   "metadata": {},
   "source": [
    "After linear interpolation, there are still many Nans because for some countries the first year's data are zeros."
   ]
  },
  {
   "cell_type": "markdown",
   "metadata": {},
   "source": [
    "#### 3) Linear regression model with raw time series data (baseline model)"
   ]
  },
  {
   "cell_type": "code",
   "execution_count": 301,
   "metadata": {},
   "outputs": [],
   "source": [
    "from sklearn.linear_model import Ridge\n",
    "from sklearn.model_selection import train_test_split, cross_val_score, TimeSeriesSplit\n",
    "from sklearn.metrics import r2_score"
   ]
  },
  {
   "cell_type": "code",
   "execution_count": 380,
   "metadata": {},
   "outputs": [
    {
     "data": {
      "text/html": [
       "<div>\n",
       "<style scoped>\n",
       "    .dataframe tbody tr th:only-of-type {\n",
       "        vertical-align: middle;\n",
       "    }\n",
       "\n",
       "    .dataframe tbody tr th {\n",
       "        vertical-align: top;\n",
       "    }\n",
       "\n",
       "    .dataframe thead th {\n",
       "        text-align: right;\n",
       "    }\n",
       "</style>\n",
       "<table border=\"1\" class=\"dataframe\">\n",
       "  <thead>\n",
       "    <tr style=\"text-align: right;\">\n",
       "      <th>Reporter Countries</th>\n",
       "      <th>Finland</th>\n",
       "    </tr>\n",
       "    <tr>\n",
       "      <th>year</th>\n",
       "      <th></th>\n",
       "    </tr>\n",
       "  </thead>\n",
       "  <tbody>\n",
       "    <tr>\n",
       "      <th>1986-01-01</th>\n",
       "      <td>5019.0</td>\n",
       "    </tr>\n",
       "    <tr>\n",
       "      <th>1987-01-01</th>\n",
       "      <td>10491.0</td>\n",
       "    </tr>\n",
       "    <tr>\n",
       "      <th>1988-01-01</th>\n",
       "      <td>438.0</td>\n",
       "    </tr>\n",
       "    <tr>\n",
       "      <th>1989-01-01</th>\n",
       "      <td>8460.0</td>\n",
       "    </tr>\n",
       "    <tr>\n",
       "      <th>1990-01-01</th>\n",
       "      <td>3401.0</td>\n",
       "    </tr>\n",
       "  </tbody>\n",
       "</table>\n",
       "</div>"
      ],
      "text/plain": [
       "Reporter Countries  Finland\n",
       "year                       \n",
       "1986-01-01           5019.0\n",
       "1987-01-01          10491.0\n",
       "1988-01-01            438.0\n",
       "1989-01-01           8460.0\n",
       "1990-01-01           3401.0"
      ]
     },
     "execution_count": 380,
     "metadata": {},
     "output_type": "execute_result"
    }
   ],
   "source": [
    "# Randomly select a country as y, the rest countries as X \n",
    "# Use countries in X to predict the wheat export of country in y at a timestamp\n",
    "country = wheat_wide.sample(1,axis=1, random_state=1)\n",
    "country.head()"
   ]
  },
  {
   "cell_type": "code",
   "execution_count": 382,
   "metadata": {},
   "outputs": [
    {
     "name": "stdout",
     "output_type": "stream",
     "text": [
      "(32, 74)\n",
      "(32, 1)\n"
     ]
    }
   ],
   "source": [
    "X = wheat_wide.drop(country, axis=1).values\n",
    "y = country.values\n",
    "print(X.shape)\n",
    "print(y.shape)"
   ]
  },
  {
   "cell_type": "code",
   "execution_count": 308,
   "metadata": {},
   "outputs": [
    {
     "name": "stdout",
     "output_type": "stream",
     "text": [
      "[  -82.41073431 -1475.51969324   -13.17808944    -4.20519267\n",
      "    -2.61037821]\n"
     ]
    }
   ],
   "source": [
    "# Cross validation\n",
    "cv = TimeSeriesSplit(n_splits=5)\n",
    "scores = cross_val_score(Ridge(), X, y, cv=cv)\n",
    "print(scores)"
   ]
  },
  {
   "cell_type": "markdown",
   "metadata": {},
   "source": [
    "### Problem: too few data points per sample (country)"
   ]
  },
  {
   "cell_type": "code",
   "execution_count": 269,
   "metadata": {},
   "outputs": [
    {
     "name": "stdout",
     "output_type": "stream",
     "text": [
      "-4.159187817069363\n"
     ]
    }
   ],
   "source": [
    "# Split data into training and test sets\n",
    "X_train, X_test, y_train, y_test = train_test_split(X,y, \n",
    "                                                    train_size=.6, shuffle=False, random_state=1)\n",
    "\n",
    "model = Ridge()\n",
    "model.fit(X_train,y_train)\n",
    "predictions = model.predict(X_test)\n",
    "score = r2_score(y_test,predictions)\n",
    "print(score)"
   ]
  },
  {
   "cell_type": "code",
   "execution_count": 287,
   "metadata": {
    "scrolled": true
   },
   "outputs": [
    {
     "data": {
      "image/png": "[encoded data removed]",
      "text/plain": [
       "<Figure size 720x360 with 1 Axes>"
      ]
     },
     "metadata": {
      "needs_background": "light"
     },
     "output_type": "display_data"
    }
   ],
   "source": [
    "# Visualize prediction results\n",
    "fig, ax = plt.subplots(figsize=(10, 5))\n",
    "ax.plot(y_test, color='k', lw=3)\n",
    "ax.plot(predictions, color='r', lw=2)\n",
    "plt.show()"
   ]
  },
  {
   "cell_type": "markdown",
   "metadata": {},
   "source": [
    "Summary: Not surprisingly, using raw data the baseline model performance is very poor. Next will need to do feature engineering to improve predictions. Clustering time series among countries may also help."
   ]
  },
  {
   "cell_type": "markdown",
   "metadata": {},
   "source": [
    "#### Q : different ways to frame the question (and thus different modeling approaches), or ask different questions?\n",
    "#### The potential goal is to eventually being able to forecast wheat export for specific countries such as top exporters, or to forecast global wheat export. "
   ]
  },
  {
   "cell_type": "markdown",
   "metadata": {},
   "source": [
    "#### 4) Feature engineering          \n",
    "\n",
    "We shall first calculate basic features with rolling windows, such as mean, max, min, std.  \n",
    "Then we will use package tsfresh to automatically generate and screen hundreds of features."
   ]
  },
  {
   "cell_type": "code",
   "execution_count": 309,
   "metadata": {},
   "outputs": [
    {
     "data": {
      "text/html": [
       "<div>\n",
       "<style scoped>\n",
       "    .dataframe tbody tr th:only-of-type {\n",
       "        vertical-align: middle;\n",
       "    }\n",
       "\n",
       "    .dataframe tbody tr th {\n",
       "        vertical-align: top;\n",
       "    }\n",
       "\n",
       "    .dataframe thead th {\n",
       "        text-align: right;\n",
       "    }\n",
       "</style>\n",
       "<table border=\"1\" class=\"dataframe\">\n",
       "  <thead>\n",
       "    <tr style=\"text-align: right;\">\n",
       "      <th>Reporter Countries</th>\n",
       "      <th>Argentina</th>\n",
       "      <th>Australia</th>\n",
       "      <th>Austria</th>\n",
       "      <th>Barbados</th>\n",
       "      <th>Belarus</th>\n",
       "      <th>Belgium</th>\n",
       "      <th>Brazil</th>\n",
       "      <th>Bulgaria</th>\n",
       "      <th>Canada</th>\n",
       "      <th>Chile</th>\n",
       "      <th>...</th>\n",
       "      <th>Turkey</th>\n",
       "      <th>Uganda</th>\n",
       "      <th>Ukraine</th>\n",
       "      <th>United Kingdom</th>\n",
       "      <th>United Republic of Tanzania</th>\n",
       "      <th>United States of America</th>\n",
       "      <th>Uruguay</th>\n",
       "      <th>Yemen</th>\n",
       "      <th>Zambia</th>\n",
       "      <th>Zimbabwe</th>\n",
       "    </tr>\n",
       "    <tr>\n",
       "      <th>year</th>\n",
       "      <th></th>\n",
       "      <th></th>\n",
       "      <th></th>\n",
       "      <th></th>\n",
       "      <th></th>\n",
       "      <th></th>\n",
       "      <th></th>\n",
       "      <th></th>\n",
       "      <th></th>\n",
       "      <th></th>\n",
       "      <th></th>\n",
       "      <th></th>\n",
       "      <th></th>\n",
       "      <th></th>\n",
       "      <th></th>\n",
       "      <th></th>\n",
       "      <th></th>\n",
       "      <th></th>\n",
       "      <th></th>\n",
       "      <th></th>\n",
       "      <th></th>\n",
       "    </tr>\n",
       "  </thead>\n",
       "  <tbody>\n",
       "    <tr>\n",
       "      <th>1986-01-01</th>\n",
       "      <td>374614.0</td>\n",
       "      <td>1837595.0</td>\n",
       "      <td>32330.0</td>\n",
       "      <td>1.0</td>\n",
       "      <td>0.0</td>\n",
       "      <td>0.0</td>\n",
       "      <td>0.0</td>\n",
       "      <td>41970.0</td>\n",
       "      <td>2030112.0</td>\n",
       "      <td>10.0</td>\n",
       "      <td>...</td>\n",
       "      <td>1836.0</td>\n",
       "      <td>0.0</td>\n",
       "      <td>0.0</td>\n",
       "      <td>539790.0</td>\n",
       "      <td>0.0</td>\n",
       "      <td>2996911.0</td>\n",
       "      <td>0.0</td>\n",
       "      <td>0.0</td>\n",
       "      <td>0.0</td>\n",
       "      <td>0.0</td>\n",
       "    </tr>\n",
       "    <tr>\n",
       "      <th>1987-01-01</th>\n",
       "      <td>351003.0</td>\n",
       "      <td>1369375.0</td>\n",
       "      <td>40372.0</td>\n",
       "      <td>0.0</td>\n",
       "      <td>0.0</td>\n",
       "      <td>0.0</td>\n",
       "      <td>0.0</td>\n",
       "      <td>0.0</td>\n",
       "      <td>2409105.0</td>\n",
       "      <td>2421.0</td>\n",
       "      <td>...</td>\n",
       "      <td>28298.0</td>\n",
       "      <td>0.0</td>\n",
       "      <td>0.0</td>\n",
       "      <td>436869.0</td>\n",
       "      <td>0.0</td>\n",
       "      <td>3024544.0</td>\n",
       "      <td>0.0</td>\n",
       "      <td>0.0</td>\n",
       "      <td>0.0</td>\n",
       "      <td>8.0</td>\n",
       "    </tr>\n",
       "    <tr>\n",
       "      <th>1988-01-01</th>\n",
       "      <td>355226.0</td>\n",
       "      <td>1066732.0</td>\n",
       "      <td>78313.0</td>\n",
       "      <td>0.0</td>\n",
       "      <td>0.0</td>\n",
       "      <td>0.0</td>\n",
       "      <td>0.0</td>\n",
       "      <td>63101.0</td>\n",
       "      <td>3596008.0</td>\n",
       "      <td>18.0</td>\n",
       "      <td>...</td>\n",
       "      <td>173522.0</td>\n",
       "      <td>0.0</td>\n",
       "      <td>0.0</td>\n",
       "      <td>246768.0</td>\n",
       "      <td>0.0</td>\n",
       "      <td>4858495.0</td>\n",
       "      <td>0.0</td>\n",
       "      <td>0.0</td>\n",
       "      <td>0.0</td>\n",
       "      <td>0.0</td>\n",
       "    </tr>\n",
       "    <tr>\n",
       "      <th>1989-01-01</th>\n",
       "      <td>657540.0</td>\n",
       "      <td>1382707.0</td>\n",
       "      <td>79656.0</td>\n",
       "      <td>0.0</td>\n",
       "      <td>0.0</td>\n",
       "      <td>0.0</td>\n",
       "      <td>0.0</td>\n",
       "      <td>0.0</td>\n",
       "      <td>2173767.0</td>\n",
       "      <td>25.0</td>\n",
       "      <td>...</td>\n",
       "      <td>67682.0</td>\n",
       "      <td>0.0</td>\n",
       "      <td>0.0</td>\n",
       "      <td>462332.0</td>\n",
       "      <td>0.0</td>\n",
       "      <td>5905543.0</td>\n",
       "      <td>24194.0</td>\n",
       "      <td>0.0</td>\n",
       "      <td>0.0</td>\n",
       "      <td>0.0</td>\n",
       "    </tr>\n",
       "    <tr>\n",
       "      <th>1990-01-01</th>\n",
       "      <td>870936.0</td>\n",
       "      <td>1664054.0</td>\n",
       "      <td>53462.0</td>\n",
       "      <td>291.0</td>\n",
       "      <td>0.0</td>\n",
       "      <td>0.0</td>\n",
       "      <td>0.0</td>\n",
       "      <td>0.0</td>\n",
       "      <td>2847737.0</td>\n",
       "      <td>356.0</td>\n",
       "      <td>...</td>\n",
       "      <td>4382.0</td>\n",
       "      <td>0.0</td>\n",
       "      <td>0.0</td>\n",
       "      <td>746334.0</td>\n",
       "      <td>0.0</td>\n",
       "      <td>3866314.0</td>\n",
       "      <td>22861.0</td>\n",
       "      <td>0.0</td>\n",
       "      <td>0.0</td>\n",
       "      <td>0.0</td>\n",
       "    </tr>\n",
       "  </tbody>\n",
       "</table>\n",
       "<p>5 rows × 74 columns</p>\n",
       "</div>"
      ],
      "text/plain": [
       "Reporter Countries  Argentina  Australia  Austria  Barbados  Belarus  Belgium  \\\n",
       "year                                                                            \n",
       "1986-01-01           374614.0  1837595.0  32330.0       1.0      0.0      0.0   \n",
       "1987-01-01           351003.0  1369375.0  40372.0       0.0      0.0      0.0   \n",
       "1988-01-01           355226.0  1066732.0  78313.0       0.0      0.0      0.0   \n",
       "1989-01-01           657540.0  1382707.0  79656.0       0.0      0.0      0.0   \n",
       "1990-01-01           870936.0  1664054.0  53462.0     291.0      0.0      0.0   \n",
       "\n",
       "Reporter Countries  Brazil  Bulgaria     Canada   Chile  ...    Turkey  \\\n",
       "year                                                     ...             \n",
       "1986-01-01             0.0   41970.0  2030112.0    10.0  ...    1836.0   \n",
       "1987-01-01             0.0       0.0  2409105.0  2421.0  ...   28298.0   \n",
       "1988-01-01             0.0   63101.0  3596008.0    18.0  ...  173522.0   \n",
       "1989-01-01             0.0       0.0  2173767.0    25.0  ...   67682.0   \n",
       "1990-01-01             0.0       0.0  2847737.0   356.0  ...    4382.0   \n",
       "\n",
       "Reporter Countries  Uganda  Ukraine  United Kingdom  \\\n",
       "year                                                  \n",
       "1986-01-01             0.0      0.0        539790.0   \n",
       "1987-01-01             0.0      0.0        436869.0   \n",
       "1988-01-01             0.0      0.0        246768.0   \n",
       "1989-01-01             0.0      0.0        462332.0   \n",
       "1990-01-01             0.0      0.0        746334.0   \n",
       "\n",
       "Reporter Countries  United Republic of Tanzania  United States of America  \\\n",
       "year                                                                        \n",
       "1986-01-01                                  0.0                 2996911.0   \n",
       "1987-01-01                                  0.0                 3024544.0   \n",
       "1988-01-01                                  0.0                 4858495.0   \n",
       "1989-01-01                                  0.0                 5905543.0   \n",
       "1990-01-01                                  0.0                 3866314.0   \n",
       "\n",
       "Reporter Countries  Uruguay  Yemen  Zambia  Zimbabwe  \n",
       "year                                                  \n",
       "1986-01-01              0.0    0.0     0.0       0.0  \n",
       "1987-01-01              0.0    0.0     0.0       8.0  \n",
       "1988-01-01              0.0    0.0     0.0       0.0  \n",
       "1989-01-01          24194.0    0.0     0.0       0.0  \n",
       "1990-01-01          22861.0    0.0     0.0       0.0  \n",
       "\n",
       "[5 rows x 74 columns]"
      ]
     },
     "execution_count": 309,
     "metadata": {},
     "output_type": "execute_result"
    }
   ],
   "source": [
    "countries.head()"
   ]
  },
  {
   "cell_type": "code",
   "execution_count": 316,
   "metadata": {},
   "outputs": [],
   "source": [
    "# Take Argentina as an example\n",
    "features = countries['Argentina'].rolling(5).aggregate([np.mean,np.max,np.min,np.std])\n",
    "argentina = countries['Argentina']"
   ]
  },
  {
   "cell_type": "code",
   "execution_count": 318,
   "metadata": {},
   "outputs": [
    {
     "data": {
      "image/png": "[encoded data removed]",
      "text/plain": [
       "<Figure size 432x288 with 1 Axes>"
      ]
     },
     "metadata": {
      "needs_background": "light"
     },
     "output_type": "display_data"
    }
   ],
   "source": [
    "ax = features.plot()\n",
    "argentina.plot(ax=ax, color='k',alpha=.2, lw=3)\n",
    "ax.legend(loc=(1.01, .6))\n",
    "plt.show()"
   ]
  },
  {
   "cell_type": "code",
   "execution_count": 346,
   "metadata": {},
   "outputs": [],
   "source": [
    "# Calculate for all countries, store in separate dataframes\n",
    "means = pd.DataFrame()\n",
    "maxs = pd.DataFrame()\n",
    "mins = pd.DataFrame()\n",
    "stds = pd.DataFrame()\n",
    "\n",
    "for country in wheat_wide.columns:\n",
    "    \n",
    "    means[country] = wheat_wide[country].rolling(5).mean()\n",
    "    maxs[country] = wheat_wide[country].rolling(5).max()\n",
    "    mins[country] = wheat_wide[country].rolling(5).min()\n",
    "    stds[country] = wheat_wide[country].rolling(5).std()\n"
   ]
  },
  {
   "cell_type": "code",
   "execution_count": 370,
   "metadata": {},
   "outputs": [
    {
     "data": {
      "image/png": "[encoded data removed]",
      "text/plain": [
       "<Figure size 432x288 with 1 Axes>"
      ]
     },
     "metadata": {
      "needs_background": "light"
     },
     "output_type": "display_data"
    }
   ],
   "source": [
    "#fig,axs = plt.subplots(1,2,figsize=(15,5))\n",
    "means.plot(legend=False)\n",
    "#maxs.plot(ax=axs[1],legend=False)\n",
    "#mins.plot(ax=axs[0])\n",
    "#stds.plot(ax=axs[1],legend=False)\n",
    "plt.title('Rolling means of wheat export among countries')\n",
    "plt.show()\n"
   ]
  },
  {
   "cell_type": "markdown",
   "metadata": {},
   "source": [
    "Next, run linear regression models again use calculated features"
   ]
  },
  {
   "cell_type": "code",
   "execution_count": 414,
   "metadata": {},
   "outputs": [
    {
     "name": "stdout",
     "output_type": "stream",
     "text": [
      "(28, 74)\n",
      "(28,)\n",
      "[-61.56011821  -1.7921544  -14.36738359   0.85628575   0.77400283]\n"
     ]
    }
   ],
   "source": [
    "# Use means\n",
    "\n",
    "X = means.drop('Finland',axis=1).dropna().values\n",
    "y= means['Finland'].dropna().values\n",
    "print(X.shape)\n",
    "print(y.shape)\n",
    "\n",
    "# Cross validation\n",
    "cv = TimeSeriesSplit(n_splits=5)\n",
    "scores = cross_val_score(Ridge(), X, y, cv=cv)\n",
    "print(scores)"
   ]
  },
  {
   "cell_type": "code",
   "execution_count": 415,
   "metadata": {},
   "outputs": [
    {
     "name": "stdout",
     "output_type": "stream",
     "text": [
      "-3.184599503808763\n"
     ]
    }
   ],
   "source": [
    "# Split data into training and test sets\n",
    "X_train, X_test, y_train, y_test = train_test_split(X,y, \n",
    "                                                    train_size=.6, shuffle=False, random_state=1)\n",
    "\n",
    "model = Ridge()\n",
    "model.fit(X_train,y_train)\n",
    "predictions = model.predict(X_test)\n",
    "score = r2_score(y_test,predictions)\n",
    "print(score)"
   ]
  },
  {
   "cell_type": "markdown",
   "metadata": {},
   "source": [
    "Use rolling means slightly improved model, but results still unsatisfactory."
   ]
  },
  {
   "cell_type": "markdown",
   "metadata": {},
   "source": [
    "### 2.2 Models for top five crops, treating crops as features\n",
    "#### 1) Data preprocessing"
   ]
  },
  {
   "cell_type": "code",
   "execution_count": 444,
   "metadata": {},
   "outputs": [],
   "source": [
    "# extract crops and \n",
    "# rank countries by non-zero years, slicing the top half countries with less non-zero data\n",
    "# Reshape dataframe to treat crops as features and countries as samples\n",
    "crops = ['Wheat', 'Soybeans', 'Maize', 'Coffee, green', 'Cotton lint']\n",
    "        \n",
    "crop_export_value = items_by_country.loc[(items_by_country['Item'].isin(crops))&(items_by_country['Element']=='Export Value'),:]\n",
    "\n",
    "crop_long = crop_export_value.melt(['Reporter Countries','Item'], years, 'year', 'value')\n",
    "crop_long['year'] = crop_long['year'].map(lambda x: x.lstrip('Y'))"
   ]
  },
  {
   "cell_type": "code",
   "execution_count": 445,
   "metadata": {
    "scrolled": true
   },
   "outputs": [
    {
     "data": {
      "text/html": [
       "<div>\n",
       "<style scoped>\n",
       "    .dataframe tbody tr th:only-of-type {\n",
       "        vertical-align: middle;\n",
       "    }\n",
       "\n",
       "    .dataframe tbody tr th {\n",
       "        vertical-align: top;\n",
       "    }\n",
       "\n",
       "    .dataframe thead th {\n",
       "        text-align: right;\n",
       "    }\n",
       "</style>\n",
       "<table border=\"1\" class=\"dataframe\">\n",
       "  <thead>\n",
       "    <tr style=\"text-align: right;\">\n",
       "      <th></th>\n",
       "      <th>Reporter Countries</th>\n",
       "      <th>Item</th>\n",
       "      <th>year</th>\n",
       "      <th>value</th>\n",
       "    </tr>\n",
       "  </thead>\n",
       "  <tbody>\n",
       "    <tr>\n",
       "      <th>0</th>\n",
       "      <td>Afghanistan</td>\n",
       "      <td>Cotton lint</td>\n",
       "      <td>1986</td>\n",
       "      <td>0.0</td>\n",
       "    </tr>\n",
       "    <tr>\n",
       "      <th>1</th>\n",
       "      <td>Afghanistan</td>\n",
       "      <td>Maize</td>\n",
       "      <td>1986</td>\n",
       "      <td>0.0</td>\n",
       "    </tr>\n",
       "    <tr>\n",
       "      <th>2</th>\n",
       "      <td>Afghanistan</td>\n",
       "      <td>Soybeans</td>\n",
       "      <td>1986</td>\n",
       "      <td>0.0</td>\n",
       "    </tr>\n",
       "    <tr>\n",
       "      <th>3</th>\n",
       "      <td>Afghanistan</td>\n",
       "      <td>Wheat</td>\n",
       "      <td>1986</td>\n",
       "      <td>0.0</td>\n",
       "    </tr>\n",
       "    <tr>\n",
       "      <th>4</th>\n",
       "      <td>Albania</td>\n",
       "      <td>Coffee, green</td>\n",
       "      <td>1986</td>\n",
       "      <td>0.0</td>\n",
       "    </tr>\n",
       "  </tbody>\n",
       "</table>\n",
       "</div>"
      ],
      "text/plain": [
       "  Reporter Countries           Item  year  value\n",
       "0        Afghanistan    Cotton lint  1986    0.0\n",
       "1        Afghanistan          Maize  1986    0.0\n",
       "2        Afghanistan       Soybeans  1986    0.0\n",
       "3        Afghanistan          Wheat  1986    0.0\n",
       "4            Albania  Coffee, green  1986    0.0"
      ]
     },
     "execution_count": 445,
     "metadata": {},
     "output_type": "execute_result"
    }
   ],
   "source": [
    "crop_long.head()"
   ]
  },
  {
   "cell_type": "code",
   "execution_count": 459,
   "metadata": {},
   "outputs": [],
   "source": [
    "# Reshape df so that crops are the columns\n",
    "crop_wide = crop_long.groupby(['Reporter Countries', 'year', 'Item'])['value'].sum().unstack('Item')\n",
    "crop_wide = crop_wide.reset_index()\n",
    "crop_wide.year = pd.to_datetime(crop_wide.year)"
   ]
  },
  {
   "cell_type": "code",
   "execution_count": 505,
   "metadata": {},
   "outputs": [],
   "source": [
    "# Count Nans of all crops for each country,select countries without NaNs\n",
    "# A lot of the time when a country has NaNs, the crop is not exported so the whole time series is NaN,\n",
    "# thus not ideal to use imputations to deal with NaN.\n",
    "# We will just use data of countries that exports all five crops\n",
    "crop_wide['Nans'] = crop_wide.isna().sum(axis=1)\n",
    "crop_wide.head()\n",
    "sums = crop_wide.groupby([\"Reporter Countries\"]).sum().sort_values(by='Nans',ascending=True).reset_index()\n",
    "selected_countries = sums.loc[sums['Nans'] == 0,'Reporter Countries'].tolist()"
   ]
  },
  {
   "cell_type": "code",
   "execution_count": 516,
   "metadata": {
    "scrolled": true
   },
   "outputs": [
    {
     "data": {
      "text/html": [
       "<div>\n",
       "<style scoped>\n",
       "    .dataframe tbody tr th:only-of-type {\n",
       "        vertical-align: middle;\n",
       "    }\n",
       "\n",
       "    .dataframe tbody tr th {\n",
       "        vertical-align: top;\n",
       "    }\n",
       "\n",
       "    .dataframe thead th {\n",
       "        text-align: right;\n",
       "    }\n",
       "</style>\n",
       "<table border=\"1\" class=\"dataframe\">\n",
       "  <thead>\n",
       "    <tr style=\"text-align: right;\">\n",
       "      <th>Item</th>\n",
       "      <th>Reporter Countries</th>\n",
       "      <th>year</th>\n",
       "      <th>Coffee, green</th>\n",
       "      <th>Cotton lint</th>\n",
       "      <th>Maize</th>\n",
       "      <th>Soybeans</th>\n",
       "      <th>Wheat</th>\n",
       "      <th>Nans</th>\n",
       "    </tr>\n",
       "  </thead>\n",
       "  <tbody>\n",
       "    <tr>\n",
       "      <th>32</th>\n",
       "      <td>Albania</td>\n",
       "      <td>1986-01-01</td>\n",
       "      <td>0.0</td>\n",
       "      <td>0.0</td>\n",
       "      <td>0.0</td>\n",
       "      <td>0.0</td>\n",
       "      <td>0.0</td>\n",
       "      <td>0</td>\n",
       "    </tr>\n",
       "    <tr>\n",
       "      <th>33</th>\n",
       "      <td>Albania</td>\n",
       "      <td>1987-01-01</td>\n",
       "      <td>0.0</td>\n",
       "      <td>0.0</td>\n",
       "      <td>0.0</td>\n",
       "      <td>0.0</td>\n",
       "      <td>0.0</td>\n",
       "      <td>0</td>\n",
       "    </tr>\n",
       "    <tr>\n",
       "      <th>34</th>\n",
       "      <td>Albania</td>\n",
       "      <td>1988-01-01</td>\n",
       "      <td>0.0</td>\n",
       "      <td>0.0</td>\n",
       "      <td>0.0</td>\n",
       "      <td>0.0</td>\n",
       "      <td>0.0</td>\n",
       "      <td>0</td>\n",
       "    </tr>\n",
       "    <tr>\n",
       "      <th>35</th>\n",
       "      <td>Albania</td>\n",
       "      <td>1989-01-01</td>\n",
       "      <td>0.0</td>\n",
       "      <td>0.0</td>\n",
       "      <td>0.0</td>\n",
       "      <td>0.0</td>\n",
       "      <td>0.0</td>\n",
       "      <td>0</td>\n",
       "    </tr>\n",
       "    <tr>\n",
       "      <th>36</th>\n",
       "      <td>Albania</td>\n",
       "      <td>1990-01-01</td>\n",
       "      <td>0.0</td>\n",
       "      <td>0.0</td>\n",
       "      <td>0.0</td>\n",
       "      <td>0.0</td>\n",
       "      <td>0.0</td>\n",
       "      <td>0</td>\n",
       "    </tr>\n",
       "  </tbody>\n",
       "</table>\n",
       "</div>"
      ],
      "text/plain": [
       "Item Reporter Countries       year  Coffee, green  Cotton lint  Maize  \\\n",
       "32              Albania 1986-01-01            0.0          0.0    0.0   \n",
       "33              Albania 1987-01-01            0.0          0.0    0.0   \n",
       "34              Albania 1988-01-01            0.0          0.0    0.0   \n",
       "35              Albania 1989-01-01            0.0          0.0    0.0   \n",
       "36              Albania 1990-01-01            0.0          0.0    0.0   \n",
       "\n",
       "Item  Soybeans  Wheat  Nans  \n",
       "32         0.0    0.0     0  \n",
       "33         0.0    0.0     0  \n",
       "34         0.0    0.0     0  \n",
       "35         0.0    0.0     0  \n",
       "36         0.0    0.0     0  "
      ]
     },
     "execution_count": 516,
     "metadata": {},
     "output_type": "execute_result"
    }
   ],
   "source": [
    "crop_selected_countries = crop_wide.loc[crop_wide[\"Reporter Countries\"].isin(selected_countries),:]\n",
    "crop_selected_countries.head()"
   ]
  },
  {
   "cell_type": "code",
   "execution_count": 529,
   "metadata": {},
   "outputs": [
    {
     "data": {
      "image/png": "[encoded data removed]",
      "text/plain": [
       "<Figure size 432x288 with 1 Axes>"
      ]
     },
     "metadata": {
      "needs_background": "light"
     },
     "output_type": "display_data"
    }
   ],
   "source": [
    "# Visualize Maize export \n",
    "fig, ax = plt.subplots()\n",
    "\n",
    "for key, grp in crop_selected_countries.groupby(['Reporter Countries']):\n",
    "    ax = grp.plot(ax=ax, kind='line', x='year', y='Maize',label=key, legend=False)\n",
    "plt.title('Annual export of Maize by countries ')\n",
    "plt.ylabel('1000 US$')\n",
    "plt.show()"
   ]
  },
  {
   "cell_type": "markdown",
   "metadata": {},
   "source": [
    "#### 2) linear models using 4 crop export as features and countries as samples, to predict wheat export"
   ]
  },
  {
   "cell_type": "code",
   "execution_count": 534,
   "metadata": {},
   "outputs": [
    {
     "data": {
      "text/html": [
       "<div>\n",
       "<style scoped>\n",
       "    .dataframe tbody tr th:only-of-type {\n",
       "        vertical-align: middle;\n",
       "    }\n",
       "\n",
       "    .dataframe tbody tr th {\n",
       "        vertical-align: top;\n",
       "    }\n",
       "\n",
       "    .dataframe thead th {\n",
       "        text-align: right;\n",
       "    }\n",
       "</style>\n",
       "<table border=\"1\" class=\"dataframe\">\n",
       "  <thead>\n",
       "    <tr style=\"text-align: right;\">\n",
       "      <th>Item</th>\n",
       "      <th>Wheat</th>\n",
       "      <th>Soybeans</th>\n",
       "      <th>Maize</th>\n",
       "      <th>Coffee, green</th>\n",
       "      <th>Cotton lint</th>\n",
       "    </tr>\n",
       "  </thead>\n",
       "  <tbody>\n",
       "    <tr>\n",
       "      <th>32</th>\n",
       "      <td>0.0</td>\n",
       "      <td>0.0</td>\n",
       "      <td>0.0</td>\n",
       "      <td>0.0</td>\n",
       "      <td>0.0</td>\n",
       "    </tr>\n",
       "    <tr>\n",
       "      <th>33</th>\n",
       "      <td>0.0</td>\n",
       "      <td>0.0</td>\n",
       "      <td>0.0</td>\n",
       "      <td>0.0</td>\n",
       "      <td>0.0</td>\n",
       "    </tr>\n",
       "    <tr>\n",
       "      <th>34</th>\n",
       "      <td>0.0</td>\n",
       "      <td>0.0</td>\n",
       "      <td>0.0</td>\n",
       "      <td>0.0</td>\n",
       "      <td>0.0</td>\n",
       "    </tr>\n",
       "    <tr>\n",
       "      <th>35</th>\n",
       "      <td>0.0</td>\n",
       "      <td>0.0</td>\n",
       "      <td>0.0</td>\n",
       "      <td>0.0</td>\n",
       "      <td>0.0</td>\n",
       "    </tr>\n",
       "    <tr>\n",
       "      <th>36</th>\n",
       "      <td>0.0</td>\n",
       "      <td>0.0</td>\n",
       "      <td>0.0</td>\n",
       "      <td>0.0</td>\n",
       "      <td>0.0</td>\n",
       "    </tr>\n",
       "  </tbody>\n",
       "</table>\n",
       "</div>"
      ],
      "text/plain": [
       "Item  Wheat  Soybeans  Maize  Coffee, green  Cotton lint\n",
       "32      0.0       0.0    0.0            0.0          0.0\n",
       "33      0.0       0.0    0.0            0.0          0.0\n",
       "34      0.0       0.0    0.0            0.0          0.0\n",
       "35      0.0       0.0    0.0            0.0          0.0\n",
       "36      0.0       0.0    0.0            0.0          0.0"
      ]
     },
     "execution_count": 534,
     "metadata": {},
     "output_type": "execute_result"
    }
   ],
   "source": [
    "crop_selected_countries[crops].head()"
   ]
  },
  {
   "cell_type": "code",
   "execution_count": 535,
   "metadata": {},
   "outputs": [
    {
     "name": "stdout",
     "output_type": "stream",
     "text": [
      "(4288, 4) (4288,)\n"
     ]
    }
   ],
   "source": [
    "X = crop_selected_countries[crops].drop(['Wheat'],axis=1).values\n",
    "y = crop_selected_countries['Wheat'].values\n",
    "print(X.shape, y.shape)"
   ]
  },
  {
   "cell_type": "code",
   "execution_count": 536,
   "metadata": {},
   "outputs": [
    {
     "name": "stdout",
     "output_type": "stream",
     "text": [
      "[-0.15144885 -0.45351119 -1.48027963  0.19133732  0.81098473]\n"
     ]
    }
   ],
   "source": [
    "# Cross validation\n",
    "cv = TimeSeriesSplit(n_splits=5)\n",
    "scores = cross_val_score(Ridge(), X, y, cv=cv)\n",
    "print(scores)"
   ]
  },
  {
   "cell_type": "code",
   "execution_count": 537,
   "metadata": {},
   "outputs": [
    {
     "name": "stdout",
     "output_type": "stream",
     "text": [
      "0.800916580865393\n"
     ]
    }
   ],
   "source": [
    "# Split data into training and test sets\n",
    "X_train, X_test, y_train, y_test = train_test_split(X,y, \n",
    "                                                    train_size=.8, shuffle=False, random_state=1)\n",
    "\n",
    "model = Ridge()\n",
    "model.fit(X_train,y_train)\n",
    "predictions = model.predict(X_test)\n",
    "score = r2_score(y_test,predictions)\n",
    "print(score)"
   ]
  },
  {
   "cell_type": "code",
   "execution_count": 538,
   "metadata": {},
   "outputs": [
    {
     "data": {
      "image/png": "[encoded data removed]",
      "text/plain": [
       "<Figure size 720x360 with 1 Axes>"
      ]
     },
     "metadata": {
      "needs_background": "light"
     },
     "output_type": "display_data"
    }
   ],
   "source": [
    "# Visualize prediction results\n",
    "fig, ax = plt.subplots(figsize=(10, 5))\n",
    "ax.plot(y_test, color='k', lw=3)\n",
    "ax.plot(predictions, color='r', lw=2)\n",
    "plt.show()"
   ]
  },
  {
   "cell_type": "markdown",
   "metadata": {},
   "source": [
    "#### Summary: use four crops' export time series data, the prediction of wheat export is relatively accurate (R^2 = 0.8)\n",
    "\n",
    "Next: try more feature engineering"
   ]
  },
  {
   "cell_type": "code",
   "execution_count": null,
   "metadata": {},
   "outputs": [],
   "source": []
  },
  {
   "cell_type": "code",
   "execution_count": 417,
   "metadata": {},
   "outputs": [],
   "source": [
    "from tsfresh import extract_features\n",
    "from tsfresh import select_features\n",
    "from tsfresh.utilities.dataframe_functions import impute"
   ]
  },
  {
   "cell_type": "code",
   "execution_count": null,
   "metadata": {},
   "outputs": [],
   "source": []
  },
  {
   "cell_type": "code",
   "execution_count": null,
   "metadata": {},
   "outputs": [],
   "source": []
  }
 ],
 "metadata": {
  "kernelspec": {
   "display_name": "Python 3",
   "language": "python",
   "name": "python3"
  },
  "language_info": {
   "codemirror_mode": {
    "name": "ipython",
    "version": 3
   },
   "file_extension": ".py",
   "mimetype": "text/x-python",
   "name": "python",
   "nbconvert_exporter": "python",
   "pygments_lexer": "ipython3",
   "version": "3.6.7"
  }
 },
 "nbformat": 4,
 "nbformat_minor": 2
}

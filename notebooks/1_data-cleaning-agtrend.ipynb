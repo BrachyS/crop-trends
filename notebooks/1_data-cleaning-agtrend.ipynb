{
 "cells": [
  {
   "cell_type": "markdown",
   "metadata": {},
   "source": [
    "#### This notebook cleans raw data and generate processed data files for further analysis"
   ]
  },
  {
   "cell_type": "code",
   "execution_count": 2,
   "metadata": {},
   "outputs": [],
   "source": [
    "import pandas as pd\n",
    "import numpy as np\n",
    "import matplotlib.pyplot as plt\n",
    "import seaborn as sns\n",
    "import operator "
   ]
  },
  {
   "cell_type": "code",
   "execution_count": 2,
   "metadata": {},
   "outputs": [],
   "source": [
    "# Data import \n",
    "trade = pd.read_csv('/Users/Sabrina/Documents/OneDrive/Github/crop-trends/data/raw/Trade_DetailedTradeMatrix_E_All_Data_NOFLAG.csv',\n",
    "                   encoding='latin1')\n"
   ]
  },
  {
   "cell_type": "code",
   "execution_count": 3,
   "metadata": {},
   "outputs": [],
   "source": [
    "# Try normalized data?\n",
    "trade = pd.read_csv('/Users/Sabrina/Downloads/Trade_DetailedTradeMatrix_E_All_Data_Normalized/Trade_DetailedTradeMatrix_E_All_Data_Normalized.csv',\n",
    "                   encoding='latin1')\n"
   ]
  },
  {
   "cell_type": "markdown",
   "metadata": {},
   "source": [
    "## 1. Inspect general information of the dataset"
   ]
  },
  {
   "cell_type": "code",
   "execution_count": 4,
   "metadata": {},
   "outputs": [
    {
     "name": "stdout",
     "output_type": "stream",
     "text": [
      "(5248354, 41)\n"
     ]
    }
   ],
   "source": [
    "print(trade.shape) # total rows and columns "
   ]
  },
  {
   "cell_type": "code",
   "execution_count": 4,
   "metadata": {},
   "outputs": [
    {
     "name": "stdout",
     "output_type": "stream",
     "text": [
      "(35976124, 13)\n"
     ]
    }
   ],
   "source": [
    "print(trade.shape)"
   ]
  },
  {
   "cell_type": "code",
   "execution_count": 5,
   "metadata": {},
   "outputs": [
    {
     "data": {
      "text/html": [
       "<div>\n",
       "<style scoped>\n",
       "    .dataframe tbody tr th:only-of-type {\n",
       "        vertical-align: middle;\n",
       "    }\n",
       "\n",
       "    .dataframe tbody tr th {\n",
       "        vertical-align: top;\n",
       "    }\n",
       "\n",
       "    .dataframe thead th {\n",
       "        text-align: right;\n",
       "    }\n",
       "</style>\n",
       "<table border=\"1\" class=\"dataframe\">\n",
       "  <thead>\n",
       "    <tr style=\"text-align: right;\">\n",
       "      <th></th>\n",
       "      <th>Reporter Country Code</th>\n",
       "      <th>Reporter Countries</th>\n",
       "      <th>Partner Country Code</th>\n",
       "      <th>Partner Countries</th>\n",
       "      <th>Item Code</th>\n",
       "      <th>Item</th>\n",
       "      <th>Element Code</th>\n",
       "      <th>Element</th>\n",
       "      <th>Year Code</th>\n",
       "      <th>Year</th>\n",
       "      <th>Unit</th>\n",
       "      <th>Value</th>\n",
       "      <th>Flag</th>\n",
       "    </tr>\n",
       "  </thead>\n",
       "  <tbody>\n",
       "    <tr>\n",
       "      <th>0</th>\n",
       "      <td>2</td>\n",
       "      <td>Afghanistan</td>\n",
       "      <td>4</td>\n",
       "      <td>Algeria</td>\n",
       "      <td>230</td>\n",
       "      <td>Cashew nuts, shelled</td>\n",
       "      <td>5910</td>\n",
       "      <td>Export Quantity</td>\n",
       "      <td>2016</td>\n",
       "      <td>2016</td>\n",
       "      <td>tonnes</td>\n",
       "      <td>3.0</td>\n",
       "      <td>*</td>\n",
       "    </tr>\n",
       "    <tr>\n",
       "      <th>1</th>\n",
       "      <td>2</td>\n",
       "      <td>Afghanistan</td>\n",
       "      <td>4</td>\n",
       "      <td>Algeria</td>\n",
       "      <td>230</td>\n",
       "      <td>Cashew nuts, shelled</td>\n",
       "      <td>5922</td>\n",
       "      <td>Export Value</td>\n",
       "      <td>2016</td>\n",
       "      <td>2016</td>\n",
       "      <td>1000 US$</td>\n",
       "      <td>23.0</td>\n",
       "      <td>*</td>\n",
       "    </tr>\n",
       "    <tr>\n",
       "      <th>2</th>\n",
       "      <td>2</td>\n",
       "      <td>Afghanistan</td>\n",
       "      <td>4</td>\n",
       "      <td>Algeria</td>\n",
       "      <td>1293</td>\n",
       "      <td>Crude materials</td>\n",
       "      <td>5922</td>\n",
       "      <td>Export Value</td>\n",
       "      <td>2015</td>\n",
       "      <td>2015</td>\n",
       "      <td>1000 US$</td>\n",
       "      <td>1.0</td>\n",
       "      <td>*</td>\n",
       "    </tr>\n",
       "    <tr>\n",
       "      <th>3</th>\n",
       "      <td>2</td>\n",
       "      <td>Afghanistan</td>\n",
       "      <td>4</td>\n",
       "      <td>Algeria</td>\n",
       "      <td>1293</td>\n",
       "      <td>Crude materials</td>\n",
       "      <td>5922</td>\n",
       "      <td>Export Value</td>\n",
       "      <td>2016</td>\n",
       "      <td>2016</td>\n",
       "      <td>1000 US$</td>\n",
       "      <td>1.0</td>\n",
       "      <td>*</td>\n",
       "    </tr>\n",
       "    <tr>\n",
       "      <th>4</th>\n",
       "      <td>2</td>\n",
       "      <td>Afghanistan</td>\n",
       "      <td>4</td>\n",
       "      <td>Algeria</td>\n",
       "      <td>1293</td>\n",
       "      <td>Crude materials</td>\n",
       "      <td>5922</td>\n",
       "      <td>Export Value</td>\n",
       "      <td>2017</td>\n",
       "      <td>2017</td>\n",
       "      <td>1000 US$</td>\n",
       "      <td>5.0</td>\n",
       "      <td>R</td>\n",
       "    </tr>\n",
       "  </tbody>\n",
       "</table>\n",
       "</div>"
      ],
      "text/plain": [
       "   Reporter Country Code Reporter Countries  Partner Country Code  \\\n",
       "0                      2        Afghanistan                     4   \n",
       "1                      2        Afghanistan                     4   \n",
       "2                      2        Afghanistan                     4   \n",
       "3                      2        Afghanistan                     4   \n",
       "4                      2        Afghanistan                     4   \n",
       "\n",
       "  Partner Countries  Item Code                  Item  Element Code  \\\n",
       "0           Algeria        230  Cashew nuts, shelled          5910   \n",
       "1           Algeria        230  Cashew nuts, shelled          5922   \n",
       "2           Algeria       1293       Crude materials          5922   \n",
       "3           Algeria       1293       Crude materials          5922   \n",
       "4           Algeria       1293       Crude materials          5922   \n",
       "\n",
       "           Element  Year Code  Year      Unit  Value Flag  \n",
       "0  Export Quantity       2016  2016    tonnes    3.0    *  \n",
       "1     Export Value       2016  2016  1000 US$   23.0    *  \n",
       "2     Export Value       2015  2015  1000 US$    1.0    *  \n",
       "3     Export Value       2016  2016  1000 US$    1.0    *  \n",
       "4     Export Value       2017  2017  1000 US$    5.0    R  "
      ]
     },
     "execution_count": 5,
     "metadata": {},
     "output_type": "execute_result"
    }
   ],
   "source": [
    "trade.head() # time series between years 1986 and 2017 on export and import agricultural commodities."
   ]
  },
  {
   "cell_type": "code",
   "execution_count": 11,
   "metadata": {},
   "outputs": [
    {
     "name": "stdout",
     "output_type": "stream",
     "text": [
      "Number of unique items traded: 424\n",
      "Number of Reporter Countries: 184\n",
      "Number of Partner Countries: 255\n",
      "Entries with Unspecified Area as partner countries: 86692\n"
     ]
    }
   ],
   "source": [
    "# Identify total number of reporter countries, partner countries and unique items\n",
    "print('Number of unique items traded:', len(trade.Item.unique()))\n",
    "print('Number of Reporter Countries:', len(trade['Reporter Countries'].unique()))\n",
    "print('Number of Partner Countries:', len(trade['Partner Countries'].unique()))\n",
    "print('Entries with Unspecified Area as partner countries:',\n",
    "      len(trade.loc[trade['Partner Countries']=='Unspecified Area',:]))"
   ]
  },
  {
   "cell_type": "code",
   "execution_count": 6,
   "metadata": {},
   "outputs": [
    {
     "name": "stdout",
     "output_type": "stream",
     "text": [
      "Number of unique items traded: 424\n",
      "Number of Reporter Countries: 184\n",
      "Number of Partner Countries: 255\n",
      "Entries with Unspecified Area as partner countries: 399242\n"
     ]
    }
   ],
   "source": [
    "# Identify total number of reporter countries, partner countries and unique items\n",
    "print('Number of unique items traded:', len(trade.Item.unique()))\n",
    "print('Number of Reporter Countries:', len(trade['Reporter Countries'].unique()))\n",
    "print('Number of Partner Countries:', len(trade['Partner Countries'].unique()))\n",
    "print('Entries with Unspecified Area as partner countries:',\n",
    "      len(trade.loc[trade['Partner Countries']=='Unspecified Area',:]))"
   ]
  },
  {
   "cell_type": "markdown",
   "metadata": {},
   "source": [
    " ### Observations\n",
    " - There are many missing data (no trading for a particular year with a country, or data missing)\n",
    " - 'Partner Countries' include entries of 'Unspecified Area', which should be noted when calculating diversity of trading partners. \n",
    " \n",
    " We are not interested in data of a particular item between two specific countries. Instead, we are looking for the number of items(i.e., trading diversity) and their total amount a country export/import, and the number of partner countries each reporter country have for an item.   \n",
    " Therefore, we shall aggregate the dataset based on items and reporter countries, respectively. "
   ]
  },
  {
   "cell_type": "markdown",
   "metadata": {},
   "source": [
    "## 2. Aggregate data according to items and partner countries"
   ]
  },
  {
   "cell_type": "markdown",
   "metadata": {},
   "source": [
    "#### 2.1 Sum up trading volumn for reporter countries by items"
   ]
  },
  {
   "cell_type": "code",
   "execution_count": 14,
   "metadata": {},
   "outputs": [],
   "source": [
    "items_by_country = trade.groupby(['Reporter Countries','Item','Element','Unit','Year Code','Year']).sum()"
   ]
  },
  {
   "cell_type": "code",
   "execution_count": 15,
   "metadata": {},
   "outputs": [],
   "source": [
    "items_by_country = items_by_country.drop(['Reporter Country Code','Partner Country Code','Element Code'],axis=1)"
   ]
  },
  {
   "cell_type": "code",
   "execution_count": 21,
   "metadata": {},
   "outputs": [
    {
     "data": {
      "text/plain": [
       "(223049, 33)"
      ]
     },
     "execution_count": 21,
     "metadata": {},
     "output_type": "execute_result"
    }
   ],
   "source": [
    "items_by_country.shape"
   ]
  },
  {
   "cell_type": "code",
   "execution_count": 20,
   "metadata": {},
   "outputs": [
    {
     "data": {
      "text/plain": [
       "(3399979, 8)"
      ]
     },
     "execution_count": 20,
     "metadata": {},
     "output_type": "execute_result"
    }
   ],
   "source": [
    "items_by_country.shape"
   ]
  },
  {
   "cell_type": "code",
   "execution_count": 18,
   "metadata": {},
   "outputs": [],
   "source": [
    "items_by_country = items_by_country.reset_index()"
   ]
  },
  {
   "cell_type": "code",
   "execution_count": 19,
   "metadata": {},
   "outputs": [
    {
     "data": {
      "text/html": [
       "<div>\n",
       "<style scoped>\n",
       "    .dataframe tbody tr th:only-of-type {\n",
       "        vertical-align: middle;\n",
       "    }\n",
       "\n",
       "    .dataframe tbody tr th {\n",
       "        vertical-align: top;\n",
       "    }\n",
       "\n",
       "    .dataframe thead th {\n",
       "        text-align: right;\n",
       "    }\n",
       "</style>\n",
       "<table border=\"1\" class=\"dataframe\">\n",
       "  <thead>\n",
       "    <tr style=\"text-align: right;\">\n",
       "      <th></th>\n",
       "      <th>Reporter Countries</th>\n",
       "      <th>Item</th>\n",
       "      <th>Element</th>\n",
       "      <th>Unit</th>\n",
       "      <th>Year Code</th>\n",
       "      <th>Year</th>\n",
       "      <th>Item Code</th>\n",
       "      <th>Value</th>\n",
       "    </tr>\n",
       "  </thead>\n",
       "  <tbody>\n",
       "    <tr>\n",
       "      <th>0</th>\n",
       "      <td>Afghanistan</td>\n",
       "      <td>Almonds shelled</td>\n",
       "      <td>Export Quantity</td>\n",
       "      <td>tonnes</td>\n",
       "      <td>2009</td>\n",
       "      <td>2009</td>\n",
       "      <td>1155</td>\n",
       "      <td>4763.0</td>\n",
       "    </tr>\n",
       "    <tr>\n",
       "      <th>1</th>\n",
       "      <td>Afghanistan</td>\n",
       "      <td>Almonds shelled</td>\n",
       "      <td>Export Quantity</td>\n",
       "      <td>tonnes</td>\n",
       "      <td>2010</td>\n",
       "      <td>2010</td>\n",
       "      <td>1848</td>\n",
       "      <td>1308.0</td>\n",
       "    </tr>\n",
       "    <tr>\n",
       "      <th>2</th>\n",
       "      <td>Afghanistan</td>\n",
       "      <td>Almonds shelled</td>\n",
       "      <td>Export Quantity</td>\n",
       "      <td>tonnes</td>\n",
       "      <td>2011</td>\n",
       "      <td>2011</td>\n",
       "      <td>1848</td>\n",
       "      <td>2261.0</td>\n",
       "    </tr>\n",
       "    <tr>\n",
       "      <th>3</th>\n",
       "      <td>Afghanistan</td>\n",
       "      <td>Almonds shelled</td>\n",
       "      <td>Export Quantity</td>\n",
       "      <td>tonnes</td>\n",
       "      <td>2014</td>\n",
       "      <td>2014</td>\n",
       "      <td>3003</td>\n",
       "      <td>2714.0</td>\n",
       "    </tr>\n",
       "    <tr>\n",
       "      <th>4</th>\n",
       "      <td>Afghanistan</td>\n",
       "      <td>Almonds shelled</td>\n",
       "      <td>Export Quantity</td>\n",
       "      <td>tonnes</td>\n",
       "      <td>2015</td>\n",
       "      <td>2015</td>\n",
       "      <td>2541</td>\n",
       "      <td>2086.0</td>\n",
       "    </tr>\n",
       "  </tbody>\n",
       "</table>\n",
       "</div>"
      ],
      "text/plain": [
       "  Reporter Countries             Item          Element    Unit  Year Code  \\\n",
       "0        Afghanistan  Almonds shelled  Export Quantity  tonnes       2009   \n",
       "1        Afghanistan  Almonds shelled  Export Quantity  tonnes       2010   \n",
       "2        Afghanistan  Almonds shelled  Export Quantity  tonnes       2011   \n",
       "3        Afghanistan  Almonds shelled  Export Quantity  tonnes       2014   \n",
       "4        Afghanistan  Almonds shelled  Export Quantity  tonnes       2015   \n",
       "\n",
       "   Year  Item Code   Value  \n",
       "0  2009       1155  4763.0  \n",
       "1  2010       1848  1308.0  \n",
       "2  2011       1848  2261.0  \n",
       "3  2014       3003  2714.0  \n",
       "4  2015       2541  2086.0  "
      ]
     },
     "execution_count": 19,
     "metadata": {},
     "output_type": "execute_result"
    }
   ],
   "source": [
    "items_by_country.head()"
   ]
  },
  {
   "cell_type": "code",
   "execution_count": 12,
   "metadata": {},
   "outputs": [
    {
     "data": {
      "text/html": [
       "<div>\n",
       "<style scoped>\n",
       "    .dataframe tbody tr th:only-of-type {\n",
       "        vertical-align: middle;\n",
       "    }\n",
       "\n",
       "    .dataframe tbody tr th {\n",
       "        vertical-align: top;\n",
       "    }\n",
       "\n",
       "    .dataframe thead th {\n",
       "        text-align: right;\n",
       "    }\n",
       "</style>\n",
       "<table border=\"1\" class=\"dataframe\">\n",
       "  <thead>\n",
       "    <tr style=\"text-align: right;\">\n",
       "      <th></th>\n",
       "      <th>index</th>\n",
       "      <th>Reporter Countries</th>\n",
       "      <th>Item</th>\n",
       "      <th>Element</th>\n",
       "      <th>Unit</th>\n",
       "      <th>Item Code</th>\n",
       "      <th>Year Code</th>\n",
       "      <th>Year</th>\n",
       "      <th>Value</th>\n",
       "    </tr>\n",
       "  </thead>\n",
       "  <tbody>\n",
       "    <tr>\n",
       "      <th>0</th>\n",
       "      <td>0</td>\n",
       "      <td>Afghanistan</td>\n",
       "      <td>Almonds shelled</td>\n",
       "      <td>Export Quantity</td>\n",
       "      <td>tonnes</td>\n",
       "      <td>14784</td>\n",
       "      <td>128873</td>\n",
       "      <td>128873</td>\n",
       "      <td>17666.0</td>\n",
       "    </tr>\n",
       "    <tr>\n",
       "      <th>1</th>\n",
       "      <td>1</td>\n",
       "      <td>Afghanistan</td>\n",
       "      <td>Almonds shelled</td>\n",
       "      <td>Export Value</td>\n",
       "      <td>1000 US$</td>\n",
       "      <td>14784</td>\n",
       "      <td>128873</td>\n",
       "      <td>128873</td>\n",
       "      <td>131498.0</td>\n",
       "    </tr>\n",
       "    <tr>\n",
       "      <th>2</th>\n",
       "      <td>2</td>\n",
       "      <td>Afghanistan</td>\n",
       "      <td>Almonds shelled</td>\n",
       "      <td>Import Quantity</td>\n",
       "      <td>tonnes</td>\n",
       "      <td>3234</td>\n",
       "      <td>28218</td>\n",
       "      <td>28218</td>\n",
       "      <td>1298.0</td>\n",
       "    </tr>\n",
       "    <tr>\n",
       "      <th>3</th>\n",
       "      <td>3</td>\n",
       "      <td>Afghanistan</td>\n",
       "      <td>Almonds shelled</td>\n",
       "      <td>Import Value</td>\n",
       "      <td>1000 US$</td>\n",
       "      <td>3234</td>\n",
       "      <td>28218</td>\n",
       "      <td>28218</td>\n",
       "      <td>8241.0</td>\n",
       "    </tr>\n",
       "    <tr>\n",
       "      <th>4</th>\n",
       "      <td>4</td>\n",
       "      <td>Afghanistan</td>\n",
       "      <td>Almonds, with shell</td>\n",
       "      <td>Export Quantity</td>\n",
       "      <td>tonnes</td>\n",
       "      <td>8840</td>\n",
       "      <td>80527</td>\n",
       "      <td>80527</td>\n",
       "      <td>18797.0</td>\n",
       "    </tr>\n",
       "  </tbody>\n",
       "</table>\n",
       "</div>"
      ],
      "text/plain": [
       "   index Reporter Countries                 Item          Element      Unit  \\\n",
       "0      0        Afghanistan      Almonds shelled  Export Quantity    tonnes   \n",
       "1      1        Afghanistan      Almonds shelled     Export Value  1000 US$   \n",
       "2      2        Afghanistan      Almonds shelled  Import Quantity    tonnes   \n",
       "3      3        Afghanistan      Almonds shelled     Import Value  1000 US$   \n",
       "4      4        Afghanistan  Almonds, with shell  Export Quantity    tonnes   \n",
       "\n",
       "   Item Code  Year Code    Year     Value  \n",
       "0      14784     128873  128873   17666.0  \n",
       "1      14784     128873  128873  131498.0  \n",
       "2       3234      28218   28218    1298.0  \n",
       "3       3234      28218   28218    8241.0  \n",
       "4       8840      80527   80527   18797.0  "
      ]
     },
     "execution_count": 12,
     "metadata": {},
     "output_type": "execute_result"
    }
   ],
   "source": [
    "items_by_country.head()"
   ]
  },
  {
   "cell_type": "code",
   "execution_count": 29,
   "metadata": {},
   "outputs": [
    {
     "data": {
      "text/plain": [
       "32"
      ]
     },
     "execution_count": 29,
     "metadata": {},
     "output_type": "execute_result"
    }
   ],
   "source": [
    "len(trade['Year'].unique())"
   ]
  },
  {
   "cell_type": "markdown",
   "metadata": {},
   "source": [
    "#### 2.2 Sum up trading volumn for each reporter countries by partner countries"
   ]
  },
  {
   "cell_type": "code",
   "execution_count": 21,
   "metadata": {},
   "outputs": [],
   "source": [
    "partners_by_country = trade.groupby(['Reporter Countries','Partner Countries','Element','Unit','Year Code','Year']).sum().reset_index()"
   ]
  },
  {
   "cell_type": "code",
   "execution_count": 22,
   "metadata": {},
   "outputs": [],
   "source": [
    "# Sum of tonnes, heads, etc across different items do not make much sense, so will be removed\n",
    "# Only value amount (i.e., US$ will be kept)\n",
    "partners_by_country = partners_by_country.loc[partners_by_country['Unit']=='1000 US$',:]"
   ]
  },
  {
   "cell_type": "code",
   "execution_count": 23,
   "metadata": {},
   "outputs": [],
   "source": [
    "partners_by_country = partners_by_country.drop(['Reporter Country Code','Partner Country Code','Item Code','Element Code'],axis=1)"
   ]
  },
  {
   "cell_type": "code",
   "execution_count": 37,
   "metadata": {},
   "outputs": [
    {
     "data": {
      "text/plain": [
       "(57838, 36)"
      ]
     },
     "execution_count": 37,
     "metadata": {},
     "output_type": "execute_result"
    }
   ],
   "source": [
    "partners_by_country.shape"
   ]
  },
  {
   "cell_type": "code",
   "execution_count": 38,
   "metadata": {},
   "outputs": [
    {
     "data": {
      "text/html": [
       "<div>\n",
       "<style scoped>\n",
       "    .dataframe tbody tr th:only-of-type {\n",
       "        vertical-align: middle;\n",
       "    }\n",
       "\n",
       "    .dataframe tbody tr th {\n",
       "        vertical-align: top;\n",
       "    }\n",
       "\n",
       "    .dataframe thead th {\n",
       "        text-align: right;\n",
       "    }\n",
       "</style>\n",
       "<table border=\"1\" class=\"dataframe\">\n",
       "  <thead>\n",
       "    <tr style=\"text-align: right;\">\n",
       "      <th></th>\n",
       "      <th>Reporter Countries</th>\n",
       "      <th>Partner Countries</th>\n",
       "      <th>Element</th>\n",
       "      <th>Unit</th>\n",
       "      <th>Y1986</th>\n",
       "      <th>Y1987</th>\n",
       "      <th>Y1988</th>\n",
       "      <th>Y1989</th>\n",
       "      <th>Y1990</th>\n",
       "      <th>Y1991</th>\n",
       "      <th>...</th>\n",
       "      <th>Y2008</th>\n",
       "      <th>Y2009</th>\n",
       "      <th>Y2010</th>\n",
       "      <th>Y2011</th>\n",
       "      <th>Y2012</th>\n",
       "      <th>Y2013</th>\n",
       "      <th>Y2014</th>\n",
       "      <th>Y2015</th>\n",
       "      <th>Y2016</th>\n",
       "      <th>Y2017</th>\n",
       "    </tr>\n",
       "  </thead>\n",
       "  <tbody>\n",
       "    <tr>\n",
       "      <th>1</th>\n",
       "      <td>Afghanistan</td>\n",
       "      <td>Algeria</td>\n",
       "      <td>Export Value</td>\n",
       "      <td>1000 US$</td>\n",
       "      <td>0.0</td>\n",
       "      <td>0.0</td>\n",
       "      <td>0.0</td>\n",
       "      <td>0.0</td>\n",
       "      <td>0.0</td>\n",
       "      <td>0.0</td>\n",
       "      <td>...</td>\n",
       "      <td>0.0</td>\n",
       "      <td>0.0</td>\n",
       "      <td>0.0</td>\n",
       "      <td>0.0</td>\n",
       "      <td>0.0</td>\n",
       "      <td>0.0</td>\n",
       "      <td>27.0</td>\n",
       "      <td>1.0</td>\n",
       "      <td>24.0</td>\n",
       "      <td>5.0</td>\n",
       "    </tr>\n",
       "    <tr>\n",
       "      <th>3</th>\n",
       "      <td>Afghanistan</td>\n",
       "      <td>Angola</td>\n",
       "      <td>Export Value</td>\n",
       "      <td>1000 US$</td>\n",
       "      <td>0.0</td>\n",
       "      <td>0.0</td>\n",
       "      <td>0.0</td>\n",
       "      <td>0.0</td>\n",
       "      <td>0.0</td>\n",
       "      <td>0.0</td>\n",
       "      <td>...</td>\n",
       "      <td>0.0</td>\n",
       "      <td>0.0</td>\n",
       "      <td>0.0</td>\n",
       "      <td>0.0</td>\n",
       "      <td>0.0</td>\n",
       "      <td>0.0</td>\n",
       "      <td>0.0</td>\n",
       "      <td>1.0</td>\n",
       "      <td>0.0</td>\n",
       "      <td>0.0</td>\n",
       "    </tr>\n",
       "    <tr>\n",
       "      <th>5</th>\n",
       "      <td>Afghanistan</td>\n",
       "      <td>Argentina</td>\n",
       "      <td>Import Value</td>\n",
       "      <td>1000 US$</td>\n",
       "      <td>0.0</td>\n",
       "      <td>0.0</td>\n",
       "      <td>0.0</td>\n",
       "      <td>0.0</td>\n",
       "      <td>0.0</td>\n",
       "      <td>0.0</td>\n",
       "      <td>...</td>\n",
       "      <td>0.0</td>\n",
       "      <td>0.0</td>\n",
       "      <td>0.0</td>\n",
       "      <td>415.0</td>\n",
       "      <td>0.0</td>\n",
       "      <td>0.0</td>\n",
       "      <td>1163.0</td>\n",
       "      <td>159.0</td>\n",
       "      <td>1844.0</td>\n",
       "      <td>1829.0</td>\n",
       "    </tr>\n",
       "    <tr>\n",
       "      <th>7</th>\n",
       "      <td>Afghanistan</td>\n",
       "      <td>Armenia</td>\n",
       "      <td>Export Value</td>\n",
       "      <td>1000 US$</td>\n",
       "      <td>0.0</td>\n",
       "      <td>0.0</td>\n",
       "      <td>0.0</td>\n",
       "      <td>0.0</td>\n",
       "      <td>0.0</td>\n",
       "      <td>0.0</td>\n",
       "      <td>...</td>\n",
       "      <td>0.0</td>\n",
       "      <td>0.0</td>\n",
       "      <td>0.0</td>\n",
       "      <td>0.0</td>\n",
       "      <td>0.0</td>\n",
       "      <td>0.0</td>\n",
       "      <td>0.0</td>\n",
       "      <td>0.0</td>\n",
       "      <td>0.0</td>\n",
       "      <td>1.0</td>\n",
       "    </tr>\n",
       "    <tr>\n",
       "      <th>9</th>\n",
       "      <td>Afghanistan</td>\n",
       "      <td>Armenia</td>\n",
       "      <td>Import Value</td>\n",
       "      <td>1000 US$</td>\n",
       "      <td>0.0</td>\n",
       "      <td>0.0</td>\n",
       "      <td>0.0</td>\n",
       "      <td>0.0</td>\n",
       "      <td>0.0</td>\n",
       "      <td>0.0</td>\n",
       "      <td>...</td>\n",
       "      <td>0.0</td>\n",
       "      <td>0.0</td>\n",
       "      <td>0.0</td>\n",
       "      <td>48.0</td>\n",
       "      <td>0.0</td>\n",
       "      <td>0.0</td>\n",
       "      <td>282.0</td>\n",
       "      <td>246.0</td>\n",
       "      <td>0.0</td>\n",
       "      <td>67.0</td>\n",
       "    </tr>\n",
       "  </tbody>\n",
       "</table>\n",
       "<p>5 rows × 36 columns</p>\n",
       "</div>"
      ],
      "text/plain": [
       "  Reporter Countries Partner Countries       Element      Unit  Y1986  Y1987  \\\n",
       "1        Afghanistan           Algeria  Export Value  1000 US$    0.0    0.0   \n",
       "3        Afghanistan            Angola  Export Value  1000 US$    0.0    0.0   \n",
       "5        Afghanistan         Argentina  Import Value  1000 US$    0.0    0.0   \n",
       "7        Afghanistan           Armenia  Export Value  1000 US$    0.0    0.0   \n",
       "9        Afghanistan           Armenia  Import Value  1000 US$    0.0    0.0   \n",
       "\n",
       "   Y1988  Y1989  Y1990  Y1991  ...  Y2008  Y2009  Y2010  Y2011  Y2012  Y2013  \\\n",
       "1    0.0    0.0    0.0    0.0  ...    0.0    0.0    0.0    0.0    0.0    0.0   \n",
       "3    0.0    0.0    0.0    0.0  ...    0.0    0.0    0.0    0.0    0.0    0.0   \n",
       "5    0.0    0.0    0.0    0.0  ...    0.0    0.0    0.0  415.0    0.0    0.0   \n",
       "7    0.0    0.0    0.0    0.0  ...    0.0    0.0    0.0    0.0    0.0    0.0   \n",
       "9    0.0    0.0    0.0    0.0  ...    0.0    0.0    0.0   48.0    0.0    0.0   \n",
       "\n",
       "    Y2014  Y2015   Y2016   Y2017  \n",
       "1    27.0    1.0    24.0     5.0  \n",
       "3     0.0    1.0     0.0     0.0  \n",
       "5  1163.0  159.0  1844.0  1829.0  \n",
       "7     0.0    0.0     0.0     1.0  \n",
       "9   282.0  246.0     0.0    67.0  \n",
       "\n",
       "[5 rows x 36 columns]"
      ]
     },
     "execution_count": 38,
     "metadata": {},
     "output_type": "execute_result"
    }
   ],
   "source": [
    "partners_by_country.head()"
   ]
  },
  {
   "cell_type": "code",
   "execution_count": 24,
   "metadata": {},
   "outputs": [
    {
     "data": {
      "text/plain": [
       "(754206, 7)"
      ]
     },
     "execution_count": 24,
     "metadata": {},
     "output_type": "execute_result"
    }
   ],
   "source": [
    "partners_by_country.shape"
   ]
  },
  {
   "cell_type": "code",
   "execution_count": 25,
   "metadata": {},
   "outputs": [
    {
     "data": {
      "text/html": [
       "<div>\n",
       "<style scoped>\n",
       "    .dataframe tbody tr th:only-of-type {\n",
       "        vertical-align: middle;\n",
       "    }\n",
       "\n",
       "    .dataframe tbody tr th {\n",
       "        vertical-align: top;\n",
       "    }\n",
       "\n",
       "    .dataframe thead th {\n",
       "        text-align: right;\n",
       "    }\n",
       "</style>\n",
       "<table border=\"1\" class=\"dataframe\">\n",
       "  <thead>\n",
       "    <tr style=\"text-align: right;\">\n",
       "      <th></th>\n",
       "      <th>Reporter Countries</th>\n",
       "      <th>Partner Countries</th>\n",
       "      <th>Element</th>\n",
       "      <th>Unit</th>\n",
       "      <th>Year Code</th>\n",
       "      <th>Year</th>\n",
       "      <th>Value</th>\n",
       "    </tr>\n",
       "  </thead>\n",
       "  <tbody>\n",
       "    <tr>\n",
       "      <th>2</th>\n",
       "      <td>Afghanistan</td>\n",
       "      <td>Algeria</td>\n",
       "      <td>Export Value</td>\n",
       "      <td>1000 US$</td>\n",
       "      <td>2014</td>\n",
       "      <td>2014</td>\n",
       "      <td>27.0</td>\n",
       "    </tr>\n",
       "    <tr>\n",
       "      <th>3</th>\n",
       "      <td>Afghanistan</td>\n",
       "      <td>Algeria</td>\n",
       "      <td>Export Value</td>\n",
       "      <td>1000 US$</td>\n",
       "      <td>2015</td>\n",
       "      <td>2015</td>\n",
       "      <td>1.0</td>\n",
       "    </tr>\n",
       "    <tr>\n",
       "      <th>4</th>\n",
       "      <td>Afghanistan</td>\n",
       "      <td>Algeria</td>\n",
       "      <td>Export Value</td>\n",
       "      <td>1000 US$</td>\n",
       "      <td>2016</td>\n",
       "      <td>2016</td>\n",
       "      <td>24.0</td>\n",
       "    </tr>\n",
       "    <tr>\n",
       "      <th>5</th>\n",
       "      <td>Afghanistan</td>\n",
       "      <td>Algeria</td>\n",
       "      <td>Export Value</td>\n",
       "      <td>1000 US$</td>\n",
       "      <td>2017</td>\n",
       "      <td>2017</td>\n",
       "      <td>5.0</td>\n",
       "    </tr>\n",
       "    <tr>\n",
       "      <th>7</th>\n",
       "      <td>Afghanistan</td>\n",
       "      <td>Angola</td>\n",
       "      <td>Export Value</td>\n",
       "      <td>1000 US$</td>\n",
       "      <td>2015</td>\n",
       "      <td>2015</td>\n",
       "      <td>1.0</td>\n",
       "    </tr>\n",
       "  </tbody>\n",
       "</table>\n",
       "</div>"
      ],
      "text/plain": [
       "  Reporter Countries Partner Countries       Element      Unit  Year Code  \\\n",
       "2        Afghanistan           Algeria  Export Value  1000 US$       2014   \n",
       "3        Afghanistan           Algeria  Export Value  1000 US$       2015   \n",
       "4        Afghanistan           Algeria  Export Value  1000 US$       2016   \n",
       "5        Afghanistan           Algeria  Export Value  1000 US$       2017   \n",
       "7        Afghanistan            Angola  Export Value  1000 US$       2015   \n",
       "\n",
       "   Year  Value  \n",
       "2  2014   27.0  \n",
       "3  2015    1.0  \n",
       "4  2016   24.0  \n",
       "5  2017    5.0  \n",
       "7  2015    1.0  "
      ]
     },
     "execution_count": 25,
     "metadata": {},
     "output_type": "execute_result"
    }
   ],
   "source": [
    "partners_by_country.head()"
   ]
  },
  {
   "cell_type": "code",
   "execution_count": 39,
   "metadata": {},
   "outputs": [],
   "source": [
    "# Export aggregated data\n",
    "items_by_country.to_csv('../data/processed/items_by_country.csv')\n",
    "partners_by_country.to_csv('../data/processed/partners_by_country.csv')"
   ]
  }
 ],
 "metadata": {
  "kernelspec": {
   "display_name": "Python 3",
   "language": "python",
   "name": "python3"
  },
  "language_info": {
   "codemirror_mode": {
    "name": "ipython",
    "version": 3
   },
   "file_extension": ".py",
   "mimetype": "text/x-python",
   "name": "python",
   "nbconvert_exporter": "python",
   "pygments_lexer": "ipython3",
   "version": "3.6.7"
  }
 },
 "nbformat": 4,
 "nbformat_minor": 2
}

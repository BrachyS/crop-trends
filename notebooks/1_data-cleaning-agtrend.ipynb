{
 "cells": [
  {
   "cell_type": "markdown",
   "metadata": {},
   "source": [
    "#### This notebook cleans raw data and generate processed data files for further analysis"
   ]
  },
  {
   "cell_type": "code",
   "execution_count": 1,
   "metadata": {},
   "outputs": [],
   "source": [
    "import pandas as pd\n",
    "import numpy as np\n",
    "import matplotlib.pyplot as plt\n",
    "import seaborn as sns\n",
    "import operator "
   ]
  },
  {
   "cell_type": "code",
   "execution_count": 3,
   "metadata": {},
   "outputs": [],
   "source": [
    "# Data import \n",
    "# trade = pd.read_csv('/Users/Sabrina/Documents/OneDrive/Github/crop-trends/data/raw/Trade_DetailedTradeMatrix_E_All_Data_NOFLAG.csv',\n",
    "#                    encoding='latin1')\n"
   ]
  },
  {
   "cell_type": "code",
   "execution_count": 4,
   "metadata": {},
   "outputs": [],
   "source": [
    "# Try normalized data?\n",
    "trade = pd.read_csv('/Users/Sabrina/Downloads/Trade_DetailedTradeMatrix_E_All_Data_Normalized/Trade_DetailedTradeMatrix_E_All_Data_Normalized.csv',\n",
    "                   encoding='latin1')\n"
   ]
  },
  {
   "cell_type": "markdown",
   "metadata": {},
   "source": [
    "## 1. Inspect general information of the dataset"
   ]
  },
  {
   "cell_type": "code",
   "execution_count": 5,
   "metadata": {},
   "outputs": [
    {
     "name": "stdout",
     "output_type": "stream",
     "text": [
      "(35976124, 13)\n"
     ]
    }
   ],
   "source": [
    "print(trade.shape) # total rows and columns "
   ]
  },
  {
   "cell_type": "code",
   "execution_count": 6,
   "metadata": {},
   "outputs": [
    {
     "name": "stdout",
     "output_type": "stream",
     "text": [
      "(35976124, 13)\n"
     ]
    }
   ],
   "source": [
    "print(trade.shape)"
   ]
  },
  {
   "cell_type": "code",
   "execution_count": 9,
   "metadata": {},
   "outputs": [
    {
     "data": {
      "text/html": [
       "<div>\n",
       "<style scoped>\n",
       "    .dataframe tbody tr th:only-of-type {\n",
       "        vertical-align: middle;\n",
       "    }\n",
       "\n",
       "    .dataframe tbody tr th {\n",
       "        vertical-align: top;\n",
       "    }\n",
       "\n",
       "    .dataframe thead th {\n",
       "        text-align: right;\n",
       "    }\n",
       "</style>\n",
       "<table border=\"1\" class=\"dataframe\">\n",
       "  <thead>\n",
       "    <tr style=\"text-align: right;\">\n",
       "      <th></th>\n",
       "      <th>Reporter Country Code</th>\n",
       "      <th>Reporter Countries</th>\n",
       "      <th>Partner Country Code</th>\n",
       "      <th>Partner Countries</th>\n",
       "      <th>Item Code</th>\n",
       "      <th>Item</th>\n",
       "      <th>Element Code</th>\n",
       "      <th>Element</th>\n",
       "      <th>Year Code</th>\n",
       "      <th>Year</th>\n",
       "      <th>Unit</th>\n",
       "      <th>Value</th>\n",
       "      <th>Flag</th>\n",
       "    </tr>\n",
       "  </thead>\n",
       "  <tbody>\n",
       "    <tr>\n",
       "      <th>27702338</th>\n",
       "      <td>200</td>\n",
       "      <td>Singapore</td>\n",
       "      <td>237</td>\n",
       "      <td>Viet Nam</td>\n",
       "      <td>220</td>\n",
       "      <td>Chestnut</td>\n",
       "      <td>5910</td>\n",
       "      <td>Export Quantity</td>\n",
       "      <td>2017</td>\n",
       "      <td>2017</td>\n",
       "      <td>tonnes</td>\n",
       "      <td>1.0</td>\n",
       "      <td>Im</td>\n",
       "    </tr>\n",
       "    <tr>\n",
       "      <th>5856829</th>\n",
       "      <td>96</td>\n",
       "      <td>China, Hong Kong SAR</td>\n",
       "      <td>216</td>\n",
       "      <td>Thailand</td>\n",
       "      <td>1164</td>\n",
       "      <td>Meat, dried nes</td>\n",
       "      <td>5610</td>\n",
       "      <td>Import Quantity</td>\n",
       "      <td>1993</td>\n",
       "      <td>1993</td>\n",
       "      <td>tonnes</td>\n",
       "      <td>2.0</td>\n",
       "      <td>NaN</td>\n",
       "    </tr>\n",
       "    <tr>\n",
       "      <th>24609836</th>\n",
       "      <td>173</td>\n",
       "      <td>Poland</td>\n",
       "      <td>162</td>\n",
       "      <td>Norway</td>\n",
       "      <td>892</td>\n",
       "      <td>Yoghurt, concentrated or not</td>\n",
       "      <td>5910</td>\n",
       "      <td>Export Quantity</td>\n",
       "      <td>2017</td>\n",
       "      <td>2017</td>\n",
       "      <td>tonnes</td>\n",
       "      <td>1.0</td>\n",
       "      <td>NaN</td>\n",
       "    </tr>\n",
       "    <tr>\n",
       "      <th>30395509</th>\n",
       "      <td>210</td>\n",
       "      <td>Sweden</td>\n",
       "      <td>229</td>\n",
       "      <td>United Kingdom</td>\n",
       "      <td>892</td>\n",
       "      <td>Yoghurt, concentrated or not</td>\n",
       "      <td>5922</td>\n",
       "      <td>Export Value</td>\n",
       "      <td>1989</td>\n",
       "      <td>1989</td>\n",
       "      <td>1000 US$</td>\n",
       "      <td>59.0</td>\n",
       "      <td>NaN</td>\n",
       "    </tr>\n",
       "    <tr>\n",
       "      <th>17445396</th>\n",
       "      <td>110</td>\n",
       "      <td>Japan</td>\n",
       "      <td>151</td>\n",
       "      <td>Netherlands Antilles (former)</td>\n",
       "      <td>828</td>\n",
       "      <td>Cigarettes</td>\n",
       "      <td>5922</td>\n",
       "      <td>Export Value</td>\n",
       "      <td>1995</td>\n",
       "      <td>1995</td>\n",
       "      <td>1000 US$</td>\n",
       "      <td>1047.0</td>\n",
       "      <td>NaN</td>\n",
       "    </tr>\n",
       "  </tbody>\n",
       "</table>\n",
       "</div>"
      ],
      "text/plain": [
       "          Reporter Country Code    Reporter Countries  Partner Country Code  \\\n",
       "27702338                    200             Singapore                   237   \n",
       "5856829                      96  China, Hong Kong SAR                   216   \n",
       "24609836                    173                Poland                   162   \n",
       "30395509                    210                Sweden                   229   \n",
       "17445396                    110                 Japan                   151   \n",
       "\n",
       "                      Partner Countries  Item Code  \\\n",
       "27702338                       Viet Nam        220   \n",
       "5856829                        Thailand       1164   \n",
       "24609836                         Norway        892   \n",
       "30395509                 United Kingdom        892   \n",
       "17445396  Netherlands Antilles (former)        828   \n",
       "\n",
       "                                  Item  Element Code          Element  \\\n",
       "27702338                      Chestnut          5910  Export Quantity   \n",
       "5856829                Meat, dried nes          5610  Import Quantity   \n",
       "24609836  Yoghurt, concentrated or not          5910  Export Quantity   \n",
       "30395509  Yoghurt, concentrated or not          5922     Export Value   \n",
       "17445396                    Cigarettes          5922     Export Value   \n",
       "\n",
       "          Year Code  Year      Unit   Value Flag  \n",
       "27702338       2017  2017    tonnes     1.0   Im  \n",
       "5856829        1993  1993    tonnes     2.0  NaN  \n",
       "24609836       2017  2017    tonnes     1.0  NaN  \n",
       "30395509       1989  1989  1000 US$    59.0  NaN  \n",
       "17445396       1995  1995  1000 US$  1047.0  NaN  "
      ]
     },
     "execution_count": 9,
     "metadata": {},
     "output_type": "execute_result"
    }
   ],
   "source": [
    "trade.sample(5) # time series between years 1986 and 2017 on export and import agricultural commodities."
   ]
  },
  {
   "cell_type": "code",
   "execution_count": 11,
   "metadata": {},
   "outputs": [
    {
     "name": "stdout",
     "output_type": "stream",
     "text": [
      "Number of unique items traded: 424\n",
      "Number of Reporter Countries: 184\n",
      "Number of Partner Countries: 255\n",
      "Entries with Unspecified Area as partner countries: 86692\n"
     ]
    }
   ],
   "source": [
    "# Identify total number of reporter countries, partner countries and unique items\n",
    "print('Number of unique items traded:', len(trade.Item.unique()))\n",
    "print('Number of Reporter Countries:', len(trade['Reporter Countries'].unique()))\n",
    "print('Number of Partner Countries:', len(trade['Partner Countries'].unique()))\n",
    "print('Entries with Unspecified Area as partner countries:',\n",
    "      len(trade.loc[trade['Partner Countries']=='Unspecified Area',:]))"
   ]
  },
  {
   "cell_type": "code",
   "execution_count": 21,
   "metadata": {},
   "outputs": [
    {
     "data": {
      "text/html": [
       "<div>\n",
       "<style scoped>\n",
       "    .dataframe tbody tr th:only-of-type {\n",
       "        vertical-align: middle;\n",
       "    }\n",
       "\n",
       "    .dataframe tbody tr th {\n",
       "        vertical-align: top;\n",
       "    }\n",
       "\n",
       "    .dataframe thead th {\n",
       "        text-align: right;\n",
       "    }\n",
       "</style>\n",
       "<table border=\"1\" class=\"dataframe\">\n",
       "  <thead>\n",
       "    <tr style=\"text-align: right;\">\n",
       "      <th></th>\n",
       "      <th>Reporter Country Code</th>\n",
       "      <th>Reporter Countries</th>\n",
       "      <th>Partner Country Code</th>\n",
       "      <th>Partner Countries</th>\n",
       "      <th>Item Code</th>\n",
       "      <th>Item</th>\n",
       "      <th>Element Code</th>\n",
       "      <th>Element</th>\n",
       "      <th>Year Code</th>\n",
       "      <th>Year</th>\n",
       "      <th>Unit</th>\n",
       "      <th>Value</th>\n",
       "      <th>Flag</th>\n",
       "    </tr>\n",
       "  </thead>\n",
       "  <tbody>\n",
       "    <tr>\n",
       "      <th>8191951</th>\n",
       "      <td>167</td>\n",
       "      <td>Czechia</td>\n",
       "      <td>150</td>\n",
       "      <td>Netherlands</td>\n",
       "      <td>866</td>\n",
       "      <td>Cattle</td>\n",
       "      <td>5908</td>\n",
       "      <td>Export Quantity</td>\n",
       "      <td>1995</td>\n",
       "      <td>1995</td>\n",
       "      <td>Head</td>\n",
       "      <td>NaN</td>\n",
       "      <td>M</td>\n",
       "    </tr>\n",
       "  </tbody>\n",
       "</table>\n",
       "</div>"
      ],
      "text/plain": [
       "         Reporter Country Code Reporter Countries  Partner Country Code  \\\n",
       "8191951                    167            Czechia                   150   \n",
       "\n",
       "        Partner Countries  Item Code    Item  Element Code          Element  \\\n",
       "8191951       Netherlands        866  Cattle          5908  Export Quantity   \n",
       "\n",
       "         Year Code  Year  Unit  Value Flag  \n",
       "8191951       1995  1995  Head    NaN    M  "
      ]
     },
     "execution_count": 21,
     "metadata": {},
     "output_type": "execute_result"
    }
   ],
   "source": [
    "trade.loc[trade['Value'].isnull(),:]"
   ]
  },
  {
   "cell_type": "code",
   "execution_count": 25,
   "metadata": {},
   "outputs": [
    {
     "name": "stdout",
     "output_type": "stream",
     "text": [
      "(35976123, 13)\n"
     ]
    }
   ],
   "source": [
    "trade = trade.dropna(subset=['Value']) # Remove missing values in 'Value' colum\n",
    "print(trade.shape)"
   ]
  },
  {
   "cell_type": "code",
   "execution_count": 6,
   "metadata": {},
   "outputs": [
    {
     "name": "stdout",
     "output_type": "stream",
     "text": [
      "Number of unique items traded: 424\n",
      "Number of Reporter Countries: 184\n",
      "Number of Partner Countries: 255\n",
      "Entries with Unspecified Area as partner countries: 399242\n"
     ]
    }
   ],
   "source": [
    "# Identify total number of reporter countries, partner countries and unique items\n",
    "print('Number of unique items traded:', len(trade.Item.unique()))\n",
    "print('Number of Reporter Countries:', len(trade['Reporter Countries'].unique()))\n",
    "print('Number of Partner Countries:', len(trade['Partner Countries'].unique()))\n",
    "print('Entries with Unspecified Area as partner countries:',\n",
    "      len(trade.loc[trade['Partner Countries']=='Unspecified Area',:]))"
   ]
  },
  {
   "attachments": {},
   "cell_type": "markdown",
   "metadata": {},
   "source": [
    " ### Observations\n",
    " - Missing values in the ‘Value’ column were checked and one row which contains missing data was dropped. Most missing values in this datafile has been filled by imputation with partner country data\n",
    " - 'Partner Countries' include entries of 'Unspecified Area', which should be noted when calculating diversity of trading partners. \n",
    " \n",
    " We are not interested in data of a particular item between two specific countries. Instead, we are looking for the number of items(i.e., trading diversity) and their total amount a country export/import, and the number of partner countries each reporter country have for an item.   \n",
    " Therefore, we shall aggregate the dataset based on items and reporter countries, respectively. "
   ]
  },
  {
   "cell_type": "markdown",
   "metadata": {},
   "source": [
    "## 2. Aggregate data according to items and partner countries"
   ]
  },
  {
   "cell_type": "markdown",
   "metadata": {},
   "source": [
    "#### 2.1 Sum up trading volumn for reporter countries by items"
   ]
  },
  {
   "cell_type": "code",
   "execution_count": 26,
   "metadata": {},
   "outputs": [],
   "source": [
    "items_by_country = trade.groupby(['Reporter Countries','Item','Element','Unit','Year Code','Year']).sum()"
   ]
  },
  {
   "cell_type": "code",
   "execution_count": 15,
   "metadata": {},
   "outputs": [],
   "source": [
    "items_by_country = items_by_country.drop(['Reporter Country Code','Partner Country Code','Element Code'],axis=1)"
   ]
  },
  {
   "cell_type": "code",
   "execution_count": 21,
   "metadata": {},
   "outputs": [
    {
     "data": {
      "text/plain": [
       "(223049, 33)"
      ]
     },
     "execution_count": 21,
     "metadata": {},
     "output_type": "execute_result"
    }
   ],
   "source": [
    "items_by_country.shape"
   ]
  },
  {
   "cell_type": "code",
   "execution_count": 20,
   "metadata": {},
   "outputs": [
    {
     "data": {
      "text/plain": [
       "(3399979, 8)"
      ]
     },
     "execution_count": 20,
     "metadata": {},
     "output_type": "execute_result"
    }
   ],
   "source": [
    "items_by_country.shape"
   ]
  },
  {
   "cell_type": "code",
   "execution_count": 18,
   "metadata": {},
   "outputs": [],
   "source": [
    "items_by_country = items_by_country.reset_index()"
   ]
  },
  {
   "cell_type": "code",
   "execution_count": 19,
   "metadata": {},
   "outputs": [
    {
     "data": {
      "text/html": [
       "<div>\n",
       "<style scoped>\n",
       "    .dataframe tbody tr th:only-of-type {\n",
       "        vertical-align: middle;\n",
       "    }\n",
       "\n",
       "    .dataframe tbody tr th {\n",
       "        vertical-align: top;\n",
       "    }\n",
       "\n",
       "    .dataframe thead th {\n",
       "        text-align: right;\n",
       "    }\n",
       "</style>\n",
       "<table border=\"1\" class=\"dataframe\">\n",
       "  <thead>\n",
       "    <tr style=\"text-align: right;\">\n",
       "      <th></th>\n",
       "      <th>Reporter Countries</th>\n",
       "      <th>Item</th>\n",
       "      <th>Element</th>\n",
       "      <th>Unit</th>\n",
       "      <th>Year Code</th>\n",
       "      <th>Year</th>\n",
       "      <th>Item Code</th>\n",
       "      <th>Value</th>\n",
       "    </tr>\n",
       "  </thead>\n",
       "  <tbody>\n",
       "    <tr>\n",
       "      <th>0</th>\n",
       "      <td>Afghanistan</td>\n",
       "      <td>Almonds shelled</td>\n",
       "      <td>Export Quantity</td>\n",
       "      <td>tonnes</td>\n",
       "      <td>2009</td>\n",
       "      <td>2009</td>\n",
       "      <td>1155</td>\n",
       "      <td>4763.0</td>\n",
       "    </tr>\n",
       "    <tr>\n",
       "      <th>1</th>\n",
       "      <td>Afghanistan</td>\n",
       "      <td>Almonds shelled</td>\n",
       "      <td>Export Quantity</td>\n",
       "      <td>tonnes</td>\n",
       "      <td>2010</td>\n",
       "      <td>2010</td>\n",
       "      <td>1848</td>\n",
       "      <td>1308.0</td>\n",
       "    </tr>\n",
       "    <tr>\n",
       "      <th>2</th>\n",
       "      <td>Afghanistan</td>\n",
       "      <td>Almonds shelled</td>\n",
       "      <td>Export Quantity</td>\n",
       "      <td>tonnes</td>\n",
       "      <td>2011</td>\n",
       "      <td>2011</td>\n",
       "      <td>1848</td>\n",
       "      <td>2261.0</td>\n",
       "    </tr>\n",
       "    <tr>\n",
       "      <th>3</th>\n",
       "      <td>Afghanistan</td>\n",
       "      <td>Almonds shelled</td>\n",
       "      <td>Export Quantity</td>\n",
       "      <td>tonnes</td>\n",
       "      <td>2014</td>\n",
       "      <td>2014</td>\n",
       "      <td>3003</td>\n",
       "      <td>2714.0</td>\n",
       "    </tr>\n",
       "    <tr>\n",
       "      <th>4</th>\n",
       "      <td>Afghanistan</td>\n",
       "      <td>Almonds shelled</td>\n",
       "      <td>Export Quantity</td>\n",
       "      <td>tonnes</td>\n",
       "      <td>2015</td>\n",
       "      <td>2015</td>\n",
       "      <td>2541</td>\n",
       "      <td>2086.0</td>\n",
       "    </tr>\n",
       "  </tbody>\n",
       "</table>\n",
       "</div>"
      ],
      "text/plain": [
       "  Reporter Countries             Item          Element    Unit  Year Code  \\\n",
       "0        Afghanistan  Almonds shelled  Export Quantity  tonnes       2009   \n",
       "1        Afghanistan  Almonds shelled  Export Quantity  tonnes       2010   \n",
       "2        Afghanistan  Almonds shelled  Export Quantity  tonnes       2011   \n",
       "3        Afghanistan  Almonds shelled  Export Quantity  tonnes       2014   \n",
       "4        Afghanistan  Almonds shelled  Export Quantity  tonnes       2015   \n",
       "\n",
       "   Year  Item Code   Value  \n",
       "0  2009       1155  4763.0  \n",
       "1  2010       1848  1308.0  \n",
       "2  2011       1848  2261.0  \n",
       "3  2014       3003  2714.0  \n",
       "4  2015       2541  2086.0  "
      ]
     },
     "execution_count": 19,
     "metadata": {},
     "output_type": "execute_result"
    }
   ],
   "source": [
    "items_by_country.head()"
   ]
  },
  {
   "cell_type": "code",
   "execution_count": 12,
   "metadata": {},
   "outputs": [
    {
     "data": {
      "text/html": [
       "<div>\n",
       "<style scoped>\n",
       "    .dataframe tbody tr th:only-of-type {\n",
       "        vertical-align: middle;\n",
       "    }\n",
       "\n",
       "    .dataframe tbody tr th {\n",
       "        vertical-align: top;\n",
       "    }\n",
       "\n",
       "    .dataframe thead th {\n",
       "        text-align: right;\n",
       "    }\n",
       "</style>\n",
       "<table border=\"1\" class=\"dataframe\">\n",
       "  <thead>\n",
       "    <tr style=\"text-align: right;\">\n",
       "      <th></th>\n",
       "      <th>index</th>\n",
       "      <th>Reporter Countries</th>\n",
       "      <th>Item</th>\n",
       "      <th>Element</th>\n",
       "      <th>Unit</th>\n",
       "      <th>Item Code</th>\n",
       "      <th>Year Code</th>\n",
       "      <th>Year</th>\n",
       "      <th>Value</th>\n",
       "    </tr>\n",
       "  </thead>\n",
       "  <tbody>\n",
       "    <tr>\n",
       "      <th>0</th>\n",
       "      <td>0</td>\n",
       "      <td>Afghanistan</td>\n",
       "      <td>Almonds shelled</td>\n",
       "      <td>Export Quantity</td>\n",
       "      <td>tonnes</td>\n",
       "      <td>14784</td>\n",
       "      <td>128873</td>\n",
       "      <td>128873</td>\n",
       "      <td>17666.0</td>\n",
       "    </tr>\n",
       "    <tr>\n",
       "      <th>1</th>\n",
       "      <td>1</td>\n",
       "      <td>Afghanistan</td>\n",
       "      <td>Almonds shelled</td>\n",
       "      <td>Export Value</td>\n",
       "      <td>1000 US$</td>\n",
       "      <td>14784</td>\n",
       "      <td>128873</td>\n",
       "      <td>128873</td>\n",
       "      <td>131498.0</td>\n",
       "    </tr>\n",
       "    <tr>\n",
       "      <th>2</th>\n",
       "      <td>2</td>\n",
       "      <td>Afghanistan</td>\n",
       "      <td>Almonds shelled</td>\n",
       "      <td>Import Quantity</td>\n",
       "      <td>tonnes</td>\n",
       "      <td>3234</td>\n",
       "      <td>28218</td>\n",
       "      <td>28218</td>\n",
       "      <td>1298.0</td>\n",
       "    </tr>\n",
       "    <tr>\n",
       "      <th>3</th>\n",
       "      <td>3</td>\n",
       "      <td>Afghanistan</td>\n",
       "      <td>Almonds shelled</td>\n",
       "      <td>Import Value</td>\n",
       "      <td>1000 US$</td>\n",
       "      <td>3234</td>\n",
       "      <td>28218</td>\n",
       "      <td>28218</td>\n",
       "      <td>8241.0</td>\n",
       "    </tr>\n",
       "    <tr>\n",
       "      <th>4</th>\n",
       "      <td>4</td>\n",
       "      <td>Afghanistan</td>\n",
       "      <td>Almonds, with shell</td>\n",
       "      <td>Export Quantity</td>\n",
       "      <td>tonnes</td>\n",
       "      <td>8840</td>\n",
       "      <td>80527</td>\n",
       "      <td>80527</td>\n",
       "      <td>18797.0</td>\n",
       "    </tr>\n",
       "  </tbody>\n",
       "</table>\n",
       "</div>"
      ],
      "text/plain": [
       "   index Reporter Countries                 Item          Element      Unit  \\\n",
       "0      0        Afghanistan      Almonds shelled  Export Quantity    tonnes   \n",
       "1      1        Afghanistan      Almonds shelled     Export Value  1000 US$   \n",
       "2      2        Afghanistan      Almonds shelled  Import Quantity    tonnes   \n",
       "3      3        Afghanistan      Almonds shelled     Import Value  1000 US$   \n",
       "4      4        Afghanistan  Almonds, with shell  Export Quantity    tonnes   \n",
       "\n",
       "   Item Code  Year Code    Year     Value  \n",
       "0      14784     128873  128873   17666.0  \n",
       "1      14784     128873  128873  131498.0  \n",
       "2       3234      28218   28218    1298.0  \n",
       "3       3234      28218   28218    8241.0  \n",
       "4       8840      80527   80527   18797.0  "
      ]
     },
     "execution_count": 12,
     "metadata": {},
     "output_type": "execute_result"
    }
   ],
   "source": [
    "items_by_country.head()"
   ]
  },
  {
   "cell_type": "code",
   "execution_count": 29,
   "metadata": {},
   "outputs": [
    {
     "data": {
      "text/plain": [
       "32"
      ]
     },
     "execution_count": 29,
     "metadata": {},
     "output_type": "execute_result"
    }
   ],
   "source": [
    "len(trade['Year'].unique())"
   ]
  },
  {
   "cell_type": "markdown",
   "metadata": {},
   "source": [
    "#### 2.2 Sum up trading volumn for each reporter countries by partner countries"
   ]
  },
  {
   "cell_type": "code",
   "execution_count": 21,
   "metadata": {},
   "outputs": [],
   "source": [
    "partners_by_country = trade.groupby(['Reporter Countries','Partner Countries','Element','Unit','Year Code','Year']).sum().reset_index()"
   ]
  },
  {
   "cell_type": "code",
   "execution_count": 22,
   "metadata": {},
   "outputs": [],
   "source": [
    "# Sum of tonnes, heads, etc across different items do not make much sense, so will be removed\n",
    "# Only value amount (i.e., US$ will be kept)\n",
    "partners_by_country = partners_by_country.loc[partners_by_country['Unit']=='1000 US$',:]"
   ]
  },
  {
   "cell_type": "code",
   "execution_count": 23,
   "metadata": {},
   "outputs": [],
   "source": [
    "partners_by_country = partners_by_country.drop(['Reporter Country Code','Partner Country Code','Item Code','Element Code'],axis=1)"
   ]
  },
  {
   "cell_type": "code",
   "execution_count": 37,
   "metadata": {},
   "outputs": [
    {
     "data": {
      "text/plain": [
       "(57838, 36)"
      ]
     },
     "execution_count": 37,
     "metadata": {},
     "output_type": "execute_result"
    }
   ],
   "source": [
    "partners_by_country.shape"
   ]
  },
  {
   "cell_type": "code",
   "execution_count": 38,
   "metadata": {},
   "outputs": [
    {
     "data": {
      "text/html": [
       "<div>\n",
       "<style scoped>\n",
       "    .dataframe tbody tr th:only-of-type {\n",
       "        vertical-align: middle;\n",
       "    }\n",
       "\n",
       "    .dataframe tbody tr th {\n",
       "        vertical-align: top;\n",
       "    }\n",
       "\n",
       "    .dataframe thead th {\n",
       "        text-align: right;\n",
       "    }\n",
       "</style>\n",
       "<table border=\"1\" class=\"dataframe\">\n",
       "  <thead>\n",
       "    <tr style=\"text-align: right;\">\n",
       "      <th></th>\n",
       "      <th>Reporter Countries</th>\n",
       "      <th>Partner Countries</th>\n",
       "      <th>Element</th>\n",
       "      <th>Unit</th>\n",
       "      <th>Y1986</th>\n",
       "      <th>Y1987</th>\n",
       "      <th>Y1988</th>\n",
       "      <th>Y1989</th>\n",
       "      <th>Y1990</th>\n",
       "      <th>Y1991</th>\n",
       "      <th>...</th>\n",
       "      <th>Y2008</th>\n",
       "      <th>Y2009</th>\n",
       "      <th>Y2010</th>\n",
       "      <th>Y2011</th>\n",
       "      <th>Y2012</th>\n",
       "      <th>Y2013</th>\n",
       "      <th>Y2014</th>\n",
       "      <th>Y2015</th>\n",
       "      <th>Y2016</th>\n",
       "      <th>Y2017</th>\n",
       "    </tr>\n",
       "  </thead>\n",
       "  <tbody>\n",
       "    <tr>\n",
       "      <th>1</th>\n",
       "      <td>Afghanistan</td>\n",
       "      <td>Algeria</td>\n",
       "      <td>Export Value</td>\n",
       "      <td>1000 US$</td>\n",
       "      <td>0.0</td>\n",
       "      <td>0.0</td>\n",
       "      <td>0.0</td>\n",
       "      <td>0.0</td>\n",
       "      <td>0.0</td>\n",
       "      <td>0.0</td>\n",
       "      <td>...</td>\n",
       "      <td>0.0</td>\n",
       "      <td>0.0</td>\n",
       "      <td>0.0</td>\n",
       "      <td>0.0</td>\n",
       "      <td>0.0</td>\n",
       "      <td>0.0</td>\n",
       "      <td>27.0</td>\n",
       "      <td>1.0</td>\n",
       "      <td>24.0</td>\n",
       "      <td>5.0</td>\n",
       "    </tr>\n",
       "    <tr>\n",
       "      <th>3</th>\n",
       "      <td>Afghanistan</td>\n",
       "      <td>Angola</td>\n",
       "      <td>Export Value</td>\n",
       "      <td>1000 US$</td>\n",
       "      <td>0.0</td>\n",
       "      <td>0.0</td>\n",
       "      <td>0.0</td>\n",
       "      <td>0.0</td>\n",
       "      <td>0.0</td>\n",
       "      <td>0.0</td>\n",
       "      <td>...</td>\n",
       "      <td>0.0</td>\n",
       "      <td>0.0</td>\n",
       "      <td>0.0</td>\n",
       "      <td>0.0</td>\n",
       "      <td>0.0</td>\n",
       "      <td>0.0</td>\n",
       "      <td>0.0</td>\n",
       "      <td>1.0</td>\n",
       "      <td>0.0</td>\n",
       "      <td>0.0</td>\n",
       "    </tr>\n",
       "    <tr>\n",
       "      <th>5</th>\n",
       "      <td>Afghanistan</td>\n",
       "      <td>Argentina</td>\n",
       "      <td>Import Value</td>\n",
       "      <td>1000 US$</td>\n",
       "      <td>0.0</td>\n",
       "      <td>0.0</td>\n",
       "      <td>0.0</td>\n",
       "      <td>0.0</td>\n",
       "      <td>0.0</td>\n",
       "      <td>0.0</td>\n",
       "      <td>...</td>\n",
       "      <td>0.0</td>\n",
       "      <td>0.0</td>\n",
       "      <td>0.0</td>\n",
       "      <td>415.0</td>\n",
       "      <td>0.0</td>\n",
       "      <td>0.0</td>\n",
       "      <td>1163.0</td>\n",
       "      <td>159.0</td>\n",
       "      <td>1844.0</td>\n",
       "      <td>1829.0</td>\n",
       "    </tr>\n",
       "    <tr>\n",
       "      <th>7</th>\n",
       "      <td>Afghanistan</td>\n",
       "      <td>Armenia</td>\n",
       "      <td>Export Value</td>\n",
       "      <td>1000 US$</td>\n",
       "      <td>0.0</td>\n",
       "      <td>0.0</td>\n",
       "      <td>0.0</td>\n",
       "      <td>0.0</td>\n",
       "      <td>0.0</td>\n",
       "      <td>0.0</td>\n",
       "      <td>...</td>\n",
       "      <td>0.0</td>\n",
       "      <td>0.0</td>\n",
       "      <td>0.0</td>\n",
       "      <td>0.0</td>\n",
       "      <td>0.0</td>\n",
       "      <td>0.0</td>\n",
       "      <td>0.0</td>\n",
       "      <td>0.0</td>\n",
       "      <td>0.0</td>\n",
       "      <td>1.0</td>\n",
       "    </tr>\n",
       "    <tr>\n",
       "      <th>9</th>\n",
       "      <td>Afghanistan</td>\n",
       "      <td>Armenia</td>\n",
       "      <td>Import Value</td>\n",
       "      <td>1000 US$</td>\n",
       "      <td>0.0</td>\n",
       "      <td>0.0</td>\n",
       "      <td>0.0</td>\n",
       "      <td>0.0</td>\n",
       "      <td>0.0</td>\n",
       "      <td>0.0</td>\n",
       "      <td>...</td>\n",
       "      <td>0.0</td>\n",
       "      <td>0.0</td>\n",
       "      <td>0.0</td>\n",
       "      <td>48.0</td>\n",
       "      <td>0.0</td>\n",
       "      <td>0.0</td>\n",
       "      <td>282.0</td>\n",
       "      <td>246.0</td>\n",
       "      <td>0.0</td>\n",
       "      <td>67.0</td>\n",
       "    </tr>\n",
       "  </tbody>\n",
       "</table>\n",
       "<p>5 rows × 36 columns</p>\n",
       "</div>"
      ],
      "text/plain": [
       "  Reporter Countries Partner Countries       Element      Unit  Y1986  Y1987  \\\n",
       "1        Afghanistan           Algeria  Export Value  1000 US$    0.0    0.0   \n",
       "3        Afghanistan            Angola  Export Value  1000 US$    0.0    0.0   \n",
       "5        Afghanistan         Argentina  Import Value  1000 US$    0.0    0.0   \n",
       "7        Afghanistan           Armenia  Export Value  1000 US$    0.0    0.0   \n",
       "9        Afghanistan           Armenia  Import Value  1000 US$    0.0    0.0   \n",
       "\n",
       "   Y1988  Y1989  Y1990  Y1991  ...  Y2008  Y2009  Y2010  Y2011  Y2012  Y2013  \\\n",
       "1    0.0    0.0    0.0    0.0  ...    0.0    0.0    0.0    0.0    0.0    0.0   \n",
       "3    0.0    0.0    0.0    0.0  ...    0.0    0.0    0.0    0.0    0.0    0.0   \n",
       "5    0.0    0.0    0.0    0.0  ...    0.0    0.0    0.0  415.0    0.0    0.0   \n",
       "7    0.0    0.0    0.0    0.0  ...    0.0    0.0    0.0    0.0    0.0    0.0   \n",
       "9    0.0    0.0    0.0    0.0  ...    0.0    0.0    0.0   48.0    0.0    0.0   \n",
       "\n",
       "    Y2014  Y2015   Y2016   Y2017  \n",
       "1    27.0    1.0    24.0     5.0  \n",
       "3     0.0    1.0     0.0     0.0  \n",
       "5  1163.0  159.0  1844.0  1829.0  \n",
       "7     0.0    0.0     0.0     1.0  \n",
       "9   282.0  246.0     0.0    67.0  \n",
       "\n",
       "[5 rows x 36 columns]"
      ]
     },
     "execution_count": 38,
     "metadata": {},
     "output_type": "execute_result"
    }
   ],
   "source": [
    "partners_by_country.head()"
   ]
  },
  {
   "cell_type": "code",
   "execution_count": 24,
   "metadata": {},
   "outputs": [
    {
     "data": {
      "text/plain": [
       "(754206, 7)"
      ]
     },
     "execution_count": 24,
     "metadata": {},
     "output_type": "execute_result"
    }
   ],
   "source": [
    "partners_by_country.shape"
   ]
  },
  {
   "cell_type": "code",
   "execution_count": 25,
   "metadata": {},
   "outputs": [
    {
     "data": {
      "text/html": [
       "<div>\n",
       "<style scoped>\n",
       "    .dataframe tbody tr th:only-of-type {\n",
       "        vertical-align: middle;\n",
       "    }\n",
       "\n",
       "    .dataframe tbody tr th {\n",
       "        vertical-align: top;\n",
       "    }\n",
       "\n",
       "    .dataframe thead th {\n",
       "        text-align: right;\n",
       "    }\n",
       "</style>\n",
       "<table border=\"1\" class=\"dataframe\">\n",
       "  <thead>\n",
       "    <tr style=\"text-align: right;\">\n",
       "      <th></th>\n",
       "      <th>Reporter Countries</th>\n",
       "      <th>Partner Countries</th>\n",
       "      <th>Element</th>\n",
       "      <th>Unit</th>\n",
       "      <th>Year Code</th>\n",
       "      <th>Year</th>\n",
       "      <th>Value</th>\n",
       "    </tr>\n",
       "  </thead>\n",
       "  <tbody>\n",
       "    <tr>\n",
       "      <th>2</th>\n",
       "      <td>Afghanistan</td>\n",
       "      <td>Algeria</td>\n",
       "      <td>Export Value</td>\n",
       "      <td>1000 US$</td>\n",
       "      <td>2014</td>\n",
       "      <td>2014</td>\n",
       "      <td>27.0</td>\n",
       "    </tr>\n",
       "    <tr>\n",
       "      <th>3</th>\n",
       "      <td>Afghanistan</td>\n",
       "      <td>Algeria</td>\n",
       "      <td>Export Value</td>\n",
       "      <td>1000 US$</td>\n",
       "      <td>2015</td>\n",
       "      <td>2015</td>\n",
       "      <td>1.0</td>\n",
       "    </tr>\n",
       "    <tr>\n",
       "      <th>4</th>\n",
       "      <td>Afghanistan</td>\n",
       "      <td>Algeria</td>\n",
       "      <td>Export Value</td>\n",
       "      <td>1000 US$</td>\n",
       "      <td>2016</td>\n",
       "      <td>2016</td>\n",
       "      <td>24.0</td>\n",
       "    </tr>\n",
       "    <tr>\n",
       "      <th>5</th>\n",
       "      <td>Afghanistan</td>\n",
       "      <td>Algeria</td>\n",
       "      <td>Export Value</td>\n",
       "      <td>1000 US$</td>\n",
       "      <td>2017</td>\n",
       "      <td>2017</td>\n",
       "      <td>5.0</td>\n",
       "    </tr>\n",
       "    <tr>\n",
       "      <th>7</th>\n",
       "      <td>Afghanistan</td>\n",
       "      <td>Angola</td>\n",
       "      <td>Export Value</td>\n",
       "      <td>1000 US$</td>\n",
       "      <td>2015</td>\n",
       "      <td>2015</td>\n",
       "      <td>1.0</td>\n",
       "    </tr>\n",
       "  </tbody>\n",
       "</table>\n",
       "</div>"
      ],
      "text/plain": [
       "  Reporter Countries Partner Countries       Element      Unit  Year Code  \\\n",
       "2        Afghanistan           Algeria  Export Value  1000 US$       2014   \n",
       "3        Afghanistan           Algeria  Export Value  1000 US$       2015   \n",
       "4        Afghanistan           Algeria  Export Value  1000 US$       2016   \n",
       "5        Afghanistan           Algeria  Export Value  1000 US$       2017   \n",
       "7        Afghanistan            Angola  Export Value  1000 US$       2015   \n",
       "\n",
       "   Year  Value  \n",
       "2  2014   27.0  \n",
       "3  2015    1.0  \n",
       "4  2016   24.0  \n",
       "5  2017    5.0  \n",
       "7  2015    1.0  "
      ]
     },
     "execution_count": 25,
     "metadata": {},
     "output_type": "execute_result"
    }
   ],
   "source": [
    "partners_by_country.head()"
   ]
  },
  {
   "cell_type": "code",
   "execution_count": 39,
   "metadata": {},
   "outputs": [],
   "source": [
    "# Export aggregated data\n",
    "items_by_country.to_csv('../data/processed/items_by_country.csv')\n",
    "partners_by_country.to_csv('../data/processed/partners_by_country.csv')"
   ]
  }
 ],
 "metadata": {
  "kernelspec": {
   "display_name": "Python 3",
   "language": "python",
   "name": "python3"
  },
  "language_info": {
   "codemirror_mode": {
    "name": "ipython",
    "version": 3
   },
   "file_extension": ".py",
   "mimetype": "text/x-python",
   "name": "python",
   "nbconvert_exporter": "python",
   "pygments_lexer": "ipython3",
   "version": "3.6.7"
  }
 },
 "nbformat": 4,
 "nbformat_minor": 2
}

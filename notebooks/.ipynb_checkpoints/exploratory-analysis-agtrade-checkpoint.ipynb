{
 "cells": [
  {
   "cell_type": "code",
   "execution_count": 1,
   "metadata": {},
   "outputs": [],
   "source": [
    "import pandas as pd\n",
    "import numpy as np\n",
    "import matplotlib.pyplot as plt"
   ]
  },
  {
   "cell_type": "code",
   "execution_count": 2,
   "metadata": {},
   "outputs": [
    {
     "name": "stdout",
     "output_type": "stream",
     "text": [
      "/Users/Sabrina/Documents/OneDrive/Github/crop-trends/notebooks\r\n"
     ]
    }
   ],
   "source": [
    "!pwd"
   ]
  },
  {
   "cell_type": "code",
   "execution_count": 3,
   "metadata": {},
   "outputs": [
    {
     "name": "stderr",
     "output_type": "stream",
     "text": [
      "/Users/Sabrina/anaconda3/lib/python3.6/site-packages/IPython/core/interactiveshell.py:3058: DtypeWarning: Columns (10,12,14,16,18,20,22,24,26,28,30,32,34,36,38,40,42,44,46,48,54,56,58,62,64) have mixed types. Specify dtype option on import or set low_memory=False.\n",
      "  interactivity=interactivity, compiler=compiler, result=result)\n"
     ]
    }
   ],
   "source": [
    "# Use oceana data first\n",
    "#trade = pd.read_csv('/Users/Sabrina/Documents/OneDrive/Github/crop-trends/data/raw/Trade_DetailedTradeMatrix_E_All_Data.csv',\n",
    "#                   encoding='latin1')\n",
    "\n",
    "trade = pd.read_csv('/Users/Sabrina/Documents/OneDrive/Github/crop-trends/data/raw/Trade_DetailedTradeMatrix_E_Oceania/Trade_DetailedTradeMatrix_E_Oceania.csv',\n",
    "                   encoding='latin1')\n",
    "\n",
    "\n",
    "\n"
   ]
  },
  {
   "cell_type": "code",
   "execution_count": 12,
   "metadata": {},
   "outputs": [
    {
     "data": {
      "text/plain": [
       "(5248354, 73)"
      ]
     },
     "execution_count": 12,
     "metadata": {},
     "output_type": "execute_result"
    }
   ],
   "source": [
    "trade.shape"
   ]
  },
  {
   "cell_type": "code",
   "execution_count": 4,
   "metadata": {},
   "outputs": [
    {
     "data": {
      "text/plain": [
       "(181866, 73)"
      ]
     },
     "execution_count": 4,
     "metadata": {},
     "output_type": "execute_result"
    }
   ],
   "source": [
    "trade.shape"
   ]
  },
  {
   "cell_type": "code",
   "execution_count": 13,
   "metadata": {},
   "outputs": [
    {
     "data": {
      "text/html": [
       "<div>\n",
       "<style scoped>\n",
       "    .dataframe tbody tr th:only-of-type {\n",
       "        vertical-align: middle;\n",
       "    }\n",
       "\n",
       "    .dataframe tbody tr th {\n",
       "        vertical-align: top;\n",
       "    }\n",
       "\n",
       "    .dataframe thead th {\n",
       "        text-align: right;\n",
       "    }\n",
       "</style>\n",
       "<table border=\"1\" class=\"dataframe\">\n",
       "  <thead>\n",
       "    <tr style=\"text-align: right;\">\n",
       "      <th></th>\n",
       "      <th>Reporter Country Code</th>\n",
       "      <th>Reporter Countries</th>\n",
       "      <th>Partner Country Code</th>\n",
       "      <th>Partner Countries</th>\n",
       "      <th>Item Code</th>\n",
       "      <th>Item</th>\n",
       "      <th>Element Code</th>\n",
       "      <th>Element</th>\n",
       "      <th>Unit</th>\n",
       "      <th>Y1986</th>\n",
       "      <th>...</th>\n",
       "      <th>Y2013</th>\n",
       "      <th>Y2013F</th>\n",
       "      <th>Y2014</th>\n",
       "      <th>Y2014F</th>\n",
       "      <th>Y2015</th>\n",
       "      <th>Y2015F</th>\n",
       "      <th>Y2016</th>\n",
       "      <th>Y2016F</th>\n",
       "      <th>Y2017</th>\n",
       "      <th>Y2017F</th>\n",
       "    </tr>\n",
       "  </thead>\n",
       "  <tbody>\n",
       "    <tr>\n",
       "      <th>0</th>\n",
       "      <td>2</td>\n",
       "      <td>Afghanistan</td>\n",
       "      <td>4</td>\n",
       "      <td>Algeria</td>\n",
       "      <td>230</td>\n",
       "      <td>Cashew nuts, shelled</td>\n",
       "      <td>5910</td>\n",
       "      <td>Export Quantity</td>\n",
       "      <td>tonnes</td>\n",
       "      <td>NaN</td>\n",
       "      <td>...</td>\n",
       "      <td>NaN</td>\n",
       "      <td>NaN</td>\n",
       "      <td>NaN</td>\n",
       "      <td>NaN</td>\n",
       "      <td>NaN</td>\n",
       "      <td>NaN</td>\n",
       "      <td>3.0</td>\n",
       "      <td>*</td>\n",
       "      <td>NaN</td>\n",
       "      <td>NaN</td>\n",
       "    </tr>\n",
       "    <tr>\n",
       "      <th>1</th>\n",
       "      <td>2</td>\n",
       "      <td>Afghanistan</td>\n",
       "      <td>4</td>\n",
       "      <td>Algeria</td>\n",
       "      <td>230</td>\n",
       "      <td>Cashew nuts, shelled</td>\n",
       "      <td>5922</td>\n",
       "      <td>Export Value</td>\n",
       "      <td>1000 US$</td>\n",
       "      <td>NaN</td>\n",
       "      <td>...</td>\n",
       "      <td>NaN</td>\n",
       "      <td>NaN</td>\n",
       "      <td>NaN</td>\n",
       "      <td>NaN</td>\n",
       "      <td>NaN</td>\n",
       "      <td>NaN</td>\n",
       "      <td>23.0</td>\n",
       "      <td>*</td>\n",
       "      <td>NaN</td>\n",
       "      <td>NaN</td>\n",
       "    </tr>\n",
       "    <tr>\n",
       "      <th>2</th>\n",
       "      <td>2</td>\n",
       "      <td>Afghanistan</td>\n",
       "      <td>4</td>\n",
       "      <td>Algeria</td>\n",
       "      <td>1293</td>\n",
       "      <td>Crude materials</td>\n",
       "      <td>5922</td>\n",
       "      <td>Export Value</td>\n",
       "      <td>1000 US$</td>\n",
       "      <td>NaN</td>\n",
       "      <td>...</td>\n",
       "      <td>NaN</td>\n",
       "      <td>NaN</td>\n",
       "      <td>NaN</td>\n",
       "      <td>NaN</td>\n",
       "      <td>1.0</td>\n",
       "      <td>*</td>\n",
       "      <td>1.0</td>\n",
       "      <td>*</td>\n",
       "      <td>5.0</td>\n",
       "      <td>R</td>\n",
       "    </tr>\n",
       "    <tr>\n",
       "      <th>3</th>\n",
       "      <td>2</td>\n",
       "      <td>Afghanistan</td>\n",
       "      <td>4</td>\n",
       "      <td>Algeria</td>\n",
       "      <td>561</td>\n",
       "      <td>Raisins</td>\n",
       "      <td>5910</td>\n",
       "      <td>Export Quantity</td>\n",
       "      <td>tonnes</td>\n",
       "      <td>NaN</td>\n",
       "      <td>...</td>\n",
       "      <td>NaN</td>\n",
       "      <td>NaN</td>\n",
       "      <td>12.0</td>\n",
       "      <td>*</td>\n",
       "      <td>NaN</td>\n",
       "      <td>NaN</td>\n",
       "      <td>NaN</td>\n",
       "      <td>NaN</td>\n",
       "      <td>NaN</td>\n",
       "      <td>NaN</td>\n",
       "    </tr>\n",
       "    <tr>\n",
       "      <th>4</th>\n",
       "      <td>2</td>\n",
       "      <td>Afghanistan</td>\n",
       "      <td>4</td>\n",
       "      <td>Algeria</td>\n",
       "      <td>561</td>\n",
       "      <td>Raisins</td>\n",
       "      <td>5922</td>\n",
       "      <td>Export Value</td>\n",
       "      <td>1000 US$</td>\n",
       "      <td>NaN</td>\n",
       "      <td>...</td>\n",
       "      <td>NaN</td>\n",
       "      <td>NaN</td>\n",
       "      <td>27.0</td>\n",
       "      <td>*</td>\n",
       "      <td>NaN</td>\n",
       "      <td>NaN</td>\n",
       "      <td>NaN</td>\n",
       "      <td>NaN</td>\n",
       "      <td>NaN</td>\n",
       "      <td>NaN</td>\n",
       "    </tr>\n",
       "  </tbody>\n",
       "</table>\n",
       "<p>5 rows × 73 columns</p>\n",
       "</div>"
      ],
      "text/plain": [
       "   Reporter Country Code Reporter Countries  Partner Country Code  \\\n",
       "0                      2        Afghanistan                     4   \n",
       "1                      2        Afghanistan                     4   \n",
       "2                      2        Afghanistan                     4   \n",
       "3                      2        Afghanistan                     4   \n",
       "4                      2        Afghanistan                     4   \n",
       "\n",
       "  Partner Countries  Item Code                  Item  Element Code  \\\n",
       "0           Algeria        230  Cashew nuts, shelled          5910   \n",
       "1           Algeria        230  Cashew nuts, shelled          5922   \n",
       "2           Algeria       1293       Crude materials          5922   \n",
       "3           Algeria        561               Raisins          5910   \n",
       "4           Algeria        561               Raisins          5922   \n",
       "\n",
       "           Element      Unit  Y1986  ... Y2013  Y2013F Y2014  Y2014F Y2015  \\\n",
       "0  Export Quantity    tonnes    NaN  ...   NaN     NaN   NaN     NaN   NaN   \n",
       "1     Export Value  1000 US$    NaN  ...   NaN     NaN   NaN     NaN   NaN   \n",
       "2     Export Value  1000 US$    NaN  ...   NaN     NaN   NaN     NaN   1.0   \n",
       "3  Export Quantity    tonnes    NaN  ...   NaN     NaN  12.0       *   NaN   \n",
       "4     Export Value  1000 US$    NaN  ...   NaN     NaN  27.0       *   NaN   \n",
       "\n",
       "   Y2015F Y2016  Y2016F Y2017  Y2017F  \n",
       "0     NaN   3.0       *   NaN     NaN  \n",
       "1     NaN  23.0       *   NaN     NaN  \n",
       "2       *   1.0       *   5.0       R  \n",
       "3     NaN   NaN     NaN   NaN     NaN  \n",
       "4     NaN   NaN     NaN   NaN     NaN  \n",
       "\n",
       "[5 rows x 73 columns]"
      ]
     },
     "execution_count": 13,
     "metadata": {},
     "output_type": "execute_result"
    }
   ],
   "source": [
    "trade.head()"
   ]
  },
  {
   "cell_type": "code",
   "execution_count": 5,
   "metadata": {},
   "outputs": [
    {
     "data": {
      "text/html": [
       "<div>\n",
       "<style scoped>\n",
       "    .dataframe tbody tr th:only-of-type {\n",
       "        vertical-align: middle;\n",
       "    }\n",
       "\n",
       "    .dataframe tbody tr th {\n",
       "        vertical-align: top;\n",
       "    }\n",
       "\n",
       "    .dataframe thead th {\n",
       "        text-align: right;\n",
       "    }\n",
       "</style>\n",
       "<table border=\"1\" class=\"dataframe\">\n",
       "  <thead>\n",
       "    <tr style=\"text-align: right;\">\n",
       "      <th></th>\n",
       "      <th>Reporter Country Code</th>\n",
       "      <th>Reporter Countries</th>\n",
       "      <th>Partner Country Code</th>\n",
       "      <th>Partner Countries</th>\n",
       "      <th>Item Code</th>\n",
       "      <th>Item</th>\n",
       "      <th>Element Code</th>\n",
       "      <th>Element</th>\n",
       "      <th>Unit</th>\n",
       "      <th>Y1986</th>\n",
       "      <th>...</th>\n",
       "      <th>Y2013</th>\n",
       "      <th>Y2013F</th>\n",
       "      <th>Y2014</th>\n",
       "      <th>Y2014F</th>\n",
       "      <th>Y2015</th>\n",
       "      <th>Y2015F</th>\n",
       "      <th>Y2016</th>\n",
       "      <th>Y2016F</th>\n",
       "      <th>Y2017</th>\n",
       "      <th>Y2017F</th>\n",
       "    </tr>\n",
       "  </thead>\n",
       "  <tbody>\n",
       "    <tr>\n",
       "      <th>0</th>\n",
       "      <td>10</td>\n",
       "      <td>Australia</td>\n",
       "      <td>2</td>\n",
       "      <td>Afghanistan</td>\n",
       "      <td>231</td>\n",
       "      <td>Almonds shelled</td>\n",
       "      <td>5610</td>\n",
       "      <td>Import Quantity</td>\n",
       "      <td>tonnes</td>\n",
       "      <td>NaN</td>\n",
       "      <td>...</td>\n",
       "      <td>2.0</td>\n",
       "      <td>*</td>\n",
       "      <td>1.0</td>\n",
       "      <td>NaN</td>\n",
       "      <td>NaN</td>\n",
       "      <td>NaN</td>\n",
       "      <td>NaN</td>\n",
       "      <td>NaN</td>\n",
       "      <td>2.0</td>\n",
       "      <td>NaN</td>\n",
       "    </tr>\n",
       "    <tr>\n",
       "      <th>1</th>\n",
       "      <td>10</td>\n",
       "      <td>Australia</td>\n",
       "      <td>2</td>\n",
       "      <td>Afghanistan</td>\n",
       "      <td>231</td>\n",
       "      <td>Almonds shelled</td>\n",
       "      <td>5622</td>\n",
       "      <td>Import Value</td>\n",
       "      <td>1000 US$</td>\n",
       "      <td>NaN</td>\n",
       "      <td>...</td>\n",
       "      <td>11.0</td>\n",
       "      <td>NaN</td>\n",
       "      <td>7.0</td>\n",
       "      <td>NaN</td>\n",
       "      <td>NaN</td>\n",
       "      <td>NaN</td>\n",
       "      <td>NaN</td>\n",
       "      <td>NaN</td>\n",
       "      <td>9.0</td>\n",
       "      <td>NaN</td>\n",
       "    </tr>\n",
       "    <tr>\n",
       "      <th>2</th>\n",
       "      <td>10</td>\n",
       "      <td>Australia</td>\n",
       "      <td>2</td>\n",
       "      <td>Afghanistan</td>\n",
       "      <td>711</td>\n",
       "      <td>Anise, badian, fennel, coriander</td>\n",
       "      <td>5610</td>\n",
       "      <td>Import Quantity</td>\n",
       "      <td>tonnes</td>\n",
       "      <td>NaN</td>\n",
       "      <td>...</td>\n",
       "      <td>0.0</td>\n",
       "      <td>NaN</td>\n",
       "      <td>NaN</td>\n",
       "      <td>NaN</td>\n",
       "      <td>NaN</td>\n",
       "      <td>NaN</td>\n",
       "      <td>NaN</td>\n",
       "      <td>NaN</td>\n",
       "      <td>5.0</td>\n",
       "      <td>Im</td>\n",
       "    </tr>\n",
       "    <tr>\n",
       "      <th>3</th>\n",
       "      <td>10</td>\n",
       "      <td>Australia</td>\n",
       "      <td>2</td>\n",
       "      <td>Afghanistan</td>\n",
       "      <td>711</td>\n",
       "      <td>Anise, badian, fennel, coriander</td>\n",
       "      <td>5622</td>\n",
       "      <td>Import Value</td>\n",
       "      <td>1000 US$</td>\n",
       "      <td>NaN</td>\n",
       "      <td>...</td>\n",
       "      <td>3.0</td>\n",
       "      <td>NaN</td>\n",
       "      <td>NaN</td>\n",
       "      <td>NaN</td>\n",
       "      <td>NaN</td>\n",
       "      <td>NaN</td>\n",
       "      <td>NaN</td>\n",
       "      <td>NaN</td>\n",
       "      <td>9.0</td>\n",
       "      <td>NaN</td>\n",
       "    </tr>\n",
       "    <tr>\n",
       "      <th>4</th>\n",
       "      <td>10</td>\n",
       "      <td>Australia</td>\n",
       "      <td>2</td>\n",
       "      <td>Afghanistan</td>\n",
       "      <td>515</td>\n",
       "      <td>Apples</td>\n",
       "      <td>5910</td>\n",
       "      <td>Export Quantity</td>\n",
       "      <td>tonnes</td>\n",
       "      <td>NaN</td>\n",
       "      <td>...</td>\n",
       "      <td>NaN</td>\n",
       "      <td>NaN</td>\n",
       "      <td>NaN</td>\n",
       "      <td>NaN</td>\n",
       "      <td>NaN</td>\n",
       "      <td>NaN</td>\n",
       "      <td>NaN</td>\n",
       "      <td>NaN</td>\n",
       "      <td>NaN</td>\n",
       "      <td>NaN</td>\n",
       "    </tr>\n",
       "  </tbody>\n",
       "</table>\n",
       "<p>5 rows × 73 columns</p>\n",
       "</div>"
      ],
      "text/plain": [
       "   Reporter Country Code Reporter Countries  Partner Country Code  \\\n",
       "0                     10          Australia                     2   \n",
       "1                     10          Australia                     2   \n",
       "2                     10          Australia                     2   \n",
       "3                     10          Australia                     2   \n",
       "4                     10          Australia                     2   \n",
       "\n",
       "  Partner Countries  Item Code                              Item  \\\n",
       "0       Afghanistan        231                   Almonds shelled   \n",
       "1       Afghanistan        231                   Almonds shelled   \n",
       "2       Afghanistan        711  Anise, badian, fennel, coriander   \n",
       "3       Afghanistan        711  Anise, badian, fennel, coriander   \n",
       "4       Afghanistan        515                            Apples   \n",
       "\n",
       "   Element Code          Element      Unit  Y1986  ... Y2013  Y2013F Y2014  \\\n",
       "0          5610  Import Quantity    tonnes    NaN  ...   2.0       *   1.0   \n",
       "1          5622     Import Value  1000 US$    NaN  ...  11.0     NaN   7.0   \n",
       "2          5610  Import Quantity    tonnes    NaN  ...   0.0     NaN   NaN   \n",
       "3          5622     Import Value  1000 US$    NaN  ...   3.0     NaN   NaN   \n",
       "4          5910  Export Quantity    tonnes    NaN  ...   NaN     NaN   NaN   \n",
       "\n",
       "   Y2014F Y2015  Y2015F Y2016  Y2016F Y2017  Y2017F  \n",
       "0     NaN   NaN     NaN   NaN     NaN   2.0     NaN  \n",
       "1     NaN   NaN     NaN   NaN     NaN   9.0     NaN  \n",
       "2     NaN   NaN     NaN   NaN     NaN   5.0      Im  \n",
       "3     NaN   NaN     NaN   NaN     NaN   9.0     NaN  \n",
       "4     NaN   NaN     NaN   NaN     NaN   NaN     NaN  \n",
       "\n",
       "[5 rows x 73 columns]"
      ]
     },
     "execution_count": 5,
     "metadata": {},
     "output_type": "execute_result"
    }
   ],
   "source": [
    "trade.head()"
   ]
  },
  {
   "cell_type": "code",
   "execution_count": 16,
   "metadata": {},
   "outputs": [
    {
     "data": {
      "text/plain": [
       "424"
      ]
     },
     "execution_count": 16,
     "metadata": {},
     "output_type": "execute_result"
    }
   ],
   "source": [
    "len(trade.Item.unique())"
   ]
  },
  {
   "cell_type": "code",
   "execution_count": 17,
   "metadata": {},
   "outputs": [
    {
     "data": {
      "text/plain": [
       "array(['Cashew nuts, shelled', 'Crude materials', 'Raisins', 'Spices nes',\n",
       "       'Food prep nes', 'Maize', 'Meat, chicken', 'Milk, whole dried',\n",
       "       'Sugar refined', 'Cigarettes', 'Almonds shelled',\n",
       "       'Anise, badian, fennel, coriander', 'Apricots', 'Apricots, dry',\n",
       "       'Beverages, non alcoholic', 'Chick peas', 'Cream fresh',\n",
       "       'Figs dried', 'Fruit, dried nes', 'Fruit, prepared nes',\n",
       "       'Meat, cattle, boneless (beef & veal)', 'Meat, sheep',\n",
       "       'Milk, skimmed dried', 'Nuts nes',\n",
       "       'Nuts, prepared (exc. groundnuts)', 'Oilseeds nes', 'Pastry',\n",
       "       'Plums dried (prunes)', 'Rice - total  (Rice milled equivalent)',\n",
       "       'Rice, milled', 'Tallow', 'Vegetables, frozen',\n",
       "       'Vegetables, preserved nes', 'Whey, dry',\n",
       "       'Yoghurt, concentrated or not', 'Almonds, with shell',\n",
       "       'Cheese, processed', 'Cheese, whole cow milk',\n",
       "       'Chocolate products nes', 'Lactose', 'Lemons and limes',\n",
       "       'Pistachios', 'Walnuts, shelled',\n",
       "       'Buttermilk, curdled, acidified milk', 'Flour, wheat',\n",
       "       'Milk, whole condensed', 'Milk, whole fresh cow', 'Oil, sunflower',\n",
       "       'Tea', 'Wheat', 'Yoghurt', 'Animals, live, non-food', 'Beans, dry',\n",
       "       'Brazil nuts, shelled', 'Cashew nuts, with shell',\n",
       "       'Cinnamon (cannella)', 'Coconuts', 'Dates', 'Figs', 'Grapes',\n",
       "       'Groundnuts, shelled', 'Milk, whole evaporated',\n",
       "       'Peaches and nectarines', 'Pears', 'Pyrethrum, dried',\n",
       "       'Sugar confectionery', 'Sweet corn frozen',\n",
       "       'Vegetables, fresh or dried products nes', 'Watermelons',\n",
       "       'Juice, fruit nes', 'Jute', 'Beer of barley',\n",
       "       'Beverages, distilled alcoholic', 'Wine', 'Apples', 'Avocados',\n",
       "       'Cabbages and other brassicas', 'Cauliflowers and broccoli',\n",
       "       'Cherries', 'Cherries, sour', 'Chillies and peppers, green',\n",
       "       'Eggplants (aubergines)', 'Fruit, fresh nes', 'Kiwi fruit',\n",
       "       'Lettuce and chicory', 'Mushrooms and truffles', 'Oil, boiled etc',\n",
       "       'Oranges', 'Persimmons', 'Spinach', 'Strawberries', 'Tomatoes',\n",
       "       'Vegetables, fresh nes', 'Bacon and ham', 'Bread', 'Cake, linseed',\n",
       "       'Cereals, breakfast', 'Cider etc', 'Cigars, cheroots',\n",
       "       'Coffee, roasted', 'Cotton lint', 'Cotton waste',\n",
       "       'Eggs, hen, in shell', 'Eggs, other bird, in shell',\n",
       "       'Fat nes, prepared', 'Feed, vegetable products nes',\n",
       "       'Flour, mustard', 'Flour, potatoes',\n",
       "       'Food preparations, flour, malt extract', 'Food wastes',\n",
       "       'Fruit, cooked, homogenized preparations', 'Groundnuts, prepared',\n",
       "       'Hair, fine', 'Infant food', 'Macaroni', 'Malt',\n",
       "       'Margarine, short', 'Meat, beef, preparations', 'Meat, cattle',\n",
       "       'Meat, chicken, canned', 'Meat, game', 'Meat, pig',\n",
       "       'Meat, pig sausages', 'Meat, pig, preparations', 'Meat, pork',\n",
       "       'Meat, turkey', 'Mixes and doughs', 'Offals, edible, cattle',\n",
       "       'Oil, olive residues', 'Oil, olive, virgin', 'Pet food',\n",
       "       'Potatoes, frozen', 'Tobacco products nes',\n",
       "       'Vegetables in vinegar', 'Vegetables, dehydrated',\n",
       "       'Vegetables, preserved, frozen', 'Wafers', 'Waters,ice etc',\n",
       "       'Wool, hair waste', 'Cake, soybeans', 'Peas, green',\n",
       "       'Vegetables, temporarily preserved', 'Sunflower seed', 'Bananas',\n",
       "       'Chillies and peppers, dry', 'Fatty acids', 'Forage products',\n",
       "       'Hides, cattle, wet salted', 'Juice, lemon, single strength',\n",
       "       'Lard', 'Lentils', 'Melons, other (inc.cantaloupes)', 'Molasses',\n",
       "       'Offals, pigs, edible', 'Oil, essential nes',\n",
       "       'Oil, vegetable origin nes', 'Plums and sloes', 'Sesame seed',\n",
       "       'Skins, sheep, dry salted', 'Soybeans', 'Sweet potatoes',\n",
       "       'Walnuts, with shell', 'Peanut butter', 'Beeswax', 'Garlic',\n",
       "       'Glucose and dextrose', 'Meat, duck', 'Mushrooms, canned',\n",
       "       'Oil, soybean', 'Roots and tubers nes', 'Sugar nes',\n",
       "       'Sweet corn prep or preserved', 'Wool, degreased', 'Coffee, green',\n",
       "       'Honey, natural', 'Olives preserved', 'Poppy seed',\n",
       "       'Butter, cow milk', 'Pepper (piper spp.)',\n",
       "       'Cereal preparations nes', 'Flax fibre and tow', 'Oats',\n",
       "       'Potatoes', 'Fat, liver prepared (foie gras)',\n",
       "       'Juice, apple, concentrated', 'Beans, green', 'Cloves',\n",
       "       'Coconuts, desiccated', 'Coffee, extracts',\n",
       "       'Coffee, substitutes containing coffee', 'Eggs, liquid',\n",
       "       'Flour, maize', 'Ginger', 'Hazelnuts, shelled', 'Horses',\n",
       "       'Ice cream and edible ice', 'Juice, apple, single strength',\n",
       "       'Juice, grape', 'Juice, orange, concentrated',\n",
       "       'Juice, orange, single strength', 'Juice, tomato',\n",
       "       'Meat, dried nes', 'Meat, goose and guinea fowl', 'Meat, rabbit',\n",
       "       'Milk, skimmed cow', 'Oats rolled', 'Offals, liver chicken',\n",
       "       'Oil, maize', 'Oil, rapeseed', 'Peas, dry', 'Soya sauce',\n",
       "       'Sugar Raw Centrifugal', 'Tea, mate extracts', 'Tomatoes, paste',\n",
       "       'Tomatoes, peeled', 'Vegetables, homogenized preparations',\n",
       "       'Vermouths & similar', 'Nutmeg, mace and cardamoms', 'Bran, wheat',\n",
       "       'Buffaloes', 'Coir', 'Fat, cattle', 'Fatty substance residues',\n",
       "       'Feed, compound nes', 'Mangoes, mangosteens, guavas',\n",
       "       'Oil, castor beans', 'Oil, coconut (copra)', 'Oil, palm kernel',\n",
       "       'Oil, sesame', 'Onions, dry', 'Papayas', 'Pineapples',\n",
       "       'Rubber natural dry', 'Skins, calve, wet salted',\n",
       "       'Skins, sheep, with wool', 'Tobacco, unmanufactured', 'Turkeys',\n",
       "       'Wool, greasy', 'Beverages, fermented rice', 'Oil, palm',\n",
       "       'Animals live nes', 'Barley', 'Broad beans, horse beans, dry',\n",
       "       'Cake, copra', 'Camels', 'Carrots and turnips', 'Cattle',\n",
       "       'Chickens', 'Cocoa, beans', 'Cocoa, powder & cake',\n",
       "       'Cocoons, unreelable & waste', 'Copra', 'Cotton, carded, combed',\n",
       "       'Cottonseed', 'Cucumbers and gherkins', 'Eggs, dried',\n",
       "       'Flour, cereals', 'Flour, mixed grain', 'Flour, pulses',\n",
       "       'Fructose and syrup, other', 'Goats', 'Grapefruit (inc. pomelos)',\n",
       "       'Hazelnuts, with shell', 'Juice, citrus, concentrated',\n",
       "       'Juice, citrus, single strength',\n",
       "       'Juice, grapefruit, concentrated', 'Juice, pineapple',\n",
       "       'Juice, pineapple, concentrated',\n",
       "       'Leeks, other alliaceous vegetables',\n",
       "       'Meat, beef and veal sausages',\n",
       "       'Milk, products of natural constituents nes', 'Oil, cottonseed',\n",
       "       'Oil, groundnut', 'Oils, fats of animal nes', 'Rapeseed',\n",
       "       'Rice, husked', 'Sheep', 'Silk-worm cocoons, reelable',\n",
       "       'Tangerines, mandarins, clementines, satsumas', 'Vanilla',\n",
       "       'Coffee, husks and skins', 'Cake, cottonseed', 'Cake, sunflower',\n",
       "       'Linseed', 'Millet', 'Oil, linseed', 'Rice, broken',\n",
       "       'Maize, green', 'Chestnut', 'Margarine, liquid',\n",
       "       'Pineapples canned', 'Bran, maize', 'Areca nuts', 'Flour, rice',\n",
       "       'Meat, goat', 'Mustard seed', 'Pigeons, other birds', 'Quinoa',\n",
       "       'Silk, raw', 'Beet pulp', 'Bran, sorghum', 'Buckwheat',\n",
       "       'Cake, groundnuts', 'Cake, rapeseed', 'Grease incl. lanolin wool',\n",
       "       'Meal, meat', 'Offals, sheep,edible', 'Plantains and others',\n",
       "       'Rye', 'Sorghum', 'Straw husks', 'Sugar beet',\n",
       "       'Flour, roots and tubers nes', 'Asparagus', 'Juice, grapefruit',\n",
       "       'Oil, citronella', 'Hides nes', 'Olives', 'Quinces', 'Artichokes',\n",
       "       'Cassava dried', 'Cocoa, butter', 'Maple sugar and syrups', 'Maté',\n",
       "       'Meat nes', 'Pigs', 'Pumpkins, squash and gourds',\n",
       "       'Rubber, natural', 'Ducks', 'Hops', 'Blueberries', 'Fat, pigs',\n",
       "       'Feed and meal, gluten', 'Grain, mixed',\n",
       "       'Juice, lemon, concentrated', 'Pyrethrum, extraction',\n",
       "       'Germ, maize', 'Beehives', 'Cocoa, paste', 'Fibre crops nes',\n",
       "       'Fruit, tropical fresh nes', 'Skins, goat, wet salted',\n",
       "       'Waxes vegetable', 'Cake, maize', 'Canary seed', 'Gooseberries',\n",
       "       'Kola nuts', 'Oil, safflower', 'Onions, shallots, green',\n",
       "       'Skins, sheep, wet salted', 'Triticale', 'Asses',\n",
       "       'Barley, pearled', 'Cotton linter', 'Feed, pulp of fruit',\n",
       "       'Flour, cassava', 'Mules', 'Alfalfa meal and pellets',\n",
       "       'Cranberries', 'Currants', 'Dregs from brewing, distillation',\n",
       "       'Flax fibre raw', 'Flax tow waste', 'Rabbits and hares',\n",
       "       'Starch, cassava', 'Whey, condensed', 'Cake, palm kernel',\n",
       "       'Meat, horse', 'Offals, liver duck', 'Offals, liver geese',\n",
       "       'Karite nuts (sheanuts)', 'Feed minerals', 'Feed supplements',\n",
       "       'Sugar crops nes', 'Camelids, other', 'Offals, edible, goats',\n",
       "       'Rodents, other', 'Peppermint', 'Hides, horse, dry salted',\n",
       "       'Manila fibre (abaca)', 'Hay (unspecified)', 'Cheese, sheep milk',\n",
       "       'Milk, whole fresh sheep', 'Fat, camels', 'Fonio',\n",
       "       'Hay (clover, lucerne,etc)', 'Bulgur', 'Vegetables, canned nes',\n",
       "       'Bambara beans', 'Bran, millet', 'Cake, sesame seed', 'Vetches',\n",
       "       'Hides and skins nes, fresh', 'Cake, mustard', 'Cake, hempseed',\n",
       "       'Oil, rice bran', 'Butter of karite nuts', 'Vegetables, dried nes',\n",
       "       'Cake, rice bran', 'Meat, ass', 'Kapok fibre', 'Cake, safflower',\n",
       "       'Offals, other camelids', 'Soya paste', 'Hair, goat, coarse',\n",
       "       'Hides, buffalo, wet salted', 'Hides, buffalo, dry salted',\n",
       "       'Sugar non-centrifugal', 'Cassava', 'Vitamins', 'Potato offals',\n",
       "       'Cashewapple', 'Turnips for fodder', 'Oil, kapok',\n",
       "       'Kapokseed in shell', 'Ghee, buffalo milk', 'Oil, poppy',\n",
       "       'Cane tops', 'Sugar flavoured', 'Cake, kapok',\n",
       "       'Hides, camel, wet salted', 'Bran, buckwheat', 'Vegetable tallow',\n",
       "       'Juice, plum, concentrated'], dtype=object)"
      ]
     },
     "execution_count": 17,
     "metadata": {},
     "output_type": "execute_result"
    }
   ],
   "source": [
    "trade.Item.unique()"
   ]
  },
  {
   "cell_type": "code",
   "execution_count": 25,
   "metadata": {},
   "outputs": [
    {
     "data": {
      "text/plain": [
       "1    Afghanistan\n",
       "2    Afghanistan\n",
       "3    Afghanistan\n",
       "4    Afghanistan\n",
       "Name: Reporter Countries, dtype: object"
      ]
     },
     "execution_count": 25,
     "metadata": {},
     "output_type": "execute_result"
    }
   ],
   "source": [
    "trade.iloc[1:5,1]"
   ]
  },
  {
   "cell_type": "code",
   "execution_count": 27,
   "metadata": {},
   "outputs": [
    {
     "data": {
      "text/plain": [
       "1    Algeria\n",
       "2    Algeria\n",
       "3    Algeria\n",
       "4    Algeria\n",
       "Name: Partner Countries, dtype: object"
      ]
     },
     "execution_count": 27,
     "metadata": {},
     "output_type": "execute_result"
    }
   ],
   "source": [
    "trade.iloc[1:5,3]"
   ]
  },
  {
   "cell_type": "code",
   "execution_count": 28,
   "metadata": {},
   "outputs": [
    {
     "data": {
      "text/plain": [
       "Index(['Reporter Country Code', 'Reporter Countries', 'Partner Country Code',\n",
       "       'Partner Countries', 'Item Code', 'Item', 'Element Code', 'Element',\n",
       "       'Unit', 'Y1986', 'Y1986F', 'Y1987', 'Y1987F', 'Y1988', 'Y1988F',\n",
       "       'Y1989', 'Y1989F', 'Y1990', 'Y1990F', 'Y1991', 'Y1991F', 'Y1992',\n",
       "       'Y1992F', 'Y1993', 'Y1993F', 'Y1994', 'Y1994F', 'Y1995', 'Y1995F',\n",
       "       'Y1996', 'Y1996F', 'Y1997', 'Y1997F', 'Y1998', 'Y1998F', 'Y1999',\n",
       "       'Y1999F', 'Y2000', 'Y2000F', 'Y2001', 'Y2001F', 'Y2002', 'Y2002F',\n",
       "       'Y2003', 'Y2003F', 'Y2004', 'Y2004F', 'Y2005', 'Y2005F', 'Y2006',\n",
       "       'Y2006F', 'Y2007', 'Y2007F', 'Y2008', 'Y2008F', 'Y2009', 'Y2009F',\n",
       "       'Y2010', 'Y2010F', 'Y2011', 'Y2011F', 'Y2012', 'Y2012F', 'Y2013',\n",
       "       'Y2013F', 'Y2014', 'Y2014F', 'Y2015', 'Y2015F', 'Y2016', 'Y2016F',\n",
       "       'Y2017', 'Y2017F'],\n",
       "      dtype='object')"
      ]
     },
     "execution_count": 28,
     "metadata": {},
     "output_type": "execute_result"
    }
   ],
   "source": [
    "trade.columns"
   ]
  },
  {
   "cell_type": "code",
   "execution_count": 32,
   "metadata": {},
   "outputs": [
    {
     "data": {
      "text/plain": [
       "184"
      ]
     },
     "execution_count": 32,
     "metadata": {},
     "output_type": "execute_result"
    }
   ],
   "source": [
    "len(trade['Reporter Countries'].unique())"
   ]
  },
  {
   "cell_type": "code",
   "execution_count": 33,
   "metadata": {},
   "outputs": [
    {
     "data": {
      "text/plain": [
       "255"
      ]
     },
     "execution_count": 33,
     "metadata": {},
     "output_type": "execute_result"
    }
   ],
   "source": [
    "len(trade['Partner Countries'].unique())"
   ]
  },
  {
   "cell_type": "code",
   "execution_count": null,
   "metadata": {},
   "outputs": [],
   "source": []
  }
 ],
 "metadata": {
  "kernelspec": {
   "display_name": "Python 3",
   "language": "python",
   "name": "python3"
  },
  "language_info": {
   "codemirror_mode": {
    "name": "ipython",
    "version": 3
   },
   "file_extension": ".py",
   "mimetype": "text/x-python",
   "name": "python",
   "nbconvert_exporter": "python",
   "pygments_lexer": "ipython3",
   "version": "3.6.7"
  }
 },
 "nbformat": 4,
 "nbformat_minor": 2
}

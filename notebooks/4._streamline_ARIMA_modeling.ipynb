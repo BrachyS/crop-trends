{
 "cells": [
  {
   "cell_type": "markdown",
   "metadata": {},
   "source": [
    "This notebook wraps up customized functions into one loop to automate ARIMA model optimization for all item-by-country combinations. "
   ]
  },
  {
   "cell_type": "code",
   "execution_count": 1,
   "metadata": {},
   "outputs": [],
   "source": [
    "import pandas as pd\n",
    "import numpy as np\n",
    "import matplotlib.pyplot as plt\n",
    "import seaborn as sns\n",
    "import datetime\n",
    "from collections import defaultdict\n",
    "\n",
    "# For ARIMA model\n",
    "from sklearn.metrics import mean_squared_error\n",
    "from statsmodels.tsa.stattools import adfuller\n",
    "from statsmodels.tsa.arima_model import ARIMA\n",
    "from statsmodels.tsa.stattools import acf, pacf\n",
    "from statsmodels.graphics.tsaplots import plot_acf,plot_pacf\n",
    "\n",
    "### Customized functions to do ARIMA modeling ###\n",
    "import functions.crop_by_country_arima_analyses as ca"
   ]
  },
  {
   "cell_type": "code",
   "execution_count": 2,
   "metadata": {},
   "outputs": [
    {
     "name": "stdout",
     "output_type": "stream",
     "text": [
      "(223049, 38)\n"
     ]
    }
   ],
   "source": [
    "# Read in processed data\n",
    "items_by_country = pd.read_csv('../data/processed/items_by_country.csv',index_col=0)\n",
    "print(items_by_country.shape)\n",
    "\n",
    "# Put name for years into a column\n",
    "# The years list is used by the function below when reshaping data frame \n",
    "year = items_by_country.columns[5:-1].tolist() # Select year 1986-2017"
   ]
  },
  {
   "cell_type": "code",
   "execution_count": 3,
   "metadata": {},
   "outputs": [
    {
     "data": {
      "text/html": [
       "<div>\n",
       "<style scoped>\n",
       "    .dataframe tbody tr th:only-of-type {\n",
       "        vertical-align: middle;\n",
       "    }\n",
       "\n",
       "    .dataframe tbody tr th {\n",
       "        vertical-align: top;\n",
       "    }\n",
       "\n",
       "    .dataframe thead th {\n",
       "        text-align: right;\n",
       "    }\n",
       "</style>\n",
       "<table border=\"1\" class=\"dataframe\">\n",
       "  <thead>\n",
       "    <tr style=\"text-align: right;\">\n",
       "      <th></th>\n",
       "      <th>Reporter Countries</th>\n",
       "      <th>Item</th>\n",
       "      <th>Element</th>\n",
       "      <th>Unit</th>\n",
       "      <th>Item Code</th>\n",
       "      <th>Y1986</th>\n",
       "      <th>Y1987</th>\n",
       "      <th>Y1988</th>\n",
       "      <th>Y1989</th>\n",
       "      <th>Y1990</th>\n",
       "      <th>...</th>\n",
       "      <th>Y2009</th>\n",
       "      <th>Y2010</th>\n",
       "      <th>Y2011</th>\n",
       "      <th>Y2012</th>\n",
       "      <th>Y2013</th>\n",
       "      <th>Y2014</th>\n",
       "      <th>Y2015</th>\n",
       "      <th>Y2016</th>\n",
       "      <th>Y2017</th>\n",
       "      <th>NoneZero</th>\n",
       "    </tr>\n",
       "  </thead>\n",
       "  <tbody>\n",
       "    <tr>\n",
       "      <th>0</th>\n",
       "      <td>Afghanistan</td>\n",
       "      <td>Almonds shelled</td>\n",
       "      <td>Export Quantity</td>\n",
       "      <td>tonnes</td>\n",
       "      <td>5313</td>\n",
       "      <td>0</td>\n",
       "      <td>0</td>\n",
       "      <td>0</td>\n",
       "      <td>0</td>\n",
       "      <td>0</td>\n",
       "      <td>...</td>\n",
       "      <td>4763</td>\n",
       "      <td>1308</td>\n",
       "      <td>2261</td>\n",
       "      <td>0</td>\n",
       "      <td>0</td>\n",
       "      <td>2714</td>\n",
       "      <td>2086</td>\n",
       "      <td>1778</td>\n",
       "      <td>2756</td>\n",
       "      <td>7</td>\n",
       "    </tr>\n",
       "    <tr>\n",
       "      <th>1</th>\n",
       "      <td>Afghanistan</td>\n",
       "      <td>Almonds shelled</td>\n",
       "      <td>Export Value</td>\n",
       "      <td>1000 US$</td>\n",
       "      <td>5313</td>\n",
       "      <td>0</td>\n",
       "      <td>0</td>\n",
       "      <td>0</td>\n",
       "      <td>0</td>\n",
       "      <td>0</td>\n",
       "      <td>...</td>\n",
       "      <td>35476</td>\n",
       "      <td>15894</td>\n",
       "      <td>20270</td>\n",
       "      <td>0</td>\n",
       "      <td>0</td>\n",
       "      <td>16454</td>\n",
       "      <td>12793</td>\n",
       "      <td>10934</td>\n",
       "      <td>19677</td>\n",
       "      <td>7</td>\n",
       "    </tr>\n",
       "    <tr>\n",
       "      <th>2</th>\n",
       "      <td>Afghanistan</td>\n",
       "      <td>Almonds shelled</td>\n",
       "      <td>Import Quantity</td>\n",
       "      <td>tonnes</td>\n",
       "      <td>1617</td>\n",
       "      <td>0</td>\n",
       "      <td>0</td>\n",
       "      <td>0</td>\n",
       "      <td>0</td>\n",
       "      <td>0</td>\n",
       "      <td>...</td>\n",
       "      <td>0</td>\n",
       "      <td>0</td>\n",
       "      <td>0</td>\n",
       "      <td>0</td>\n",
       "      <td>0</td>\n",
       "      <td>168</td>\n",
       "      <td>181</td>\n",
       "      <td>846</td>\n",
       "      <td>103</td>\n",
       "      <td>4</td>\n",
       "    </tr>\n",
       "    <tr>\n",
       "      <th>3</th>\n",
       "      <td>Afghanistan</td>\n",
       "      <td>Almonds shelled</td>\n",
       "      <td>Import Value</td>\n",
       "      <td>1000 US$</td>\n",
       "      <td>1617</td>\n",
       "      <td>0</td>\n",
       "      <td>0</td>\n",
       "      <td>0</td>\n",
       "      <td>0</td>\n",
       "      <td>0</td>\n",
       "      <td>...</td>\n",
       "      <td>0</td>\n",
       "      <td>0</td>\n",
       "      <td>0</td>\n",
       "      <td>0</td>\n",
       "      <td>0</td>\n",
       "      <td>1117</td>\n",
       "      <td>1377</td>\n",
       "      <td>4988</td>\n",
       "      <td>759</td>\n",
       "      <td>4</td>\n",
       "    </tr>\n",
       "    <tr>\n",
       "      <th>4</th>\n",
       "      <td>Afghanistan</td>\n",
       "      <td>Almonds, with shell</td>\n",
       "      <td>Export Quantity</td>\n",
       "      <td>tonnes</td>\n",
       "      <td>3315</td>\n",
       "      <td>0</td>\n",
       "      <td>0</td>\n",
       "      <td>0</td>\n",
       "      <td>0</td>\n",
       "      <td>0</td>\n",
       "      <td>...</td>\n",
       "      <td>11066</td>\n",
       "      <td>779</td>\n",
       "      <td>1016</td>\n",
       "      <td>0</td>\n",
       "      <td>0</td>\n",
       "      <td>1856</td>\n",
       "      <td>1660</td>\n",
       "      <td>1545</td>\n",
       "      <td>875</td>\n",
       "      <td>7</td>\n",
       "    </tr>\n",
       "  </tbody>\n",
       "</table>\n",
       "<p>5 rows × 38 columns</p>\n",
       "</div>"
      ],
      "text/plain": [
       "  Reporter Countries                 Item          Element      Unit  \\\n",
       "0        Afghanistan      Almonds shelled  Export Quantity    tonnes   \n",
       "1        Afghanistan      Almonds shelled     Export Value  1000 US$   \n",
       "2        Afghanistan      Almonds shelled  Import Quantity    tonnes   \n",
       "3        Afghanistan      Almonds shelled     Import Value  1000 US$   \n",
       "4        Afghanistan  Almonds, with shell  Export Quantity    tonnes   \n",
       "\n",
       "   Item Code  Y1986  Y1987  Y1988  Y1989  Y1990  ...  Y2009  Y2010  Y2011  \\\n",
       "0       5313      0      0      0      0      0  ...   4763   1308   2261   \n",
       "1       5313      0      0      0      0      0  ...  35476  15894  20270   \n",
       "2       1617      0      0      0      0      0  ...      0      0      0   \n",
       "3       1617      0      0      0      0      0  ...      0      0      0   \n",
       "4       3315      0      0      0      0      0  ...  11066    779   1016   \n",
       "\n",
       "   Y2012  Y2013  Y2014  Y2015  Y2016  Y2017  NoneZero  \n",
       "0      0      0   2714   2086   1778   2756         7  \n",
       "1      0      0  16454  12793  10934  19677         7  \n",
       "2      0      0    168    181    846    103         4  \n",
       "3      0      0   1117   1377   4988    759         4  \n",
       "4      0      0   1856   1660   1545    875         7  \n",
       "\n",
       "[5 rows x 38 columns]"
      ]
     },
     "execution_count": 3,
     "metadata": {},
     "output_type": "execute_result"
    }
   ],
   "source": [
    "items_by_country.head()"
   ]
  },
  {
   "cell_type": "code",
   "execution_count": 67,
   "metadata": {},
   "outputs": [
    {
     "data": {
      "text/plain": [
       "array(['tonnes', '1000 US$', 'Head', '1000 Head', 'No'], dtype=object)"
      ]
     },
     "execution_count": 67,
     "metadata": {},
     "output_type": "execute_result"
    }
   ],
   "source": [
    "items_by_country['Unit'].unique()"
   ]
  },
  {
   "cell_type": "code",
   "execution_count": 4,
   "metadata": {},
   "outputs": [],
   "source": [
    "item_list = items_by_country.Item.unique().tolist()"
   ]
  },
  {
   "cell_type": "code",
   "execution_count": 28,
   "metadata": {},
   "outputs": [],
   "source": [
    "# Start an empty dictionary to store country names for each item\n",
    "all_item_countries_dict = defaultdict(list) "
   ]
  },
  {
   "cell_type": "code",
   "execution_count": 122,
   "metadata": {},
   "outputs": [],
   "source": [
    "# Iterate through items and optimize ARIMA parameters for each country, then make predictions\n",
    "# Save country names for each item analyzed\n",
    "# Output model parameters and predicted values\n",
    "\n",
    "# Assign variables\n",
    "data = items_by_country.copy()\n",
    "element = 'Export Quantity' # or Export/Import Value\n",
    "years = year\n",
    "\n",
    "for i in item_list:\n",
    "    item = i \n",
    "    item_countries_dict = defaultdict(list) # Dict to store country names for one item\n",
    "    try:\n",
    "        country_names = ca.arima_pipeline(data, item, element, years)\n",
    "        item_countries_dict[item].append(country_names)\n",
    "    except Exception as inst: # catch exception instance\n",
    "        print('An exception occurred for item {}'.format(item))\n",
    "        print(inst.args) # arguments stored in .args\n",
    "        continue\n",
    "    all_item_countries_dict.update(item_countries_dict) # update dict\n",
    "    f = open(\"../data/processed/all_item_countries_dict.pkl\",\"wb\")\n",
    "    pickle.dump(all_item_countries_dict,f) # save dict \n",
    "    f.close()\n",
    "    print(datetime.datetime.now(),'\\n')"
   ]
  },
  {
   "cell_type": "code",
   "execution_count": 54,
   "metadata": {},
   "outputs": [
    {
     "data": {
      "text/plain": [
       "dict_keys(['Asparagus', 'Avocados', 'Bacon and ham', 'Bananas', 'Barley', 'Beans, dry', 'Beans, green', 'Beer of barley', 'Beeswax', 'Beet pulp', 'Animals, live, non-food', 'Anise, badian, fennel, coriander', 'Apples', 'Apricots', 'Apricots, dry', 'Areca nuts', 'Artichokes', 'Germ, maize', 'Gooseberries', 'Grain, mixed', 'Hops', 'Juice, lemon, concentrated', 'Karite nuts (sheanuts)', 'Kola nuts', 'Meat, horse', 'Mules', 'Offals, liver duck', 'Offals, liver geese', 'Oil, safflower', 'Onions, shallots, green', 'Pyrethrum, extraction', 'Rabbits and hares', 'Skins, goat, wet salted', 'Skins, sheep, wet salted', 'Starch, cassava', 'Triticale', 'Waxes vegetable', 'Whey, condensed', 'Camelids, other', 'Feed minerals', 'Feed supplements', 'Sugar crops nes', 'Offals, edible, goats', 'Rodents, other', 'Hay (unspecified)', 'Hides, horse, dry salted', 'Manila fibre (abaca)', 'Peppermint', 'Cheese, sheep milk', 'Milk, whole fresh sheep', 'Fat, camels', 'Fonio', 'Bambara beans', 'Bulgur', 'Hay (clover, lucerne,etc)', 'Vegetables, canned nes', 'Bran, millet', 'Cake, sesame seed', 'Vetches', 'Hides and skins nes, fresh', 'Cake, mustard', 'Cake, hempseed', 'Oil, rice bran', 'Butter of karite nuts', 'Vegetables, dried nes', 'Cake, rice bran', 'Meat, ass', 'Cake, safflower', 'Kapok fibre', 'Offals, other camelids', 'Soya paste', 'Hair, goat, coarse', 'Hides, buffalo, dry salted', 'Hides, buffalo, wet salted', 'Sugar non-centrifugal', 'Cassava', 'Vitamins', 'Potato offals', 'Cashewapple', 'Turnips for fodder', 'Kapokseed in shell', 'Oil, kapok', 'Ghee, buffalo milk', 'Oil, poppy', 'Cane tops', 'Sugar flavoured', 'Cake, kapok', 'Hides, camel, wet salted', 'Bran, buckwheat', 'Vegetable tallow', 'Juice, plum, concentrated'])"
      ]
     },
     "execution_count": 54,
     "metadata": {},
     "output_type": "execute_result"
    }
   ],
   "source": [
    "# populated dictionary after running the above loop for some items\n",
    "all_item_countries_dict.keys()"
   ]
  },
  {
   "cell_type": "code",
   "execution_count": 55,
   "metadata": {},
   "outputs": [
    {
     "data": {
      "text/plain": [
       "[['Argentina',\n",
       "  'Australia',\n",
       "  'Austria',\n",
       "  'Belgium',\n",
       "  'Brazil',\n",
       "  'Canada',\n",
       "  'Chile',\n",
       "  'China, Hong Kong SAR',\n",
       "  'Colombia',\n",
       "  'Costa Rica',\n",
       "  'Czechia',\n",
       "  'Denmark',\n",
       "  'Dominica',\n",
       "  'Finland',\n",
       "  'France',\n",
       "  'Germany',\n",
       "  'Greece',\n",
       "  'Guatemala',\n",
       "  'Guyana',\n",
       "  'Honduras',\n",
       "  'Indonesia',\n",
       "  'Ireland',\n",
       "  'Italy',\n",
       "  'Luxembourg',\n",
       "  'Mauritius',\n",
       "  'Mexico',\n",
       "  'Morocco',\n",
       "  'Netherlands',\n",
       "  'New Zealand',\n",
       "  'Nicaragua',\n",
       "  'Norway',\n",
       "  'Peru',\n",
       "  'Philippines',\n",
       "  'Portugal',\n",
       "  'Singapore',\n",
       "  'Slovenia',\n",
       "  'South Africa',\n",
       "  'Spain',\n",
       "  'Sweden',\n",
       "  'Switzerland',\n",
       "  'Turkey',\n",
       "  'Uganda',\n",
       "  'United Kingdom',\n",
       "  'United States of America',\n",
       "  'Venezuela (Bolivarian Republic of)',\n",
       "  'Zimbabwe']]"
      ]
     },
     "execution_count": 55,
     "metadata": {},
     "output_type": "execute_result"
    }
   ],
   "source": [
    "all_item_countries_dict['Avocados']"
   ]
  },
  {
   "cell_type": "markdown",
   "metadata": {},
   "source": [
    "**Summary**  \n",
    "Now that our modeling process has been streamlined, we can move forward to build dashboard for easy visualization and simulations by users. See codes here [dash_export.py](https://github.com/BrachyS/crop-trends/blob/master/dashboard/dash_export.py) "
   ]
  },
  {
   "cell_type": "code",
   "execution_count": null,
   "metadata": {},
   "outputs": [],
   "source": []
  }
 ],
 "metadata": {
  "kernelspec": {
   "display_name": "Python 3",
   "language": "python",
   "name": "python3"
  },
  "language_info": {
   "codemirror_mode": {
    "name": "ipython",
    "version": 3
   },
   "file_extension": ".py",
   "mimetype": "text/x-python",
   "name": "python",
   "nbconvert_exporter": "python",
   "pygments_lexer": "ipython3",
   "version": "3.6.7"
  }
 },
 "nbformat": 4,
 "nbformat_minor": 2
}
